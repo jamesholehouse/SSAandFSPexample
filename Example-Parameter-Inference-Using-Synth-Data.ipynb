{
 "cells": [
  {
   "cell_type": "markdown",
   "id": "b96eafcf",
   "metadata": {},
   "source": [
    "# Example parameter inference using synthetic data (in Julia)"
   ]
  },
  {
   "cell_type": "markdown",
   "id": "11f7064d",
   "metadata": {},
   "source": [
    "##### By James Holehouse: jamesholehouse1@gmail.com"
   ]
  },
  {
   "cell_type": "markdown",
   "id": "1f2635bd",
   "metadata": {},
   "source": [
    "This notebook provides a brief tour of stochastic simulations and parameter inference in stochastic gene expression. It covers usage of a stochastic simulation algorithm (SSA), finite state projection, maximum likelihood parameter inference and Bayesian parameter inference.\n",
    "\n",
    "The aim of parameter inference is to fit models to data and in the process recover parameters for our models that best explain the data. Parameter inference can also be used in combination with *information criteria* to determine which model is most appropriate for a given set of experimental data. This notebook will not cover information criteria, but they are relativly easy to use. If you want to know more you can email me (I can provide examples) or else speak to Kaan or Ramon (of the [Grima group](https://grimagroup.bio.ed.ac.uk/group-members))."
   ]
  },
  {
   "cell_type": "markdown",
   "id": "d6e1a22e",
   "metadata": {},
   "source": [
    "## Packages"
   ]
  },
  {
   "cell_type": "markdown",
   "id": "6e2c6a85",
   "metadata": {},
   "source": [
    "Before running this notebook make sure you install the following packages using the command below (after uncommenting). If you haven't yet installed the latest version of Julia please do so [here](https://julialang.org/downloads/)."
   ]
  },
  {
   "cell_type": "code",
   "execution_count": 1,
   "id": "69f8a5c3",
   "metadata": {},
   "outputs": [],
   "source": [
    "# ] add Plots LaTeXStrings Distributions DoubleFloats Plots.PlotMeasures, \n",
    "#         Catalyst DiffEqJump FiniteStateProjection OrdinaryDiffEq DifferentialEquations\n",
    "#             SparseArrays LinearAlgebra Turing BlackBoxOptim, Catalyst"
   ]
  },
  {
   "cell_type": "code",
   "execution_count": 2,
   "id": "57e57770",
   "metadata": {},
   "outputs": [],
   "source": [
    "using Plots, LaTeXStrings, Distributions, DoubleFloats, Plots.PlotMeasures, \n",
    "        Catalyst, DiffEqJump, FiniteStateProjection, OrdinaryDiffEq, DifferentialEquations, \n",
    "            SparseArrays, LinearAlgebra, BlackBoxOptim, Turing\n",
    "Plots.theme(:dao)"
   ]
  },
  {
   "cell_type": "markdown",
   "id": "70a6fd53",
   "metadata": {},
   "source": [
    "## Creating sythetic data using the SSA "
   ]
  },
  {
   "cell_type": "markdown",
   "id": "08683fcc",
   "metadata": {},
   "source": [
    "In this section of the notebook we show how to run the SSA to produce sythetic data. We use a manually coded SSA for clarity that utilises the direct SSA method shown in [Gillespie's review](https://www.annualreviews.org/doi/abs/10.1146/annurev.physchem.58.032806.104637). There do exist packages in Julia that allow one to use the SSA without manually coding it up, and you can explore usage of that with respect to *genetic autoregulation* [here](https://github.com/jamesholehouse/SSAandFSPexample/blob/main/Julia_SSA_FSP_example.ipynb)."
   ]
  },
  {
   "cell_type": "markdown",
   "id": "2243abc0",
   "metadata": {},
   "source": [
    "The example reaction scheme that we will use in this notebook is the telegraph model of gene expression (for context see introduction to [this paper](https://royalsocietypublishing.org/doi/pdf/10.1098/rsif.2021.0510)). The reaction scheme is explicitly given as,\n",
    "$$ G\\xrightarrow{k_{off}}G^\\star, G^\\star\\xrightarrow{k_{on}}G, G\\xrightarrow{k_{m}} G+M, M\\xrightarrow{k_{d}}\\varnothing.$$\n",
    "In this notebook we make sure to only use steady state data. This can be taken across a population of cells (e.g., smFISH snapshot data) or in a lineage sense (e.g., mother machine data). Verification that the steady state has been reached in the synthetic data can be seen where the moments (and probability distributions) do not change in time.\n",
    "\n",
    "Let's create some population snapshot and lineage data. We assume that we have access to the mRNA number, but not the gene state since this is difficult to measure in real experiments. First we need to import the SSA package."
   ]
  },
  {
   "cell_type": "code",
   "execution_count": 3,
   "id": "cb83ae80",
   "metadata": {},
   "outputs": [],
   "source": [
    "path_to_folder = pwd(); file_path = join([path_to_folder,\"/SSA-TM.jl\"]);\n",
    "include(file_path);\n",
    "using .SSATM"
   ]
  },
  {
   "cell_type": "markdown",
   "id": "3fac781c",
   "metadata": {},
   "source": [
    "And now choose a parameter set corresponding to the sythetic data set."
   ]
  },
  {
   "cell_type": "code",
   "execution_count": 4,
   "id": "3ad088ef",
   "metadata": {},
   "outputs": [],
   "source": [
    "pars = [2.0,1.0,10.0,0.5]; # in order kon, koff, km, kd"
   ]
  },
  {
   "cell_type": "markdown",
   "id": "1e148e67",
   "metadata": {},
   "source": [
    "At steady state we have indistinguishability in one of the parameters (i.e., increasing all rate parameters by some scale factor $c$ gives the same probability distribution). Therefore we define a rescaled parameter set too (rescaled by $k_d$)."
   ]
  },
  {
   "cell_type": "code",
   "execution_count": 34,
   "id": "a757a27b",
   "metadata": {},
   "outputs": [
    {
     "data": {
      "text/plain": [
       "4-element Vector{Float64}:\n",
       "  4.0\n",
       "  2.0\n",
       " 20.0\n",
       "  1.0"
      ]
     },
     "execution_count": 34,
     "metadata": {},
     "output_type": "execute_result"
    }
   ],
   "source": [
    "rs_pars = pars./pars[4]"
   ]
  },
  {
   "cell_type": "markdown",
   "id": "3f13cf26",
   "metadata": {},
   "source": [
    "First, let's produce some population data over 100 cells (make sure to check that steady state has been reached). The arguments of the SSA function correspond to: (1) the number of independent SSA runs (the number of cells), (2) the parameters for the simulation, (3) the total simulation time, and (4) the storage period. We take our population snapshot at the final timepoint for $M$ data across all the cells."
   ]
  },
  {
   "cell_type": "code",
   "execution_count": 6,
   "id": "2a1866b8",
   "metadata": {},
   "outputs": [
    {
     "name": "stdout",
     "output_type": "stream",
     "text": [
      "[25.0 20.0 12.0 16.0 18.0 19.0 13.0 22.0 6.0 13.0 24.0 16.0 12.0 19.0 9.0 20.0 10.0 11.0 19.0 15.0 10.0 12.0 8.0 9.0 8.0 14.0 7.0 11.0 12.0 24.0 4.0 13.0 9.0 17.0 14.0 9.0 16.0 18.0 11.0 7.0 11.0 15.0 19.0 11.0 7.0 7.0 10.0 11.0 15.0 9.0 20.0 21.0 12.0 20.0 14.0 14.0 17.0 12.0 18.0 16.0 14.0 16.0 19.0 6.0 18.0 12.0 15.0 10.0 25.0 17.0 22.0 25.0 13.0 17.0 15.0 11.0 14.0 10.0 11.0 11.0 12.0 4.0 22.0 7.0 8.0 14.0 16.0 12.0 10.0 11.0 20.0 16.0 9.0 15.0 17.0 16.0 18.0 5.0 18.0 8.0]"
     ]
    }
   ],
   "source": [
    "pop_data = SSA(100, pars, 1000, 1.0)[2,:,end]\n",
    "print(transpose(pop_data)) # print the mRNA numbers"
   ]
  },
  {
   "cell_type": "markdown",
   "id": "b7f21da1",
   "metadata": {},
   "source": [
    "Second, let's produce some lineage data. Now our data will consist of a single SSA run, but we follow a steady state trajectory over many timepoints. Let's say we have access to 100 individual readings in time."
   ]
  },
  {
   "cell_type": "code",
   "execution_count": 7,
   "id": "9207cb79",
   "metadata": {},
   "outputs": [],
   "source": [
    "all_lin_data = SSA(1, pars, 1000, 1.0)\n",
    "# take 100 timepts of this lineage data.\n",
    "lin_data = all_lin_data[2,:,end-99:end]\n",
    "# convert data to a Vector\n",
    "l_data = vcat(lin_data...);"
   ]
  },
  {
   "cell_type": "markdown",
   "id": "8c43d7ef",
   "metadata": {},
   "source": [
    "For clarity, we can plot the lineage data and see how it fluctuates. Before this though make a color blind color scheme."
   ]
  },
  {
   "cell_type": "code",
   "execution_count": 8,
   "id": "69a9df03",
   "metadata": {},
   "outputs": [
    {
     "data": {
      "image/svg+xml": [
       "<?xml version=\"1.0\" encoding=\"UTF-8\"?>\n",
       "<!DOCTYPE svg PUBLIC \"-//W3C//DTD SVG 1.1//EN\"\n",
       " \"http://www.w3.org/Graphics/SVG/1.1/DTD/svg11.dtd\">\n",
       "<svg xmlns=\"http://www.w3.org/2000/svg\" version=\"1.1\"\n",
       "     width=\"175mm\" height=\"25mm\" viewBox=\"0 0 7 1\" stroke=\"none\"\n",
       "     preserveAspectRatio=\"none\" shape-rendering=\"crispEdges\">\n",
       "<defs>\n",
       "    <pattern id=\"pat_4A0EOy\" width=\".2\" height=\".2\"\n",
       "             patternUnits=\"userSpaceOnUse\" >\n",
       "        <path d=\"M.1,0h.1v.1h-.2v.1h.1z\" fill=\"#999\" opacity=\".5\" />\n",
       "    </pattern>\n",
       "</defs>\n",
       "<rect width=\"7\" height=\"1\" fill=\"url(#pat_4A0EOy)\" />\n",
       "<path d=\"M1,0v1h-1z\" fill=\"#4BADA2\" />\n",
       "<path d=\"M0,0h1v1h-1z\" fill=\"#4BADA2\" fill-opacity=\"1\" />\n",
       "<path d=\"M2,0v1h-1z\" fill=\"#1B8147\" />\n",
       "<path d=\"M1,0h1v1h-1z\" fill=\"#1B8147\" fill-opacity=\"1\" />\n",
       "<path d=\"M3,0v1h-1z\" fill=\"#293B6E\" />\n",
       "<path d=\"M2,0h1v1h-1z\" fill=\"#293B6E\" fill-opacity=\"1\" />\n",
       "<path d=\"M4,0v1h-1z\" fill=\"#99887E\" />\n",
       "<path d=\"M3,0h1v1h-1z\" fill=\"#99887E\" fill-opacity=\"1\" />\n",
       "<path d=\"M5,0v1h-1z\" fill=\"#BBB255\" />\n",
       "<path d=\"M4,0h1v1h-1z\" fill=\"#BBB255\" fill-opacity=\"1\" />\n",
       "<path d=\"M6,0v1h-1z\" fill=\"#AD854E\" />\n",
       "<path d=\"M5,0h1v1h-1z\" fill=\"#AD854E\" fill-opacity=\"1\" />\n",
       "<path d=\"M7,0v1h-1z\" fill=\"#B8526D\" />\n",
       "<path d=\"M6,0h1v1h-1z\" fill=\"#B8526D\" fill-opacity=\"1\" />\n",
       "</svg>"
      ],
      "text/plain": [
       "7-element Array{RGBA{Float64},1} with eltype RGBA{Float64}:\n",
       " RGBA{Float64}(0.2933333333333333,0.6799999999999999,0.6333333333333333,1.0)\n",
       " RGBA{Float64}(0.1066666666666666,0.5066666666666666,0.2799999999999999,1.0)\n",
       " RGBA{Float64}(0.16000000000000003,0.23333333333333328,0.43333333333333335,1.0)\n",
       " RGBA{Float64}(0.6000000000000003,0.5333333333333337,0.4933333333333333,1.0)\n",
       " RGBA{Float64}(0.7333333333333334,0.7,0.33333333333333337,1.0)\n",
       " RGBA{Float64}(0.6799999999999999,0.5200000000000001,0.30666666666666653,1.0)\n",
       " RGBA{Float64}(0.7200000000000001,0.32000000000000006,0.4266666666666667,1.0)"
      ]
     },
     "execution_count": 8,
     "metadata": {},
     "output_type": "execute_result"
    }
   ],
   "source": [
    "pal = cgrad(:tol_muted);\n",
    "chosen_pal = [pal[i] for i in 0.1:0.1:0.7]"
   ]
  },
  {
   "cell_type": "code",
   "execution_count": 9,
   "id": "c1dcd750",
   "metadata": {},
   "outputs": [
    {
     "data": {
      "image/svg+xml": [
       "<?xml version=\"1.0\" encoding=\"utf-8\"?>\n",
       "<svg xmlns=\"http://www.w3.org/2000/svg\" xmlns:xlink=\"http://www.w3.org/1999/xlink\" width=\"600\" height=\"200\" viewBox=\"0 0 2400 800\">\n",
       "<defs>\n",
       "  <clipPath id=\"clip880\">\n",
       "    <rect x=\"0\" y=\"0\" width=\"2400\" height=\"800\"/>\n",
       "  </clipPath>\n",
       "</defs>\n",
       "<path clip-path=\"url(#clip880)\" d=\"\n",
       "M0 800 L2400 800 L2400 0 L0 0  Z\n",
       "  \" fill=\"#ffffff\" fill-rule=\"evenodd\" fill-opacity=\"1\"/>\n",
       "<defs>\n",
       "  <clipPath id=\"clip881\">\n",
       "    <rect x=\"480\" y=\"0\" width=\"1681\" height=\"800\"/>\n",
       "  </clipPath>\n",
       "</defs>\n",
       "<path clip-path=\"url(#clip880)\" d=\"\n",
       "M133.434 638.564 L2352.76 638.564 L2352.76 47.2441 L133.434 47.2441  Z\n",
       "  \" fill=\"#ffffff\" fill-rule=\"evenodd\" fill-opacity=\"1\"/>\n",
       "<defs>\n",
       "  <clipPath id=\"clip882\">\n",
       "    <rect x=\"133\" y=\"47\" width=\"2220\" height=\"592\"/>\n",
       "  </clipPath>\n",
       "</defs>\n",
       "<polyline clip-path=\"url(#clip880)\" style=\"stroke:#000000; stroke-linecap:butt; stroke-linejoin:round; stroke-width:4; stroke-opacity:1; fill:none\" points=\"\n",
       "  133.434,638.564 2352.76,638.564 \n",
       "  \"/>\n",
       "<polyline clip-path=\"url(#clip880)\" style=\"stroke:#000000; stroke-linecap:butt; stroke-linejoin:round; stroke-width:4; stroke-opacity:1; fill:none\" points=\"\n",
       "  133.434,47.2441 2352.76,47.2441 \n",
       "  \"/>\n",
       "<polyline clip-path=\"url(#clip880)\" style=\"stroke:#000000; stroke-linecap:butt; stroke-linejoin:round; stroke-width:4; stroke-opacity:1; fill:none\" points=\"\n",
       "  155.192,638.564 155.192,619.666 \n",
       "  \"/>\n",
       "<polyline clip-path=\"url(#clip880)\" style=\"stroke:#000000; stroke-linecap:butt; stroke-linejoin:round; stroke-width:4; stroke-opacity:1; fill:none\" points=\"\n",
       "  699.144,638.564 699.144,619.666 \n",
       "  \"/>\n",
       "<polyline clip-path=\"url(#clip880)\" style=\"stroke:#000000; stroke-linecap:butt; stroke-linejoin:round; stroke-width:4; stroke-opacity:1; fill:none\" points=\"\n",
       "  1243.1,638.564 1243.1,619.666 \n",
       "  \"/>\n",
       "<polyline clip-path=\"url(#clip880)\" style=\"stroke:#000000; stroke-linecap:butt; stroke-linejoin:round; stroke-width:4; stroke-opacity:1; fill:none\" points=\"\n",
       "  1787.05,638.564 1787.05,619.666 \n",
       "  \"/>\n",
       "<polyline clip-path=\"url(#clip880)\" style=\"stroke:#000000; stroke-linecap:butt; stroke-linejoin:round; stroke-width:4; stroke-opacity:1; fill:none\" points=\"\n",
       "  2331,638.564 2331,619.666 \n",
       "  \"/>\n",
       "<polyline clip-path=\"url(#clip880)\" style=\"stroke:#000000; stroke-linecap:butt; stroke-linejoin:round; stroke-width:4; stroke-opacity:1; fill:none\" points=\"\n",
       "  263.983,638.564 263.983,629.115 \n",
       "  \"/>\n",
       "<polyline clip-path=\"url(#clip880)\" style=\"stroke:#000000; stroke-linecap:butt; stroke-linejoin:round; stroke-width:4; stroke-opacity:1; fill:none\" points=\"\n",
       "  372.773,638.564 372.773,629.115 \n",
       "  \"/>\n",
       "<polyline clip-path=\"url(#clip880)\" style=\"stroke:#000000; stroke-linecap:butt; stroke-linejoin:round; stroke-width:4; stroke-opacity:1; fill:none\" points=\"\n",
       "  481.563,638.564 481.563,629.115 \n",
       "  \"/>\n",
       "<polyline clip-path=\"url(#clip880)\" style=\"stroke:#000000; stroke-linecap:butt; stroke-linejoin:round; stroke-width:4; stroke-opacity:1; fill:none\" points=\"\n",
       "  590.354,638.564 590.354,629.115 \n",
       "  \"/>\n",
       "<polyline clip-path=\"url(#clip880)\" style=\"stroke:#000000; stroke-linecap:butt; stroke-linejoin:round; stroke-width:4; stroke-opacity:1; fill:none\" points=\"\n",
       "  807.934,638.564 807.934,629.115 \n",
       "  \"/>\n",
       "<polyline clip-path=\"url(#clip880)\" style=\"stroke:#000000; stroke-linecap:butt; stroke-linejoin:round; stroke-width:4; stroke-opacity:1; fill:none\" points=\"\n",
       "  916.724,638.564 916.724,629.115 \n",
       "  \"/>\n",
       "<polyline clip-path=\"url(#clip880)\" style=\"stroke:#000000; stroke-linecap:butt; stroke-linejoin:round; stroke-width:4; stroke-opacity:1; fill:none\" points=\"\n",
       "  1025.51,638.564 1025.51,629.115 \n",
       "  \"/>\n",
       "<polyline clip-path=\"url(#clip880)\" style=\"stroke:#000000; stroke-linecap:butt; stroke-linejoin:round; stroke-width:4; stroke-opacity:1; fill:none\" points=\"\n",
       "  1134.3,638.564 1134.3,629.115 \n",
       "  \"/>\n",
       "<polyline clip-path=\"url(#clip880)\" style=\"stroke:#000000; stroke-linecap:butt; stroke-linejoin:round; stroke-width:4; stroke-opacity:1; fill:none\" points=\"\n",
       "  1351.89,638.564 1351.89,629.115 \n",
       "  \"/>\n",
       "<polyline clip-path=\"url(#clip880)\" style=\"stroke:#000000; stroke-linecap:butt; stroke-linejoin:round; stroke-width:4; stroke-opacity:1; fill:none\" points=\"\n",
       "  1460.68,638.564 1460.68,629.115 \n",
       "  \"/>\n",
       "<polyline clip-path=\"url(#clip880)\" style=\"stroke:#000000; stroke-linecap:butt; stroke-linejoin:round; stroke-width:4; stroke-opacity:1; fill:none\" points=\"\n",
       "  1569.47,638.564 1569.47,629.115 \n",
       "  \"/>\n",
       "<polyline clip-path=\"url(#clip880)\" style=\"stroke:#000000; stroke-linecap:butt; stroke-linejoin:round; stroke-width:4; stroke-opacity:1; fill:none\" points=\"\n",
       "  1678.26,638.564 1678.26,629.115 \n",
       "  \"/>\n",
       "<polyline clip-path=\"url(#clip880)\" style=\"stroke:#000000; stroke-linecap:butt; stroke-linejoin:round; stroke-width:4; stroke-opacity:1; fill:none\" points=\"\n",
       "  1895.84,638.564 1895.84,629.115 \n",
       "  \"/>\n",
       "<polyline clip-path=\"url(#clip880)\" style=\"stroke:#000000; stroke-linecap:butt; stroke-linejoin:round; stroke-width:4; stroke-opacity:1; fill:none\" points=\"\n",
       "  2004.63,638.564 2004.63,629.115 \n",
       "  \"/>\n",
       "<polyline clip-path=\"url(#clip880)\" style=\"stroke:#000000; stroke-linecap:butt; stroke-linejoin:round; stroke-width:4; stroke-opacity:1; fill:none\" points=\"\n",
       "  2113.42,638.564 2113.42,629.115 \n",
       "  \"/>\n",
       "<polyline clip-path=\"url(#clip880)\" style=\"stroke:#000000; stroke-linecap:butt; stroke-linejoin:round; stroke-width:4; stroke-opacity:1; fill:none\" points=\"\n",
       "  2222.21,638.564 2222.21,629.115 \n",
       "  \"/>\n",
       "<path clip-path=\"url(#clip880)\" d=\"M144.545 684.783 Q144.545 677.347 146.423 673.296 Q149.041 667.268 155.217 667.268 Q156.526 667.268 157.885 667.639 Q159.269 667.985 160.998 669.343 Q162.752 670.702 163.814 672.925 Q165.84 677.224 165.84 684.783 Q165.84 692.169 163.962 696.196 Q161.22 702.075 155.168 702.075 Q152.895 702.075 150.573 700.914 Q148.276 699.753 146.818 696.962 Q144.545 692.787 144.545 684.783 M148.745 684.165 Q148.745 691.799 149.288 694.837 Q149.906 698.123 151.586 699.556 Q153.29 700.964 155.168 700.964 Q157.193 700.964 158.873 699.457 Q160.578 697.925 161.097 694.64 Q161.665 691.404 161.64 684.165 Q161.64 677.125 161.146 674.309 Q160.479 671.023 158.7 669.714 Q156.946 668.38 155.168 668.38 Q154.501 668.38 153.784 668.578 Q153.093 668.775 152.08 669.343 Q151.067 669.912 150.277 671.32 Q149.511 672.728 149.14 674.852 Q148.745 677.594 148.745 684.165 Z\" fill=\"#000000\" fill-rule=\"evenodd\" fill-opacity=\"1\" /><path clip-path=\"url(#clip880)\" d=\"M663.472 700.964 Q663.472 700.05 663.546 699.778 Q663.645 699.506 664.04 699.086 L673.749 688.266 Q679.06 682.288 679.06 677.076 Q679.06 673.691 677.281 671.27 Q675.527 668.849 672.291 668.849 Q670.068 668.849 668.191 670.208 Q666.313 671.567 665.448 673.988 Q665.597 673.938 666.115 673.938 Q667.375 673.938 668.067 674.729 Q668.783 675.519 668.783 676.582 Q668.783 677.94 667.894 678.607 Q667.029 679.25 666.165 679.25 Q665.819 679.25 665.35 679.175 Q664.905 679.101 664.189 678.41 Q663.472 677.693 663.472 676.433 Q663.472 672.901 666.14 670.085 Q668.833 667.268 672.934 667.268 Q677.578 667.268 680.616 670.035 Q683.68 672.777 683.68 677.076 Q683.68 678.583 683.21 679.966 Q682.766 681.325 682.148 682.387 Q681.555 683.449 679.925 685.154 Q678.294 686.858 676.985 688.069 Q675.676 689.279 672.736 691.848 L667.375 697.061 L676.491 697.061 Q680.937 697.061 681.283 696.665 Q681.777 695.949 682.395 692.169 L683.68 692.169 L682.247 700.964 L663.472 700.964 Z\" fill=\"#000000\" fill-rule=\"evenodd\" fill-opacity=\"1\" /><path clip-path=\"url(#clip880)\" d=\"M688.768 692.812 Q688.768 691.305 689.584 690.737 Q690.399 690.144 691.263 690.144 Q692.425 690.144 693.092 690.885 Q693.783 691.601 693.783 692.614 Q693.783 693.627 693.092 694.368 Q692.425 695.084 691.263 695.084 Q690.695 695.084 690.399 694.986 Q691.066 697.308 693.092 698.988 Q695.142 700.667 697.835 700.667 Q701.219 700.667 703.245 697.382 Q704.455 695.257 704.455 690.44 Q704.455 686.191 703.541 684.067 Q702.133 680.831 699.243 680.831 Q695.142 680.831 692.721 684.363 Q692.425 684.808 692.079 684.832 Q691.585 684.832 691.461 684.561 Q691.362 684.264 691.362 683.499 L691.362 668.528 Q691.362 667.318 691.856 667.318 Q692.054 667.318 692.474 667.466 Q695.661 668.874 699.193 668.899 Q702.825 668.899 706.085 667.417 Q706.333 667.268 706.481 667.268 Q706.975 667.268 707 667.837 Q707 668.034 706.58 668.627 Q706.184 669.195 705.32 669.961 Q704.455 670.702 703.343 671.419 Q702.232 672.135 700.601 672.629 Q698.996 673.098 697.217 673.098 Q695.092 673.098 692.919 672.431 L692.919 682.288 Q695.537 679.719 699.341 679.719 Q703.393 679.719 706.184 682.98 Q708.976 686.241 708.976 690.786 Q708.976 695.554 705.666 698.815 Q702.38 702.075 697.933 702.075 Q693.882 702.075 691.313 699.185 Q688.768 696.295 688.768 692.812 Z\" fill=\"#000000\" fill-rule=\"evenodd\" fill-opacity=\"1\" /><path clip-path=\"url(#clip880)\" d=\"M713.521 684.783 Q713.521 677.347 715.399 673.296 Q718.017 667.268 724.193 667.268 Q725.502 667.268 726.861 667.639 Q728.244 667.985 729.974 669.343 Q731.728 670.702 732.79 672.925 Q734.815 677.224 734.815 684.783 Q734.815 692.169 732.938 696.196 Q730.196 702.075 724.144 702.075 Q721.871 702.075 719.549 700.914 Q717.251 699.753 715.794 696.962 Q713.521 692.787 713.521 684.783 M717.721 684.165 Q717.721 691.799 718.264 694.837 Q718.882 698.123 720.562 699.556 Q722.266 700.964 724.144 700.964 Q726.169 700.964 727.849 699.457 Q729.554 697.925 730.072 694.64 Q730.641 691.404 730.616 684.165 Q730.616 677.125 730.122 674.309 Q729.455 671.023 727.676 669.714 Q725.922 668.38 724.144 668.38 Q723.477 668.38 722.76 668.578 Q722.069 668.775 721.056 669.343 Q720.043 669.912 719.252 671.32 Q718.487 672.728 718.116 674.852 Q717.721 677.594 717.721 684.165 Z\" fill=\"#000000\" fill-rule=\"evenodd\" fill-opacity=\"1\" /><path clip-path=\"url(#clip880)\" d=\"M1207.42 692.812 Q1207.42 691.305 1208.24 690.737 Q1209.05 690.144 1209.92 690.144 Q1211.08 690.144 1211.75 690.885 Q1212.44 691.601 1212.44 692.614 Q1212.44 693.627 1211.75 694.368 Q1211.08 695.084 1209.92 695.084 Q1209.35 695.084 1209.05 694.986 Q1209.72 697.308 1211.75 698.988 Q1213.8 700.667 1216.49 700.667 Q1219.87 700.667 1221.9 697.382 Q1223.11 695.257 1223.11 690.44 Q1223.11 686.191 1222.2 684.067 Q1220.79 680.831 1217.9 680.831 Q1213.8 680.831 1211.38 684.363 Q1211.08 684.808 1210.73 684.832 Q1210.24 684.832 1210.12 684.561 Q1210.02 684.264 1210.02 683.499 L1210.02 668.528 Q1210.02 667.318 1210.51 667.318 Q1210.71 667.318 1211.13 667.466 Q1214.32 668.874 1217.85 668.899 Q1221.48 668.899 1224.74 667.417 Q1224.99 667.268 1225.14 667.268 Q1225.63 667.268 1225.65 667.837 Q1225.65 668.034 1225.23 668.627 Q1224.84 669.195 1223.97 669.961 Q1223.11 670.702 1222 671.419 Q1220.89 672.135 1219.26 672.629 Q1217.65 673.098 1215.87 673.098 Q1213.75 673.098 1211.57 672.431 L1211.57 682.288 Q1214.19 679.719 1218 679.719 Q1222.05 679.719 1224.84 682.98 Q1227.63 686.241 1227.63 690.786 Q1227.63 695.554 1224.32 698.815 Q1221.04 702.075 1216.59 702.075 Q1212.54 702.075 1209.97 699.185 Q1207.42 696.295 1207.42 692.812 Z\" fill=\"#000000\" fill-rule=\"evenodd\" fill-opacity=\"1\" /><path clip-path=\"url(#clip880)\" d=\"M1232.18 684.783 Q1232.18 677.347 1234.05 673.296 Q1236.67 667.268 1242.85 667.268 Q1244.16 667.268 1245.52 667.639 Q1246.9 667.985 1248.63 669.343 Q1250.38 670.702 1251.44 672.925 Q1253.47 677.224 1253.47 684.783 Q1253.47 692.169 1251.59 696.196 Q1248.85 702.075 1242.8 702.075 Q1240.53 702.075 1238.2 700.914 Q1235.91 699.753 1234.45 696.962 Q1232.18 692.787 1232.18 684.783 M1236.38 684.165 Q1236.38 691.799 1236.92 694.837 Q1237.54 698.123 1239.22 699.556 Q1240.92 700.964 1242.8 700.964 Q1244.82 700.964 1246.5 699.457 Q1248.21 697.925 1248.73 694.64 Q1249.3 691.404 1249.27 684.165 Q1249.27 677.125 1248.78 674.309 Q1248.11 671.023 1246.33 669.714 Q1244.58 668.38 1242.8 668.38 Q1242.13 668.38 1241.42 668.578 Q1240.72 668.775 1239.71 669.343 Q1238.7 669.912 1237.91 671.32 Q1237.14 672.728 1236.77 674.852 Q1236.38 677.594 1236.38 684.165 Z\" fill=\"#000000\" fill-rule=\"evenodd\" fill-opacity=\"1\" /><path clip-path=\"url(#clip880)\" d=\"M1257.47 684.783 Q1257.47 677.347 1259.35 673.296 Q1261.97 667.268 1268.14 667.268 Q1269.45 667.268 1270.81 667.639 Q1272.2 667.985 1273.92 669.343 Q1275.68 670.702 1276.74 672.925 Q1278.77 677.224 1278.77 684.783 Q1278.77 692.169 1276.89 696.196 Q1274.15 702.075 1268.09 702.075 Q1265.82 702.075 1263.5 700.914 Q1261.2 699.753 1259.75 696.962 Q1257.47 692.787 1257.47 684.783 M1261.67 684.165 Q1261.67 691.799 1262.22 694.837 Q1262.83 698.123 1264.51 699.556 Q1266.22 700.964 1268.09 700.964 Q1270.12 700.964 1271.8 699.457 Q1273.51 697.925 1274.02 694.64 Q1274.59 691.404 1274.57 684.165 Q1274.57 677.125 1274.07 674.309 Q1273.41 671.023 1271.63 669.714 Q1269.87 668.38 1268.09 668.38 Q1267.43 668.38 1266.71 668.578 Q1266.02 668.775 1265.01 669.343 Q1263.99 669.912 1263.2 671.32 Q1262.44 672.728 1262.07 674.852 Q1261.67 677.594 1261.67 684.165 Z\" fill=\"#000000\" fill-rule=\"evenodd\" fill-opacity=\"1\" /><path clip-path=\"url(#clip880)\" d=\"M1751.54 677.174 L1753.19 666.774 L1754.45 666.774 Q1754.6 667.392 1754.85 667.664 Q1755.12 667.935 1756.55 668.158 Q1758.01 668.38 1760.95 668.38 L1773.22 668.38 Q1773.22 669.541 1772.78 670.159 L1765.94 679.768 Q1763.76 682.807 1762.8 688.414 Q1762.23 692.169 1762.26 696.715 L1762.26 699.284 Q1762.26 702.075 1759.91 702.075 Q1757.59 702.075 1757.59 699.284 Q1757.59 689.625 1763.81 680.262 Q1764.48 679.299 1766.93 675.865 Q1769.4 672.431 1769.49 672.283 L1759.02 672.283 Q1754.43 672.283 1754.06 672.58 Q1753.56 673.024 1752.8 677.174 L1751.54 677.174 Z\" fill=\"#000000\" fill-rule=\"evenodd\" fill-opacity=\"1\" /><path clip-path=\"url(#clip880)\" d=\"M1776.51 692.812 Q1776.51 691.305 1777.33 690.737 Q1778.14 690.144 1779.01 690.144 Q1780.17 690.144 1780.83 690.885 Q1781.53 691.601 1781.53 692.614 Q1781.53 693.627 1780.83 694.368 Q1780.17 695.084 1779.01 695.084 Q1778.44 695.084 1778.14 694.986 Q1778.81 697.308 1780.83 698.988 Q1782.88 700.667 1785.58 700.667 Q1788.96 700.667 1790.99 697.382 Q1792.2 695.257 1792.2 690.44 Q1792.2 686.191 1791.28 684.067 Q1789.88 680.831 1786.98 680.831 Q1782.88 680.831 1780.46 684.363 Q1780.17 684.808 1779.82 684.832 Q1779.33 684.832 1779.2 684.561 Q1779.1 684.264 1779.1 683.499 L1779.1 668.528 Q1779.1 667.318 1779.6 667.318 Q1779.8 667.318 1780.22 667.466 Q1783.4 668.874 1786.94 668.899 Q1790.57 668.899 1793.83 667.417 Q1794.07 667.268 1794.22 667.268 Q1794.72 667.268 1794.74 667.837 Q1794.74 668.034 1794.32 668.627 Q1793.93 669.195 1793.06 669.961 Q1792.2 670.702 1791.09 671.419 Q1789.97 672.135 1788.34 672.629 Q1786.74 673.098 1784.96 673.098 Q1782.83 673.098 1780.66 672.431 L1780.66 682.288 Q1783.28 679.719 1787.08 679.719 Q1791.13 679.719 1793.93 682.98 Q1796.72 686.241 1796.72 690.786 Q1796.72 695.554 1793.41 698.815 Q1790.12 702.075 1785.68 702.075 Q1781.62 702.075 1779.05 699.185 Q1776.51 696.295 1776.51 692.812 Z\" fill=\"#000000\" fill-rule=\"evenodd\" fill-opacity=\"1\" /><path clip-path=\"url(#clip880)\" d=\"M1801.26 684.783 Q1801.26 677.347 1803.14 673.296 Q1805.76 667.268 1811.94 667.268 Q1813.24 667.268 1814.6 667.639 Q1815.99 667.985 1817.72 669.343 Q1819.47 670.702 1820.53 672.925 Q1822.56 677.224 1822.56 684.783 Q1822.56 692.169 1820.68 696.196 Q1817.94 702.075 1811.89 702.075 Q1809.61 702.075 1807.29 700.914 Q1804.99 699.753 1803.54 696.962 Q1801.26 692.787 1801.26 684.783 M1805.46 684.165 Q1805.46 691.799 1806.01 694.837 Q1806.62 698.123 1808.3 699.556 Q1810.01 700.964 1811.89 700.964 Q1813.91 700.964 1815.59 699.457 Q1817.3 697.925 1817.81 694.64 Q1818.38 691.404 1818.36 684.165 Q1818.36 677.125 1817.86 674.309 Q1817.2 671.023 1815.42 669.714 Q1813.66 668.38 1811.89 668.38 Q1811.22 668.38 1810.5 668.578 Q1809.81 668.775 1808.8 669.343 Q1807.78 669.912 1806.99 671.32 Q1806.23 672.728 1805.86 674.852 Q1805.46 677.594 1805.46 684.165 Z\" fill=\"#000000\" fill-rule=\"evenodd\" fill-opacity=\"1\" /><path clip-path=\"url(#clip880)\" d=\"M2283.67 672.086 L2283.67 670.505 Q2289.74 670.505 2292.88 667.268 Q2293.75 667.268 2293.89 667.466 Q2294.04 667.664 2294.04 668.578 L2294.04 696.962 Q2294.04 698.469 2294.78 698.938 Q2295.52 699.407 2298.76 699.407 L2300.37 699.407 L2300.37 700.964 Q2298.59 700.816 2292.16 700.816 Q2285.74 700.816 2283.99 700.964 L2283.99 699.407 L2285.59 699.407 Q2288.78 699.407 2289.55 698.963 Q2290.31 698.493 2290.31 696.962 L2290.31 670.752 Q2287.67 672.086 2283.67 672.086 Z\" fill=\"#000000\" fill-rule=\"evenodd\" fill-opacity=\"1\" /><path clip-path=\"url(#clip880)\" d=\"M2306.44 684.783 Q2306.44 677.347 2308.32 673.296 Q2310.94 667.268 2317.11 667.268 Q2318.42 667.268 2319.78 667.639 Q2321.17 667.985 2322.9 669.343 Q2324.65 670.702 2325.71 672.925 Q2327.74 677.224 2327.74 684.783 Q2327.74 692.169 2325.86 696.196 Q2323.12 702.075 2317.07 702.075 Q2314.79 702.075 2312.47 700.914 Q2310.17 699.753 2308.72 696.962 Q2306.44 692.787 2306.44 684.783 M2310.64 684.165 Q2310.64 691.799 2311.19 694.837 Q2311.8 698.123 2313.48 699.556 Q2315.19 700.964 2317.07 700.964 Q2319.09 700.964 2320.77 699.457 Q2322.48 697.925 2322.99 694.64 Q2323.56 691.404 2323.54 684.165 Q2323.54 677.125 2323.04 674.309 Q2322.38 671.023 2320.6 669.714 Q2318.84 668.38 2317.07 668.38 Q2316.4 668.38 2315.68 668.578 Q2314.99 668.775 2313.98 669.343 Q2312.96 669.912 2312.17 671.32 Q2311.41 672.728 2311.04 674.852 Q2310.64 677.594 2310.64 684.165 Z\" fill=\"#000000\" fill-rule=\"evenodd\" fill-opacity=\"1\" /><path clip-path=\"url(#clip880)\" d=\"M2331.74 684.783 Q2331.74 677.347 2333.62 673.296 Q2336.23 667.268 2342.41 667.268 Q2343.72 667.268 2345.08 667.639 Q2346.46 667.985 2348.19 669.343 Q2349.95 670.702 2351.01 672.925 Q2353.03 677.224 2353.03 684.783 Q2353.03 692.169 2351.16 696.196 Q2348.41 702.075 2342.36 702.075 Q2340.09 702.075 2337.77 700.914 Q2335.47 699.753 2334.01 696.962 Q2331.74 692.787 2331.74 684.783 M2335.94 684.165 Q2335.94 691.799 2336.48 694.837 Q2337.1 698.123 2338.78 699.556 Q2340.48 700.964 2342.36 700.964 Q2344.39 700.964 2346.07 699.457 Q2347.77 697.925 2348.29 694.64 Q2348.86 691.404 2348.83 684.165 Q2348.83 677.125 2348.34 674.309 Q2347.67 671.023 2345.89 669.714 Q2344.14 668.38 2342.36 668.38 Q2341.69 668.38 2340.98 668.578 Q2340.29 668.775 2339.27 669.343 Q2338.26 669.912 2337.47 671.32 Q2336.7 672.728 2336.33 674.852 Q2335.94 677.594 2335.94 684.165 Z\" fill=\"#000000\" fill-rule=\"evenodd\" fill-opacity=\"1\" /><path clip-path=\"url(#clip880)\" d=\"M2357.04 684.783 Q2357.04 677.347 2358.91 673.296 Q2361.53 667.268 2367.71 667.268 Q2369.02 667.268 2370.38 667.639 Q2371.76 667.985 2373.49 669.343 Q2375.24 670.702 2376.3 672.925 Q2378.33 677.224 2378.33 684.783 Q2378.33 692.169 2376.45 696.196 Q2373.71 702.075 2367.66 702.075 Q2365.38 702.075 2363.06 700.914 Q2360.77 699.753 2359.31 696.962 Q2357.04 692.787 2357.04 684.783 M2361.23 684.165 Q2361.23 691.799 2361.78 694.837 Q2362.4 698.123 2364.08 699.556 Q2365.78 700.964 2367.66 700.964 Q2369.68 700.964 2371.36 699.457 Q2373.07 697.925 2373.59 694.64 Q2374.15 691.404 2374.13 684.165 Q2374.13 677.125 2373.64 674.309 Q2372.97 671.023 2371.19 669.714 Q2369.44 668.38 2367.66 668.38 Q2366.99 668.38 2366.27 668.578 Q2365.58 668.775 2364.57 669.343 Q2363.56 669.912 2362.77 671.32 Q2362 672.728 2361.63 674.852 Q2361.23 677.594 2361.23 684.165 Z\" fill=\"#000000\" fill-rule=\"evenodd\" fill-opacity=\"1\" /><path clip-path=\"url(#clip880)\" d=\"M1252.34 749.199 Q1252.34 750.183 1251.88 750.429 Q1251.42 750.64 1250.16 750.64 L1243.41 750.64 L1238.07 771.86 Q1237.65 773.722 1237.65 775.303 Q1237.65 777.06 1238.18 777.833 Q1238.74 778.606 1239.9 778.606 Q1242.18 778.606 1244.64 776.533 Q1247.14 774.46 1249.24 769.401 Q1249.53 768.733 1249.67 768.593 Q1249.84 768.417 1250.3 768.417 Q1251.18 768.417 1251.18 769.12 Q1251.18 769.366 1250.69 770.49 Q1250.23 771.614 1249.21 773.266 Q1248.23 774.917 1246.93 776.463 Q1245.66 778.009 1243.73 779.133 Q1241.8 780.222 1239.72 780.222 Q1236.81 780.222 1234.95 778.36 Q1233.12 776.498 1233.12 773.582 Q1233.12 772.633 1233.86 769.612 Q1234.59 766.555 1238.6 750.64 L1232.24 750.64 Q1231.36 750.64 1231.01 750.604 Q1230.69 750.569 1230.45 750.394 Q1230.24 750.183 1230.24 749.761 Q1230.24 749.094 1230.52 748.813 Q1230.8 748.496 1231.15 748.461 Q1231.54 748.391 1232.42 748.391 L1239.16 748.391 L1241.97 736.973 Q1242.25 735.848 1242.96 735.216 Q1243.69 734.548 1244.12 734.478 Q1244.54 734.373 1244.85 734.373 Q1245.8 734.373 1246.36 734.9 Q1246.93 735.392 1246.93 736.305 Q1246.93 736.797 1243.97 748.391 L1250.3 748.391 Q1251.11 748.391 1251.42 748.426 Q1251.77 748.461 1252.06 748.637 Q1252.34 748.813 1252.34 749.199 Z\" fill=\"#000000\" fill-rule=\"evenodd\" fill-opacity=\"1\" /><polyline clip-path=\"url(#clip880)\" style=\"stroke:#000000; stroke-linecap:butt; stroke-linejoin:round; stroke-width:4; stroke-opacity:1; fill:none\" points=\"\n",
       "  133.434,638.564 133.434,47.2441 \n",
       "  \"/>\n",
       "<polyline clip-path=\"url(#clip880)\" style=\"stroke:#000000; stroke-linecap:butt; stroke-linejoin:round; stroke-width:4; stroke-opacity:1; fill:none\" points=\"\n",
       "  2352.76,638.564 2352.76,47.2441 \n",
       "  \"/>\n",
       "<polyline clip-path=\"url(#clip880)\" style=\"stroke:#000000; stroke-linecap:butt; stroke-linejoin:round; stroke-width:4; stroke-opacity:1; fill:none\" points=\"\n",
       "  133.434,638.564 152.332,638.564 \n",
       "  \"/>\n",
       "<polyline clip-path=\"url(#clip880)\" style=\"stroke:#000000; stroke-linecap:butt; stroke-linejoin:round; stroke-width:4; stroke-opacity:1; fill:none\" points=\"\n",
       "  133.434,554.09 152.332,554.09 \n",
       "  \"/>\n",
       "<polyline clip-path=\"url(#clip880)\" style=\"stroke:#000000; stroke-linecap:butt; stroke-linejoin:round; stroke-width:4; stroke-opacity:1; fill:none\" points=\"\n",
       "  133.434,469.615 152.332,469.615 \n",
       "  \"/>\n",
       "<polyline clip-path=\"url(#clip880)\" style=\"stroke:#000000; stroke-linecap:butt; stroke-linejoin:round; stroke-width:4; stroke-opacity:1; fill:none\" points=\"\n",
       "  133.434,385.141 152.332,385.141 \n",
       "  \"/>\n",
       "<polyline clip-path=\"url(#clip880)\" style=\"stroke:#000000; stroke-linecap:butt; stroke-linejoin:round; stroke-width:4; stroke-opacity:1; fill:none\" points=\"\n",
       "  133.434,300.667 152.332,300.667 \n",
       "  \"/>\n",
       "<polyline clip-path=\"url(#clip880)\" style=\"stroke:#000000; stroke-linecap:butt; stroke-linejoin:round; stroke-width:4; stroke-opacity:1; fill:none\" points=\"\n",
       "  133.434,216.193 152.332,216.193 \n",
       "  \"/>\n",
       "<polyline clip-path=\"url(#clip880)\" style=\"stroke:#000000; stroke-linecap:butt; stroke-linejoin:round; stroke-width:4; stroke-opacity:1; fill:none\" points=\"\n",
       "  133.434,131.718 152.332,131.718 \n",
       "  \"/>\n",
       "<polyline clip-path=\"url(#clip880)\" style=\"stroke:#000000; stroke-linecap:butt; stroke-linejoin:round; stroke-width:4; stroke-opacity:1; fill:none\" points=\"\n",
       "  133.434,47.2441 152.332,47.2441 \n",
       "  \"/>\n",
       "<polyline clip-path=\"url(#clip880)\" style=\"stroke:#000000; stroke-linecap:butt; stroke-linejoin:round; stroke-width:4; stroke-opacity:1; fill:none\" points=\"\n",
       "  133.434,621.669 142.883,621.669 \n",
       "  \"/>\n",
       "<polyline clip-path=\"url(#clip880)\" style=\"stroke:#000000; stroke-linecap:butt; stroke-linejoin:round; stroke-width:4; stroke-opacity:1; fill:none\" points=\"\n",
       "  133.434,604.774 142.883,604.774 \n",
       "  \"/>\n",
       "<polyline clip-path=\"url(#clip880)\" style=\"stroke:#000000; stroke-linecap:butt; stroke-linejoin:round; stroke-width:4; stroke-opacity:1; fill:none\" points=\"\n",
       "  133.434,587.879 142.883,587.879 \n",
       "  \"/>\n",
       "<polyline clip-path=\"url(#clip880)\" style=\"stroke:#000000; stroke-linecap:butt; stroke-linejoin:round; stroke-width:4; stroke-opacity:1; fill:none\" points=\"\n",
       "  133.434,570.984 142.883,570.984 \n",
       "  \"/>\n",
       "<polyline clip-path=\"url(#clip880)\" style=\"stroke:#000000; stroke-linecap:butt; stroke-linejoin:round; stroke-width:4; stroke-opacity:1; fill:none\" points=\"\n",
       "  133.434,537.195 142.883,537.195 \n",
       "  \"/>\n",
       "<polyline clip-path=\"url(#clip880)\" style=\"stroke:#000000; stroke-linecap:butt; stroke-linejoin:round; stroke-width:4; stroke-opacity:1; fill:none\" points=\"\n",
       "  133.434,520.3 142.883,520.3 \n",
       "  \"/>\n",
       "<polyline clip-path=\"url(#clip880)\" style=\"stroke:#000000; stroke-linecap:butt; stroke-linejoin:round; stroke-width:4; stroke-opacity:1; fill:none\" points=\"\n",
       "  133.434,503.405 142.883,503.405 \n",
       "  \"/>\n",
       "<polyline clip-path=\"url(#clip880)\" style=\"stroke:#000000; stroke-linecap:butt; stroke-linejoin:round; stroke-width:4; stroke-opacity:1; fill:none\" points=\"\n",
       "  133.434,486.51 142.883,486.51 \n",
       "  \"/>\n",
       "<polyline clip-path=\"url(#clip880)\" style=\"stroke:#000000; stroke-linecap:butt; stroke-linejoin:round; stroke-width:4; stroke-opacity:1; fill:none\" points=\"\n",
       "  133.434,452.72 142.883,452.72 \n",
       "  \"/>\n",
       "<polyline clip-path=\"url(#clip880)\" style=\"stroke:#000000; stroke-linecap:butt; stroke-linejoin:round; stroke-width:4; stroke-opacity:1; fill:none\" points=\"\n",
       "  133.434,435.826 142.883,435.826 \n",
       "  \"/>\n",
       "<polyline clip-path=\"url(#clip880)\" style=\"stroke:#000000; stroke-linecap:butt; stroke-linejoin:round; stroke-width:4; stroke-opacity:1; fill:none\" points=\"\n",
       "  133.434,418.931 142.883,418.931 \n",
       "  \"/>\n",
       "<polyline clip-path=\"url(#clip880)\" style=\"stroke:#000000; stroke-linecap:butt; stroke-linejoin:round; stroke-width:4; stroke-opacity:1; fill:none\" points=\"\n",
       "  133.434,402.036 142.883,402.036 \n",
       "  \"/>\n",
       "<polyline clip-path=\"url(#clip880)\" style=\"stroke:#000000; stroke-linecap:butt; stroke-linejoin:round; stroke-width:4; stroke-opacity:1; fill:none\" points=\"\n",
       "  133.434,368.246 142.883,368.246 \n",
       "  \"/>\n",
       "<polyline clip-path=\"url(#clip880)\" style=\"stroke:#000000; stroke-linecap:butt; stroke-linejoin:round; stroke-width:4; stroke-opacity:1; fill:none\" points=\"\n",
       "  133.434,351.351 142.883,351.351 \n",
       "  \"/>\n",
       "<polyline clip-path=\"url(#clip880)\" style=\"stroke:#000000; stroke-linecap:butt; stroke-linejoin:round; stroke-width:4; stroke-opacity:1; fill:none\" points=\"\n",
       "  133.434,334.457 142.883,334.457 \n",
       "  \"/>\n",
       "<polyline clip-path=\"url(#clip880)\" style=\"stroke:#000000; stroke-linecap:butt; stroke-linejoin:round; stroke-width:4; stroke-opacity:1; fill:none\" points=\"\n",
       "  133.434,317.562 142.883,317.562 \n",
       "  \"/>\n",
       "<polyline clip-path=\"url(#clip880)\" style=\"stroke:#000000; stroke-linecap:butt; stroke-linejoin:round; stroke-width:4; stroke-opacity:1; fill:none\" points=\"\n",
       "  133.434,283.772 142.883,283.772 \n",
       "  \"/>\n",
       "<polyline clip-path=\"url(#clip880)\" style=\"stroke:#000000; stroke-linecap:butt; stroke-linejoin:round; stroke-width:4; stroke-opacity:1; fill:none\" points=\"\n",
       "  133.434,266.877 142.883,266.877 \n",
       "  \"/>\n",
       "<polyline clip-path=\"url(#clip880)\" style=\"stroke:#000000; stroke-linecap:butt; stroke-linejoin:round; stroke-width:4; stroke-opacity:1; fill:none\" points=\"\n",
       "  133.434,249.982 142.883,249.982 \n",
       "  \"/>\n",
       "<polyline clip-path=\"url(#clip880)\" style=\"stroke:#000000; stroke-linecap:butt; stroke-linejoin:round; stroke-width:4; stroke-opacity:1; fill:none\" points=\"\n",
       "  133.434,233.087 142.883,233.087 \n",
       "  \"/>\n",
       "<polyline clip-path=\"url(#clip880)\" style=\"stroke:#000000; stroke-linecap:butt; stroke-linejoin:round; stroke-width:4; stroke-opacity:1; fill:none\" points=\"\n",
       "  133.434,199.298 142.883,199.298 \n",
       "  \"/>\n",
       "<polyline clip-path=\"url(#clip880)\" style=\"stroke:#000000; stroke-linecap:butt; stroke-linejoin:round; stroke-width:4; stroke-opacity:1; fill:none\" points=\"\n",
       "  133.434,182.403 142.883,182.403 \n",
       "  \"/>\n",
       "<polyline clip-path=\"url(#clip880)\" style=\"stroke:#000000; stroke-linecap:butt; stroke-linejoin:round; stroke-width:4; stroke-opacity:1; fill:none\" points=\"\n",
       "  133.434,165.508 142.883,165.508 \n",
       "  \"/>\n",
       "<polyline clip-path=\"url(#clip880)\" style=\"stroke:#000000; stroke-linecap:butt; stroke-linejoin:round; stroke-width:4; stroke-opacity:1; fill:none\" points=\"\n",
       "  133.434,148.613 142.883,148.613 \n",
       "  \"/>\n",
       "<polyline clip-path=\"url(#clip880)\" style=\"stroke:#000000; stroke-linecap:butt; stroke-linejoin:round; stroke-width:4; stroke-opacity:1; fill:none\" points=\"\n",
       "  133.434,114.823 142.883,114.823 \n",
       "  \"/>\n",
       "<polyline clip-path=\"url(#clip880)\" style=\"stroke:#000000; stroke-linecap:butt; stroke-linejoin:round; stroke-width:4; stroke-opacity:1; fill:none\" points=\"\n",
       "  133.434,97.9286 142.883,97.9286 \n",
       "  \"/>\n",
       "<polyline clip-path=\"url(#clip880)\" style=\"stroke:#000000; stroke-linecap:butt; stroke-linejoin:round; stroke-width:4; stroke-opacity:1; fill:none\" points=\"\n",
       "  133.434,81.0338 142.883,81.0338 \n",
       "  \"/>\n",
       "<polyline clip-path=\"url(#clip880)\" style=\"stroke:#000000; stroke-linecap:butt; stroke-linejoin:round; stroke-width:4; stroke-opacity:1; fill:none\" points=\"\n",
       "  133.434,64.1389 142.883,64.1389 \n",
       "  \"/>\n",
       "<path clip-path=\"url(#clip880)\" d=\"M76.1401 639.663 Q76.1401 632.227 78.0176 628.176 Q80.6362 622.148 86.812 622.148 Q88.1213 622.148 89.48 622.519 Q90.8633 622.865 92.5926 624.223 Q94.3465 625.582 95.4088 627.805 Q97.4344 632.104 97.4344 639.663 Q97.4344 647.049 95.557 651.076 Q92.8149 656.955 86.7626 656.955 Q84.4899 656.955 82.1678 655.794 Q79.8704 654.633 78.4129 651.842 Q76.1401 647.667 76.1401 639.663 M80.3397 639.045 Q80.3397 646.679 80.8832 649.717 Q81.5008 653.003 83.1806 654.436 Q84.8851 655.844 86.7626 655.844 Q88.7883 655.844 90.4681 654.337 Q92.1726 652.805 92.6914 649.52 Q93.2596 646.284 93.2349 639.045 Q93.2349 632.005 92.7408 629.189 Q92.0738 625.903 90.2952 624.594 Q88.5412 623.26 86.7626 623.26 Q86.0956 623.26 85.3792 623.458 Q84.6875 623.655 83.6747 624.223 Q82.6618 624.792 81.8713 626.2 Q81.1055 627.608 80.735 629.732 Q80.3397 632.474 80.3397 639.045 Z\" fill=\"#000000\" fill-rule=\"evenodd\" fill-opacity=\"1\" /><path clip-path=\"url(#clip880)\" d=\"M77.2271 563.217 Q77.2271 561.711 78.0423 561.142 Q78.8575 560.549 79.7221 560.549 Q80.8832 560.549 81.5502 561.291 Q82.2419 562.007 82.2419 563.02 Q82.2419 564.033 81.5502 564.774 Q80.8832 565.49 79.7221 565.49 Q79.154 565.49 78.8575 565.391 Q79.5245 567.713 81.5502 569.393 Q83.6006 571.073 86.2932 571.073 Q89.6776 571.073 91.7033 567.788 Q92.9137 565.663 92.9137 560.846 Q92.9137 556.597 91.9997 554.472 Q90.5916 551.236 87.7013 551.236 Q83.6006 551.236 81.1796 554.769 Q80.8832 555.214 80.5373 555.238 Q80.0433 555.238 79.9198 554.967 Q79.8209 554.67 79.8209 553.904 L79.8209 538.934 Q79.8209 537.724 80.315 537.724 Q80.5126 537.724 80.9326 537.872 Q84.1193 539.28 87.6519 539.305 Q91.2833 539.305 94.5441 537.822 Q94.7912 537.674 94.9394 537.674 Q95.4335 537.674 95.4582 538.242 Q95.4582 538.44 95.0382 539.033 Q94.643 539.601 93.7783 540.367 Q92.9137 541.108 91.8021 541.824 Q90.6904 542.541 89.06 543.035 Q87.4543 543.504 85.6756 543.504 Q83.5512 543.504 81.3773 542.837 L81.3773 552.694 Q83.9958 550.125 87.8001 550.125 Q91.8515 550.125 94.643 553.385 Q97.4344 556.646 97.4344 561.192 Q97.4344 565.96 94.1242 569.22 Q90.8386 572.481 86.392 572.481 Q82.3407 572.481 79.7715 569.591 Q77.2271 566.701 77.2271 563.217 Z\" fill=\"#000000\" fill-rule=\"evenodd\" fill-opacity=\"1\" /><path clip-path=\"url(#clip880)\" d=\"M53.3636 458.017 L53.3636 456.436 Q59.4407 456.436 62.578 453.2 Q63.4426 453.2 63.5908 453.398 Q63.7391 453.595 63.7391 454.509 L63.7391 482.893 Q63.7391 484.4 64.4802 484.87 Q65.2213 485.339 68.4574 485.339 L70.0631 485.339 L70.0631 486.895 Q68.2845 486.747 61.8616 486.747 Q55.4387 486.747 53.6848 486.895 L53.6848 485.339 L55.2905 485.339 Q58.4772 485.339 59.243 484.894 Q60.0089 484.425 60.0089 482.893 L60.0089 456.683 Q57.3656 458.017 53.3636 458.017 Z\" fill=\"#000000\" fill-rule=\"evenodd\" fill-opacity=\"1\" /><path clip-path=\"url(#clip880)\" d=\"M76.1401 470.715 Q76.1401 463.279 78.0176 459.228 Q80.6362 453.2 86.812 453.2 Q88.1213 453.2 89.48 453.57 Q90.8633 453.916 92.5926 455.275 Q94.3465 456.634 95.4088 458.857 Q97.4344 463.155 97.4344 470.715 Q97.4344 478.101 95.557 482.128 Q92.8149 488.007 86.7626 488.007 Q84.4899 488.007 82.1678 486.846 Q79.8704 485.685 78.4129 482.893 Q76.1401 478.718 76.1401 470.715 M80.3397 470.097 Q80.3397 477.73 80.8832 480.769 Q81.5008 484.054 83.1806 485.487 Q84.8851 486.895 86.7626 486.895 Q88.7883 486.895 90.4681 485.388 Q92.1726 483.857 92.6914 480.571 Q93.2596 477.335 93.2349 470.097 Q93.2349 463.057 92.7408 460.24 Q92.0738 456.955 90.2952 455.646 Q88.5412 454.312 86.7626 454.312 Q86.0956 454.312 85.3792 454.509 Q84.6875 454.707 83.6747 455.275 Q82.6618 455.843 81.8713 457.251 Q81.1055 458.659 80.735 460.784 Q80.3397 463.526 80.3397 470.097 Z\" fill=\"#000000\" fill-rule=\"evenodd\" fill-opacity=\"1\" /><path clip-path=\"url(#clip880)\" d=\"M53.9071 373.543 L53.9071 371.962 Q59.9841 371.962 63.1215 368.726 Q63.9861 368.726 64.1343 368.923 Q64.2825 369.121 64.2825 370.035 L64.2825 398.419 Q64.2825 399.926 65.0236 400.395 Q65.7647 400.865 69.0009 400.865 L70.6066 400.865 L70.6066 402.421 Q68.828 402.273 62.4051 402.273 Q55.9822 402.273 54.2283 402.421 L54.2283 400.865 L55.834 400.865 Q59.0207 400.865 59.7865 400.42 Q60.5523 399.951 60.5523 398.419 L60.5523 372.209 Q57.9091 373.543 53.9071 373.543 Z\" fill=\"#000000\" fill-rule=\"evenodd\" fill-opacity=\"1\" /><path clip-path=\"url(#clip880)\" d=\"M77.2271 394.269 Q77.2271 392.762 78.0423 392.194 Q78.8575 391.601 79.7221 391.601 Q80.8832 391.601 81.5502 392.342 Q82.2419 393.058 82.2419 394.071 Q82.2419 395.084 81.5502 395.825 Q80.8832 396.542 79.7221 396.542 Q79.154 396.542 78.8575 396.443 Q79.5245 398.765 81.5502 400.445 Q83.6006 402.125 86.2932 402.125 Q89.6776 402.125 91.7033 398.839 Q92.9137 396.715 92.9137 391.897 Q92.9137 387.648 91.9997 385.524 Q90.5916 382.288 87.7013 382.288 Q83.6006 382.288 81.1796 385.82 Q80.8832 386.265 80.5373 386.29 Q80.0433 386.29 79.9198 386.018 Q79.8209 385.722 79.8209 384.956 L79.8209 369.986 Q79.8209 368.775 80.315 368.775 Q80.5126 368.775 80.9326 368.923 Q84.1193 370.331 87.6519 370.356 Q91.2833 370.356 94.5441 368.874 Q94.7912 368.726 94.9394 368.726 Q95.4335 368.726 95.4582 369.294 Q95.4582 369.491 95.0382 370.084 Q94.643 370.653 93.7783 371.418 Q92.9137 372.159 91.8021 372.876 Q90.6904 373.592 89.06 374.086 Q87.4543 374.556 85.6756 374.556 Q83.5512 374.556 81.3773 373.889 L81.3773 383.745 Q83.9958 381.176 87.8001 381.176 Q91.8515 381.176 94.643 384.437 Q97.4344 387.698 97.4344 392.243 Q97.4344 397.011 94.1242 400.272 Q90.8386 403.533 86.392 403.533 Q82.3407 403.533 79.7715 400.642 Q77.2271 397.752 77.2271 394.269 Z\" fill=\"#000000\" fill-rule=\"evenodd\" fill-opacity=\"1\" /><path clip-path=\"url(#clip880)\" d=\"M51.3874 317.947 Q51.3874 317.033 51.4615 316.761 Q51.5603 316.489 51.9556 316.069 L61.664 305.249 Q66.9752 299.271 66.9752 294.059 Q66.9752 290.674 65.1966 288.253 Q63.4426 285.832 60.2065 285.832 Q57.9832 285.832 56.1057 287.191 Q54.2283 288.55 53.3636 290.971 Q53.5119 290.921 54.0306 290.921 Q55.2905 290.921 55.9822 291.712 Q56.6986 292.502 56.6986 293.565 Q56.6986 294.923 55.8093 295.59 Q54.9447 296.233 54.08 296.233 Q53.7342 296.233 53.2648 296.158 Q52.8202 296.084 52.1038 295.393 Q51.3874 294.676 51.3874 293.416 Q51.3874 289.884 54.0553 287.068 Q56.748 284.251 60.8488 284.251 Q65.493 284.251 68.5315 287.018 Q71.5947 289.76 71.5947 294.059 Q71.5947 295.566 71.1254 296.949 Q70.6807 298.308 70.0631 299.37 Q69.4702 300.432 67.8398 302.137 Q66.2094 303.841 64.9001 305.052 Q63.5908 306.262 60.6511 308.831 L55.2905 314.044 L64.4061 314.044 Q68.8527 314.044 69.1985 313.648 Q69.6926 312.932 70.3102 309.152 L71.5947 309.152 L70.1619 317.947 L51.3874 317.947 Z\" fill=\"#000000\" fill-rule=\"evenodd\" fill-opacity=\"1\" /><path clip-path=\"url(#clip880)\" d=\"M76.1401 301.766 Q76.1401 294.33 78.0176 290.279 Q80.6362 284.251 86.812 284.251 Q88.1213 284.251 89.48 284.622 Q90.8633 284.968 92.5926 286.327 Q94.3465 287.685 95.4088 289.909 Q97.4344 294.207 97.4344 301.766 Q97.4344 309.152 95.557 313.179 Q92.8149 319.058 86.7626 319.058 Q84.4899 319.058 82.1678 317.897 Q79.8704 316.736 78.4129 313.945 Q76.1401 309.77 76.1401 301.766 M80.3397 301.149 Q80.3397 308.782 80.8832 311.82 Q81.5008 315.106 83.1806 316.539 Q84.8851 317.947 86.7626 317.947 Q88.7883 317.947 90.4681 316.44 Q92.1726 314.908 92.6914 311.623 Q93.2596 308.387 93.2349 301.149 Q93.2349 294.108 92.7408 291.292 Q92.0738 288.006 90.2952 286.697 Q88.5412 285.363 86.7626 285.363 Q86.0956 285.363 85.3792 285.561 Q84.6875 285.758 83.6747 286.327 Q82.6618 286.895 81.8713 288.303 Q81.1055 289.711 80.735 291.835 Q80.3397 294.577 80.3397 301.149 Z\" fill=\"#000000\" fill-rule=\"evenodd\" fill-opacity=\"1\" /><path clip-path=\"url(#clip880)\" d=\"M51.9309 233.473 Q51.9309 232.559 52.005 232.287 Q52.1038 232.015 52.499 231.595 L62.2075 220.775 Q67.5187 214.797 67.5187 209.584 Q67.5187 206.2 65.74 203.779 Q63.9861 201.358 60.75 201.358 Q58.5267 201.358 56.6492 202.717 Q54.7717 204.076 53.9071 206.497 Q54.0553 206.447 54.5741 206.447 Q55.834 206.447 56.5257 207.238 Q57.2421 208.028 57.2421 209.09 Q57.2421 210.449 56.3528 211.116 Q55.4881 211.758 54.6235 211.758 Q54.2777 211.758 53.8083 211.684 Q53.3636 211.61 52.6473 210.918 Q51.9309 210.202 51.9309 208.942 Q51.9309 205.41 54.5988 202.593 Q57.2915 199.777 61.3922 199.777 Q66.0365 199.777 69.075 202.544 Q72.1382 205.286 72.1382 209.584 Q72.1382 211.091 71.6688 212.475 Q71.2242 213.833 70.6066 214.896 Q70.0137 215.958 68.3833 217.662 Q66.7529 219.367 65.4436 220.577 Q64.1343 221.788 61.1946 224.357 L55.834 229.569 L64.9495 229.569 Q69.3961 229.569 69.742 229.174 Q70.236 228.458 70.8536 224.678 L72.1382 224.678 L70.7054 233.473 L51.9309 233.473 Z\" fill=\"#000000\" fill-rule=\"evenodd\" fill-opacity=\"1\" /><path clip-path=\"url(#clip880)\" d=\"M77.2271 225.32 Q77.2271 223.814 78.0423 223.245 Q78.8575 222.653 79.7221 222.653 Q80.8832 222.653 81.5502 223.394 Q82.2419 224.11 82.2419 225.123 Q82.2419 226.136 81.5502 226.877 Q80.8832 227.593 79.7221 227.593 Q79.154 227.593 78.8575 227.494 Q79.5245 229.816 81.5502 231.496 Q83.6006 233.176 86.2932 233.176 Q89.6776 233.176 91.7033 229.891 Q92.9137 227.766 92.9137 222.949 Q92.9137 218.7 91.9997 216.575 Q90.5916 213.339 87.7013 213.339 Q83.6006 213.339 81.1796 216.872 Q80.8832 217.317 80.5373 217.341 Q80.0433 217.341 79.9198 217.07 Q79.8209 216.773 79.8209 216.007 L79.8209 201.037 Q79.8209 199.827 80.315 199.827 Q80.5126 199.827 80.9326 199.975 Q84.1193 201.383 87.6519 201.408 Q91.2833 201.408 94.5441 199.925 Q94.7912 199.777 94.9394 199.777 Q95.4335 199.777 95.4582 200.345 Q95.4582 200.543 95.0382 201.136 Q94.643 201.704 93.7783 202.47 Q92.9137 203.211 91.8021 203.927 Q90.6904 204.644 89.06 205.138 Q87.4543 205.607 85.6756 205.607 Q83.5512 205.607 81.3773 204.94 L81.3773 214.797 Q83.9958 212.228 87.8001 212.228 Q91.8515 212.228 94.643 215.489 Q97.4344 218.749 97.4344 223.295 Q97.4344 228.063 94.1242 231.323 Q90.8386 234.584 86.392 234.584 Q82.3407 234.584 79.7715 231.694 Q77.2271 228.804 77.2271 225.32 Z\" fill=\"#000000\" fill-rule=\"evenodd\" fill-opacity=\"1\" /><path clip-path=\"url(#clip880)\" d=\"M50.9921 142.18 Q50.9921 140.673 51.8567 139.957 Q52.7214 139.241 53.833 139.241 Q54.9941 139.241 55.8093 140.006 Q56.6492 140.747 56.6492 142.057 Q56.6492 143.465 55.6611 144.255 Q54.6976 145.046 53.3142 144.848 Q54.5247 146.874 56.748 147.788 Q58.996 148.702 61.0711 148.702 Q63.245 148.702 64.9989 146.824 Q66.7776 144.947 66.7776 140.352 Q66.7776 136.449 65.246 134.201 Q63.7391 131.953 60.75 131.953 L58.5267 131.953 Q57.7608 131.953 57.5385 131.879 Q57.3162 131.805 57.3162 131.385 Q57.3162 130.891 58.082 130.792 Q58.8478 130.792 60.0583 130.644 Q62.998 130.545 64.5543 128 Q65.9624 125.629 65.9624 122.245 Q65.9624 119.157 64.4802 117.872 Q63.0227 116.563 61.1205 116.563 Q59.3419 116.563 57.3903 117.304 Q55.4387 118.045 54.3765 119.7 Q57.5138 119.7 57.5138 122.245 Q57.5138 123.356 56.7974 124.097 Q56.1057 124.814 54.9447 124.814 Q53.833 124.814 53.0919 124.122 Q52.3508 123.406 52.3508 122.195 Q52.3508 119.305 54.92 117.304 Q57.5138 115.303 61.3181 115.303 Q65.073 115.303 67.8398 117.279 Q70.6313 119.255 70.6313 122.294 Q70.6313 125.283 68.655 127.729 Q66.6788 130.174 63.5414 131.187 Q67.3952 131.953 69.6926 134.572 Q71.99 137.165 71.99 140.352 Q71.99 144.305 68.8774 147.22 Q65.7647 150.11 61.2193 150.11 Q57.0197 150.11 54.0059 147.837 Q50.9921 145.565 50.9921 142.18 Z\" fill=\"#000000\" fill-rule=\"evenodd\" fill-opacity=\"1\" /><path clip-path=\"url(#clip880)\" d=\"M76.1401 132.818 Q76.1401 125.382 78.0176 121.331 Q80.6362 115.303 86.812 115.303 Q88.1213 115.303 89.48 115.674 Q90.8633 116.019 92.5926 117.378 Q94.3465 118.737 95.4088 120.96 Q97.4344 125.258 97.4344 132.818 Q97.4344 140.204 95.557 144.231 Q92.8149 150.11 86.7626 150.11 Q84.4899 150.11 82.1678 148.949 Q79.8704 147.788 78.4129 144.996 Q76.1401 140.822 76.1401 132.818 M80.3397 132.2 Q80.3397 139.833 80.8832 142.872 Q81.5008 146.157 83.1806 147.59 Q84.8851 148.998 86.7626 148.998 Q88.7883 148.998 90.4681 147.491 Q92.1726 145.96 92.6914 142.674 Q93.2596 139.438 93.2349 132.2 Q93.2349 125.16 92.7408 122.343 Q92.0738 119.058 90.2952 117.749 Q88.5412 116.415 86.7626 116.415 Q86.0956 116.415 85.3792 116.612 Q84.6875 116.81 83.6747 117.378 Q82.6618 117.946 81.8713 119.354 Q81.1055 120.762 80.735 122.887 Q80.3397 125.629 80.3397 132.2 Z\" fill=\"#000000\" fill-rule=\"evenodd\" fill-opacity=\"1\" /><path clip-path=\"url(#clip880)\" d=\"M51.5356 57.706 Q51.5356 56.1991 52.4002 55.4827 Q53.2648 54.7663 54.3765 54.7663 Q55.5375 54.7663 56.3528 55.5321 Q57.1927 56.2732 57.1927 57.5825 Q57.1927 58.9905 56.2045 59.781 Q55.2411 60.5716 53.8577 60.3739 Q55.0682 62.3996 57.2915 63.3136 Q59.5395 64.2277 61.6146 64.2277 Q63.7885 64.2277 65.5424 62.3502 Q67.321 60.4727 67.321 55.8779 Q67.321 51.9748 65.7894 49.7268 Q64.2825 47.4788 61.2934 47.4788 L59.0701 47.4788 Q58.3043 47.4788 58.082 47.4047 Q57.8597 47.3306 57.8597 46.9106 Q57.8597 46.4165 58.6255 46.3177 Q59.3913 46.3177 60.6017 46.1695 Q63.5414 46.0707 65.0977 43.5262 Q66.5058 41.1547 66.5058 37.7704 Q66.5058 34.6824 65.0236 33.3979 Q63.5661 32.0886 61.664 32.0886 Q59.8853 32.0886 57.9338 32.8297 Q55.9822 33.5708 54.92 35.2259 Q58.0573 35.2259 58.0573 37.7704 Q58.0573 38.882 57.3409 39.6231 Q56.6492 40.3395 55.4881 40.3395 Q54.3765 40.3395 53.6354 39.6478 Q52.8943 38.9314 52.8943 37.7209 Q52.8943 34.8307 55.4634 32.8297 Q58.0573 30.8287 61.8616 30.8287 Q65.6165 30.8287 68.3833 32.805 Q71.1748 34.7812 71.1748 37.8198 Q71.1748 40.8089 69.1985 43.2545 Q67.2222 45.7001 64.0849 46.713 Q67.9386 47.4788 70.236 50.0973 Q72.5335 52.6912 72.5335 55.8779 Q72.5335 59.8305 69.4208 62.7455 Q66.3082 65.6357 61.7628 65.6357 Q57.5632 65.6357 54.5494 63.363 Q51.5356 61.0903 51.5356 57.706 Z\" fill=\"#000000\" fill-rule=\"evenodd\" fill-opacity=\"1\" /><path clip-path=\"url(#clip880)\" d=\"M77.2271 56.372 Q77.2271 54.8651 78.0423 54.2969 Q78.8575 53.704 79.7221 53.704 Q80.8832 53.704 81.5502 54.4451 Q82.2419 55.1615 82.2419 56.1744 Q82.2419 57.1872 81.5502 57.9283 Q80.8832 58.6447 79.7221 58.6447 Q79.154 58.6447 78.8575 58.5459 Q79.5245 60.868 81.5502 62.5478 Q83.6006 64.2277 86.2932 64.2277 Q89.6776 64.2277 91.7033 60.9421 Q92.9137 58.8176 92.9137 54.0005 Q92.9137 49.7515 91.9997 47.627 Q90.5916 44.3909 87.7013 44.3909 Q83.6006 44.3909 81.1796 47.9234 Q80.8832 48.3681 80.5373 48.3928 Q80.0433 48.3928 79.9198 48.1211 Q79.8209 47.8246 79.8209 47.0588 L79.8209 32.0886 Q79.8209 30.8781 80.315 30.8781 Q80.5126 30.8781 80.9326 31.0263 Q84.1193 32.4344 87.6519 32.4591 Q91.2833 32.4591 94.5441 30.9769 Q94.7912 30.8287 94.9394 30.8287 Q95.4335 30.8287 95.4582 31.3969 Q95.4582 31.5945 95.0382 32.1874 Q94.643 32.7556 93.7783 33.5214 Q92.9137 34.2625 91.8021 34.9789 Q90.6904 35.6953 89.06 36.1893 Q87.4543 36.6587 85.6756 36.6587 Q83.5512 36.6587 81.3773 35.9917 L81.3773 45.8484 Q83.9958 43.2792 87.8001 43.2792 Q91.8515 43.2792 94.643 46.54 Q97.4344 49.8009 97.4344 54.3463 Q97.4344 59.1141 94.1242 62.3749 Q90.8386 65.6357 86.392 65.6357 Q82.3407 65.6357 79.7715 62.7455 Q77.2271 59.8552 77.2271 56.372 Z\" fill=\"#000000\" fill-rule=\"evenodd\" fill-opacity=\"1\" /><polyline clip-path=\"url(#clip882)\" style=\"stroke:#283b6e; stroke-linecap:butt; stroke-linejoin:round; stroke-width:5.6; stroke-opacity:1; fill:none\" points=\"\n",
       "  155.192,638.564 157.368,503.405 159.544,435.826 161.72,520.3 163.896,587.879 166.072,402.036 168.247,486.51 170.423,503.405 172.599,452.72 174.775,368.246 \n",
       "  176.951,266.877 179.126,266.877 181.302,266.877 183.478,385.141 185.654,418.931 187.83,452.72 190.005,266.877 192.181,233.087 194.357,334.457 196.533,402.036 \n",
       "  198.709,435.826 200.884,503.405 203.06,418.931 205.236,385.141 207.412,199.298 209.588,283.772 211.763,368.246 213.939,435.826 216.115,402.036 218.291,300.667 \n",
       "  220.467,452.72 222.642,300.667 224.818,402.036 226.994,351.351 229.17,334.457 231.346,334.457 233.521,418.931 235.697,300.667 237.873,334.457 240.049,385.141 \n",
       "  242.225,385.141 244.401,317.562 246.576,385.141 248.752,249.982 250.928,351.351 253.104,300.667 255.28,351.351 257.455,368.246 259.631,368.246 261.807,351.351 \n",
       "  263.983,452.72 266.159,385.141 268.334,368.246 270.51,317.562 272.686,520.3 274.862,520.3 277.038,469.615 279.213,486.51 281.389,469.615 283.565,469.615 \n",
       "  285.741,503.405 287.917,402.036 290.092,418.931 292.268,402.036 294.444,402.036 296.62,368.246 298.796,486.51 300.971,368.246 303.147,300.667 305.323,266.877 \n",
       "  307.499,300.667 309.675,334.457 311.85,351.351 314.026,300.667 316.202,233.087 318.378,334.457 320.554,418.931 322.73,537.195 324.905,503.405 327.081,452.72 \n",
       "  329.257,418.931 331.433,402.036 333.609,317.562 335.784,317.562 337.96,368.246 340.136,385.141 342.312,385.141 344.488,368.246 346.663,368.246 348.839,283.772 \n",
       "  351.015,334.457 353.191,402.036 355.367,300.667 357.542,385.141 359.718,452.72 361.894,469.615 364.07,435.826 366.246,385.141 368.421,435.826 370.597,469.615 \n",
       "  372.773,486.51 374.949,435.826 377.125,486.51 379.3,520.3 381.476,418.931 383.652,469.615 385.828,334.457 388.004,249.982 390.179,334.457 392.355,368.246 \n",
       "  394.531,385.141 396.707,418.931 398.883,520.3 401.059,503.405 403.234,368.246 405.41,385.141 407.586,266.877 409.762,351.351 411.938,368.246 414.113,283.772 \n",
       "  416.289,300.667 418.465,317.562 420.641,435.826 422.817,452.72 424.992,486.51 427.168,503.405 429.344,503.405 431.52,469.615 433.696,452.72 435.871,334.457 \n",
       "  438.047,317.562 440.223,266.877 442.399,233.087 444.575,283.772 446.75,199.298 448.926,317.562 451.102,216.193 453.278,266.877 455.454,300.667 457.629,317.562 \n",
       "  459.805,418.931 461.981,452.72 464.157,503.405 466.333,503.405 468.508,452.72 470.684,520.3 472.86,537.195 475.036,418.931 477.212,300.667 479.387,266.877 \n",
       "  481.563,216.193 483.739,266.877 485.915,385.141 488.091,435.826 490.267,554.09 492.442,570.984 494.618,604.774 496.794,537.195 498.97,520.3 501.146,486.51 \n",
       "  503.321,402.036 505.497,469.615 507.673,435.826 509.849,300.667 512.025,368.246 514.2,385.141 516.376,469.615 518.552,385.141 520.728,334.457 522.904,385.141 \n",
       "  525.079,368.246 527.255,452.72 529.431,503.405 531.607,537.195 533.783,570.984 535.958,604.774 538.134,621.669 540.31,486.51 542.486,503.405 544.662,418.931 \n",
       "  546.837,334.457 549.013,385.141 551.189,452.72 553.365,300.667 555.541,249.982 557.716,334.457 559.892,385.141 562.068,368.246 564.244,317.562 566.42,266.877 \n",
       "  568.596,368.246 570.771,402.036 572.947,452.72 575.123,368.246 577.299,402.036 579.475,334.457 581.65,300.667 583.826,402.036 586.002,469.615 588.178,469.615 \n",
       "  590.354,537.195 592.529,351.351 594.705,317.562 596.881,283.772 599.057,300.667 601.233,368.246 603.408,266.877 605.584,283.772 607.76,351.351 609.936,418.931 \n",
       "  612.112,368.246 614.287,418.931 616.463,486.51 618.639,418.931 620.815,503.405 622.991,385.141 625.166,300.667 627.342,283.772 629.518,249.982 631.694,233.087 \n",
       "  633.87,385.141 636.045,435.826 638.221,334.457 640.397,334.457 642.573,402.036 644.749,334.457 646.925,300.667 649.1,300.667 651.276,402.036 653.452,385.141 \n",
       "  655.628,452.72 657.804,402.036 659.979,351.351 662.155,283.772 664.331,283.772 666.507,334.457 668.683,317.562 670.858,334.457 673.034,368.246 675.21,418.931 \n",
       "  677.386,503.405 679.562,537.195 681.737,351.351 683.913,402.036 686.089,216.193 688.265,334.457 690.441,402.036 692.616,486.51 694.792,537.195 696.968,537.195 \n",
       "  699.144,503.405 701.32,520.3 703.495,452.72 705.671,435.826 707.847,435.826 710.023,300.667 712.199,402.036 714.374,385.141 716.55,334.457 718.726,300.667 \n",
       "  720.902,385.141 723.078,317.562 725.253,334.457 727.429,283.772 729.605,300.667 731.781,402.036 733.957,452.72 736.133,469.615 738.308,418.931 740.484,368.246 \n",
       "  742.66,351.351 744.836,402.036 747.012,402.036 749.187,486.51 751.363,554.09 753.539,418.931 755.715,334.457 757.891,452.72 760.066,486.51 762.242,469.615 \n",
       "  764.418,503.405 766.594,503.405 768.77,351.351 770.945,418.931 773.121,368.246 775.297,418.931 777.473,503.405 779.649,469.615 781.824,520.3 784,570.984 \n",
       "  786.176,570.984 788.352,570.984 790.528,621.669 792.703,621.669 794.879,638.564 797.055,520.3 799.231,452.72 801.407,368.246 803.582,452.72 805.758,570.984 \n",
       "  807.934,587.879 810.11,537.195 812.286,469.615 814.462,520.3 816.637,503.405 818.813,418.931 820.989,435.826 823.165,469.615 825.341,520.3 827.516,520.3 \n",
       "  829.692,486.51 831.868,503.405 834.044,317.562 836.22,368.246 838.395,368.246 840.571,452.72 842.747,452.72 844.923,385.141 847.099,368.246 849.274,334.457 \n",
       "  851.45,418.931 853.626,503.405 855.802,503.405 857.978,418.931 860.153,469.615 862.329,435.826 864.505,368.246 866.681,283.772 868.857,334.457 871.032,452.72 \n",
       "  873.208,351.351 875.384,402.036 877.56,503.405 879.736,452.72 881.911,418.931 884.087,266.877 886.263,266.877 888.439,182.403 890.615,233.087 892.791,249.982 \n",
       "  894.966,368.246 897.142,317.562 899.318,385.141 901.494,402.036 903.67,435.826 905.845,418.931 908.021,402.036 910.197,469.615 912.373,469.615 914.549,317.562 \n",
       "  916.724,351.351 918.9,435.826 921.076,537.195 923.252,486.51 925.428,537.195 927.603,587.879 929.779,570.984 931.955,537.195 934.131,554.09 936.307,537.195 \n",
       "  938.482,520.3 940.658,435.826 942.834,368.246 945.01,385.141 947.186,469.615 949.361,537.195 951.537,469.615 953.713,368.246 955.889,283.772 958.065,216.193 \n",
       "  960.24,283.772 962.416,351.351 964.592,317.562 966.768,199.298 968.944,165.508 971.12,216.193 973.295,266.877 975.471,199.298 977.647,283.772 979.823,165.508 \n",
       "  981.999,165.508 984.174,266.877 986.35,351.351 988.526,351.351 990.702,300.667 992.878,300.667 995.053,300.667 997.229,385.141 999.405,469.615 1001.58,368.246 \n",
       "  1003.76,351.351 1005.93,317.562 1008.11,385.141 1010.28,402.036 1012.46,520.3 1014.64,554.09 1016.81,570.984 1018.99,587.879 1021.16,570.984 1023.34,587.879 \n",
       "  1025.51,486.51 1027.69,385.141 1029.87,418.931 1032.04,503.405 1034.22,587.879 1036.39,537.195 1038.57,554.09 1040.75,554.09 1042.92,486.51 1045.1,554.09 \n",
       "  1047.27,604.774 1049.45,537.195 1051.62,469.615 1053.8,351.351 1055.98,402.036 1058.15,402.036 1060.33,452.72 1062.5,385.141 1064.68,452.72 1066.85,435.826 \n",
       "  1069.03,402.036 1071.21,385.141 1073.38,385.141 1075.56,300.667 1077.73,435.826 1079.91,402.036 1082.09,418.931 1084.26,385.141 1086.44,469.615 1088.61,537.195 \n",
       "  1090.79,554.09 1092.96,469.615 1095.14,402.036 1097.32,486.51 1099.49,537.195 1101.67,452.72 1103.84,537.195 1106.02,435.826 1108.2,469.615 1110.37,469.615 \n",
       "  1112.55,452.72 1114.72,435.826 1116.9,385.141 1119.07,368.246 1121.25,317.562 1123.43,317.562 1125.6,385.141 1127.78,249.982 1129.95,300.667 1132.13,351.351 \n",
       "  1134.3,368.246 1136.48,452.72 1138.66,520.3 1140.83,486.51 1143.01,402.036 1145.18,300.667 1147.36,368.246 1149.54,317.562 1151.71,435.826 1153.89,452.72 \n",
       "  1156.06,469.615 1158.24,469.615 1160.41,368.246 1162.59,418.931 1164.77,452.72 1166.94,385.141 1169.12,418.931 1171.29,385.141 1173.47,385.141 1175.65,334.457 \n",
       "  1177.82,368.246 1180,351.351 1182.17,351.351 1184.35,351.351 1186.52,351.351 1188.7,402.036 1190.88,486.51 1193.05,520.3 1195.23,503.405 1197.4,418.931 \n",
       "  1199.58,351.351 1201.75,452.72 1203.93,469.615 1206.11,469.615 1208.28,469.615 1210.46,283.772 1212.63,334.457 1214.81,368.246 1216.99,283.772 1219.16,266.877 \n",
       "  1221.34,249.982 1223.51,334.457 1225.69,266.877 1227.86,300.667 1230.04,351.351 1232.22,300.667 1234.39,317.562 1236.57,435.826 1238.74,368.246 1240.92,402.036 \n",
       "  1243.1,402.036 1245.27,385.141 1247.45,503.405 1249.62,570.984 1251.8,402.036 1253.97,435.826 1256.15,469.615 1258.33,402.036 1260.5,486.51 1262.68,435.826 \n",
       "  1264.85,334.457 1267.03,266.877 1269.2,334.457 1271.38,385.141 1273.56,469.615 1275.73,452.72 1277.91,435.826 1280.08,452.72 1282.26,435.826 1284.44,435.826 \n",
       "  1286.61,486.51 1288.79,418.931 1290.96,334.457 1293.14,266.877 1295.31,300.667 1297.49,165.508 1299.67,418.931 1301.84,537.195 1304.02,452.72 1306.19,368.246 \n",
       "  1308.37,418.931 1310.55,368.246 1312.72,385.141 1314.9,435.826 1317.07,435.826 1319.25,351.351 1321.42,317.562 1323.6,368.246 1325.78,486.51 1327.95,418.931 \n",
       "  1330.13,402.036 1332.3,334.457 1334.48,452.72 1336.65,452.72 1338.83,435.826 1341.01,418.931 1343.18,537.195 1345.36,486.51 1347.53,554.09 1349.71,554.09 \n",
       "  1351.89,385.141 1354.06,402.036 1356.24,351.351 1358.41,469.615 1360.59,520.3 1362.76,435.826 1364.94,402.036 1367.12,418.931 1369.29,402.036 1371.47,385.141 \n",
       "  1373.64,435.826 1375.82,368.246 1378,334.457 1380.17,435.826 1382.35,368.246 1384.52,266.877 1386.7,385.141 1388.87,486.51 1391.05,503.405 1393.23,402.036 \n",
       "  1395.4,283.772 1397.58,283.772 1399.75,418.931 1401.93,486.51 1404.1,418.931 1406.28,469.615 1408.46,368.246 1410.63,435.826 1412.81,469.615 1414.98,351.351 \n",
       "  1417.16,351.351 1419.34,469.615 1421.51,537.195 1423.69,503.405 1425.86,469.615 1428.04,452.72 1430.21,452.72 1432.39,402.036 1434.57,452.72 1436.74,402.036 \n",
       "  1438.92,486.51 1441.09,520.3 1443.27,368.246 1445.45,334.457 1447.62,233.087 1449.8,283.772 1451.97,249.982 1454.15,334.457 1456.32,402.036 1458.5,368.246 \n",
       "  1460.68,283.772 1462.85,300.667 1465.03,418.931 1467.2,469.615 1469.38,368.246 1471.55,469.615 1473.73,503.405 1475.91,537.195 1478.08,537.195 1480.26,503.405 \n",
       "  1482.43,520.3 1484.61,418.931 1486.79,469.615 1488.96,334.457 1491.14,402.036 1493.31,469.615 1495.49,486.51 1497.66,537.195 1499.84,452.72 1502.02,402.036 \n",
       "  1504.19,435.826 1506.37,435.826 1508.54,300.667 1510.72,435.826 1512.9,351.351 1515.07,402.036 1517.25,385.141 1519.42,418.931 1521.6,435.826 1523.77,503.405 \n",
       "  1525.95,469.615 1528.13,385.141 1530.3,418.931 1532.48,385.141 1534.65,351.351 1536.83,385.141 1539,418.931 1541.18,402.036 1543.36,385.141 1545.53,385.141 \n",
       "  1547.71,300.667 1549.88,368.246 1552.06,418.931 1554.24,452.72 1556.41,452.72 1558.59,503.405 1560.76,503.405 1562.94,503.405 1565.11,554.09 1567.29,570.984 \n",
       "  1569.47,520.3 1571.64,520.3 1573.82,469.615 1575.99,486.51 1578.17,486.51 1580.35,503.405 1582.52,402.036 1584.7,418.931 1586.87,385.141 1589.05,452.72 \n",
       "  1591.22,351.351 1593.4,486.51 1595.58,486.51 1597.75,537.195 1599.93,503.405 1602.1,452.72 1604.28,435.826 1606.45,402.036 1608.63,435.826 1610.81,283.772 \n",
       "  1612.98,199.298 1615.16,199.298 1617.33,199.298 1619.51,317.562 1621.69,402.036 1623.86,418.931 1626.04,435.826 1628.21,452.72 1630.39,334.457 1632.56,402.036 \n",
       "  1634.74,300.667 1636.92,283.772 1639.09,249.982 1641.27,368.246 1643.44,435.826 1645.62,520.3 1647.79,554.09 1649.97,537.195 1652.15,469.615 1654.32,452.72 \n",
       "  1656.5,486.51 1658.67,554.09 1660.85,554.09 1663.03,452.72 1665.2,402.036 1667.38,249.982 1669.55,402.036 1671.73,402.036 1673.9,402.036 1676.08,385.141 \n",
       "  1678.26,385.141 1680.43,368.246 1682.61,317.562 1684.78,402.036 1686.96,266.877 1689.14,385.141 1691.31,486.51 1693.49,537.195 1695.66,469.615 1697.84,418.931 \n",
       "  1700.01,402.036 1702.19,368.246 1704.37,351.351 1706.54,351.351 1708.72,435.826 1710.89,503.405 1713.07,469.615 1715.24,435.826 1717.42,469.615 1719.6,435.826 \n",
       "  1721.77,452.72 1723.95,503.405 1726.12,418.931 1728.3,503.405 1730.48,570.984 1732.65,503.405 1734.83,385.141 1737,503.405 1739.18,486.51 1741.35,418.931 \n",
       "  1743.53,435.826 1745.71,283.772 1747.88,266.877 1750.06,334.457 1752.23,266.877 1754.41,418.931 1756.59,435.826 1758.76,283.772 1760.94,249.982 1763.11,317.562 \n",
       "  1765.29,334.457 1767.46,334.457 1769.64,418.931 1771.82,469.615 1773.99,452.72 1776.17,418.931 1778.34,503.405 1780.52,520.3 1782.69,452.72 1784.87,435.826 \n",
       "  1787.05,503.405 1789.22,520.3 1791.4,402.036 1793.57,418.931 1795.75,452.72 1797.93,385.141 1800.1,317.562 1802.28,418.931 1804.45,469.615 1806.63,486.51 \n",
       "  1808.8,351.351 1810.98,418.931 1813.16,435.826 1815.33,435.826 1817.51,385.141 1819.68,435.826 1821.86,418.931 1824.04,503.405 1826.21,537.195 1828.39,435.826 \n",
       "  1830.56,418.931 1832.74,351.351 1834.91,503.405 1837.09,418.931 1839.27,385.141 1841.44,469.615 1843.62,368.246 1845.79,317.562 1847.97,165.508 1850.14,300.667 \n",
       "  1852.32,385.141 1854.5,452.72 1856.67,334.457 1858.85,317.562 1861.02,418.931 1863.2,385.141 1865.38,368.246 1867.55,283.772 1869.73,385.141 1871.9,486.51 \n",
       "  1874.08,503.405 1876.25,520.3 1878.43,435.826 1880.61,351.351 1882.78,469.615 1884.96,469.615 1887.13,469.615 1889.31,385.141 1891.49,385.141 1893.66,351.351 \n",
       "  1895.84,469.615 1898.01,486.51 1900.19,452.72 1902.36,554.09 1904.54,469.615 1906.72,469.615 1908.89,520.3 1911.07,570.984 1913.24,587.879 1915.42,418.931 \n",
       "  1917.59,418.931 1919.77,368.246 1921.95,402.036 1924.12,317.562 1926.3,334.457 1928.47,317.562 1930.65,452.72 1932.83,418.931 1935,469.615 1937.18,503.405 \n",
       "  1939.35,554.09 1941.53,385.141 1943.7,452.72 1945.88,402.036 1948.06,351.351 1950.23,368.246 1952.41,182.403 1954.58,266.877 1956.76,452.72 1958.94,469.615 \n",
       "  1961.11,402.036 1963.29,334.457 1965.46,300.667 1967.64,418.931 1969.81,469.615 1971.99,469.615 1974.17,520.3 1976.34,537.195 1978.52,452.72 1980.69,385.141 \n",
       "  1982.87,334.457 1985.04,537.195 1987.22,503.405 1989.4,554.09 1991.57,503.405 1993.75,317.562 1995.92,368.246 1998.1,334.457 2000.28,283.772 2002.45,435.826 \n",
       "  2004.63,503.405 2006.8,570.984 2008.98,604.774 2011.15,587.879 2013.33,621.669 2015.51,554.09 2017.68,503.405 2019.86,435.826 2022.03,435.826 2024.21,368.246 \n",
       "  2026.39,368.246 2028.56,283.772 2030.74,283.772 2032.91,266.877 2035.09,283.772 2037.26,266.877 2039.44,385.141 2041.62,368.246 2043.79,452.72 2045.97,351.351 \n",
       "  2048.14,435.826 2050.32,520.3 2052.49,503.405 2054.67,503.405 2056.85,452.72 2059.02,537.195 2061.2,503.405 2063.37,486.51 2065.55,334.457 2067.73,368.246 \n",
       "  2069.9,418.931 2072.08,418.931 2074.25,452.72 2076.43,317.562 2078.6,368.246 2080.78,435.826 2082.96,469.615 2085.13,503.405 2087.31,368.246 2089.48,300.667 \n",
       "  2091.66,351.351 2093.84,385.141 2096.01,368.246 2098.19,351.351 2100.36,368.246 2102.54,351.351 2104.71,402.036 2106.89,452.72 2109.07,300.667 2111.24,334.457 \n",
       "  2113.42,351.351 2115.59,503.405 2117.77,537.195 2119.94,537.195 2122.12,587.879 2124.3,452.72 2126.47,368.246 2128.65,334.457 2130.82,368.246 2133,368.246 \n",
       "  2135.18,334.457 2137.35,402.036 2139.53,452.72 2141.7,452.72 2143.88,402.036 2146.05,317.562 2148.23,368.246 2150.41,334.457 2152.58,452.72 2154.76,402.036 \n",
       "  2156.93,418.931 2159.11,418.931 2161.29,317.562 2163.46,334.457 2165.64,385.141 2167.81,266.877 2169.99,266.877 2172.16,300.667 2174.34,283.772 2176.52,317.562 \n",
       "  2178.69,435.826 2180.87,452.72 2183.04,503.405 2185.22,503.405 2187.39,469.615 2189.57,435.826 2191.75,317.562 2193.92,233.087 2196.1,435.826 2198.27,418.931 \n",
       "  2200.45,385.141 2202.63,351.351 2204.8,402.036 2206.98,486.51 2209.15,368.246 2211.33,452.72 2213.5,351.351 2215.68,368.246 2217.86,385.141 2220.03,300.667 \n",
       "  2222.21,402.036 2224.38,418.931 2226.56,402.036 2228.74,402.036 2230.91,418.931 2233.09,317.562 2235.26,418.931 2237.44,503.405 2239.61,537.195 2241.79,469.615 \n",
       "  2243.97,283.772 2246.14,233.087 2248.32,317.562 2250.49,469.615 2252.67,435.826 2254.84,418.931 2257.02,418.931 2259.2,300.667 2261.37,385.141 2263.55,385.141 \n",
       "  2265.72,452.72 2267.9,469.615 2270.08,435.826 2272.25,452.72 2274.43,351.351 2276.6,300.667 2278.78,435.826 2280.95,317.562 2283.13,351.351 2285.31,317.562 \n",
       "  2287.48,385.141 2289.66,368.246 2291.83,368.246 2294.01,402.036 2296.18,368.246 2298.36,351.351 2300.54,385.141 2302.71,435.826 2304.89,334.457 2307.06,334.457 \n",
       "  2309.24,351.351 2311.42,402.036 2313.59,402.036 2315.77,368.246 2317.94,452.72 2320.12,503.405 2322.29,435.826 2324.47,418.931 2326.65,435.826 2328.82,351.351 \n",
       "  2331,351.351 \n",
       "  \"/>\n",
       "<polyline clip-path=\"url(#clip882)\" style=\"stroke:#b7516c; stroke-linecap:butt; stroke-linejoin:round; stroke-width:5.6; stroke-opacity:1; fill:none\" stroke-dasharray=\"22, 14\" points=\"\n",
       "  2115.59,638.564 2115.59,-37.2301 \n",
       "  \"/>\n",
       "<path clip-path=\"url(#clip880)\" d=\"\n",
       "M207.412 170.635 L574.96 170.635 L574.96 66.9548 L207.412 66.9548  Z\n",
       "  \" fill=\"#ffffff\" fill-rule=\"evenodd\" fill-opacity=\"1\"/>\n",
       "<polyline clip-path=\"url(#clip880)\" style=\"stroke:#000000; stroke-linecap:butt; stroke-linejoin:round; stroke-width:4; stroke-opacity:1; fill:none\" points=\"\n",
       "  207.412,170.635 574.96,170.635 574.96,66.9548 207.412,66.9548 207.412,170.635 \n",
       "  \"/>\n",
       "<polyline clip-path=\"url(#clip880)\" style=\"stroke:#283b6e; stroke-linecap:butt; stroke-linejoin:round; stroke-width:4; stroke-opacity:1; fill:none\" points=\"\n",
       "  232.071,118.795 380.026,118.795 \n",
       "  \"/>\n",
       "<path clip-path=\"url(#clip880)\" d=\"M430.684 122.664 Q430.684 122.851 430.473 123.577 Q430.262 124.303 429.747 125.428 Q429.255 126.552 428.576 127.582 Q427.896 128.59 426.772 129.339 Q425.671 130.065 424.407 130.065 Q422.72 130.065 421.596 128.941 Q420.472 127.817 420.472 126.13 Q420.472 125.193 420.963 123.905 Q424.079 115.59 424.079 112.733 Q424.079 109.383 421.479 109.383 Q420.191 109.383 418.973 109.875 Q417.778 110.343 416.958 110.999 Q416.138 111.655 415.389 112.569 Q414.663 113.459 414.288 114.068 Q413.937 114.653 413.656 115.239 L413.047 117.628 Q412.906 118.284 412.227 120.837 L411.173 125.17 Q410.423 128.402 410.259 128.707 Q410.025 129.363 409.51 129.714 Q408.995 130.065 408.479 130.065 Q407.894 130.065 407.496 129.714 Q407.097 129.363 407.097 128.754 Q407.097 128.66 407.168 128.309 Q407.238 127.957 407.355 127.465 Q407.472 126.973 407.519 126.692 L410.306 115.614 Q410.822 113.599 410.939 112.967 Q411.079 112.311 411.079 111.585 Q411.079 109.383 409.58 109.383 Q408.362 109.383 407.566 110.835 Q406.769 112.288 406.09 115.098 Q405.879 115.871 405.739 116.035 Q405.622 116.199 405.27 116.199 Q404.685 116.176 404.685 115.707 Q404.685 115.59 404.872 114.817 Q405.06 114.044 405.411 112.943 Q405.786 111.819 406.137 111.07 Q406.442 110.507 406.605 110.25 Q406.793 109.969 407.238 109.43 Q407.706 108.868 408.315 108.61 Q408.948 108.329 409.721 108.329 Q411.454 108.329 412.719 109.453 Q413.984 110.554 414.148 112.498 Q417.263 108.329 421.619 108.329 Q424.196 108.329 425.671 109.688 Q427.147 111.046 427.147 113.459 Q427.147 114.021 427.03 114.747 Q426.936 115.45 426.702 116.34 Q426.491 117.23 426.304 117.909 Q426.116 118.588 425.742 119.689 Q425.367 120.766 425.203 121.235 Q425.039 121.703 424.641 122.804 Q424.266 123.882 424.219 123.999 Q423.353 126.177 423.353 127.418 Q423.353 128.238 423.61 128.613 Q423.891 128.988 424.5 128.988 Q426.14 128.988 427.358 127.372 Q428.599 125.732 429.396 123.062 Q429.583 122.476 429.677 122.336 Q429.794 122.195 430.122 122.195 Q430.684 122.195 430.684 122.664 Z\" fill=\"#000000\" fill-rule=\"evenodd\" fill-opacity=\"1\" /><path clip-path=\"url(#clip880)\" d=\"M469.183 121.128 Q469.183 121.603 468.97 121.701 Q468.773 121.8 468.117 121.8 Q467.347 121.8 466.871 121.865 Q466.396 121.915 466.101 121.997 Q465.806 122.062 465.625 122.292 Q465.461 122.521 465.396 122.718 Q465.33 122.898 465.215 123.341 L460.756 141.229 Q460.592 141.835 460.592 142.048 Q460.592 142.262 460.723 142.393 Q460.871 142.524 461.231 142.59 Q461.592 142.639 461.871 142.655 Q462.166 142.655 462.772 142.655 Q463.527 142.655 463.641 142.786 Q463.707 142.868 463.707 143.016 Q463.707 143.327 463.576 143.491 Q463.445 143.639 463.33 143.672 Q463.232 143.688 463.068 143.688 Q462.379 143.688 460.969 143.639 Q459.559 143.59 458.87 143.59 L454.706 143.688 Q454.214 143.688 454.214 143.278 Q454.214 142.967 454.345 142.835 Q454.476 142.688 454.624 142.671 Q454.771 142.655 455.148 142.655 Q456.493 142.655 457.067 142.508 Q457.657 142.36 457.821 142.098 Q458.001 141.819 458.198 141.065 L463.002 121.833 L462.969 121.833 L449.41 143.081 L449.312 143.229 Q449.213 143.36 449.18 143.409 Q449.148 143.442 449.049 143.54 Q448.967 143.622 448.869 143.655 Q448.787 143.688 448.672 143.688 Q448.475 143.688 448.361 143.557 Q448.262 143.426 448.229 143.327 Q448.213 143.213 448.164 142.917 L445.278 122.095 L445.245 122.095 L440.671 140.392 Q440.54 140.901 440.54 141.163 Q440.54 141.835 441.015 142.245 Q441.507 142.639 442.819 142.655 Q443.426 142.655 443.426 143.016 Q443.426 143.688 442.819 143.688 Q442.261 143.688 441.097 143.639 Q439.933 143.59 439.359 143.59 Q438.802 143.59 437.671 143.639 Q436.556 143.688 436.015 143.688 Q435.539 143.688 435.539 143.278 Q435.539 142.655 436.146 142.655 Q437.13 142.622 437.802 142.426 Q438.474 142.229 438.851 141.852 Q439.245 141.475 439.425 141.098 Q439.622 140.704 439.769 140.13 L444.032 123.029 Q444.163 122.488 444.163 122.406 Q444.163 122.128 443.999 122.029 Q443.852 121.915 443.426 121.865 Q442.606 121.8 441.983 121.8 Q441.573 121.8 441.409 121.783 Q441.261 121.767 441.13 121.685 Q441.015 121.587 441.015 121.39 Q441.015 121.078 441.147 120.947 Q441.294 120.8 441.458 120.783 Q441.622 120.75 442.016 120.75 L446.623 120.75 Q447.295 120.75 447.443 120.865 Q447.59 120.964 447.656 121.521 L450.279 140.524 L462.543 121.39 Q462.854 120.914 463.018 120.832 Q463.182 120.75 463.838 120.75 L468.281 120.75 Q468.642 120.75 468.79 120.767 Q468.937 120.783 469.052 120.865 Q469.183 120.947 469.183 121.128 Z\" fill=\"#000000\" fill-rule=\"evenodd\" fill-opacity=\"1\" /><path clip-path=\"url(#clip880)\" d=\"M473.975 117.534 Q473.975 109.43 476.996 102.895 Q478.285 100.155 480.088 97.8593 Q481.892 95.5639 483.086 94.5568 Q484.281 93.5496 484.609 93.5496 Q485.077 93.5496 485.101 94.018 Q485.101 94.2523 484.468 94.8378 Q476.739 102.708 476.762 117.534 Q476.762 132.407 484.281 139.973 Q485.101 140.793 485.101 141.05 Q485.101 141.519 484.609 141.519 Q484.281 141.519 483.133 140.558 Q481.985 139.598 480.205 137.396 Q478.425 135.195 477.137 132.501 Q473.975 125.966 473.975 117.534 Z\" fill=\"#000000\" fill-rule=\"evenodd\" fill-opacity=\"1\" /><path clip-path=\"url(#clip880)\" d=\"M503.475 109.383 Q503.475 110.039 503.171 110.203 Q502.866 110.343 502.023 110.343 L497.526 110.343 L493.966 124.491 Q493.685 125.732 493.685 126.786 Q493.685 127.957 494.036 128.472 Q494.411 128.988 495.184 128.988 Q496.706 128.988 498.346 127.606 Q500.009 126.224 501.414 122.851 Q501.601 122.406 501.695 122.312 Q501.812 122.195 502.117 122.195 Q502.702 122.195 502.702 122.664 Q502.702 122.828 502.374 123.577 Q502.07 124.327 501.39 125.428 Q500.735 126.528 499.868 127.559 Q499.025 128.59 497.737 129.339 Q496.448 130.065 495.066 130.065 Q493.122 130.065 491.881 128.824 Q490.663 127.582 490.663 125.638 Q490.663 125.006 491.155 122.992 Q491.647 120.954 494.317 110.343 L490.077 110.343 Q489.492 110.343 489.258 110.32 Q489.047 110.297 488.883 110.18 Q488.742 110.039 488.742 109.758 Q488.742 109.313 488.93 109.126 Q489.117 108.915 489.351 108.891 Q489.609 108.844 490.195 108.844 L494.692 108.844 L496.565 101.232 Q496.753 100.483 497.221 100.061 Q497.713 99.616 497.994 99.5692 Q498.275 99.4989 498.486 99.4989 Q499.119 99.4989 499.493 99.8502 Q499.868 100.178 499.868 100.787 Q499.868 101.115 497.901 108.844 L502.117 108.844 Q502.655 108.844 502.866 108.868 Q503.1 108.891 503.288 109.008 Q503.475 109.126 503.475 109.383 Z\" fill=\"#000000\" fill-rule=\"evenodd\" fill-opacity=\"1\" /><path clip-path=\"url(#clip880)\" d=\"M507.226 141.05 Q507.226 140.816 507.835 140.231 Q515.565 132.361 515.565 117.534 Q515.565 102.661 508.14 95.1423 Q507.226 94.2757 507.226 94.018 Q507.226 93.5496 507.695 93.5496 Q508.023 93.5496 509.17 94.5099 Q510.341 95.4702 512.098 97.6719 Q513.878 99.8737 515.19 102.567 Q518.352 109.102 518.352 117.534 Q518.352 125.638 515.33 132.173 Q514.042 134.914 512.239 137.209 Q510.435 139.504 509.241 140.512 Q508.046 141.519 507.695 141.519 Q507.226 141.519 507.226 141.05 Z\" fill=\"#000000\" fill-rule=\"evenodd\" fill-opacity=\"1\" /></svg>\n"
      ]
     },
     "execution_count": 9,
     "metadata": {},
     "output_type": "execute_result"
    }
   ],
   "source": [
    "time_pts = collect(0:1.0:1000.0)\n",
    "plot(time_pts,vcat(all_lin_data[2,:,:]...), label = L\"$n_M(t)$\", legend = :topleft, \n",
    "    bottom_margin = 3PlotMeasures.mm, lc = chosen_pal[3], xlim = (-10,1010), ylim = (0,35))\n",
    "plot!(grid = false, minorgrid = false, size = (600,200))\n",
    "plot!([901,901],[0,40], style = :dash, label = :none, lc = chosen_pal[7])\n",
    "xlabel!(L\"t\")"
   ]
  },
  {
   "cell_type": "markdown",
   "id": "a553d9c6",
   "metadata": {},
   "source": [
    "The data to the right of the dotted red line above is the lineage data we use in this tutorial. For the rest of this tutorial we will explicitly do inference with the lineage data (although very easily one could use the population data). "
   ]
  },
  {
   "cell_type": "markdown",
   "id": "7dc475ee",
   "metadata": {},
   "source": [
    "## Numerical analytics using the FSP for fast evaluation "
   ]
  },
  {
   "cell_type": "markdown",
   "id": "930f768d",
   "metadata": {},
   "source": [
    "When using Julia it can be quite tricky to use exact solutions for probability distributions that have a complicated functional form. For example, the solution to the telegraph model comes in the form of a hypergeometric function (see SI protocol of [this](https://journals.plos.org/plosbiology/article?id=10.1371/journal.pbio.0040309#s5)). It can thus be easier to utilise compuational methods to solve a truncated state space version of our system. One can then either refer to the orignal FSP papers [here](https://aip.scitation.org/doi/full/10.1063/1.2145882) and [here](https://aip.scitation.org/doi/full/10.1063/1.5006484) or else look at the associated section in the following [PhD thesis](https://github.com/jamesholehouse/jamesholehouse.github.io/blob/gh-pages/assets/papers/PhD_Thesis-2.pdf). In this notebook we utilise the steady state FSP as shown in the PhD thesis.\n",
    "\n",
    "In short, the FSP provides a way to evaluate the chemical master equation under a finite state approximation of an infinite state space problem. In our system, $M$ is an unbounded species, meaning that there is a finite probability $P(n_M)$ of having any value of $n_M\\in [0,1,2,\\dots,\\infty)$. For our example above, we use a state space truncation of $N=100$, since $P(N)$ is then a very small probability for the parameters in `pars`.\n",
    "\n",
    "In this tutorial we have manually coded up an FSP for clarity, however, one can easily do this for any reaction scheme using methods from [`FiniteStateProjection.jl`](https://github.com/kaandocal/FiniteStateProjection.jl) (see [here](https://github.com/jamesholehouse/SSAandFSPexample/blob/main/Julia_SSA_FSP_example.ipynb) for an example applied to genetic autoregulation).\n",
    "\n",
    "First, let's import the FSP package from our filepath."
   ]
  },
  {
   "cell_type": "code",
   "execution_count": 16,
   "id": "534f4a0e",
   "metadata": {},
   "outputs": [
    {
     "name": "stderr",
     "output_type": "stream",
     "text": [
      "WARNING: replacing module FSPTM.\n",
      "WARNING: using FSPTM.FSP in module Main conflicts with an existing identifier.\n"
     ]
    }
   ],
   "source": [
    "file_path2 = join([path_to_folder,\"/FSP-TM.jl\"]);\n",
    "include(file_path2);\n",
    "using .FSPTM"
   ]
  },
  {
   "cell_type": "markdown",
   "id": "0409ea9c",
   "metadata": {},
   "source": [
    "One can then use the FSP to output a probability distribution of interest."
   ]
  },
  {
   "cell_type": "code",
   "execution_count": 28,
   "id": "80e05802",
   "metadata": {},
   "outputs": [
    {
     "data": {
      "image/svg+xml": [
       "<?xml version=\"1.0\" encoding=\"utf-8\"?>\n",
       "<svg xmlns=\"http://www.w3.org/2000/svg\" xmlns:xlink=\"http://www.w3.org/1999/xlink\" width=\"400\" height=\"200\" viewBox=\"0 0 1600 800\">\n",
       "<defs>\n",
       "  <clipPath id=\"clip400\">\n",
       "    <rect x=\"0\" y=\"0\" width=\"1600\" height=\"800\"/>\n",
       "  </clipPath>\n",
       "</defs>\n",
       "<path clip-path=\"url(#clip400)\" d=\"\n",
       "M0 800 L1600 800 L1600 0 L0 0  Z\n",
       "  \" fill=\"#ffffff\" fill-rule=\"evenodd\" fill-opacity=\"1\"/>\n",
       "<defs>\n",
       "  <clipPath id=\"clip401\">\n",
       "    <rect x=\"320\" y=\"0\" width=\"1121\" height=\"800\"/>\n",
       "  </clipPath>\n",
       "</defs>\n",
       "<defs>\n",
       "  <clipPath id=\"clip402\">\n",
       "    <rect x=\"165\" y=\"47\" width=\"1388\" height=\"602\"/>\n",
       "  </clipPath>\n",
       "</defs>\n",
       "<path clip-path=\"url(#clip400)\" d=\"\n",
       "M165.503 648.46 L1552.76 648.46 L1552.76 47.2441 L165.503 47.2441  Z\n",
       "  \" fill=\"#ffffff\" fill-rule=\"evenodd\" fill-opacity=\"1\"/>\n",
       "<polyline clip-path=\"url(#clip400)\" style=\"stroke:#000000; stroke-linecap:butt; stroke-linejoin:round; stroke-width:4; stroke-opacity:1; fill:none\" points=\"\n",
       "  165.503,648.46 1552.76,648.46 \n",
       "  \"/>\n",
       "<polyline clip-path=\"url(#clip400)\" style=\"stroke:#000000; stroke-linecap:butt; stroke-linejoin:round; stroke-width:4; stroke-opacity:1; fill:none\" points=\"\n",
       "  165.503,47.2441 1552.76,47.2441 \n",
       "  \"/>\n",
       "<polyline clip-path=\"url(#clip400)\" style=\"stroke:#000000; stroke-linecap:butt; stroke-linejoin:round; stroke-width:4; stroke-opacity:1; fill:none\" points=\"\n",
       "  204.765,648.46 204.765,629.562 \n",
       "  \"/>\n",
       "<polyline clip-path=\"url(#clip400)\" style=\"stroke:#000000; stroke-linecap:butt; stroke-linejoin:round; stroke-width:4; stroke-opacity:1; fill:none\" points=\"\n",
       "  531.947,648.46 531.947,629.562 \n",
       "  \"/>\n",
       "<polyline clip-path=\"url(#clip400)\" style=\"stroke:#000000; stroke-linecap:butt; stroke-linejoin:round; stroke-width:4; stroke-opacity:1; fill:none\" points=\"\n",
       "  859.13,648.46 859.13,629.562 \n",
       "  \"/>\n",
       "<polyline clip-path=\"url(#clip400)\" style=\"stroke:#000000; stroke-linecap:butt; stroke-linejoin:round; stroke-width:4; stroke-opacity:1; fill:none\" points=\"\n",
       "  1186.31,648.46 1186.31,629.562 \n",
       "  \"/>\n",
       "<polyline clip-path=\"url(#clip400)\" style=\"stroke:#000000; stroke-linecap:butt; stroke-linejoin:round; stroke-width:4; stroke-opacity:1; fill:none\" points=\"\n",
       "  1513.49,648.46 1513.49,629.562 \n",
       "  \"/>\n",
       "<polyline clip-path=\"url(#clip400)\" style=\"stroke:#000000; stroke-linecap:butt; stroke-linejoin:round; stroke-width:4; stroke-opacity:1; fill:none\" points=\"\n",
       "  270.202,648.46 270.202,639.011 \n",
       "  \"/>\n",
       "<polyline clip-path=\"url(#clip400)\" style=\"stroke:#000000; stroke-linecap:butt; stroke-linejoin:round; stroke-width:4; stroke-opacity:1; fill:none\" points=\"\n",
       "  335.638,648.46 335.638,639.011 \n",
       "  \"/>\n",
       "<polyline clip-path=\"url(#clip400)\" style=\"stroke:#000000; stroke-linecap:butt; stroke-linejoin:round; stroke-width:4; stroke-opacity:1; fill:none\" points=\"\n",
       "  401.074,648.46 401.074,639.011 \n",
       "  \"/>\n",
       "<polyline clip-path=\"url(#clip400)\" style=\"stroke:#000000; stroke-linecap:butt; stroke-linejoin:round; stroke-width:4; stroke-opacity:1; fill:none\" points=\"\n",
       "  466.511,648.46 466.511,639.011 \n",
       "  \"/>\n",
       "<polyline clip-path=\"url(#clip400)\" style=\"stroke:#000000; stroke-linecap:butt; stroke-linejoin:round; stroke-width:4; stroke-opacity:1; fill:none\" points=\"\n",
       "  597.384,648.46 597.384,639.011 \n",
       "  \"/>\n",
       "<polyline clip-path=\"url(#clip400)\" style=\"stroke:#000000; stroke-linecap:butt; stroke-linejoin:round; stroke-width:4; stroke-opacity:1; fill:none\" points=\"\n",
       "  662.82,648.46 662.82,639.011 \n",
       "  \"/>\n",
       "<polyline clip-path=\"url(#clip400)\" style=\"stroke:#000000; stroke-linecap:butt; stroke-linejoin:round; stroke-width:4; stroke-opacity:1; fill:none\" points=\"\n",
       "  728.257,648.46 728.257,639.011 \n",
       "  \"/>\n",
       "<polyline clip-path=\"url(#clip400)\" style=\"stroke:#000000; stroke-linecap:butt; stroke-linejoin:round; stroke-width:4; stroke-opacity:1; fill:none\" points=\"\n",
       "  793.693,648.46 793.693,639.011 \n",
       "  \"/>\n",
       "<polyline clip-path=\"url(#clip400)\" style=\"stroke:#000000; stroke-linecap:butt; stroke-linejoin:round; stroke-width:4; stroke-opacity:1; fill:none\" points=\"\n",
       "  924.566,648.46 924.566,639.011 \n",
       "  \"/>\n",
       "<polyline clip-path=\"url(#clip400)\" style=\"stroke:#000000; stroke-linecap:butt; stroke-linejoin:round; stroke-width:4; stroke-opacity:1; fill:none\" points=\"\n",
       "  990.002,648.46 990.002,639.011 \n",
       "  \"/>\n",
       "<polyline clip-path=\"url(#clip400)\" style=\"stroke:#000000; stroke-linecap:butt; stroke-linejoin:round; stroke-width:4; stroke-opacity:1; fill:none\" points=\"\n",
       "  1055.44,648.46 1055.44,639.011 \n",
       "  \"/>\n",
       "<polyline clip-path=\"url(#clip400)\" style=\"stroke:#000000; stroke-linecap:butt; stroke-linejoin:round; stroke-width:4; stroke-opacity:1; fill:none\" points=\"\n",
       "  1120.88,648.46 1120.88,639.011 \n",
       "  \"/>\n",
       "<polyline clip-path=\"url(#clip400)\" style=\"stroke:#000000; stroke-linecap:butt; stroke-linejoin:round; stroke-width:4; stroke-opacity:1; fill:none\" points=\"\n",
       "  1251.75,648.46 1251.75,639.011 \n",
       "  \"/>\n",
       "<polyline clip-path=\"url(#clip400)\" style=\"stroke:#000000; stroke-linecap:butt; stroke-linejoin:round; stroke-width:4; stroke-opacity:1; fill:none\" points=\"\n",
       "  1317.18,648.46 1317.18,639.011 \n",
       "  \"/>\n",
       "<polyline clip-path=\"url(#clip400)\" style=\"stroke:#000000; stroke-linecap:butt; stroke-linejoin:round; stroke-width:4; stroke-opacity:1; fill:none\" points=\"\n",
       "  1382.62,648.46 1382.62,639.011 \n",
       "  \"/>\n",
       "<polyline clip-path=\"url(#clip400)\" style=\"stroke:#000000; stroke-linecap:butt; stroke-linejoin:round; stroke-width:4; stroke-opacity:1; fill:none\" points=\"\n",
       "  1448.06,648.46 1448.06,639.011 \n",
       "  \"/>\n",
       "<path clip-path=\"url(#clip400)\" d=\"M194.118 688.279 Q194.118 680.843 195.995 676.792 Q198.614 670.764 204.79 670.764 Q206.099 670.764 207.458 671.135 Q208.841 671.481 210.57 672.84 Q212.324 674.198 213.387 676.422 Q215.412 680.72 215.412 688.279 Q215.412 695.665 213.535 699.692 Q210.793 705.571 204.74 705.571 Q202.468 705.571 200.146 704.41 Q197.848 703.249 196.391 700.458 Q194.118 696.283 194.118 688.279 M198.318 687.662 Q198.318 695.295 198.861 698.333 Q199.479 701.619 201.158 703.052 Q202.863 704.46 204.74 704.46 Q206.766 704.46 208.446 702.953 Q210.15 701.421 210.669 698.136 Q211.237 694.9 211.213 687.662 Q211.213 680.621 210.719 677.805 Q210.052 674.519 208.273 673.21 Q206.519 671.876 204.74 671.876 Q204.073 671.876 203.357 672.074 Q202.665 672.271 201.653 672.84 Q200.64 673.408 199.849 674.816 Q199.083 676.224 198.713 678.348 Q198.318 681.09 198.318 687.662 Z\" fill=\"#000000\" fill-rule=\"evenodd\" fill-opacity=\"1\" /><path clip-path=\"url(#clip400)\" d=\"M509.196 704.46 Q509.196 703.546 509.27 703.274 Q509.369 703.002 509.764 702.582 L519.472 691.762 Q524.783 685.784 524.783 680.572 Q524.783 677.187 523.005 674.766 Q521.251 672.345 518.015 672.345 Q515.791 672.345 513.914 673.704 Q512.036 675.063 511.172 677.484 Q511.32 677.434 511.839 677.434 Q513.099 677.434 513.79 678.225 Q514.507 679.015 514.507 680.078 Q514.507 681.436 513.617 682.103 Q512.753 682.746 511.888 682.746 Q511.542 682.746 511.073 682.671 Q510.628 682.597 509.912 681.906 Q509.196 681.189 509.196 679.929 Q509.196 676.397 511.864 673.581 Q514.556 670.764 518.657 670.764 Q523.301 670.764 526.34 673.531 Q529.403 676.273 529.403 680.572 Q529.403 682.079 528.934 683.462 Q528.489 684.821 527.871 685.883 Q527.278 686.945 525.648 688.65 Q524.018 690.354 522.708 691.565 Q521.399 692.775 518.459 695.344 L513.099 700.557 L522.214 700.557 Q526.661 700.557 527.007 700.161 Q527.501 699.445 528.118 695.665 L529.403 695.665 L527.97 704.46 L509.196 704.46 Z\" fill=\"#000000\" fill-rule=\"evenodd\" fill-opacity=\"1\" /><path clip-path=\"url(#clip400)\" d=\"M534.492 696.308 Q534.492 694.801 535.307 694.233 Q536.122 693.64 536.987 693.64 Q538.148 693.64 538.815 694.381 Q539.507 695.097 539.507 696.11 Q539.507 697.123 538.815 697.864 Q538.148 698.58 536.987 698.58 Q536.419 698.58 536.122 698.482 Q536.789 700.804 538.815 702.484 Q540.865 704.163 543.558 704.163 Q546.942 704.163 548.968 700.878 Q550.178 698.753 550.178 693.936 Q550.178 689.687 549.264 687.563 Q547.856 684.327 544.966 684.327 Q540.865 684.327 538.444 687.859 Q538.148 688.304 537.802 688.329 Q537.308 688.329 537.184 688.057 Q537.086 687.76 537.086 686.995 L537.086 672.024 Q537.086 670.814 537.58 670.814 Q537.777 670.814 538.197 670.962 Q541.384 672.37 544.917 672.395 Q548.548 672.395 551.809 670.913 Q552.056 670.764 552.204 670.764 Q552.698 670.764 552.723 671.333 Q552.723 671.53 552.303 672.123 Q551.908 672.691 551.043 673.457 Q550.178 674.198 549.067 674.915 Q547.955 675.631 546.325 676.125 Q544.719 676.594 542.94 676.594 Q540.816 676.594 538.642 675.927 L538.642 685.784 Q541.261 683.215 545.065 683.215 Q549.116 683.215 551.908 686.476 Q554.699 689.737 554.699 694.282 Q554.699 699.05 551.389 702.311 Q548.103 705.571 543.657 705.571 Q539.605 705.571 537.036 702.681 Q534.492 699.791 534.492 696.308 Z\" fill=\"#000000\" fill-rule=\"evenodd\" fill-opacity=\"1\" /><path clip-path=\"url(#clip400)\" d=\"M836.106 696.308 Q836.106 694.801 836.921 694.233 Q837.736 693.64 838.601 693.64 Q839.762 693.64 840.429 694.381 Q841.121 695.097 841.121 696.11 Q841.121 697.123 840.429 697.864 Q839.762 698.58 838.601 698.58 Q838.033 698.58 837.736 698.482 Q838.403 700.804 840.429 702.484 Q842.48 704.163 845.172 704.163 Q848.557 704.163 850.582 700.878 Q851.793 698.753 851.793 693.936 Q851.793 689.687 850.879 687.563 Q849.471 684.327 846.58 684.327 Q842.48 684.327 840.059 687.859 Q839.762 688.304 839.416 688.329 Q838.922 688.329 838.799 688.057 Q838.7 687.76 838.7 686.995 L838.7 672.024 Q838.7 670.814 839.194 670.814 Q839.392 670.814 839.812 670.962 Q842.998 672.37 846.531 672.395 Q850.162 672.395 853.423 670.913 Q853.67 670.764 853.818 670.764 Q854.312 670.764 854.337 671.333 Q854.337 671.53 853.917 672.123 Q853.522 672.691 852.657 673.457 Q851.793 674.198 850.681 674.915 Q849.569 675.631 847.939 676.125 Q846.333 676.594 844.555 676.594 Q842.43 676.594 840.256 675.927 L840.256 685.784 Q842.875 683.215 846.679 683.215 Q850.73 683.215 853.522 686.476 Q856.313 689.737 856.313 694.282 Q856.313 699.05 853.003 702.311 Q849.718 705.571 845.271 705.571 Q841.22 705.571 838.651 702.681 Q836.106 699.791 836.106 696.308 Z\" fill=\"#000000\" fill-rule=\"evenodd\" fill-opacity=\"1\" /><path clip-path=\"url(#clip400)\" d=\"M860.859 688.279 Q860.859 680.843 862.736 676.792 Q865.355 670.764 871.531 670.764 Q872.84 670.764 874.199 671.135 Q875.582 671.481 877.311 672.84 Q879.065 674.198 880.127 676.422 Q882.153 680.72 882.153 688.279 Q882.153 695.665 880.276 699.692 Q877.534 705.571 871.481 705.571 Q869.209 705.571 866.886 704.41 Q864.589 703.249 863.132 700.458 Q860.859 696.283 860.859 688.279 M865.058 687.662 Q865.058 695.295 865.602 698.333 Q866.219 701.619 867.899 703.052 Q869.604 704.46 871.481 704.46 Q873.507 704.46 875.187 702.953 Q876.891 701.421 877.41 698.136 Q877.978 694.9 877.954 687.662 Q877.954 680.621 877.459 677.805 Q876.793 674.519 875.014 673.21 Q873.26 671.876 871.481 671.876 Q870.814 671.876 870.098 672.074 Q869.406 672.271 868.393 672.84 Q867.381 673.408 866.59 674.816 Q865.824 676.224 865.454 678.348 Q865.058 681.09 865.058 687.662 Z\" fill=\"#000000\" fill-rule=\"evenodd\" fill-opacity=\"1\" /><path clip-path=\"url(#clip400)\" d=\"M1163.72 680.671 L1165.38 670.27 L1166.64 670.27 Q1166.78 670.888 1167.03 671.16 Q1167.3 671.431 1168.74 671.654 Q1170.19 671.876 1173.13 671.876 L1185.41 671.876 Q1185.41 673.037 1184.97 673.655 L1178.12 683.264 Q1175.95 686.303 1174.99 691.911 Q1174.42 695.665 1174.44 700.211 L1174.44 702.78 Q1174.44 705.571 1172.1 705.571 Q1169.77 705.571 1169.77 702.78 Q1169.77 693.121 1176 683.758 Q1176.67 682.795 1179.11 679.361 Q1181.58 675.927 1181.68 675.779 L1171.21 675.779 Q1166.61 675.779 1166.24 676.076 Q1165.75 676.52 1164.98 680.671 L1163.72 680.671 Z\" fill=\"#000000\" fill-rule=\"evenodd\" fill-opacity=\"1\" /><path clip-path=\"url(#clip400)\" d=\"M1188.7 696.308 Q1188.7 694.801 1189.51 694.233 Q1190.33 693.64 1191.19 693.64 Q1192.35 693.64 1193.02 694.381 Q1193.71 695.097 1193.71 696.11 Q1193.71 697.123 1193.02 697.864 Q1192.35 698.58 1191.19 698.58 Q1190.62 698.58 1190.33 698.482 Q1190.99 700.804 1193.02 702.484 Q1195.07 704.163 1197.76 704.163 Q1201.15 704.163 1203.17 700.878 Q1204.38 698.753 1204.38 693.936 Q1204.38 689.687 1203.47 687.563 Q1202.06 684.327 1199.17 684.327 Q1195.07 684.327 1192.65 687.859 Q1192.35 688.304 1192.01 688.329 Q1191.51 688.329 1191.39 688.057 Q1191.29 687.76 1191.29 686.995 L1191.29 672.024 Q1191.29 670.814 1191.78 670.814 Q1191.98 670.814 1192.4 670.962 Q1195.59 672.37 1199.12 672.395 Q1202.75 672.395 1206.01 670.913 Q1206.26 670.764 1206.41 670.764 Q1206.9 670.764 1206.93 671.333 Q1206.93 671.53 1206.51 672.123 Q1206.11 672.691 1205.25 673.457 Q1204.38 674.198 1203.27 674.915 Q1202.16 675.631 1200.53 676.125 Q1198.92 676.594 1197.14 676.594 Q1195.02 676.594 1192.85 675.927 L1192.85 685.784 Q1195.46 683.215 1199.27 683.215 Q1203.32 683.215 1206.11 686.476 Q1208.9 689.737 1208.9 694.282 Q1208.9 699.05 1205.59 702.311 Q1202.31 705.571 1197.86 705.571 Q1193.81 705.571 1191.24 702.681 Q1188.7 699.791 1188.7 696.308 Z\" fill=\"#000000\" fill-rule=\"evenodd\" fill-opacity=\"1\" /><path clip-path=\"url(#clip400)\" d=\"M1478.81 675.582 L1478.81 674.001 Q1484.89 674.001 1488.02 670.764 Q1488.89 670.764 1489.04 670.962 Q1489.19 671.16 1489.19 672.074 L1489.19 700.458 Q1489.19 701.965 1489.93 702.434 Q1490.67 702.904 1493.9 702.904 L1495.51 702.904 L1495.51 704.46 Q1493.73 704.312 1487.31 704.312 Q1480.89 704.312 1479.13 704.46 L1479.13 702.904 L1480.74 702.904 Q1483.92 702.904 1484.69 702.459 Q1485.46 701.99 1485.46 700.458 L1485.46 674.248 Q1482.81 675.582 1478.81 675.582 Z\" fill=\"#000000\" fill-rule=\"evenodd\" fill-opacity=\"1\" /><path clip-path=\"url(#clip400)\" d=\"M1501.59 688.279 Q1501.59 680.843 1503.46 676.792 Q1506.08 670.764 1512.26 670.764 Q1513.57 670.764 1514.93 671.135 Q1516.31 671.481 1518.04 672.84 Q1519.79 674.198 1520.86 676.422 Q1522.88 680.72 1522.88 688.279 Q1522.88 695.665 1521 699.692 Q1518.26 705.571 1512.21 705.571 Q1509.94 705.571 1507.61 704.41 Q1505.32 703.249 1503.86 700.458 Q1501.59 696.283 1501.59 688.279 M1505.79 687.662 Q1505.79 695.295 1506.33 698.333 Q1506.95 701.619 1508.63 703.052 Q1510.33 704.46 1512.21 704.46 Q1514.24 704.46 1515.91 702.953 Q1517.62 701.421 1518.14 698.136 Q1518.71 694.9 1518.68 687.662 Q1518.68 680.621 1518.19 677.805 Q1517.52 674.519 1515.74 673.21 Q1513.99 671.876 1512.21 671.876 Q1511.54 671.876 1510.83 672.074 Q1510.13 672.271 1509.12 672.84 Q1508.11 673.408 1507.32 674.816 Q1506.55 676.224 1506.18 678.348 Q1505.79 681.09 1505.79 687.662 Z\" fill=\"#000000\" fill-rule=\"evenodd\" fill-opacity=\"1\" /><path clip-path=\"url(#clip400)\" d=\"M1526.88 688.279 Q1526.88 680.843 1528.76 676.792 Q1531.38 670.764 1537.56 670.764 Q1538.86 670.764 1540.22 671.135 Q1541.61 671.481 1543.34 672.84 Q1545.09 674.198 1546.15 676.422 Q1548.18 680.72 1548.18 688.279 Q1548.18 695.665 1546.3 699.692 Q1543.56 705.571 1537.51 705.571 Q1535.23 705.571 1532.91 704.41 Q1530.61 703.249 1529.16 700.458 Q1526.88 696.283 1526.88 688.279 M1531.08 687.662 Q1531.08 695.295 1531.63 698.333 Q1532.24 701.619 1533.92 703.052 Q1535.63 704.46 1537.51 704.46 Q1539.53 704.46 1541.21 702.953 Q1542.92 701.421 1543.43 698.136 Q1544 694.9 1543.98 687.662 Q1543.98 680.621 1543.48 677.805 Q1542.82 674.519 1541.04 673.21 Q1539.28 671.876 1537.51 671.876 Q1536.84 671.876 1536.12 672.074 Q1535.43 672.271 1534.42 672.84 Q1533.4 673.408 1532.61 674.816 Q1531.85 676.224 1531.48 678.348 Q1531.08 681.09 1531.08 687.662 Z\" fill=\"#000000\" fill-rule=\"evenodd\" fill-opacity=\"1\" /><path clip-path=\"url(#clip400)\" d=\"M846.152 750.231 Q846.152 750.512 845.836 751.601 Q845.52 752.691 844.747 754.377 Q844.009 756.063 842.99 757.609 Q841.971 759.12 840.285 760.244 Q838.634 761.333 836.736 761.333 Q834.207 761.333 832.52 759.647 Q830.834 757.961 830.834 755.431 Q830.834 754.026 831.572 752.093 Q836.244 739.621 836.244 735.335 Q836.244 730.31 832.345 730.31 Q830.412 730.31 828.585 731.048 Q826.793 731.751 825.564 732.735 Q824.334 733.718 823.21 735.089 Q822.121 736.424 821.559 737.337 Q821.032 738.216 820.61 739.094 L819.696 742.678 Q819.486 743.661 818.467 747.491 L816.886 753.991 Q815.762 758.839 815.516 759.296 Q815.164 760.279 814.391 760.806 Q813.618 761.333 812.845 761.333 Q811.967 761.333 811.37 760.806 Q810.773 760.279 810.773 759.366 Q810.773 759.225 810.878 758.698 Q810.983 758.171 811.159 757.434 Q811.335 756.696 811.405 756.274 L815.586 739.656 Q816.359 736.635 816.534 735.686 Q816.745 734.702 816.745 733.613 Q816.745 730.31 814.497 730.31 Q812.67 730.31 811.475 732.489 Q810.281 734.667 809.262 738.883 Q808.946 740.042 808.735 740.288 Q808.559 740.534 808.032 740.534 Q807.154 740.499 807.154 739.797 Q807.154 739.621 807.435 738.461 Q807.716 737.302 808.243 735.651 Q808.805 733.964 809.332 732.84 Q809.789 731.997 810.035 731.61 Q810.316 731.189 810.983 730.381 Q811.686 729.538 812.599 729.151 Q813.548 728.729 814.708 728.729 Q817.307 728.729 819.205 730.416 Q821.102 732.067 821.348 734.983 Q826.021 728.729 832.555 728.729 Q836.42 728.729 838.634 730.767 Q840.847 732.805 840.847 736.424 Q840.847 737.267 840.671 738.356 Q840.531 739.41 840.179 740.745 Q839.863 742.08 839.582 743.099 Q839.301 744.118 838.739 745.769 Q838.177 747.385 837.931 748.088 Q837.685 748.791 837.088 750.442 Q836.526 752.058 836.455 752.234 Q835.155 755.501 835.155 757.363 Q835.155 758.593 835.542 759.155 Q835.963 759.717 836.877 759.717 Q839.336 759.717 841.163 757.293 Q843.025 754.834 844.22 750.829 Q844.501 749.95 844.641 749.739 Q844.817 749.529 845.309 749.529 Q846.152 749.529 846.152 750.231 Z\" fill=\"#000000\" fill-rule=\"evenodd\" fill-opacity=\"1\" /><path clip-path=\"url(#clip400)\" d=\"M903.914 747.931 Q903.914 748.644 903.595 748.792 Q903.3 748.939 902.316 748.939 Q901.16 748.939 900.447 749.038 Q899.733 749.112 899.291 749.235 Q898.848 749.333 898.578 749.677 Q898.332 750.022 898.233 750.317 Q898.135 750.587 897.963 751.251 L891.273 778.083 Q891.027 778.993 891.027 779.313 Q891.027 779.632 891.224 779.829 Q891.445 780.026 891.986 780.124 Q892.528 780.198 892.946 780.222 Q893.388 780.222 894.298 780.222 Q895.43 780.222 895.602 780.419 Q895.7 780.542 895.7 780.764 Q895.7 781.231 895.503 781.477 Q895.307 781.698 895.134 781.747 Q894.987 781.772 894.741 781.772 Q893.708 781.772 891.593 781.698 Q889.478 781.624 888.445 781.624 L882.198 781.772 Q881.46 781.772 881.46 781.157 Q881.46 780.69 881.657 780.493 Q881.854 780.272 882.075 780.247 Q882.297 780.222 882.862 780.222 Q884.879 780.222 885.74 780.001 Q886.625 779.78 886.871 779.386 Q887.142 778.968 887.437 777.837 L894.643 748.989 L894.593 748.989 L874.255 780.862 L874.107 781.083 Q873.959 781.28 873.91 781.354 Q873.861 781.403 873.713 781.551 Q873.59 781.673 873.443 781.723 Q873.32 781.772 873.148 781.772 Q872.853 781.772 872.681 781.575 Q872.533 781.378 872.484 781.231 Q872.459 781.059 872.385 780.616 L868.057 749.382 L868.008 749.382 L861.146 776.829 Q860.949 777.591 860.949 777.984 Q860.949 778.993 861.663 779.608 Q862.4 780.198 864.368 780.222 Q865.278 780.222 865.278 780.764 Q865.278 781.772 864.368 781.772 Q863.532 781.772 861.786 781.698 Q860.039 781.624 859.179 781.624 Q858.342 781.624 856.646 781.698 Q854.973 781.772 854.162 781.772 Q853.448 781.772 853.448 781.157 Q853.448 780.222 854.358 780.222 Q855.834 780.173 856.842 779.878 Q857.851 779.583 858.416 779.017 Q859.006 778.452 859.277 777.886 Q859.572 777.296 859.793 776.435 L866.188 750.784 Q866.385 749.972 866.385 749.849 Q866.385 749.431 866.139 749.284 Q865.917 749.112 865.278 749.038 Q864.048 748.939 863.114 748.939 Q862.499 748.939 862.253 748.915 Q862.032 748.89 861.835 748.767 Q861.663 748.62 861.663 748.325 Q861.663 747.857 861.859 747.661 Q862.081 747.439 862.327 747.415 Q862.573 747.365 863.163 747.365 L870.074 747.365 Q871.082 747.365 871.303 747.538 Q871.525 747.685 871.623 748.521 L875.558 777.025 L893.954 748.325 Q894.421 747.611 894.667 747.488 Q894.913 747.365 895.897 747.365 L902.562 747.365 Q903.103 747.365 903.324 747.39 Q903.545 747.415 903.718 747.538 Q903.914 747.661 903.914 747.931 Z\" fill=\"#000000\" fill-rule=\"evenodd\" fill-opacity=\"1\" /><polyline clip-path=\"url(#clip400)\" style=\"stroke:#000000; stroke-linecap:butt; stroke-linejoin:round; stroke-width:4; stroke-opacity:1; fill:none\" points=\"\n",
       "  165.503,648.46 165.503,47.2441 \n",
       "  \"/>\n",
       "<polyline clip-path=\"url(#clip400)\" style=\"stroke:#000000; stroke-linecap:butt; stroke-linejoin:round; stroke-width:4; stroke-opacity:1; fill:none\" points=\"\n",
       "  1552.76,648.46 1552.76,47.2441 \n",
       "  \"/>\n",
       "<polyline clip-path=\"url(#clip400)\" style=\"stroke:#000000; stroke-linecap:butt; stroke-linejoin:round; stroke-width:4; stroke-opacity:1; fill:none\" points=\"\n",
       "  165.503,631.444 184.401,631.444 \n",
       "  \"/>\n",
       "<polyline clip-path=\"url(#clip400)\" style=\"stroke:#000000; stroke-linecap:butt; stroke-linejoin:round; stroke-width:4; stroke-opacity:1; fill:none\" points=\"\n",
       "  165.503,482.553 184.401,482.553 \n",
       "  \"/>\n",
       "<polyline clip-path=\"url(#clip400)\" style=\"stroke:#000000; stroke-linecap:butt; stroke-linejoin:round; stroke-width:4; stroke-opacity:1; fill:none\" points=\"\n",
       "  165.503,333.663 184.401,333.663 \n",
       "  \"/>\n",
       "<polyline clip-path=\"url(#clip400)\" style=\"stroke:#000000; stroke-linecap:butt; stroke-linejoin:round; stroke-width:4; stroke-opacity:1; fill:none\" points=\"\n",
       "  165.503,184.772 184.401,184.772 \n",
       "  \"/>\n",
       "<polyline clip-path=\"url(#clip400)\" style=\"stroke:#000000; stroke-linecap:butt; stroke-linejoin:round; stroke-width:4; stroke-opacity:1; fill:none\" points=\"\n",
       "  165.503,601.666 174.952,601.666 \n",
       "  \"/>\n",
       "<polyline clip-path=\"url(#clip400)\" style=\"stroke:#000000; stroke-linecap:butt; stroke-linejoin:round; stroke-width:4; stroke-opacity:1; fill:none\" points=\"\n",
       "  165.503,571.888 174.952,571.888 \n",
       "  \"/>\n",
       "<polyline clip-path=\"url(#clip400)\" style=\"stroke:#000000; stroke-linecap:butt; stroke-linejoin:round; stroke-width:4; stroke-opacity:1; fill:none\" points=\"\n",
       "  165.503,542.11 174.952,542.11 \n",
       "  \"/>\n",
       "<polyline clip-path=\"url(#clip400)\" style=\"stroke:#000000; stroke-linecap:butt; stroke-linejoin:round; stroke-width:4; stroke-opacity:1; fill:none\" points=\"\n",
       "  165.503,512.332 174.952,512.332 \n",
       "  \"/>\n",
       "<polyline clip-path=\"url(#clip400)\" style=\"stroke:#000000; stroke-linecap:butt; stroke-linejoin:round; stroke-width:4; stroke-opacity:1; fill:none\" points=\"\n",
       "  165.503,452.775 174.952,452.775 \n",
       "  \"/>\n",
       "<polyline clip-path=\"url(#clip400)\" style=\"stroke:#000000; stroke-linecap:butt; stroke-linejoin:round; stroke-width:4; stroke-opacity:1; fill:none\" points=\"\n",
       "  165.503,422.997 174.952,422.997 \n",
       "  \"/>\n",
       "<polyline clip-path=\"url(#clip400)\" style=\"stroke:#000000; stroke-linecap:butt; stroke-linejoin:round; stroke-width:4; stroke-opacity:1; fill:none\" points=\"\n",
       "  165.503,393.219 174.952,393.219 \n",
       "  \"/>\n",
       "<polyline clip-path=\"url(#clip400)\" style=\"stroke:#000000; stroke-linecap:butt; stroke-linejoin:round; stroke-width:4; stroke-opacity:1; fill:none\" points=\"\n",
       "  165.503,363.441 174.952,363.441 \n",
       "  \"/>\n",
       "<polyline clip-path=\"url(#clip400)\" style=\"stroke:#000000; stroke-linecap:butt; stroke-linejoin:round; stroke-width:4; stroke-opacity:1; fill:none\" points=\"\n",
       "  165.503,303.884 174.952,303.884 \n",
       "  \"/>\n",
       "<polyline clip-path=\"url(#clip400)\" style=\"stroke:#000000; stroke-linecap:butt; stroke-linejoin:round; stroke-width:4; stroke-opacity:1; fill:none\" points=\"\n",
       "  165.503,274.106 174.952,274.106 \n",
       "  \"/>\n",
       "<polyline clip-path=\"url(#clip400)\" style=\"stroke:#000000; stroke-linecap:butt; stroke-linejoin:round; stroke-width:4; stroke-opacity:1; fill:none\" points=\"\n",
       "  165.503,244.328 174.952,244.328 \n",
       "  \"/>\n",
       "<polyline clip-path=\"url(#clip400)\" style=\"stroke:#000000; stroke-linecap:butt; stroke-linejoin:round; stroke-width:4; stroke-opacity:1; fill:none\" points=\"\n",
       "  165.503,214.55 174.952,214.55 \n",
       "  \"/>\n",
       "<polyline clip-path=\"url(#clip400)\" style=\"stroke:#000000; stroke-linecap:butt; stroke-linejoin:round; stroke-width:4; stroke-opacity:1; fill:none\" points=\"\n",
       "  165.503,154.994 174.952,154.994 \n",
       "  \"/>\n",
       "<polyline clip-path=\"url(#clip400)\" style=\"stroke:#000000; stroke-linecap:butt; stroke-linejoin:round; stroke-width:4; stroke-opacity:1; fill:none\" points=\"\n",
       "  165.503,125.215 174.952,125.215 \n",
       "  \"/>\n",
       "<polyline clip-path=\"url(#clip400)\" style=\"stroke:#000000; stroke-linecap:butt; stroke-linejoin:round; stroke-width:4; stroke-opacity:1; fill:none\" points=\"\n",
       "  165.503,95.4372 174.952,95.4372 \n",
       "  \"/>\n",
       "<polyline clip-path=\"url(#clip400)\" style=\"stroke:#000000; stroke-linecap:butt; stroke-linejoin:round; stroke-width:4; stroke-opacity:1; fill:none\" points=\"\n",
       "  165.503,65.659 174.952,65.659 \n",
       "  \"/>\n",
       "<path clip-path=\"url(#clip400)\" d=\"M55.5603 632.544 Q55.5603 625.108 57.4378 621.057 Q60.0563 615.029 66.2322 615.029 Q67.5414 615.029 68.9001 615.399 Q70.2835 615.745 72.0127 617.104 Q73.7667 618.463 74.8289 620.686 Q76.8546 624.984 76.8546 632.544 Q76.8546 639.93 74.9771 643.957 Q72.2351 649.836 66.1827 649.836 Q63.91 649.836 61.5879 648.675 Q59.2905 647.514 57.833 644.722 Q55.5603 640.547 55.5603 632.544 M59.7599 631.926 Q59.7599 639.559 60.3033 642.598 Q60.9209 645.883 62.6008 647.316 Q64.3053 648.724 66.1827 648.724 Q68.2084 648.724 69.8883 647.217 Q71.5928 645.686 72.1116 642.4 Q72.6797 639.164 72.655 631.926 Q72.655 624.886 72.161 622.069 Q71.494 618.784 69.7153 617.475 Q67.9614 616.141 66.1827 616.141 Q65.5158 616.141 64.7994 616.338 Q64.1077 616.536 63.0948 617.104 Q62.082 617.672 61.2915 619.08 Q60.5257 620.488 60.1551 622.613 Q59.7599 625.355 59.7599 631.926 Z\" fill=\"#000000\" fill-rule=\"evenodd\" fill-opacity=\"1\" /><path clip-path=\"url(#clip400)\" d=\"M83.9445 647.909 Q83.1787 647.094 83.1787 646.032 Q83.1787 644.969 83.9445 644.204 Q84.7103 643.413 85.8713 643.413 Q86.983 643.413 87.7241 644.154 Q88.4899 644.871 88.4899 646.056 Q88.4899 647.217 87.6747 647.983 Q86.8842 648.724 85.8713 648.724 Q84.7103 648.724 83.9445 647.909 Z\" fill=\"#000000\" fill-rule=\"evenodd\" fill-opacity=\"1\" /><path clip-path=\"url(#clip400)\" d=\"M94.9128 632.544 Q94.9128 625.108 96.7902 621.057 Q99.4088 615.029 105.585 615.029 Q106.894 615.029 108.253 615.399 Q109.636 615.745 111.365 617.104 Q113.119 618.463 114.181 620.686 Q116.207 624.984 116.207 632.544 Q116.207 639.93 114.33 643.957 Q111.588 649.836 105.535 649.836 Q103.262 649.836 100.94 648.675 Q98.643 647.514 97.1855 644.722 Q94.9128 640.547 94.9128 632.544 M99.1123 631.926 Q99.1123 639.559 99.6558 642.598 Q100.273 645.883 101.953 647.316 Q103.658 648.724 105.535 648.724 Q107.561 648.724 109.241 647.217 Q110.945 645.686 111.464 642.4 Q112.032 639.164 112.007 631.926 Q112.007 624.886 111.513 622.069 Q110.846 618.784 109.068 617.475 Q107.314 616.141 105.535 616.141 Q104.868 616.141 104.152 616.338 Q103.46 616.536 102.447 617.104 Q101.434 617.672 100.644 619.08 Q99.8781 620.488 99.5076 622.613 Q99.1123 625.355 99.1123 631.926 Z\" fill=\"#000000\" fill-rule=\"evenodd\" fill-opacity=\"1\" /><path clip-path=\"url(#clip400)\" d=\"M120.209 632.544 Q120.209 625.108 122.086 621.057 Q124.705 615.029 130.881 615.029 Q132.19 615.029 133.549 615.399 Q134.932 615.745 136.661 617.104 Q138.415 618.463 139.478 620.686 Q141.503 624.984 141.503 632.544 Q141.503 639.93 139.626 643.957 Q136.884 649.836 130.831 649.836 Q128.559 649.836 126.237 648.675 Q123.939 647.514 122.482 644.722 Q120.209 640.547 120.209 632.544 M124.409 631.926 Q124.409 639.559 124.952 642.598 Q125.57 645.883 127.249 647.316 Q128.954 648.724 130.831 648.724 Q132.857 648.724 134.537 647.217 Q136.241 645.686 136.76 642.4 Q137.328 639.164 137.304 631.926 Q137.304 624.886 136.81 622.069 Q136.143 618.784 134.364 617.475 Q132.61 616.141 130.831 616.141 Q130.164 616.141 129.448 616.338 Q128.756 616.536 127.744 617.104 Q126.731 617.672 125.94 619.08 Q125.174 620.488 124.804 622.613 Q124.409 625.355 124.409 631.926 Z\" fill=\"#000000\" fill-rule=\"evenodd\" fill-opacity=\"1\" /><path clip-path=\"url(#clip400)\" d=\"M56.1038 483.653 Q56.1038 476.217 57.9812 472.166 Q60.5998 466.138 66.7756 466.138 Q68.0849 466.138 69.4436 466.509 Q70.827 466.854 72.5562 468.213 Q74.3102 469.572 75.3724 471.795 Q77.3981 476.094 77.3981 483.653 Q77.3981 491.039 75.5206 495.066 Q72.7785 500.945 66.7262 500.945 Q64.4535 500.945 62.1314 499.784 Q59.834 498.623 58.3765 495.831 Q56.1038 491.657 56.1038 483.653 M60.3033 483.035 Q60.3033 490.668 60.8468 493.707 Q61.4644 496.993 63.1442 498.425 Q64.8488 499.833 66.7262 499.833 Q68.7519 499.833 70.4317 498.327 Q72.1363 496.795 72.655 493.509 Q73.2232 490.273 73.1985 483.035 Q73.1985 475.995 72.7044 473.179 Q72.0374 469.893 70.2588 468.584 Q68.5049 467.25 66.7262 467.25 Q66.0592 467.25 65.3428 467.447 Q64.6511 467.645 63.6383 468.213 Q62.6255 468.781 61.835 470.189 Q61.0692 471.597 60.6986 473.722 Q60.3033 476.464 60.3033 483.035 Z\" fill=\"#000000\" fill-rule=\"evenodd\" fill-opacity=\"1\" /><path clip-path=\"url(#clip400)\" d=\"M84.4879 499.018 Q83.7221 498.203 83.7221 497.141 Q83.7221 496.079 84.4879 495.313 Q85.2537 494.522 86.4148 494.522 Q87.5265 494.522 88.2676 495.263 Q89.0334 495.98 89.0334 497.165 Q89.0334 498.327 88.2181 499.092 Q87.4276 499.833 86.4148 499.833 Q85.2537 499.833 84.4879 499.018 Z\" fill=\"#000000\" fill-rule=\"evenodd\" fill-opacity=\"1\" /><path clip-path=\"url(#clip400)\" d=\"M95.4562 483.653 Q95.4562 476.217 97.3337 472.166 Q99.9522 466.138 106.128 466.138 Q107.437 466.138 108.796 466.509 Q110.179 466.854 111.909 468.213 Q113.663 469.572 114.725 471.795 Q116.751 476.094 116.751 483.653 Q116.751 491.039 114.873 495.066 Q112.131 500.945 106.079 500.945 Q103.806 500.945 101.484 499.784 Q99.1864 498.623 97.7289 495.831 Q95.4562 491.657 95.4562 483.653 M99.6558 483.035 Q99.6558 490.668 100.199 493.707 Q100.817 496.993 102.497 498.425 Q104.201 499.833 106.079 499.833 Q108.104 499.833 109.784 498.327 Q111.489 496.795 112.007 493.509 Q112.576 490.273 112.551 483.035 Q112.551 475.995 112.057 473.179 Q111.39 469.893 109.611 468.584 Q107.857 467.25 106.079 467.25 Q105.412 467.25 104.695 467.447 Q104.004 467.645 102.991 468.213 Q101.978 468.781 101.187 470.189 Q100.422 471.597 100.051 473.722 Q99.6558 476.464 99.6558 483.035 Z\" fill=\"#000000\" fill-rule=\"evenodd\" fill-opacity=\"1\" /><path clip-path=\"url(#clip400)\" d=\"M121.296 499.833 Q121.296 498.919 121.37 498.648 Q121.469 498.376 121.864 497.956 L131.573 487.136 Q136.884 481.158 136.884 475.945 Q136.884 472.561 135.105 470.14 Q133.351 467.719 130.115 467.719 Q127.892 467.719 126.014 469.078 Q124.137 470.436 123.272 472.857 Q123.42 472.808 123.939 472.808 Q125.199 472.808 125.891 473.598 Q126.607 474.389 126.607 475.451 Q126.607 476.81 125.718 477.477 Q124.853 478.119 123.989 478.119 Q123.643 478.119 123.173 478.045 Q122.729 477.971 122.012 477.279 Q121.296 476.563 121.296 475.303 Q121.296 471.77 123.964 468.954 Q126.657 466.138 130.757 466.138 Q135.402 466.138 138.44 468.905 Q141.503 471.647 141.503 475.945 Q141.503 477.452 141.034 478.836 Q140.589 480.194 139.972 481.257 Q139.379 482.319 137.748 484.023 Q136.118 485.728 134.809 486.938 Q133.499 488.149 130.56 490.718 L125.199 495.93 L134.315 495.93 Q138.761 495.93 139.107 495.535 Q139.601 494.819 140.219 491.039 L141.503 491.039 L140.07 499.833 L121.296 499.833 Z\" fill=\"#000000\" fill-rule=\"evenodd\" fill-opacity=\"1\" /><path clip-path=\"url(#clip400)\" d=\"M54.9921 334.762 Q54.9921 327.326 56.8696 323.275 Q59.4881 317.247 65.664 317.247 Q66.9733 317.247 68.3319 317.618 Q69.7153 317.964 71.4446 319.322 Q73.1985 320.681 74.2607 322.904 Q76.2864 327.203 76.2864 334.762 Q76.2864 342.148 74.409 346.175 Q71.6669 352.054 65.6146 352.054 Q63.3419 352.054 61.0197 350.893 Q58.7223 349.732 57.2648 346.941 Q54.9921 342.766 54.9921 334.762 M59.1917 334.144 Q59.1917 341.778 59.7352 344.816 Q60.3528 348.102 62.0326 349.534 Q63.7371 350.943 65.6146 350.943 Q67.6402 350.943 69.3201 349.436 Q71.0246 347.904 71.5434 344.619 Q72.1116 341.382 72.0869 334.144 Q72.0869 327.104 71.5928 324.288 Q70.9258 321.002 69.1472 319.693 Q67.3932 318.359 65.6146 318.359 Q64.9476 318.359 64.2312 318.556 Q63.5395 318.754 62.5267 319.322 Q61.5138 319.89 60.7233 321.299 Q59.9575 322.707 59.587 324.831 Q59.1917 327.573 59.1917 334.144 Z\" fill=\"#000000\" fill-rule=\"evenodd\" fill-opacity=\"1\" /><path clip-path=\"url(#clip400)\" d=\"M83.3763 350.127 Q82.6105 349.312 82.6105 348.25 Q82.6105 347.188 83.3763 346.422 Q84.1421 345.631 85.3031 345.631 Q86.4148 345.631 87.1559 346.372 Q87.9217 347.089 87.9217 348.275 Q87.9217 349.436 87.1065 350.201 Q86.316 350.943 85.3031 350.943 Q84.1421 350.943 83.3763 350.127 Z\" fill=\"#000000\" fill-rule=\"evenodd\" fill-opacity=\"1\" /><path clip-path=\"url(#clip400)\" d=\"M94.3446 334.762 Q94.3446 327.326 96.222 323.275 Q98.8406 317.247 105.016 317.247 Q106.326 317.247 107.684 317.618 Q109.068 317.964 110.797 319.322 Q112.551 320.681 113.613 322.904 Q115.639 327.203 115.639 334.762 Q115.639 342.148 113.761 346.175 Q111.019 352.054 104.967 352.054 Q102.694 352.054 100.372 350.893 Q98.0748 349.732 96.6173 346.941 Q94.3446 342.766 94.3446 334.762 M98.5441 334.144 Q98.5441 341.778 99.0876 344.816 Q99.7052 348.102 101.385 349.534 Q103.09 350.943 104.967 350.943 Q106.993 350.943 108.673 349.436 Q110.377 347.904 110.896 344.619 Q111.464 341.382 111.439 334.144 Q111.439 327.104 110.945 324.288 Q110.278 321.002 108.5 319.693 Q106.746 318.359 104.967 318.359 Q104.3 318.359 103.584 318.556 Q102.892 318.754 101.879 319.322 Q100.866 319.89 100.076 321.299 Q99.31 322.707 98.9394 324.831 Q98.5441 327.573 98.5441 334.144 Z\" fill=\"#000000\" fill-rule=\"evenodd\" fill-opacity=\"1\" /><path clip-path=\"url(#clip400)\" d=\"M119.073 342.593 L119.073 341.037 L134.611 317.297 Q135.006 316.679 135.624 316.704 Q136.192 316.704 136.316 316.926 Q136.439 317.148 136.439 318.013 L136.439 341.037 L141.503 341.037 L141.503 342.593 L136.439 342.593 L136.439 346.99 Q136.439 348.448 137.032 348.917 Q137.65 349.386 140.268 349.386 L141.33 349.386 L141.33 350.943 Q139.255 350.794 134.463 350.794 Q129.695 350.794 127.62 350.943 L127.62 349.386 L128.682 349.386 Q131.301 349.386 131.918 348.942 Q132.536 348.472 132.536 346.99 L132.536 342.593 L119.073 342.593 M120.505 341.037 L132.832 341.037 L132.832 322.163 L120.505 341.037 Z\" fill=\"#000000\" fill-rule=\"evenodd\" fill-opacity=\"1\" /><path clip-path=\"url(#clip400)\" d=\"M55.7085 185.871 Q55.7085 178.435 57.586 174.384 Q60.2045 168.356 66.3804 168.356 Q67.6897 168.356 69.0483 168.727 Q70.4317 169.073 72.161 170.431 Q73.9149 171.79 74.9771 174.013 Q77.0028 178.312 77.0028 185.871 Q77.0028 193.257 75.1254 197.284 Q72.3833 203.163 66.331 203.163 Q64.0583 203.163 61.7361 202.002 Q59.4387 200.841 57.9812 198.05 Q55.7085 193.875 55.7085 185.871 M59.9081 185.253 Q59.9081 192.887 60.4516 195.925 Q61.0692 199.211 62.749 200.644 Q64.4535 202.052 66.331 202.052 Q68.3566 202.052 70.0365 200.545 Q71.741 199.013 72.2598 195.728 Q72.828 192.492 72.8032 185.253 Q72.8032 178.213 72.3092 175.397 Q71.6422 172.111 69.8635 170.802 Q68.1096 169.468 66.331 169.468 Q65.664 169.468 64.9476 169.666 Q64.2559 169.863 63.243 170.431 Q62.2302 171 61.4397 172.408 Q60.6739 173.816 60.3033 175.94 Q59.9081 178.682 59.9081 185.253 Z\" fill=\"#000000\" fill-rule=\"evenodd\" fill-opacity=\"1\" /><path clip-path=\"url(#clip400)\" d=\"M84.0927 201.236 Q83.3269 200.421 83.3269 199.359 Q83.3269 198.297 84.0927 197.531 Q84.8585 196.74 86.0195 196.74 Q87.1312 196.74 87.8723 197.482 Q88.6381 198.198 88.6381 199.384 Q88.6381 200.545 87.8229 201.311 Q87.0324 202.052 86.0195 202.052 Q84.8585 202.052 84.0927 201.236 Z\" fill=\"#000000\" fill-rule=\"evenodd\" fill-opacity=\"1\" /><path clip-path=\"url(#clip400)\" d=\"M95.061 185.871 Q95.061 178.435 96.9384 174.384 Q99.557 168.356 105.733 168.356 Q107.042 168.356 108.401 168.727 Q109.784 169.073 111.513 170.431 Q113.267 171.79 114.33 174.013 Q116.355 178.312 116.355 185.871 Q116.355 193.257 114.478 197.284 Q111.736 203.163 105.683 203.163 Q103.411 203.163 101.089 202.002 Q98.7912 200.841 97.3337 198.05 Q95.061 193.875 95.061 185.871 M99.2605 185.253 Q99.2605 192.887 99.804 195.925 Q100.422 199.211 102.101 200.644 Q103.806 202.052 105.683 202.052 Q107.709 202.052 109.389 200.545 Q111.093 199.013 111.612 195.728 Q112.18 192.492 112.156 185.253 Q112.156 178.213 111.662 175.397 Q110.995 172.111 109.216 170.802 Q107.462 169.468 105.683 169.468 Q105.016 169.468 104.3 169.666 Q103.608 169.863 102.595 170.431 Q101.583 171 100.792 172.408 Q100.026 173.816 99.6558 175.94 Q99.2605 178.682 99.2605 185.253 Z\" fill=\"#000000\" fill-rule=\"evenodd\" fill-opacity=\"1\" /><path clip-path=\"url(#clip400)\" d=\"M120.505 186.069 Q120.505 178.114 124.557 173.248 Q128.608 168.356 133.821 168.356 Q136.859 168.356 138.539 169.913 Q140.243 171.444 140.243 173.816 Q140.243 175.125 139.478 175.693 Q138.712 176.261 137.921 176.261 Q137.007 176.261 136.291 175.644 Q135.574 175.026 135.574 173.915 Q135.574 171.642 138.366 171.642 Q137.057 169.616 133.919 169.616 Q132.956 169.616 131.968 169.913 Q130.98 170.184 129.695 171.123 Q128.411 172.062 127.422 173.544 Q126.434 175.026 125.743 177.818 Q125.051 180.609 125.051 184.241 L125.051 185.451 Q127.126 180.436 131.375 180.461 Q135.624 180.461 138.564 183.697 Q141.503 186.933 141.503 191.726 Q141.503 196.642 138.44 199.903 Q135.377 203.163 131.078 203.163 Q129.152 203.163 127.398 202.348 Q125.668 201.558 124.038 199.73 Q122.432 197.902 121.469 194.394 Q120.505 190.886 120.505 186.069 M125.15 190.614 Q125.15 195.579 126.064 197.951 Q126.212 198.346 126.533 198.89 Q126.879 199.433 127.447 200.15 Q128.04 200.841 129.003 201.311 Q129.967 201.755 131.078 201.755 Q134.463 201.755 136.093 198.47 Q136.958 196.642 136.958 191.676 Q136.958 186.612 136.044 184.759 Q134.488 181.622 131.326 181.622 Q129.201 181.622 127.719 183.08 Q126.261 184.537 125.693 186.489 Q125.15 188.44 125.15 190.614 Z\" fill=\"#000000\" fill-rule=\"evenodd\" fill-opacity=\"1\" /><path clip-path=\"url(#clip402)\" d=\"\n",
       "M204.765 626.978 L217.852 614.694 L230.94 592.36 L244.027 558.858 L257.114 514.182 L270.202 459.425 L283.289 396.749 L296.376 329.303 L309.463 261.078 L322.551 196.644 \n",
       "  L335.638 140.767 L348.725 97.9079 L361.813 71.6656 L374.9 64.2596 L387.987 76.1693 L401.074 106.028 L414.162 150.817 L427.249 206.321 L440.336 267.761 L453.424 330.452 \n",
       "  L466.511 390.369 L479.598 444.513 L492.686 491.055 L505.773 529.277 L518.86 559.361 L531.947 582.111 L545.035 598.675 L558.122 610.307 L571.209 618.196 L584.297 623.372 \n",
       "  L597.384 626.659 L610.471 628.684 L623.558 629.893 L636.646 630.595 L649.733 630.991 L662.82 631.208 L675.908 631.324 L688.995 631.385 L702.082 631.415 L715.169 631.431 \n",
       "  L728.257 631.438 L741.344 631.441 L754.431 631.443 L767.519 631.444 L780.606 631.444 L793.693 631.444 L806.78 631.444 L819.868 631.444 L832.955 631.444 L846.042 631.444 \n",
       "  L859.13 631.444 L872.217 631.444 L885.304 631.444 L898.391 631.444 L911.479 631.444 L924.566 631.444 L937.653 631.444 L950.741 631.444 L963.828 631.444 L976.915 631.444 \n",
       "  L990.002 631.444 L1003.09 631.444 L1016.18 631.444 L1029.26 631.444 L1042.35 631.444 L1055.44 631.444 L1068.53 631.444 L1081.61 631.444 L1094.7 631.444 L1107.79 631.444 \n",
       "  L1120.88 631.444 L1133.96 631.444 L1147.05 631.444 L1160.14 631.444 L1173.22 631.444 L1186.31 631.444 L1199.4 631.444 L1212.49 631.444 L1225.57 631.444 L1238.66 631.444 \n",
       "  L1251.75 631.444 L1264.84 631.444 L1277.92 631.444 L1291.01 631.444 L1304.1 631.444 L1317.18 631.444 L1330.27 631.444 L1343.36 631.444 L1356.45 631.444 L1369.53 631.444 \n",
       "  L1382.62 631.444 L1395.71 631.444 L1408.8 631.444 L1421.88 631.444 L1434.97 631.444 L1448.06 631.444 L1461.14 631.444 L1474.23 631.444 L1487.32 631.444 L1500.41 631.444 \n",
       "  L1513.49 631.444 L1513.49 631.444 L1500.41 631.444 L1487.32 631.444 L1474.23 631.444 L1461.14 631.444 L1448.06 631.444 L1434.97 631.444 L1421.88 631.444 L1408.8 631.444 \n",
       "  L1395.71 631.444 L1382.62 631.444 L1369.53 631.444 L1356.45 631.444 L1343.36 631.444 L1330.27 631.444 L1317.18 631.444 L1304.1 631.444 L1291.01 631.444 L1277.92 631.444 \n",
       "  L1264.84 631.444 L1251.75 631.444 L1238.66 631.444 L1225.57 631.444 L1212.49 631.444 L1199.4 631.444 L1186.31 631.444 L1173.22 631.444 L1160.14 631.444 L1147.05 631.444 \n",
       "  L1133.96 631.444 L1120.88 631.444 L1107.79 631.444 L1094.7 631.444 L1081.61 631.444 L1068.53 631.444 L1055.44 631.444 L1042.35 631.444 L1029.26 631.444 L1016.18 631.444 \n",
       "  L1003.09 631.444 L990.002 631.444 L976.915 631.444 L963.828 631.444 L950.741 631.444 L937.653 631.444 L924.566 631.444 L911.479 631.444 L898.391 631.444 L885.304 631.444 \n",
       "  L872.217 631.444 L859.13 631.444 L846.042 631.444 L832.955 631.444 L819.868 631.444 L806.78 631.444 L793.693 631.444 L780.606 631.444 L767.519 631.444 L754.431 631.444 \n",
       "  L741.344 631.444 L728.257 631.444 L715.169 631.444 L702.082 631.444 L688.995 631.444 L675.908 631.444 L662.82 631.444 L649.733 631.444 L636.646 631.444 L623.558 631.444 \n",
       "  L610.471 631.444 L597.384 631.444 L584.297 631.444 L571.209 631.444 L558.122 631.444 L545.035 631.444 L531.947 631.444 L518.86 631.444 L505.773 631.444 L492.686 631.444 \n",
       "  L479.598 631.444 L466.511 631.444 L453.424 631.444 L440.336 631.444 L427.249 631.444 L414.162 631.444 L401.074 631.444 L387.987 631.444 L374.9 631.444 L361.813 631.444 \n",
       "  L348.725 631.444 L335.638 631.444 L322.551 631.444 L309.463 631.444 L296.376 631.444 L283.289 631.444 L270.202 631.444 L257.114 631.444 L244.027 631.444 L230.94 631.444 \n",
       "  L217.852 631.444 L204.765 631.444  Z\n",
       "  \" fill=\"#b7516c\" fill-rule=\"evenodd\" fill-opacity=\"0.5\"/>\n",
       "<polyline clip-path=\"url(#clip402)\" style=\"stroke:#b7516c; stroke-linecap:butt; stroke-linejoin:round; stroke-width:5.6; stroke-opacity:0.5; fill:none\" points=\"\n",
       "  204.765,626.978 217.852,614.694 230.94,592.36 244.027,558.858 257.114,514.182 270.202,459.425 283.289,396.749 296.376,329.303 309.463,261.078 322.551,196.644 \n",
       "  335.638,140.767 348.725,97.9079 361.813,71.6656 374.9,64.2596 387.987,76.1693 401.074,106.028 414.162,150.817 427.249,206.321 440.336,267.761 453.424,330.452 \n",
       "  466.511,390.369 479.598,444.513 492.686,491.055 505.773,529.277 518.86,559.361 531.947,582.111 545.035,598.675 558.122,610.307 571.209,618.196 584.297,623.372 \n",
       "  597.384,626.659 610.471,628.684 623.558,629.893 636.646,630.595 649.733,630.991 662.82,631.208 675.908,631.324 688.995,631.385 702.082,631.415 715.169,631.431 \n",
       "  728.257,631.438 741.344,631.441 754.431,631.443 767.519,631.444 780.606,631.444 793.693,631.444 806.78,631.444 819.868,631.444 832.955,631.444 846.042,631.444 \n",
       "  859.13,631.444 872.217,631.444 885.304,631.444 898.391,631.444 911.479,631.444 924.566,631.444 937.653,631.444 950.741,631.444 963.828,631.444 976.915,631.444 \n",
       "  990.002,631.444 1003.09,631.444 1016.18,631.444 1029.26,631.444 1042.35,631.444 1055.44,631.444 1068.53,631.444 1081.61,631.444 1094.7,631.444 1107.79,631.444 \n",
       "  1120.88,631.444 1133.96,631.444 1147.05,631.444 1160.14,631.444 1173.22,631.444 1186.31,631.444 1199.4,631.444 1212.49,631.444 1225.57,631.444 1238.66,631.444 \n",
       "  1251.75,631.444 1264.84,631.444 1277.92,631.444 1291.01,631.444 1304.1,631.444 1317.18,631.444 1330.27,631.444 1343.36,631.444 1356.45,631.444 1369.53,631.444 \n",
       "  1382.62,631.444 1395.71,631.444 1408.8,631.444 1421.88,631.444 1434.97,631.444 1448.06,631.444 1461.14,631.444 1474.23,631.444 1487.32,631.444 1500.41,631.444 \n",
       "  1513.49,631.444 \n",
       "  \"/>\n",
       "<path clip-path=\"url(#clip400)\" d=\"\n",
       "M1206.72 170.965 L1506.51 170.965 L1506.51 67.2846 L1206.72 67.2846  Z\n",
       "  \" fill=\"#ffffff\" fill-rule=\"evenodd\" fill-opacity=\"1\"/>\n",
       "<polyline clip-path=\"url(#clip400)\" style=\"stroke:#000000; stroke-linecap:butt; stroke-linejoin:round; stroke-width:4; stroke-opacity:1; fill:none\" points=\"\n",
       "  1206.72,170.965 1506.51,170.965 1506.51,67.2846 1206.72,67.2846 1206.72,170.965 \n",
       "  \"/>\n",
       "<path clip-path=\"url(#clip400)\" d=\"\n",
       "M1222.14 139.861 L1314.62 139.861 L1314.62 98.3886 L1222.14 98.3886 L1222.14 139.861  Z\n",
       "  \" fill=\"#b7516c\" fill-rule=\"evenodd\" fill-opacity=\"0.5\"/>\n",
       "<polyline clip-path=\"url(#clip400)\" style=\"stroke:#b7516c; stroke-linecap:butt; stroke-linejoin:round; stroke-width:5.6; stroke-opacity:0.5; fill:none\" points=\"\n",
       "  1222.14,98.3886 1314.62,98.3886 \n",
       "  \"/>\n",
       "<path clip-path=\"url(#clip400)\" d=\"M1364.28 104.33 Q1364.28 106.953 1362.33 109.366 Q1360.41 111.778 1357.28 113.254 Q1354.16 114.706 1350.81 114.706 L1342.66 114.706 L1339.68 126.698 Q1339.66 126.769 1339.59 127.073 Q1339.52 127.354 1339.52 127.518 Q1339.52 128.104 1340.25 128.244 Q1341 128.385 1342.66 128.385 Q1343.74 128.385 1343.9 128.572 Q1343.99 128.689 1343.99 128.9 Q1343.99 129.228 1343.9 129.462 Q1343.81 129.673 1343.62 129.743 Q1343.46 129.814 1343.34 129.837 Q1343.22 129.86 1343.03 129.86 Q1342.54 129.86 1341.49 129.814 Q1340.46 129.767 1339.92 129.767 L1336.85 129.72 L1330.76 129.86 Q1330.03 129.86 1330.03 129.275 Q1330.03 128.83 1330.22 128.642 Q1330.41 128.432 1330.62 128.408 Q1330.83 128.385 1331.37 128.385 Q1332.54 128.385 1333.24 128.315 Q1333.95 128.244 1334.39 128.151 Q1334.86 128.034 1335.09 127.706 Q1335.35 127.378 1335.47 127.097 Q1335.59 126.792 1335.75 126.113 L1342.17 100.348 Q1342.36 99.5752 1342.36 99.4581 Q1342.36 99.0599 1342.12 98.9194 Q1341.91 98.7554 1341.3 98.6852 Q1340.13 98.5915 1339.24 98.5915 Q1338.65 98.5915 1338.42 98.5681 Q1338.21 98.5446 1338.02 98.4275 Q1337.86 98.287 1337.86 98.0059 Q1337.86 97.5609 1338.05 97.3735 Q1338.26 97.1627 1338.49 97.1393 Q1338.72 97.0925 1339.29 97.0925 L1354.84 97.0925 Q1359.31 97.0925 1361.8 99.2239 Q1364.28 101.355 1364.28 104.33 M1359.83 103.182 Q1359.83 98.5915 1353.29 98.5915 L1348.7 98.5915 Q1347.18 98.5915 1346.81 98.8726 Q1346.43 99.1302 1346.1 100.418 L1342.85 113.465 L1349.62 113.465 Q1354.16 113.465 1356.99 110.912 Q1358.28 109.741 1359.06 107.305 Q1359.83 104.869 1359.83 103.182 Z\" fill=\"#000000\" fill-rule=\"evenodd\" fill-opacity=\"1\" /><path clip-path=\"url(#clip400)\" d=\"M1369.54 117.868 Q1369.54 109.764 1372.56 103.229 Q1373.85 100.489 1375.65 98.1933 Q1377.46 95.8979 1378.65 94.8907 Q1379.85 93.8836 1380.18 93.8836 Q1380.64 93.8836 1380.67 94.352 Q1380.67 94.5863 1380.03 95.1718 Q1372.31 103.042 1372.33 117.868 Q1372.33 132.741 1379.85 140.307 Q1380.67 141.127 1380.67 141.384 Q1380.67 141.853 1380.18 141.853 Q1379.85 141.853 1378.7 140.892 Q1377.55 139.932 1375.77 137.73 Q1373.99 135.529 1372.7 132.835 Q1369.54 126.3 1369.54 117.868 Z\" fill=\"#000000\" fill-rule=\"evenodd\" fill-opacity=\"1\" /><path clip-path=\"url(#clip400)\" d=\"M1413.96 122.998 Q1413.96 123.185 1413.75 123.911 Q1413.54 124.637 1413.02 125.762 Q1412.53 126.886 1411.85 127.916 Q1411.17 128.924 1410.05 129.673 Q1408.95 130.399 1407.68 130.399 Q1406 130.399 1404.87 129.275 Q1403.75 128.151 1403.75 126.464 Q1403.75 125.527 1404.24 124.239 Q1407.35 115.924 1407.35 113.067 Q1407.35 109.717 1404.76 109.717 Q1403.47 109.717 1402.25 110.209 Q1401.05 110.677 1400.23 111.333 Q1399.41 111.989 1398.67 112.903 Q1397.94 113.793 1397.56 114.402 Q1397.21 114.987 1396.93 115.573 L1396.32 117.962 Q1396.18 118.618 1395.5 121.171 L1394.45 125.504 Q1393.7 128.736 1393.54 129.041 Q1393.3 129.696 1392.79 130.048 Q1392.27 130.399 1391.76 130.399 Q1391.17 130.399 1390.77 130.048 Q1390.37 129.696 1390.37 129.088 Q1390.37 128.994 1390.44 128.642 Q1390.51 128.291 1390.63 127.799 Q1390.75 127.307 1390.8 127.026 L1393.58 115.948 Q1394.1 113.933 1394.21 113.301 Q1394.36 112.645 1394.36 111.919 Q1394.36 109.717 1392.86 109.717 Q1391.64 109.717 1390.84 111.169 Q1390.05 112.622 1389.37 115.432 Q1389.16 116.205 1389.02 116.369 Q1388.9 116.533 1388.55 116.533 Q1387.96 116.51 1387.96 116.041 Q1387.96 115.924 1388.15 115.151 Q1388.34 114.378 1388.69 113.277 Q1389.06 112.153 1389.41 111.404 Q1389.72 110.841 1389.88 110.584 Q1390.07 110.303 1390.51 109.764 Q1390.98 109.202 1391.59 108.944 Q1392.22 108.663 1393 108.663 Q1394.73 108.663 1396 109.787 Q1397.26 110.888 1397.42 112.832 Q1400.54 108.663 1404.9 108.663 Q1407.47 108.663 1408.95 110.022 Q1410.42 111.38 1410.42 113.793 Q1410.42 114.355 1410.31 115.081 Q1410.21 115.784 1409.98 116.674 Q1409.77 117.564 1409.58 118.243 Q1409.39 118.922 1409.02 120.023 Q1408.64 121.1 1408.48 121.569 Q1408.32 122.037 1407.92 123.138 Q1407.54 124.216 1407.5 124.333 Q1406.63 126.511 1406.63 127.752 Q1406.63 128.572 1406.89 128.947 Q1407.17 129.322 1407.78 129.322 Q1409.42 129.322 1410.63 127.706 Q1411.88 126.066 1412.67 123.396 Q1412.86 122.81 1412.95 122.67 Q1413.07 122.529 1413.4 122.529 Q1413.96 122.529 1413.96 122.998 Z\" fill=\"#000000\" fill-rule=\"evenodd\" fill-opacity=\"1\" /><path clip-path=\"url(#clip400)\" d=\"M1452.48 121.464 Q1452.48 121.939 1452.26 122.038 Q1452.07 122.136 1451.41 122.136 Q1450.64 122.136 1450.16 122.202 Q1449.69 122.251 1449.39 122.333 Q1449.1 122.398 1448.92 122.628 Q1448.75 122.857 1448.69 123.054 Q1448.62 123.234 1448.51 123.677 L1444.05 141.565 Q1443.88 142.171 1443.88 142.385 Q1443.88 142.598 1444.01 142.729 Q1444.16 142.86 1444.52 142.926 Q1444.88 142.975 1445.16 142.991 Q1445.46 142.991 1446.06 142.991 Q1446.82 142.991 1446.93 143.122 Q1447 143.204 1447 143.352 Q1447 143.663 1446.87 143.827 Q1446.74 143.975 1446.62 144.008 Q1446.52 144.024 1446.36 144.024 Q1445.67 144.024 1444.26 143.975 Q1442.85 143.926 1442.16 143.926 L1438 144.024 Q1437.51 144.024 1437.51 143.614 Q1437.51 143.303 1437.64 143.172 Q1437.77 143.024 1437.92 143.008 Q1438.06 142.991 1438.44 142.991 Q1439.78 142.991 1440.36 142.844 Q1440.95 142.696 1441.11 142.434 Q1441.29 142.155 1441.49 141.401 L1446.29 122.169 L1446.26 122.169 L1432.7 143.418 L1432.6 143.565 Q1432.51 143.696 1432.47 143.745 Q1432.44 143.778 1432.34 143.877 Q1432.26 143.959 1432.16 143.991 Q1432.08 144.024 1431.96 144.024 Q1431.77 144.024 1431.65 143.893 Q1431.55 143.762 1431.52 143.663 Q1431.51 143.549 1431.46 143.254 L1428.57 122.431 L1428.54 122.431 L1423.96 140.729 Q1423.83 141.237 1423.83 141.499 Q1423.83 142.171 1424.31 142.581 Q1424.8 142.975 1426.11 142.991 Q1426.72 142.991 1426.72 143.352 Q1426.72 144.024 1426.11 144.024 Q1425.55 144.024 1424.39 143.975 Q1423.23 143.926 1422.65 143.926 Q1422.09 143.926 1420.96 143.975 Q1419.85 144.024 1419.31 144.024 Q1418.83 144.024 1418.83 143.614 Q1418.83 142.991 1419.44 142.991 Q1420.42 142.958 1421.09 142.762 Q1421.77 142.565 1422.14 142.188 Q1422.54 141.811 1422.72 141.434 Q1422.91 141.04 1423.06 140.466 L1427.32 123.366 Q1427.46 122.825 1427.46 122.743 Q1427.46 122.464 1427.29 122.365 Q1427.14 122.251 1426.72 122.202 Q1425.9 122.136 1425.27 122.136 Q1424.86 122.136 1424.7 122.12 Q1424.55 122.103 1424.42 122.021 Q1424.31 121.923 1424.31 121.726 Q1424.31 121.415 1424.44 121.283 Q1424.59 121.136 1424.75 121.119 Q1424.91 121.087 1425.31 121.087 L1429.91 121.087 Q1430.59 121.087 1430.73 121.201 Q1430.88 121.3 1430.95 121.857 L1433.57 140.86 L1445.83 121.726 Q1446.15 121.251 1446.31 121.169 Q1446.47 121.087 1447.13 121.087 L1451.57 121.087 Q1451.93 121.087 1452.08 121.103 Q1452.23 121.119 1452.34 121.201 Q1452.48 121.283 1452.48 121.464 Z\" fill=\"#000000\" fill-rule=\"evenodd\" fill-opacity=\"1\" /><path clip-path=\"url(#clip400)\" d=\"M1457.27 141.384 Q1457.27 141.15 1457.88 140.565 Q1465.61 132.695 1465.61 117.868 Q1465.61 102.995 1458.18 95.4763 Q1457.27 94.6097 1457.27 94.352 Q1457.27 93.8836 1457.74 93.8836 Q1458.06 93.8836 1459.21 94.8439 Q1460.38 95.8042 1462.14 98.0059 Q1463.92 100.208 1465.23 102.901 Q1468.39 109.436 1468.39 117.868 Q1468.39 125.972 1465.37 132.507 Q1464.08 135.248 1462.28 137.543 Q1460.48 139.838 1459.28 140.846 Q1458.09 141.853 1457.74 141.853 Q1457.27 141.853 1457.27 141.384 Z\" fill=\"#000000\" fill-rule=\"evenodd\" fill-opacity=\"1\" /></svg>\n"
      ]
     },
     "execution_count": 28,
     "metadata": {},
     "output_type": "execute_result"
    }
   ],
   "source": [
    "# set state space truncation.\n",
    "N = 100;\n",
    "Pn_true = FSP(pars, N);\n",
    "plot(0:N,Pn_true, label = L\"P(n_M)\", legend = :topright, lc = chosen_pal[7], \n",
    "    fill = true, c = chosen_pal[7], alpha=0.5)\n",
    "plot!(grid = false, minorgrid = false, size = (400,200))\n",
    "xlabel!(L\"n_M\")"
   ]
  },
  {
   "cell_type": "markdown",
   "id": "2411d199",
   "metadata": {},
   "source": [
    "We can also make a quick sanity check that the probability sums to 1."
   ]
  },
  {
   "cell_type": "code",
   "execution_count": 29,
   "id": "517ae7e2",
   "metadata": {},
   "outputs": [
    {
     "data": {
      "text/plain": [
       "1.0"
      ]
     },
     "execution_count": 29,
     "metadata": {},
     "output_type": "execute_result"
    }
   ],
   "source": [
    "sum(Pn_true)"
   ]
  },
  {
   "cell_type": "markdown",
   "id": "e93c1a6b",
   "metadata": {},
   "source": [
    "Which it does! Finally, given some lineage data one can calculate the log-likelhood of observing a given steady state trajectory given the underlying probability distribution. Using the lineage data above and our FSP this gives..."
   ]
  },
  {
   "cell_type": "code",
   "execution_count": 31,
   "id": "9e16a646",
   "metadata": {},
   "outputs": [
    {
     "data": {
      "text/plain": [
       "124.9627498804219540613384784071370035985560371542845349855449925241264948048252"
      ]
     },
     "execution_count": 31,
     "metadata": {},
     "output_type": "execute_result"
    }
   ],
   "source": [
    "true_min_llh = -sum([log10(Pn_true[floor(Int,x)]) for x in l_data])"
   ]
  },
  {
   "cell_type": "markdown",
   "id": "937b7cca",
   "metadata": {},
   "source": [
    "We will comment on why we do this below, just keep this number in mind."
   ]
  },
  {
   "cell_type": "markdown",
   "id": "cafe093a",
   "metadata": {},
   "source": [
    "## Maximum likelihood estimation (using BlackBoxOptim.jl)"
   ]
  },
  {
   "cell_type": "markdown",
   "id": "be7200f9",
   "metadata": {},
   "source": [
    "### What is maximum likelihood estimation (MLE)?"
   ]
  },
  {
   "cell_type": "markdown",
   "id": "5aa3e76b",
   "metadata": {},
   "source": [
    "Maximum likehood estimation is the process of identifying a set of parameters in a model that maximises the likelihood of the observed data. For our example, for each observation in `l_data` we can calculate the likelihood as the product of the probabilities of each observation, i.e., $\\mathcal{L} = \\prod_{i\\in l_{\\mathrm{data}}} P(i)$ (events assumed independent therefore the probability of seeing all events together is simply the product). Say we don't know the optimal parameters $\\theta_{\\mathrm{max}} = (k_{on},k_{off},k_m,k_d)$, but that for any set $\\theta$ we can calucate $P(n_M|\\theta)$. The likelihood of observing the data for some parameter set $\\theta$ is then $\\mathcal{L}(\\theta) = \\prod_{i\\in l_{\\mathrm{data}}} P(i|\\theta)$. By maximising this likelihood one can then determine the parameters of the model that best describe the data.\n",
    "\n",
    "In practise $\\mathcal{L}(\\theta)$ is very small, therefore it is more computationally viable to minimise the negative logarithm of $\\mathcal{L}(\\theta)$."
   ]
  },
  {
   "cell_type": "markdown",
   "id": "2fc14889",
   "metadata": {},
   "source": [
    "### Specifying a cost function"
   ]
  },
  {
   "cell_type": "markdown",
   "id": "09dafa6f",
   "metadata": {},
   "source": [
    "We now need a function that will calculate the negative logarithm of the likelihood of the data given a set of parameters. Note that the optimisation itself will be done in log-space, hence the `log10`'s and `10 .^`'s below.\n",
    "\n",
    "Note that due to the indistinguishability at steady state, we will set $k_d=1$ and infer the other three remaining parameters. One can then compare the results of the inference to `rs_pars`."
   ]
  },
  {
   "cell_type": "code",
   "execution_count": 44,
   "id": "ee229310",
   "metadata": {},
   "outputs": [
    {
     "data": {
      "text/plain": [
       "negllh (generic function with 1 method)"
      ]
     },
     "execution_count": 44,
     "metadata": {},
     "output_type": "execute_result"
    }
   ],
   "source": [
    "# θ is a three-element vector\n",
    "function negllh(θ)\n",
    "    # kd fixed at 1\n",
    "    FSPprob = FSP(vcat(10 .^θ, 1.0), N)\n",
    "    return -sum([log10(FSPprob[floor(Int,x)]) for x in l_data])\n",
    "end"
   ]
  },
  {
   "cell_type": "markdown",
   "id": "29dcf177",
   "metadata": {},
   "source": [
    "As a test let's use some random parameter set."
   ]
  },
  {
   "cell_type": "code",
   "execution_count": 43,
   "id": "e652c76c",
   "metadata": {},
   "outputs": [
    {
     "data": {
      "text/plain": [
       "920.9735476355219685381562172044228862830393694440592454078604563492149510469001"
      ]
     },
     "execution_count": 43,
     "metadata": {},
     "output_type": "execute_result"
    }
   ],
   "source": [
    "negllh(log10.([0.001,2.0,4.0]))"
   ]
  },
  {
   "cell_type": "markdown",
   "id": "90a80e9f",
   "metadata": {},
   "source": [
    "As expected this gives a much larger NLL than the true parameters."
   ]
  },
  {
   "cell_type": "markdown",
   "id": "67cb12c8",
   "metadata": {},
   "source": [
    "### Optimising the cost function"
   ]
  },
  {
   "cell_type": "markdown",
   "id": "1b2ccde4",
   "metadata": {},
   "source": [
    "We can now use optimisation algorithms to provide a *point estimate* of the set of parameters that best describe the data. There are two possible options here: local optimisation and global optimisation. Local optimisation, although not guaranteed to find a global minimum in a \"finite\" time, will generally find a very good local minimum in a short amount of time. On the other hand, global optimisation is guaranteed to find the global minimum in a \"finite\" time, but this can take a very long time and often it takes a great deal of time to find a minmum as good as local optimisation. In this notebook we will show how to use both and compare the results!"
   ]
  },
  {
   "cell_type": "markdown",
   "id": "9303f202",
   "metadata": {},
   "source": [
    "Starting with the local optimisation, we use the package `Optim.jl` and specifically the Nelder-Mead algorithm."
   ]
  },
  {
   "cell_type": "code",
   "execution_count": 35,
   "id": "3ec3f39a",
   "metadata": {},
   "outputs": [],
   "source": [
    "using Optim"
   ]
  },
  {
   "cell_type": "markdown",
   "id": "dd02eb1b",
   "metadata": {},
   "source": [
    "The choice of starting point is very important in local optimisation. Start in at the wrong point in parameter space and a bad local optima may be chosen. With no information start with something uniform, say $\\theta$"
   ]
  },
  {
   "cell_type": "code",
   "execution_count": null,
   "id": "23db3e25",
   "metadata": {},
   "outputs": [],
   "source": [
    "nmopt = optimize(cost_fn_llh, log10_inf_pars[i])"
   ]
  },
  {
   "cell_type": "markdown",
   "id": "6042d738",
   "metadata": {},
   "source": [
    "## Bayesian inference (using Turing.jl)"
   ]
  },
  {
   "cell_type": "code",
   "execution_count": null,
   "id": "e1dc990e",
   "metadata": {},
   "outputs": [],
   "source": []
  }
 ],
 "metadata": {
  "kernelspec": {
   "display_name": "Julia 1.6.2",
   "language": "julia",
   "name": "julia-1.6"
  },
  "language_info": {
   "file_extension": ".jl",
   "mimetype": "application/julia",
   "name": "julia",
   "version": "1.6.2"
  }
 },
 "nbformat": 4,
 "nbformat_minor": 5
}
