{
 "cells": [
  {
   "cell_type": "markdown",
   "id": "a9c7903a",
   "metadata": {},
   "source": [
    "# Example parameter inference using synthetic data (in Julia)"
   ]
  },
  {
   "cell_type": "markdown",
   "id": "03234e08",
   "metadata": {},
   "source": [
    "##### By James Holehouse: jamesholehouse1@gmail.com"
   ]
  },
  {
   "cell_type": "markdown",
   "id": "b383fec6",
   "metadata": {},
   "source": [
    "This notebook provides a brief tour of stochastic simulations and parameter inference in stochastic gene expression. It covers usage of a stochastic simulation algorithm (SSA), finite state projection, maximum likelihood parameter inference and Bayesian parameter inference.\n",
    "\n",
    "The aim of parameter inference is to fit models to data and in the process recover parameters for our models that best explain the data. Parameter inference can also be used in combination with *information criteria* to determine which model is most appropriate for a given set of experimental data. This notebook will not cover information criteria, but they are relativly easy to use. If you want to know more you can email me (I can provide examples) or else speak to Kaan or Ramon (of the [Grima group](https://grimagroup.bio.ed.ac.uk/group-members))."
   ]
  },
  {
   "cell_type": "markdown",
   "id": "ed2337b0",
   "metadata": {},
   "source": [
    "## Packages"
   ]
  },
  {
   "cell_type": "markdown",
   "id": "8da5565f",
   "metadata": {},
   "source": [
    "Before running this notebook make sure you install the following packages using the command below (after uncommenting). If you haven't yet installed the latest version of Julia please do so [here](https://julialang.org/downloads/)."
   ]
  },
  {
   "cell_type": "code",
   "execution_count": 1,
   "id": "1d13257c",
   "metadata": {},
   "outputs": [],
   "source": [
    "# ] add Plots LaTeXStrings Distributions DoubleFloats Plots.PlotMeasures, \n",
    "#         Catalyst DiffEqJump FiniteStateProjection OrdinaryDiffEq DifferentialEquations\n",
    "#             SparseArrays LinearAlgebra Turing BlackBoxOptim, Catalyst"
   ]
  },
  {
   "cell_type": "code",
   "execution_count": 2,
   "id": "0cd7f107",
   "metadata": {},
   "outputs": [],
   "source": [
    "using Plots, LaTeXStrings, Distributions, DoubleFloats, Plots.PlotMeasures, \n",
    "        Catalyst, DiffEqJump, FiniteStateProjection, OrdinaryDiffEq, DifferentialEquations, \n",
    "            SparseArrays, LinearAlgebra, BlackBoxOptim, Turing\n",
    "Plots.theme(:dao)"
   ]
  },
  {
   "cell_type": "markdown",
   "id": "ac296448",
   "metadata": {},
   "source": [
    "## Creating sythetic data using the SSA "
   ]
  },
  {
   "cell_type": "markdown",
   "id": "95f79ea7",
   "metadata": {},
   "source": [
    "In this section of the notebook we show how to run the SSA to produce sythetic data. We use a manually coded SSA for clarity that utilises the direct SSA method shown in [Gillespie's review](https://www.annualreviews.org/doi/abs/10.1146/annurev.physchem.58.032806.104637). There do exist packages in Julia that allow one to use the SSA without manually coding it up, and you can explore usage of that with respect to *genetic autoregulation* [here](https://github.com/jamesholehouse/SSAandFSPexample/blob/main/Julia_SSA_FSP_example.ipynb)."
   ]
  },
  {
   "cell_type": "markdown",
   "id": "1c34c010",
   "metadata": {},
   "source": [
    "The example reaction scheme that we will use in this notebook is the telegraph model of gene expression (for context see introduction to [this paper](https://royalsocietypublishing.org/doi/pdf/10.1098/rsif.2021.0510)). The reaction scheme is explicitly given as,\n",
    "$$ G\\xrightarrow{k_{off}}G^\\star, G^\\star\\xrightarrow{k_{on}}G, G\\xrightarrow{k_{m}} G+M, M\\xrightarrow{k_{d}}\\varnothing.$$\n",
    "In this notebook we make sure to only use steady state data. This can be taken across a population of cells (e.g., smFISH snapshot data) or in a lineage sense (e.g., mother machine data). Verification that the steady state has been reached in the synthetic data can be seen where the moments (and probability distributions) do not change in time.\n",
    "\n",
    "Let's create some population snapshot and lineage data. We assume that we have access to the mRNA number, but not the gene state since this is difficult to measure in real experiments. First we need to import the SSA package."
   ]
  },
  {
   "cell_type": "code",
   "execution_count": 3,
   "id": "6344c7fb",
   "metadata": {},
   "outputs": [],
   "source": [
    "path_to_folder = pwd(); file_path = join([path_to_folder,\"/SSA-TM.jl\"]);\n",
    "include(file_path);\n",
    "using .SSATM"
   ]
  },
  {
   "cell_type": "markdown",
   "id": "ca7773f2",
   "metadata": {},
   "source": [
    "And now choose a parameter set corresponding to the sythetic data set."
   ]
  },
  {
   "cell_type": "code",
   "execution_count": 4,
   "id": "8a51f52b",
   "metadata": {},
   "outputs": [],
   "source": [
    "pars = [2.0,1.0,10.0,0.5]; # in order kon, koff, km, kd"
   ]
  },
  {
   "cell_type": "markdown",
   "id": "14a38952",
   "metadata": {},
   "source": [
    "At steady state we have indistinguishability in one of the parameters (i.e., increasing all rate parameters by some scale factor $c$ gives the same probability distribution). Therefore we define a rescaled parameter set too (rescaled by $k_d$)."
   ]
  },
  {
   "cell_type": "code",
   "execution_count": 34,
   "id": "81e76a94",
   "metadata": {},
   "outputs": [
    {
     "data": {
      "text/plain": [
       "4-element Vector{Float64}:\n",
       "  4.0\n",
       "  2.0\n",
       " 20.0\n",
       "  1.0"
      ]
     },
     "execution_count": 34,
     "metadata": {},
     "output_type": "execute_result"
    }
   ],
   "source": [
    "rs_pars = pars./pars[4]"
   ]
  },
  {
   "cell_type": "markdown",
   "id": "5387a2e1",
   "metadata": {},
   "source": [
    "First, let's produce some population data over 100 cells (make sure to check that steady state has been reached). The arguments of the SSA function correspond to: (1) the number of independent SSA runs (the number of cells), (2) the parameters for the simulation, (3) the total simulation time, and (4) the storage period. We take our population snapshot at the final timepoint for $M$ data across all the cells."
   ]
  },
  {
   "cell_type": "code",
   "execution_count": 6,
   "id": "83938d9e",
   "metadata": {},
   "outputs": [
    {
     "name": "stdout",
     "output_type": "stream",
     "text": [
      "[25.0 20.0 12.0 16.0 18.0 19.0 13.0 22.0 6.0 13.0 24.0 16.0 12.0 19.0 9.0 20.0 10.0 11.0 19.0 15.0 10.0 12.0 8.0 9.0 8.0 14.0 7.0 11.0 12.0 24.0 4.0 13.0 9.0 17.0 14.0 9.0 16.0 18.0 11.0 7.0 11.0 15.0 19.0 11.0 7.0 7.0 10.0 11.0 15.0 9.0 20.0 21.0 12.0 20.0 14.0 14.0 17.0 12.0 18.0 16.0 14.0 16.0 19.0 6.0 18.0 12.0 15.0 10.0 25.0 17.0 22.0 25.0 13.0 17.0 15.0 11.0 14.0 10.0 11.0 11.0 12.0 4.0 22.0 7.0 8.0 14.0 16.0 12.0 10.0 11.0 20.0 16.0 9.0 15.0 17.0 16.0 18.0 5.0 18.0 8.0]"
     ]
    }
   ],
   "source": [
    "pop_data = SSA(100, pars, 1000, 1.0)[2,:,end]\n",
    "print(transpose(pop_data)) # print the mRNA numbers"
   ]
  },
  {
   "cell_type": "markdown",
   "id": "c82108c2",
   "metadata": {},
   "source": [
    "Second, let's produce some lineage data. Now our data will consist of a single SSA run, but we follow a steady state trajectory over many timepoints. Let's say we have access to 200 individual readings in time."
   ]
  },
  {
   "cell_type": "code",
   "execution_count": 71,
   "id": "b8671308",
   "metadata": {},
   "outputs": [],
   "source": [
    "all_lin_data = SSA(1, pars, 1000, 1.0)\n",
    "# take 100 timepts of this lineage data.\n",
    "lin_data = all_lin_data[2,:,end-199:end]\n",
    "# convert data to a Vector\n",
    "l_data = vcat(lin_data...);"
   ]
  },
  {
   "cell_type": "markdown",
   "id": "d2dfed55",
   "metadata": {},
   "source": [
    "For clarity, we can plot the lineage data and see how it fluctuates. Before this though make a color blind color scheme."
   ]
  },
  {
   "cell_type": "code",
   "execution_count": 72,
   "id": "a98e14c0",
   "metadata": {},
   "outputs": [
    {
     "data": {
      "image/svg+xml": [
       "<?xml version=\"1.0\" encoding=\"UTF-8\"?>\n",
       "<!DOCTYPE svg PUBLIC \"-//W3C//DTD SVG 1.1//EN\"\n",
       " \"http://www.w3.org/Graphics/SVG/1.1/DTD/svg11.dtd\">\n",
       "<svg xmlns=\"http://www.w3.org/2000/svg\" version=\"1.1\"\n",
       "     width=\"175mm\" height=\"25mm\" viewBox=\"0 0 7 1\" stroke=\"none\"\n",
       "     preserveAspectRatio=\"none\" shape-rendering=\"crispEdges\">\n",
       "<defs>\n",
       "    <pattern id=\"pat_4TV4v9\" width=\".2\" height=\".2\"\n",
       "             patternUnits=\"userSpaceOnUse\" >\n",
       "        <path d=\"M.1,0h.1v.1h-.2v.1h.1z\" fill=\"#999\" opacity=\".5\" />\n",
       "    </pattern>\n",
       "</defs>\n",
       "<rect width=\"7\" height=\"1\" fill=\"url(#pat_4TV4v9)\" />\n",
       "<path d=\"M1,0v1h-1z\" fill=\"#4BADA2\" />\n",
       "<path d=\"M0,0h1v1h-1z\" fill=\"#4BADA2\" fill-opacity=\"1\" />\n",
       "<path d=\"M2,0v1h-1z\" fill=\"#1B8147\" />\n",
       "<path d=\"M1,0h1v1h-1z\" fill=\"#1B8147\" fill-opacity=\"1\" />\n",
       "<path d=\"M3,0v1h-1z\" fill=\"#293B6E\" />\n",
       "<path d=\"M2,0h1v1h-1z\" fill=\"#293B6E\" fill-opacity=\"1\" />\n",
       "<path d=\"M4,0v1h-1z\" fill=\"#99887E\" />\n",
       "<path d=\"M3,0h1v1h-1z\" fill=\"#99887E\" fill-opacity=\"1\" />\n",
       "<path d=\"M5,0v1h-1z\" fill=\"#BBB255\" />\n",
       "<path d=\"M4,0h1v1h-1z\" fill=\"#BBB255\" fill-opacity=\"1\" />\n",
       "<path d=\"M6,0v1h-1z\" fill=\"#AD854E\" />\n",
       "<path d=\"M5,0h1v1h-1z\" fill=\"#AD854E\" fill-opacity=\"1\" />\n",
       "<path d=\"M7,0v1h-1z\" fill=\"#B8526D\" />\n",
       "<path d=\"M6,0h1v1h-1z\" fill=\"#B8526D\" fill-opacity=\"1\" />\n",
       "</svg>"
      ],
      "text/plain": [
       "7-element Array{RGBA{Float64},1} with eltype RGBA{Float64}:\n",
       " RGBA{Float64}(0.2933333333333333,0.6799999999999999,0.6333333333333333,1.0)\n",
       " RGBA{Float64}(0.1066666666666666,0.5066666666666666,0.2799999999999999,1.0)\n",
       " RGBA{Float64}(0.16000000000000003,0.23333333333333328,0.43333333333333335,1.0)\n",
       " RGBA{Float64}(0.6000000000000003,0.5333333333333337,0.4933333333333333,1.0)\n",
       " RGBA{Float64}(0.7333333333333334,0.7,0.33333333333333337,1.0)\n",
       " RGBA{Float64}(0.6799999999999999,0.5200000000000001,0.30666666666666653,1.0)\n",
       " RGBA{Float64}(0.7200000000000001,0.32000000000000006,0.4266666666666667,1.0)"
      ]
     },
     "execution_count": 72,
     "metadata": {},
     "output_type": "execute_result"
    }
   ],
   "source": [
    "pal = cgrad(:tol_muted);\n",
    "chosen_pal = [pal[i] for i in 0.1:0.1:0.7]"
   ]
  },
  {
   "cell_type": "code",
   "execution_count": 73,
   "id": "fbf8e0fb",
   "metadata": {},
   "outputs": [
    {
     "data": {
      "image/svg+xml": [
       "<?xml version=\"1.0\" encoding=\"utf-8\"?>\n",
       "<svg xmlns=\"http://www.w3.org/2000/svg\" xmlns:xlink=\"http://www.w3.org/1999/xlink\" width=\"600\" height=\"200\" viewBox=\"0 0 2400 800\">\n",
       "<defs>\n",
       "  <clipPath id=\"clip800\">\n",
       "    <rect x=\"0\" y=\"0\" width=\"2400\" height=\"800\"/>\n",
       "  </clipPath>\n",
       "</defs>\n",
       "<path clip-path=\"url(#clip800)\" d=\"\n",
       "M0 800 L2400 800 L2400 0 L0 0  Z\n",
       "  \" fill=\"#ffffff\" fill-rule=\"evenodd\" fill-opacity=\"1\"/>\n",
       "<defs>\n",
       "  <clipPath id=\"clip801\">\n",
       "    <rect x=\"480\" y=\"0\" width=\"1681\" height=\"800\"/>\n",
       "  </clipPath>\n",
       "</defs>\n",
       "<defs>\n",
       "  <clipPath id=\"clip802\">\n",
       "    <rect x=\"133\" y=\"47\" width=\"2220\" height=\"592\"/>\n",
       "  </clipPath>\n",
       "</defs>\n",
       "<path clip-path=\"url(#clip800)\" d=\"\n",
       "M133.434 638.564 L2352.76 638.564 L2352.76 47.2441 L133.434 47.2441  Z\n",
       "  \" fill=\"#ffffff\" fill-rule=\"evenodd\" fill-opacity=\"1\"/>\n",
       "<polyline clip-path=\"url(#clip800)\" style=\"stroke:#000000; stroke-linecap:butt; stroke-linejoin:round; stroke-width:4; stroke-opacity:1; fill:none\" points=\"\n",
       "  133.434,638.564 2352.76,638.564 \n",
       "  \"/>\n",
       "<polyline clip-path=\"url(#clip800)\" style=\"stroke:#000000; stroke-linecap:butt; stroke-linejoin:round; stroke-width:4; stroke-opacity:1; fill:none\" points=\"\n",
       "  133.434,47.2441 2352.76,47.2441 \n",
       "  \"/>\n",
       "<polyline clip-path=\"url(#clip800)\" style=\"stroke:#000000; stroke-linecap:butt; stroke-linejoin:round; stroke-width:4; stroke-opacity:1; fill:none\" points=\"\n",
       "  155.192,638.564 155.192,619.666 \n",
       "  \"/>\n",
       "<polyline clip-path=\"url(#clip800)\" style=\"stroke:#000000; stroke-linecap:butt; stroke-linejoin:round; stroke-width:4; stroke-opacity:1; fill:none\" points=\"\n",
       "  699.144,638.564 699.144,619.666 \n",
       "  \"/>\n",
       "<polyline clip-path=\"url(#clip800)\" style=\"stroke:#000000; stroke-linecap:butt; stroke-linejoin:round; stroke-width:4; stroke-opacity:1; fill:none\" points=\"\n",
       "  1243.1,638.564 1243.1,619.666 \n",
       "  \"/>\n",
       "<polyline clip-path=\"url(#clip800)\" style=\"stroke:#000000; stroke-linecap:butt; stroke-linejoin:round; stroke-width:4; stroke-opacity:1; fill:none\" points=\"\n",
       "  1787.05,638.564 1787.05,619.666 \n",
       "  \"/>\n",
       "<polyline clip-path=\"url(#clip800)\" style=\"stroke:#000000; stroke-linecap:butt; stroke-linejoin:round; stroke-width:4; stroke-opacity:1; fill:none\" points=\"\n",
       "  2331,638.564 2331,619.666 \n",
       "  \"/>\n",
       "<polyline clip-path=\"url(#clip800)\" style=\"stroke:#000000; stroke-linecap:butt; stroke-linejoin:round; stroke-width:4; stroke-opacity:1; fill:none\" points=\"\n",
       "  263.983,638.564 263.983,629.115 \n",
       "  \"/>\n",
       "<polyline clip-path=\"url(#clip800)\" style=\"stroke:#000000; stroke-linecap:butt; stroke-linejoin:round; stroke-width:4; stroke-opacity:1; fill:none\" points=\"\n",
       "  372.773,638.564 372.773,629.115 \n",
       "  \"/>\n",
       "<polyline clip-path=\"url(#clip800)\" style=\"stroke:#000000; stroke-linecap:butt; stroke-linejoin:round; stroke-width:4; stroke-opacity:1; fill:none\" points=\"\n",
       "  481.563,638.564 481.563,629.115 \n",
       "  \"/>\n",
       "<polyline clip-path=\"url(#clip800)\" style=\"stroke:#000000; stroke-linecap:butt; stroke-linejoin:round; stroke-width:4; stroke-opacity:1; fill:none\" points=\"\n",
       "  590.354,638.564 590.354,629.115 \n",
       "  \"/>\n",
       "<polyline clip-path=\"url(#clip800)\" style=\"stroke:#000000; stroke-linecap:butt; stroke-linejoin:round; stroke-width:4; stroke-opacity:1; fill:none\" points=\"\n",
       "  807.934,638.564 807.934,629.115 \n",
       "  \"/>\n",
       "<polyline clip-path=\"url(#clip800)\" style=\"stroke:#000000; stroke-linecap:butt; stroke-linejoin:round; stroke-width:4; stroke-opacity:1; fill:none\" points=\"\n",
       "  916.724,638.564 916.724,629.115 \n",
       "  \"/>\n",
       "<polyline clip-path=\"url(#clip800)\" style=\"stroke:#000000; stroke-linecap:butt; stroke-linejoin:round; stroke-width:4; stroke-opacity:1; fill:none\" points=\"\n",
       "  1025.51,638.564 1025.51,629.115 \n",
       "  \"/>\n",
       "<polyline clip-path=\"url(#clip800)\" style=\"stroke:#000000; stroke-linecap:butt; stroke-linejoin:round; stroke-width:4; stroke-opacity:1; fill:none\" points=\"\n",
       "  1134.3,638.564 1134.3,629.115 \n",
       "  \"/>\n",
       "<polyline clip-path=\"url(#clip800)\" style=\"stroke:#000000; stroke-linecap:butt; stroke-linejoin:round; stroke-width:4; stroke-opacity:1; fill:none\" points=\"\n",
       "  1351.89,638.564 1351.89,629.115 \n",
       "  \"/>\n",
       "<polyline clip-path=\"url(#clip800)\" style=\"stroke:#000000; stroke-linecap:butt; stroke-linejoin:round; stroke-width:4; stroke-opacity:1; fill:none\" points=\"\n",
       "  1460.68,638.564 1460.68,629.115 \n",
       "  \"/>\n",
       "<polyline clip-path=\"url(#clip800)\" style=\"stroke:#000000; stroke-linecap:butt; stroke-linejoin:round; stroke-width:4; stroke-opacity:1; fill:none\" points=\"\n",
       "  1569.47,638.564 1569.47,629.115 \n",
       "  \"/>\n",
       "<polyline clip-path=\"url(#clip800)\" style=\"stroke:#000000; stroke-linecap:butt; stroke-linejoin:round; stroke-width:4; stroke-opacity:1; fill:none\" points=\"\n",
       "  1678.26,638.564 1678.26,629.115 \n",
       "  \"/>\n",
       "<polyline clip-path=\"url(#clip800)\" style=\"stroke:#000000; stroke-linecap:butt; stroke-linejoin:round; stroke-width:4; stroke-opacity:1; fill:none\" points=\"\n",
       "  1895.84,638.564 1895.84,629.115 \n",
       "  \"/>\n",
       "<polyline clip-path=\"url(#clip800)\" style=\"stroke:#000000; stroke-linecap:butt; stroke-linejoin:round; stroke-width:4; stroke-opacity:1; fill:none\" points=\"\n",
       "  2004.63,638.564 2004.63,629.115 \n",
       "  \"/>\n",
       "<polyline clip-path=\"url(#clip800)\" style=\"stroke:#000000; stroke-linecap:butt; stroke-linejoin:round; stroke-width:4; stroke-opacity:1; fill:none\" points=\"\n",
       "  2113.42,638.564 2113.42,629.115 \n",
       "  \"/>\n",
       "<polyline clip-path=\"url(#clip800)\" style=\"stroke:#000000; stroke-linecap:butt; stroke-linejoin:round; stroke-width:4; stroke-opacity:1; fill:none\" points=\"\n",
       "  2222.21,638.564 2222.21,629.115 \n",
       "  \"/>\n",
       "<path clip-path=\"url(#clip800)\" d=\"M144.545 684.783 Q144.545 677.347 146.423 673.296 Q149.041 667.268 155.217 667.268 Q156.526 667.268 157.885 667.639 Q159.269 667.985 160.998 669.343 Q162.752 670.702 163.814 672.925 Q165.84 677.224 165.84 684.783 Q165.84 692.169 163.962 696.196 Q161.22 702.075 155.168 702.075 Q152.895 702.075 150.573 700.914 Q148.276 699.753 146.818 696.962 Q144.545 692.787 144.545 684.783 M148.745 684.165 Q148.745 691.799 149.288 694.837 Q149.906 698.123 151.586 699.556 Q153.29 700.964 155.168 700.964 Q157.193 700.964 158.873 699.457 Q160.578 697.925 161.097 694.64 Q161.665 691.404 161.64 684.165 Q161.64 677.125 161.146 674.309 Q160.479 671.023 158.7 669.714 Q156.946 668.38 155.168 668.38 Q154.501 668.38 153.784 668.578 Q153.093 668.775 152.08 669.343 Q151.067 669.912 150.277 671.32 Q149.511 672.728 149.14 674.852 Q148.745 677.594 148.745 684.165 Z\" fill=\"#000000\" fill-rule=\"evenodd\" fill-opacity=\"1\" /><path clip-path=\"url(#clip800)\" d=\"M663.472 700.964 Q663.472 700.05 663.546 699.778 Q663.645 699.506 664.04 699.086 L673.749 688.266 Q679.06 682.288 679.06 677.076 Q679.06 673.691 677.281 671.27 Q675.527 668.849 672.291 668.849 Q670.068 668.849 668.191 670.208 Q666.313 671.567 665.448 673.988 Q665.597 673.938 666.115 673.938 Q667.375 673.938 668.067 674.729 Q668.783 675.519 668.783 676.582 Q668.783 677.94 667.894 678.607 Q667.029 679.25 666.165 679.25 Q665.819 679.25 665.35 679.175 Q664.905 679.101 664.189 678.41 Q663.472 677.693 663.472 676.433 Q663.472 672.901 666.14 670.085 Q668.833 667.268 672.934 667.268 Q677.578 667.268 680.616 670.035 Q683.68 672.777 683.68 677.076 Q683.68 678.583 683.21 679.966 Q682.766 681.325 682.148 682.387 Q681.555 683.449 679.925 685.154 Q678.294 686.858 676.985 688.069 Q675.676 689.279 672.736 691.848 L667.375 697.061 L676.491 697.061 Q680.937 697.061 681.283 696.665 Q681.777 695.949 682.395 692.169 L683.68 692.169 L682.247 700.964 L663.472 700.964 Z\" fill=\"#000000\" fill-rule=\"evenodd\" fill-opacity=\"1\" /><path clip-path=\"url(#clip800)\" d=\"M688.768 692.812 Q688.768 691.305 689.584 690.737 Q690.399 690.144 691.263 690.144 Q692.425 690.144 693.092 690.885 Q693.783 691.601 693.783 692.614 Q693.783 693.627 693.092 694.368 Q692.425 695.084 691.263 695.084 Q690.695 695.084 690.399 694.986 Q691.066 697.308 693.092 698.988 Q695.142 700.667 697.835 700.667 Q701.219 700.667 703.245 697.382 Q704.455 695.257 704.455 690.44 Q704.455 686.191 703.541 684.067 Q702.133 680.831 699.243 680.831 Q695.142 680.831 692.721 684.363 Q692.425 684.808 692.079 684.832 Q691.585 684.832 691.461 684.561 Q691.362 684.264 691.362 683.499 L691.362 668.528 Q691.362 667.318 691.856 667.318 Q692.054 667.318 692.474 667.466 Q695.661 668.874 699.193 668.899 Q702.825 668.899 706.085 667.417 Q706.333 667.268 706.481 667.268 Q706.975 667.268 707 667.837 Q707 668.034 706.58 668.627 Q706.184 669.195 705.32 669.961 Q704.455 670.702 703.343 671.419 Q702.232 672.135 700.601 672.629 Q698.996 673.098 697.217 673.098 Q695.092 673.098 692.919 672.431 L692.919 682.288 Q695.537 679.719 699.341 679.719 Q703.393 679.719 706.184 682.98 Q708.976 686.241 708.976 690.786 Q708.976 695.554 705.666 698.815 Q702.38 702.075 697.933 702.075 Q693.882 702.075 691.313 699.185 Q688.768 696.295 688.768 692.812 Z\" fill=\"#000000\" fill-rule=\"evenodd\" fill-opacity=\"1\" /><path clip-path=\"url(#clip800)\" d=\"M713.521 684.783 Q713.521 677.347 715.399 673.296 Q718.017 667.268 724.193 667.268 Q725.502 667.268 726.861 667.639 Q728.244 667.985 729.974 669.343 Q731.728 670.702 732.79 672.925 Q734.815 677.224 734.815 684.783 Q734.815 692.169 732.938 696.196 Q730.196 702.075 724.144 702.075 Q721.871 702.075 719.549 700.914 Q717.251 699.753 715.794 696.962 Q713.521 692.787 713.521 684.783 M717.721 684.165 Q717.721 691.799 718.264 694.837 Q718.882 698.123 720.562 699.556 Q722.266 700.964 724.144 700.964 Q726.169 700.964 727.849 699.457 Q729.554 697.925 730.072 694.64 Q730.641 691.404 730.616 684.165 Q730.616 677.125 730.122 674.309 Q729.455 671.023 727.676 669.714 Q725.922 668.38 724.144 668.38 Q723.477 668.38 722.76 668.578 Q722.069 668.775 721.056 669.343 Q720.043 669.912 719.252 671.32 Q718.487 672.728 718.116 674.852 Q717.721 677.594 717.721 684.165 Z\" fill=\"#000000\" fill-rule=\"evenodd\" fill-opacity=\"1\" /><path clip-path=\"url(#clip800)\" d=\"M1207.42 692.812 Q1207.42 691.305 1208.24 690.737 Q1209.05 690.144 1209.92 690.144 Q1211.08 690.144 1211.75 690.885 Q1212.44 691.601 1212.44 692.614 Q1212.44 693.627 1211.75 694.368 Q1211.08 695.084 1209.92 695.084 Q1209.35 695.084 1209.05 694.986 Q1209.72 697.308 1211.75 698.988 Q1213.8 700.667 1216.49 700.667 Q1219.87 700.667 1221.9 697.382 Q1223.11 695.257 1223.11 690.44 Q1223.11 686.191 1222.2 684.067 Q1220.79 680.831 1217.9 680.831 Q1213.8 680.831 1211.38 684.363 Q1211.08 684.808 1210.73 684.832 Q1210.24 684.832 1210.12 684.561 Q1210.02 684.264 1210.02 683.499 L1210.02 668.528 Q1210.02 667.318 1210.51 667.318 Q1210.71 667.318 1211.13 667.466 Q1214.32 668.874 1217.85 668.899 Q1221.48 668.899 1224.74 667.417 Q1224.99 667.268 1225.14 667.268 Q1225.63 667.268 1225.65 667.837 Q1225.65 668.034 1225.23 668.627 Q1224.84 669.195 1223.97 669.961 Q1223.11 670.702 1222 671.419 Q1220.89 672.135 1219.26 672.629 Q1217.65 673.098 1215.87 673.098 Q1213.75 673.098 1211.57 672.431 L1211.57 682.288 Q1214.19 679.719 1218 679.719 Q1222.05 679.719 1224.84 682.98 Q1227.63 686.241 1227.63 690.786 Q1227.63 695.554 1224.32 698.815 Q1221.04 702.075 1216.59 702.075 Q1212.54 702.075 1209.97 699.185 Q1207.42 696.295 1207.42 692.812 Z\" fill=\"#000000\" fill-rule=\"evenodd\" fill-opacity=\"1\" /><path clip-path=\"url(#clip800)\" d=\"M1232.18 684.783 Q1232.18 677.347 1234.05 673.296 Q1236.67 667.268 1242.85 667.268 Q1244.16 667.268 1245.52 667.639 Q1246.9 667.985 1248.63 669.343 Q1250.38 670.702 1251.44 672.925 Q1253.47 677.224 1253.47 684.783 Q1253.47 692.169 1251.59 696.196 Q1248.85 702.075 1242.8 702.075 Q1240.53 702.075 1238.2 700.914 Q1235.91 699.753 1234.45 696.962 Q1232.18 692.787 1232.18 684.783 M1236.38 684.165 Q1236.38 691.799 1236.92 694.837 Q1237.54 698.123 1239.22 699.556 Q1240.92 700.964 1242.8 700.964 Q1244.82 700.964 1246.5 699.457 Q1248.21 697.925 1248.73 694.64 Q1249.3 691.404 1249.27 684.165 Q1249.27 677.125 1248.78 674.309 Q1248.11 671.023 1246.33 669.714 Q1244.58 668.38 1242.8 668.38 Q1242.13 668.38 1241.42 668.578 Q1240.72 668.775 1239.71 669.343 Q1238.7 669.912 1237.91 671.32 Q1237.14 672.728 1236.77 674.852 Q1236.38 677.594 1236.38 684.165 Z\" fill=\"#000000\" fill-rule=\"evenodd\" fill-opacity=\"1\" /><path clip-path=\"url(#clip800)\" d=\"M1257.47 684.783 Q1257.47 677.347 1259.35 673.296 Q1261.97 667.268 1268.14 667.268 Q1269.45 667.268 1270.81 667.639 Q1272.2 667.985 1273.92 669.343 Q1275.68 670.702 1276.74 672.925 Q1278.77 677.224 1278.77 684.783 Q1278.77 692.169 1276.89 696.196 Q1274.15 702.075 1268.09 702.075 Q1265.82 702.075 1263.5 700.914 Q1261.2 699.753 1259.75 696.962 Q1257.47 692.787 1257.47 684.783 M1261.67 684.165 Q1261.67 691.799 1262.22 694.837 Q1262.83 698.123 1264.51 699.556 Q1266.22 700.964 1268.09 700.964 Q1270.12 700.964 1271.8 699.457 Q1273.51 697.925 1274.02 694.64 Q1274.59 691.404 1274.57 684.165 Q1274.57 677.125 1274.07 674.309 Q1273.41 671.023 1271.63 669.714 Q1269.87 668.38 1268.09 668.38 Q1267.43 668.38 1266.71 668.578 Q1266.02 668.775 1265.01 669.343 Q1263.99 669.912 1263.2 671.32 Q1262.44 672.728 1262.07 674.852 Q1261.67 677.594 1261.67 684.165 Z\" fill=\"#000000\" fill-rule=\"evenodd\" fill-opacity=\"1\" /><path clip-path=\"url(#clip800)\" d=\"M1751.54 677.174 L1753.19 666.774 L1754.45 666.774 Q1754.6 667.392 1754.85 667.664 Q1755.12 667.935 1756.55 668.158 Q1758.01 668.38 1760.95 668.38 L1773.22 668.38 Q1773.22 669.541 1772.78 670.159 L1765.94 679.768 Q1763.76 682.807 1762.8 688.414 Q1762.23 692.169 1762.26 696.715 L1762.26 699.284 Q1762.26 702.075 1759.91 702.075 Q1757.59 702.075 1757.59 699.284 Q1757.59 689.625 1763.81 680.262 Q1764.48 679.299 1766.93 675.865 Q1769.4 672.431 1769.49 672.283 L1759.02 672.283 Q1754.43 672.283 1754.06 672.58 Q1753.56 673.024 1752.8 677.174 L1751.54 677.174 Z\" fill=\"#000000\" fill-rule=\"evenodd\" fill-opacity=\"1\" /><path clip-path=\"url(#clip800)\" d=\"M1776.51 692.812 Q1776.51 691.305 1777.33 690.737 Q1778.14 690.144 1779.01 690.144 Q1780.17 690.144 1780.83 690.885 Q1781.53 691.601 1781.53 692.614 Q1781.53 693.627 1780.83 694.368 Q1780.17 695.084 1779.01 695.084 Q1778.44 695.084 1778.14 694.986 Q1778.81 697.308 1780.83 698.988 Q1782.88 700.667 1785.58 700.667 Q1788.96 700.667 1790.99 697.382 Q1792.2 695.257 1792.2 690.44 Q1792.2 686.191 1791.28 684.067 Q1789.88 680.831 1786.98 680.831 Q1782.88 680.831 1780.46 684.363 Q1780.17 684.808 1779.82 684.832 Q1779.33 684.832 1779.2 684.561 Q1779.1 684.264 1779.1 683.499 L1779.1 668.528 Q1779.1 667.318 1779.6 667.318 Q1779.8 667.318 1780.22 667.466 Q1783.4 668.874 1786.94 668.899 Q1790.57 668.899 1793.83 667.417 Q1794.07 667.268 1794.22 667.268 Q1794.72 667.268 1794.74 667.837 Q1794.74 668.034 1794.32 668.627 Q1793.93 669.195 1793.06 669.961 Q1792.2 670.702 1791.09 671.419 Q1789.97 672.135 1788.34 672.629 Q1786.74 673.098 1784.96 673.098 Q1782.83 673.098 1780.66 672.431 L1780.66 682.288 Q1783.28 679.719 1787.08 679.719 Q1791.13 679.719 1793.93 682.98 Q1796.72 686.241 1796.72 690.786 Q1796.72 695.554 1793.41 698.815 Q1790.12 702.075 1785.68 702.075 Q1781.62 702.075 1779.05 699.185 Q1776.51 696.295 1776.51 692.812 Z\" fill=\"#000000\" fill-rule=\"evenodd\" fill-opacity=\"1\" /><path clip-path=\"url(#clip800)\" d=\"M1801.26 684.783 Q1801.26 677.347 1803.14 673.296 Q1805.76 667.268 1811.94 667.268 Q1813.24 667.268 1814.6 667.639 Q1815.99 667.985 1817.72 669.343 Q1819.47 670.702 1820.53 672.925 Q1822.56 677.224 1822.56 684.783 Q1822.56 692.169 1820.68 696.196 Q1817.94 702.075 1811.89 702.075 Q1809.61 702.075 1807.29 700.914 Q1804.99 699.753 1803.54 696.962 Q1801.26 692.787 1801.26 684.783 M1805.46 684.165 Q1805.46 691.799 1806.01 694.837 Q1806.62 698.123 1808.3 699.556 Q1810.01 700.964 1811.89 700.964 Q1813.91 700.964 1815.59 699.457 Q1817.3 697.925 1817.81 694.64 Q1818.38 691.404 1818.36 684.165 Q1818.36 677.125 1817.86 674.309 Q1817.2 671.023 1815.42 669.714 Q1813.66 668.38 1811.89 668.38 Q1811.22 668.38 1810.5 668.578 Q1809.81 668.775 1808.8 669.343 Q1807.78 669.912 1806.99 671.32 Q1806.23 672.728 1805.86 674.852 Q1805.46 677.594 1805.46 684.165 Z\" fill=\"#000000\" fill-rule=\"evenodd\" fill-opacity=\"1\" /><path clip-path=\"url(#clip800)\" d=\"M2283.67 672.086 L2283.67 670.505 Q2289.74 670.505 2292.88 667.268 Q2293.75 667.268 2293.89 667.466 Q2294.04 667.664 2294.04 668.578 L2294.04 696.962 Q2294.04 698.469 2294.78 698.938 Q2295.52 699.407 2298.76 699.407 L2300.37 699.407 L2300.37 700.964 Q2298.59 700.816 2292.16 700.816 Q2285.74 700.816 2283.99 700.964 L2283.99 699.407 L2285.59 699.407 Q2288.78 699.407 2289.55 698.963 Q2290.31 698.493 2290.31 696.962 L2290.31 670.752 Q2287.67 672.086 2283.67 672.086 Z\" fill=\"#000000\" fill-rule=\"evenodd\" fill-opacity=\"1\" /><path clip-path=\"url(#clip800)\" d=\"M2306.44 684.783 Q2306.44 677.347 2308.32 673.296 Q2310.94 667.268 2317.11 667.268 Q2318.42 667.268 2319.78 667.639 Q2321.17 667.985 2322.9 669.343 Q2324.65 670.702 2325.71 672.925 Q2327.74 677.224 2327.74 684.783 Q2327.74 692.169 2325.86 696.196 Q2323.12 702.075 2317.07 702.075 Q2314.79 702.075 2312.47 700.914 Q2310.17 699.753 2308.72 696.962 Q2306.44 692.787 2306.44 684.783 M2310.64 684.165 Q2310.64 691.799 2311.19 694.837 Q2311.8 698.123 2313.48 699.556 Q2315.19 700.964 2317.07 700.964 Q2319.09 700.964 2320.77 699.457 Q2322.48 697.925 2322.99 694.64 Q2323.56 691.404 2323.54 684.165 Q2323.54 677.125 2323.04 674.309 Q2322.38 671.023 2320.6 669.714 Q2318.84 668.38 2317.07 668.38 Q2316.4 668.38 2315.68 668.578 Q2314.99 668.775 2313.98 669.343 Q2312.96 669.912 2312.17 671.32 Q2311.41 672.728 2311.04 674.852 Q2310.64 677.594 2310.64 684.165 Z\" fill=\"#000000\" fill-rule=\"evenodd\" fill-opacity=\"1\" /><path clip-path=\"url(#clip800)\" d=\"M2331.74 684.783 Q2331.74 677.347 2333.62 673.296 Q2336.23 667.268 2342.41 667.268 Q2343.72 667.268 2345.08 667.639 Q2346.46 667.985 2348.19 669.343 Q2349.95 670.702 2351.01 672.925 Q2353.03 677.224 2353.03 684.783 Q2353.03 692.169 2351.16 696.196 Q2348.41 702.075 2342.36 702.075 Q2340.09 702.075 2337.77 700.914 Q2335.47 699.753 2334.01 696.962 Q2331.74 692.787 2331.74 684.783 M2335.94 684.165 Q2335.94 691.799 2336.48 694.837 Q2337.1 698.123 2338.78 699.556 Q2340.48 700.964 2342.36 700.964 Q2344.39 700.964 2346.07 699.457 Q2347.77 697.925 2348.29 694.64 Q2348.86 691.404 2348.83 684.165 Q2348.83 677.125 2348.34 674.309 Q2347.67 671.023 2345.89 669.714 Q2344.14 668.38 2342.36 668.38 Q2341.69 668.38 2340.98 668.578 Q2340.29 668.775 2339.27 669.343 Q2338.26 669.912 2337.47 671.32 Q2336.7 672.728 2336.33 674.852 Q2335.94 677.594 2335.94 684.165 Z\" fill=\"#000000\" fill-rule=\"evenodd\" fill-opacity=\"1\" /><path clip-path=\"url(#clip800)\" d=\"M2357.04 684.783 Q2357.04 677.347 2358.91 673.296 Q2361.53 667.268 2367.71 667.268 Q2369.02 667.268 2370.38 667.639 Q2371.76 667.985 2373.49 669.343 Q2375.24 670.702 2376.3 672.925 Q2378.33 677.224 2378.33 684.783 Q2378.33 692.169 2376.45 696.196 Q2373.71 702.075 2367.66 702.075 Q2365.38 702.075 2363.06 700.914 Q2360.77 699.753 2359.31 696.962 Q2357.04 692.787 2357.04 684.783 M2361.23 684.165 Q2361.23 691.799 2361.78 694.837 Q2362.4 698.123 2364.08 699.556 Q2365.78 700.964 2367.66 700.964 Q2369.68 700.964 2371.36 699.457 Q2373.07 697.925 2373.59 694.64 Q2374.15 691.404 2374.13 684.165 Q2374.13 677.125 2373.64 674.309 Q2372.97 671.023 2371.19 669.714 Q2369.44 668.38 2367.66 668.38 Q2366.99 668.38 2366.27 668.578 Q2365.58 668.775 2364.57 669.343 Q2363.56 669.912 2362.77 671.32 Q2362 672.728 2361.63 674.852 Q2361.23 677.594 2361.23 684.165 Z\" fill=\"#000000\" fill-rule=\"evenodd\" fill-opacity=\"1\" /><path clip-path=\"url(#clip800)\" d=\"M1252.34 749.199 Q1252.34 750.183 1251.88 750.429 Q1251.42 750.64 1250.16 750.64 L1243.41 750.64 L1238.07 771.86 Q1237.65 773.722 1237.65 775.303 Q1237.65 777.06 1238.18 777.833 Q1238.74 778.606 1239.9 778.606 Q1242.18 778.606 1244.64 776.533 Q1247.14 774.46 1249.24 769.401 Q1249.53 768.733 1249.67 768.593 Q1249.84 768.417 1250.3 768.417 Q1251.18 768.417 1251.18 769.12 Q1251.18 769.366 1250.69 770.49 Q1250.23 771.614 1249.21 773.266 Q1248.23 774.917 1246.93 776.463 Q1245.66 778.009 1243.73 779.133 Q1241.8 780.222 1239.72 780.222 Q1236.81 780.222 1234.95 778.36 Q1233.12 776.498 1233.12 773.582 Q1233.12 772.633 1233.86 769.612 Q1234.59 766.555 1238.6 750.64 L1232.24 750.64 Q1231.36 750.64 1231.01 750.604 Q1230.69 750.569 1230.45 750.394 Q1230.24 750.183 1230.24 749.761 Q1230.24 749.094 1230.52 748.813 Q1230.8 748.496 1231.15 748.461 Q1231.54 748.391 1232.42 748.391 L1239.16 748.391 L1241.97 736.973 Q1242.25 735.848 1242.96 735.216 Q1243.69 734.548 1244.12 734.478 Q1244.54 734.373 1244.85 734.373 Q1245.8 734.373 1246.36 734.9 Q1246.93 735.392 1246.93 736.305 Q1246.93 736.797 1243.97 748.391 L1250.3 748.391 Q1251.11 748.391 1251.42 748.426 Q1251.77 748.461 1252.06 748.637 Q1252.34 748.813 1252.34 749.199 Z\" fill=\"#000000\" fill-rule=\"evenodd\" fill-opacity=\"1\" /><polyline clip-path=\"url(#clip800)\" style=\"stroke:#000000; stroke-linecap:butt; stroke-linejoin:round; stroke-width:4; stroke-opacity:1; fill:none\" points=\"\n",
       "  133.434,638.564 133.434,47.2441 \n",
       "  \"/>\n",
       "<polyline clip-path=\"url(#clip800)\" style=\"stroke:#000000; stroke-linecap:butt; stroke-linejoin:round; stroke-width:4; stroke-opacity:1; fill:none\" points=\"\n",
       "  2352.76,638.564 2352.76,47.2441 \n",
       "  \"/>\n",
       "<polyline clip-path=\"url(#clip800)\" style=\"stroke:#000000; stroke-linecap:butt; stroke-linejoin:round; stroke-width:4; stroke-opacity:1; fill:none\" points=\"\n",
       "  133.434,638.564 152.332,638.564 \n",
       "  \"/>\n",
       "<polyline clip-path=\"url(#clip800)\" style=\"stroke:#000000; stroke-linecap:butt; stroke-linejoin:round; stroke-width:4; stroke-opacity:1; fill:none\" points=\"\n",
       "  133.434,554.09 152.332,554.09 \n",
       "  \"/>\n",
       "<polyline clip-path=\"url(#clip800)\" style=\"stroke:#000000; stroke-linecap:butt; stroke-linejoin:round; stroke-width:4; stroke-opacity:1; fill:none\" points=\"\n",
       "  133.434,469.615 152.332,469.615 \n",
       "  \"/>\n",
       "<polyline clip-path=\"url(#clip800)\" style=\"stroke:#000000; stroke-linecap:butt; stroke-linejoin:round; stroke-width:4; stroke-opacity:1; fill:none\" points=\"\n",
       "  133.434,385.141 152.332,385.141 \n",
       "  \"/>\n",
       "<polyline clip-path=\"url(#clip800)\" style=\"stroke:#000000; stroke-linecap:butt; stroke-linejoin:round; stroke-width:4; stroke-opacity:1; fill:none\" points=\"\n",
       "  133.434,300.667 152.332,300.667 \n",
       "  \"/>\n",
       "<polyline clip-path=\"url(#clip800)\" style=\"stroke:#000000; stroke-linecap:butt; stroke-linejoin:round; stroke-width:4; stroke-opacity:1; fill:none\" points=\"\n",
       "  133.434,216.193 152.332,216.193 \n",
       "  \"/>\n",
       "<polyline clip-path=\"url(#clip800)\" style=\"stroke:#000000; stroke-linecap:butt; stroke-linejoin:round; stroke-width:4; stroke-opacity:1; fill:none\" points=\"\n",
       "  133.434,131.718 152.332,131.718 \n",
       "  \"/>\n",
       "<polyline clip-path=\"url(#clip800)\" style=\"stroke:#000000; stroke-linecap:butt; stroke-linejoin:round; stroke-width:4; stroke-opacity:1; fill:none\" points=\"\n",
       "  133.434,47.2441 152.332,47.2441 \n",
       "  \"/>\n",
       "<polyline clip-path=\"url(#clip800)\" style=\"stroke:#000000; stroke-linecap:butt; stroke-linejoin:round; stroke-width:4; stroke-opacity:1; fill:none\" points=\"\n",
       "  133.434,621.669 142.883,621.669 \n",
       "  \"/>\n",
       "<polyline clip-path=\"url(#clip800)\" style=\"stroke:#000000; stroke-linecap:butt; stroke-linejoin:round; stroke-width:4; stroke-opacity:1; fill:none\" points=\"\n",
       "  133.434,604.774 142.883,604.774 \n",
       "  \"/>\n",
       "<polyline clip-path=\"url(#clip800)\" style=\"stroke:#000000; stroke-linecap:butt; stroke-linejoin:round; stroke-width:4; stroke-opacity:1; fill:none\" points=\"\n",
       "  133.434,587.879 142.883,587.879 \n",
       "  \"/>\n",
       "<polyline clip-path=\"url(#clip800)\" style=\"stroke:#000000; stroke-linecap:butt; stroke-linejoin:round; stroke-width:4; stroke-opacity:1; fill:none\" points=\"\n",
       "  133.434,570.984 142.883,570.984 \n",
       "  \"/>\n",
       "<polyline clip-path=\"url(#clip800)\" style=\"stroke:#000000; stroke-linecap:butt; stroke-linejoin:round; stroke-width:4; stroke-opacity:1; fill:none\" points=\"\n",
       "  133.434,537.195 142.883,537.195 \n",
       "  \"/>\n",
       "<polyline clip-path=\"url(#clip800)\" style=\"stroke:#000000; stroke-linecap:butt; stroke-linejoin:round; stroke-width:4; stroke-opacity:1; fill:none\" points=\"\n",
       "  133.434,520.3 142.883,520.3 \n",
       "  \"/>\n",
       "<polyline clip-path=\"url(#clip800)\" style=\"stroke:#000000; stroke-linecap:butt; stroke-linejoin:round; stroke-width:4; stroke-opacity:1; fill:none\" points=\"\n",
       "  133.434,503.405 142.883,503.405 \n",
       "  \"/>\n",
       "<polyline clip-path=\"url(#clip800)\" style=\"stroke:#000000; stroke-linecap:butt; stroke-linejoin:round; stroke-width:4; stroke-opacity:1; fill:none\" points=\"\n",
       "  133.434,486.51 142.883,486.51 \n",
       "  \"/>\n",
       "<polyline clip-path=\"url(#clip800)\" style=\"stroke:#000000; stroke-linecap:butt; stroke-linejoin:round; stroke-width:4; stroke-opacity:1; fill:none\" points=\"\n",
       "  133.434,452.72 142.883,452.72 \n",
       "  \"/>\n",
       "<polyline clip-path=\"url(#clip800)\" style=\"stroke:#000000; stroke-linecap:butt; stroke-linejoin:round; stroke-width:4; stroke-opacity:1; fill:none\" points=\"\n",
       "  133.434,435.826 142.883,435.826 \n",
       "  \"/>\n",
       "<polyline clip-path=\"url(#clip800)\" style=\"stroke:#000000; stroke-linecap:butt; stroke-linejoin:round; stroke-width:4; stroke-opacity:1; fill:none\" points=\"\n",
       "  133.434,418.931 142.883,418.931 \n",
       "  \"/>\n",
       "<polyline clip-path=\"url(#clip800)\" style=\"stroke:#000000; stroke-linecap:butt; stroke-linejoin:round; stroke-width:4; stroke-opacity:1; fill:none\" points=\"\n",
       "  133.434,402.036 142.883,402.036 \n",
       "  \"/>\n",
       "<polyline clip-path=\"url(#clip800)\" style=\"stroke:#000000; stroke-linecap:butt; stroke-linejoin:round; stroke-width:4; stroke-opacity:1; fill:none\" points=\"\n",
       "  133.434,368.246 142.883,368.246 \n",
       "  \"/>\n",
       "<polyline clip-path=\"url(#clip800)\" style=\"stroke:#000000; stroke-linecap:butt; stroke-linejoin:round; stroke-width:4; stroke-opacity:1; fill:none\" points=\"\n",
       "  133.434,351.351 142.883,351.351 \n",
       "  \"/>\n",
       "<polyline clip-path=\"url(#clip800)\" style=\"stroke:#000000; stroke-linecap:butt; stroke-linejoin:round; stroke-width:4; stroke-opacity:1; fill:none\" points=\"\n",
       "  133.434,334.457 142.883,334.457 \n",
       "  \"/>\n",
       "<polyline clip-path=\"url(#clip800)\" style=\"stroke:#000000; stroke-linecap:butt; stroke-linejoin:round; stroke-width:4; stroke-opacity:1; fill:none\" points=\"\n",
       "  133.434,317.562 142.883,317.562 \n",
       "  \"/>\n",
       "<polyline clip-path=\"url(#clip800)\" style=\"stroke:#000000; stroke-linecap:butt; stroke-linejoin:round; stroke-width:4; stroke-opacity:1; fill:none\" points=\"\n",
       "  133.434,283.772 142.883,283.772 \n",
       "  \"/>\n",
       "<polyline clip-path=\"url(#clip800)\" style=\"stroke:#000000; stroke-linecap:butt; stroke-linejoin:round; stroke-width:4; stroke-opacity:1; fill:none\" points=\"\n",
       "  133.434,266.877 142.883,266.877 \n",
       "  \"/>\n",
       "<polyline clip-path=\"url(#clip800)\" style=\"stroke:#000000; stroke-linecap:butt; stroke-linejoin:round; stroke-width:4; stroke-opacity:1; fill:none\" points=\"\n",
       "  133.434,249.982 142.883,249.982 \n",
       "  \"/>\n",
       "<polyline clip-path=\"url(#clip800)\" style=\"stroke:#000000; stroke-linecap:butt; stroke-linejoin:round; stroke-width:4; stroke-opacity:1; fill:none\" points=\"\n",
       "  133.434,233.087 142.883,233.087 \n",
       "  \"/>\n",
       "<polyline clip-path=\"url(#clip800)\" style=\"stroke:#000000; stroke-linecap:butt; stroke-linejoin:round; stroke-width:4; stroke-opacity:1; fill:none\" points=\"\n",
       "  133.434,199.298 142.883,199.298 \n",
       "  \"/>\n",
       "<polyline clip-path=\"url(#clip800)\" style=\"stroke:#000000; stroke-linecap:butt; stroke-linejoin:round; stroke-width:4; stroke-opacity:1; fill:none\" points=\"\n",
       "  133.434,182.403 142.883,182.403 \n",
       "  \"/>\n",
       "<polyline clip-path=\"url(#clip800)\" style=\"stroke:#000000; stroke-linecap:butt; stroke-linejoin:round; stroke-width:4; stroke-opacity:1; fill:none\" points=\"\n",
       "  133.434,165.508 142.883,165.508 \n",
       "  \"/>\n",
       "<polyline clip-path=\"url(#clip800)\" style=\"stroke:#000000; stroke-linecap:butt; stroke-linejoin:round; stroke-width:4; stroke-opacity:1; fill:none\" points=\"\n",
       "  133.434,148.613 142.883,148.613 \n",
       "  \"/>\n",
       "<polyline clip-path=\"url(#clip800)\" style=\"stroke:#000000; stroke-linecap:butt; stroke-linejoin:round; stroke-width:4; stroke-opacity:1; fill:none\" points=\"\n",
       "  133.434,114.823 142.883,114.823 \n",
       "  \"/>\n",
       "<polyline clip-path=\"url(#clip800)\" style=\"stroke:#000000; stroke-linecap:butt; stroke-linejoin:round; stroke-width:4; stroke-opacity:1; fill:none\" points=\"\n",
       "  133.434,97.9286 142.883,97.9286 \n",
       "  \"/>\n",
       "<polyline clip-path=\"url(#clip800)\" style=\"stroke:#000000; stroke-linecap:butt; stroke-linejoin:round; stroke-width:4; stroke-opacity:1; fill:none\" points=\"\n",
       "  133.434,81.0338 142.883,81.0338 \n",
       "  \"/>\n",
       "<polyline clip-path=\"url(#clip800)\" style=\"stroke:#000000; stroke-linecap:butt; stroke-linejoin:round; stroke-width:4; stroke-opacity:1; fill:none\" points=\"\n",
       "  133.434,64.1389 142.883,64.1389 \n",
       "  \"/>\n",
       "<path clip-path=\"url(#clip800)\" d=\"M76.1401 639.663 Q76.1401 632.227 78.0176 628.176 Q80.6362 622.148 86.812 622.148 Q88.1213 622.148 89.48 622.519 Q90.8633 622.865 92.5926 624.223 Q94.3465 625.582 95.4088 627.805 Q97.4344 632.104 97.4344 639.663 Q97.4344 647.049 95.557 651.076 Q92.8149 656.955 86.7626 656.955 Q84.4899 656.955 82.1678 655.794 Q79.8704 654.633 78.4129 651.842 Q76.1401 647.667 76.1401 639.663 M80.3397 639.045 Q80.3397 646.679 80.8832 649.717 Q81.5008 653.003 83.1806 654.436 Q84.8851 655.844 86.7626 655.844 Q88.7883 655.844 90.4681 654.337 Q92.1726 652.805 92.6914 649.52 Q93.2596 646.284 93.2349 639.045 Q93.2349 632.005 92.7408 629.189 Q92.0738 625.903 90.2952 624.594 Q88.5412 623.26 86.7626 623.26 Q86.0956 623.26 85.3792 623.458 Q84.6875 623.655 83.6747 624.223 Q82.6618 624.792 81.8713 626.2 Q81.1055 627.608 80.735 629.732 Q80.3397 632.474 80.3397 639.045 Z\" fill=\"#000000\" fill-rule=\"evenodd\" fill-opacity=\"1\" /><path clip-path=\"url(#clip800)\" d=\"M77.2271 563.217 Q77.2271 561.711 78.0423 561.142 Q78.8575 560.549 79.7221 560.549 Q80.8832 560.549 81.5502 561.291 Q82.2419 562.007 82.2419 563.02 Q82.2419 564.033 81.5502 564.774 Q80.8832 565.49 79.7221 565.49 Q79.154 565.49 78.8575 565.391 Q79.5245 567.713 81.5502 569.393 Q83.6006 571.073 86.2932 571.073 Q89.6776 571.073 91.7033 567.788 Q92.9137 565.663 92.9137 560.846 Q92.9137 556.597 91.9997 554.472 Q90.5916 551.236 87.7013 551.236 Q83.6006 551.236 81.1796 554.769 Q80.8832 555.214 80.5373 555.238 Q80.0433 555.238 79.9198 554.967 Q79.8209 554.67 79.8209 553.904 L79.8209 538.934 Q79.8209 537.724 80.315 537.724 Q80.5126 537.724 80.9326 537.872 Q84.1193 539.28 87.6519 539.305 Q91.2833 539.305 94.5441 537.822 Q94.7912 537.674 94.9394 537.674 Q95.4335 537.674 95.4582 538.242 Q95.4582 538.44 95.0382 539.033 Q94.643 539.601 93.7783 540.367 Q92.9137 541.108 91.8021 541.824 Q90.6904 542.541 89.06 543.035 Q87.4543 543.504 85.6756 543.504 Q83.5512 543.504 81.3773 542.837 L81.3773 552.694 Q83.9958 550.125 87.8001 550.125 Q91.8515 550.125 94.643 553.385 Q97.4344 556.646 97.4344 561.192 Q97.4344 565.96 94.1242 569.22 Q90.8386 572.481 86.392 572.481 Q82.3407 572.481 79.7715 569.591 Q77.2271 566.701 77.2271 563.217 Z\" fill=\"#000000\" fill-rule=\"evenodd\" fill-opacity=\"1\" /><path clip-path=\"url(#clip800)\" d=\"M53.3636 458.017 L53.3636 456.436 Q59.4407 456.436 62.578 453.2 Q63.4426 453.2 63.5908 453.398 Q63.7391 453.595 63.7391 454.509 L63.7391 482.893 Q63.7391 484.4 64.4802 484.87 Q65.2213 485.339 68.4574 485.339 L70.0631 485.339 L70.0631 486.895 Q68.2845 486.747 61.8616 486.747 Q55.4387 486.747 53.6848 486.895 L53.6848 485.339 L55.2905 485.339 Q58.4772 485.339 59.243 484.894 Q60.0089 484.425 60.0089 482.893 L60.0089 456.683 Q57.3656 458.017 53.3636 458.017 Z\" fill=\"#000000\" fill-rule=\"evenodd\" fill-opacity=\"1\" /><path clip-path=\"url(#clip800)\" d=\"M76.1401 470.715 Q76.1401 463.279 78.0176 459.228 Q80.6362 453.2 86.812 453.2 Q88.1213 453.2 89.48 453.57 Q90.8633 453.916 92.5926 455.275 Q94.3465 456.634 95.4088 458.857 Q97.4344 463.155 97.4344 470.715 Q97.4344 478.101 95.557 482.128 Q92.8149 488.007 86.7626 488.007 Q84.4899 488.007 82.1678 486.846 Q79.8704 485.685 78.4129 482.893 Q76.1401 478.718 76.1401 470.715 M80.3397 470.097 Q80.3397 477.73 80.8832 480.769 Q81.5008 484.054 83.1806 485.487 Q84.8851 486.895 86.7626 486.895 Q88.7883 486.895 90.4681 485.388 Q92.1726 483.857 92.6914 480.571 Q93.2596 477.335 93.2349 470.097 Q93.2349 463.057 92.7408 460.24 Q92.0738 456.955 90.2952 455.646 Q88.5412 454.312 86.7626 454.312 Q86.0956 454.312 85.3792 454.509 Q84.6875 454.707 83.6747 455.275 Q82.6618 455.843 81.8713 457.251 Q81.1055 458.659 80.735 460.784 Q80.3397 463.526 80.3397 470.097 Z\" fill=\"#000000\" fill-rule=\"evenodd\" fill-opacity=\"1\" /><path clip-path=\"url(#clip800)\" d=\"M53.9071 373.543 L53.9071 371.962 Q59.9841 371.962 63.1215 368.726 Q63.9861 368.726 64.1343 368.923 Q64.2825 369.121 64.2825 370.035 L64.2825 398.419 Q64.2825 399.926 65.0236 400.395 Q65.7647 400.865 69.0009 400.865 L70.6066 400.865 L70.6066 402.421 Q68.828 402.273 62.4051 402.273 Q55.9822 402.273 54.2283 402.421 L54.2283 400.865 L55.834 400.865 Q59.0207 400.865 59.7865 400.42 Q60.5523 399.951 60.5523 398.419 L60.5523 372.209 Q57.9091 373.543 53.9071 373.543 Z\" fill=\"#000000\" fill-rule=\"evenodd\" fill-opacity=\"1\" /><path clip-path=\"url(#clip800)\" d=\"M77.2271 394.269 Q77.2271 392.762 78.0423 392.194 Q78.8575 391.601 79.7221 391.601 Q80.8832 391.601 81.5502 392.342 Q82.2419 393.058 82.2419 394.071 Q82.2419 395.084 81.5502 395.825 Q80.8832 396.542 79.7221 396.542 Q79.154 396.542 78.8575 396.443 Q79.5245 398.765 81.5502 400.445 Q83.6006 402.125 86.2932 402.125 Q89.6776 402.125 91.7033 398.839 Q92.9137 396.715 92.9137 391.897 Q92.9137 387.648 91.9997 385.524 Q90.5916 382.288 87.7013 382.288 Q83.6006 382.288 81.1796 385.82 Q80.8832 386.265 80.5373 386.29 Q80.0433 386.29 79.9198 386.018 Q79.8209 385.722 79.8209 384.956 L79.8209 369.986 Q79.8209 368.775 80.315 368.775 Q80.5126 368.775 80.9326 368.923 Q84.1193 370.331 87.6519 370.356 Q91.2833 370.356 94.5441 368.874 Q94.7912 368.726 94.9394 368.726 Q95.4335 368.726 95.4582 369.294 Q95.4582 369.491 95.0382 370.084 Q94.643 370.653 93.7783 371.418 Q92.9137 372.159 91.8021 372.876 Q90.6904 373.592 89.06 374.086 Q87.4543 374.556 85.6756 374.556 Q83.5512 374.556 81.3773 373.889 L81.3773 383.745 Q83.9958 381.176 87.8001 381.176 Q91.8515 381.176 94.643 384.437 Q97.4344 387.698 97.4344 392.243 Q97.4344 397.011 94.1242 400.272 Q90.8386 403.533 86.392 403.533 Q82.3407 403.533 79.7715 400.642 Q77.2271 397.752 77.2271 394.269 Z\" fill=\"#000000\" fill-rule=\"evenodd\" fill-opacity=\"1\" /><path clip-path=\"url(#clip800)\" d=\"M51.3874 317.947 Q51.3874 317.033 51.4615 316.761 Q51.5603 316.489 51.9556 316.069 L61.664 305.249 Q66.9752 299.271 66.9752 294.059 Q66.9752 290.674 65.1966 288.253 Q63.4426 285.832 60.2065 285.832 Q57.9832 285.832 56.1057 287.191 Q54.2283 288.55 53.3636 290.971 Q53.5119 290.921 54.0306 290.921 Q55.2905 290.921 55.9822 291.712 Q56.6986 292.502 56.6986 293.565 Q56.6986 294.923 55.8093 295.59 Q54.9447 296.233 54.08 296.233 Q53.7342 296.233 53.2648 296.158 Q52.8202 296.084 52.1038 295.393 Q51.3874 294.676 51.3874 293.416 Q51.3874 289.884 54.0553 287.068 Q56.748 284.251 60.8488 284.251 Q65.493 284.251 68.5315 287.018 Q71.5947 289.76 71.5947 294.059 Q71.5947 295.566 71.1254 296.949 Q70.6807 298.308 70.0631 299.37 Q69.4702 300.432 67.8398 302.137 Q66.2094 303.841 64.9001 305.052 Q63.5908 306.262 60.6511 308.831 L55.2905 314.044 L64.4061 314.044 Q68.8527 314.044 69.1985 313.648 Q69.6926 312.932 70.3102 309.152 L71.5947 309.152 L70.1619 317.947 L51.3874 317.947 Z\" fill=\"#000000\" fill-rule=\"evenodd\" fill-opacity=\"1\" /><path clip-path=\"url(#clip800)\" d=\"M76.1401 301.766 Q76.1401 294.33 78.0176 290.279 Q80.6362 284.251 86.812 284.251 Q88.1213 284.251 89.48 284.622 Q90.8633 284.968 92.5926 286.327 Q94.3465 287.685 95.4088 289.909 Q97.4344 294.207 97.4344 301.766 Q97.4344 309.152 95.557 313.179 Q92.8149 319.058 86.7626 319.058 Q84.4899 319.058 82.1678 317.897 Q79.8704 316.736 78.4129 313.945 Q76.1401 309.77 76.1401 301.766 M80.3397 301.149 Q80.3397 308.782 80.8832 311.82 Q81.5008 315.106 83.1806 316.539 Q84.8851 317.947 86.7626 317.947 Q88.7883 317.947 90.4681 316.44 Q92.1726 314.908 92.6914 311.623 Q93.2596 308.387 93.2349 301.149 Q93.2349 294.108 92.7408 291.292 Q92.0738 288.006 90.2952 286.697 Q88.5412 285.363 86.7626 285.363 Q86.0956 285.363 85.3792 285.561 Q84.6875 285.758 83.6747 286.327 Q82.6618 286.895 81.8713 288.303 Q81.1055 289.711 80.735 291.835 Q80.3397 294.577 80.3397 301.149 Z\" fill=\"#000000\" fill-rule=\"evenodd\" fill-opacity=\"1\" /><path clip-path=\"url(#clip800)\" d=\"M51.9309 233.473 Q51.9309 232.559 52.005 232.287 Q52.1038 232.015 52.499 231.595 L62.2075 220.775 Q67.5187 214.797 67.5187 209.584 Q67.5187 206.2 65.74 203.779 Q63.9861 201.358 60.75 201.358 Q58.5267 201.358 56.6492 202.717 Q54.7717 204.076 53.9071 206.497 Q54.0553 206.447 54.5741 206.447 Q55.834 206.447 56.5257 207.238 Q57.2421 208.028 57.2421 209.09 Q57.2421 210.449 56.3528 211.116 Q55.4881 211.758 54.6235 211.758 Q54.2777 211.758 53.8083 211.684 Q53.3636 211.61 52.6473 210.918 Q51.9309 210.202 51.9309 208.942 Q51.9309 205.41 54.5988 202.593 Q57.2915 199.777 61.3922 199.777 Q66.0365 199.777 69.075 202.544 Q72.1382 205.286 72.1382 209.584 Q72.1382 211.091 71.6688 212.475 Q71.2242 213.833 70.6066 214.896 Q70.0137 215.958 68.3833 217.662 Q66.7529 219.367 65.4436 220.577 Q64.1343 221.788 61.1946 224.357 L55.834 229.569 L64.9495 229.569 Q69.3961 229.569 69.742 229.174 Q70.236 228.458 70.8536 224.678 L72.1382 224.678 L70.7054 233.473 L51.9309 233.473 Z\" fill=\"#000000\" fill-rule=\"evenodd\" fill-opacity=\"1\" /><path clip-path=\"url(#clip800)\" d=\"M77.2271 225.32 Q77.2271 223.814 78.0423 223.245 Q78.8575 222.653 79.7221 222.653 Q80.8832 222.653 81.5502 223.394 Q82.2419 224.11 82.2419 225.123 Q82.2419 226.136 81.5502 226.877 Q80.8832 227.593 79.7221 227.593 Q79.154 227.593 78.8575 227.494 Q79.5245 229.816 81.5502 231.496 Q83.6006 233.176 86.2932 233.176 Q89.6776 233.176 91.7033 229.891 Q92.9137 227.766 92.9137 222.949 Q92.9137 218.7 91.9997 216.575 Q90.5916 213.339 87.7013 213.339 Q83.6006 213.339 81.1796 216.872 Q80.8832 217.317 80.5373 217.341 Q80.0433 217.341 79.9198 217.07 Q79.8209 216.773 79.8209 216.007 L79.8209 201.037 Q79.8209 199.827 80.315 199.827 Q80.5126 199.827 80.9326 199.975 Q84.1193 201.383 87.6519 201.408 Q91.2833 201.408 94.5441 199.925 Q94.7912 199.777 94.9394 199.777 Q95.4335 199.777 95.4582 200.345 Q95.4582 200.543 95.0382 201.136 Q94.643 201.704 93.7783 202.47 Q92.9137 203.211 91.8021 203.927 Q90.6904 204.644 89.06 205.138 Q87.4543 205.607 85.6756 205.607 Q83.5512 205.607 81.3773 204.94 L81.3773 214.797 Q83.9958 212.228 87.8001 212.228 Q91.8515 212.228 94.643 215.489 Q97.4344 218.749 97.4344 223.295 Q97.4344 228.063 94.1242 231.323 Q90.8386 234.584 86.392 234.584 Q82.3407 234.584 79.7715 231.694 Q77.2271 228.804 77.2271 225.32 Z\" fill=\"#000000\" fill-rule=\"evenodd\" fill-opacity=\"1\" /><path clip-path=\"url(#clip800)\" d=\"M50.9921 142.18 Q50.9921 140.673 51.8567 139.957 Q52.7214 139.241 53.833 139.241 Q54.9941 139.241 55.8093 140.006 Q56.6492 140.747 56.6492 142.057 Q56.6492 143.465 55.6611 144.255 Q54.6976 145.046 53.3142 144.848 Q54.5247 146.874 56.748 147.788 Q58.996 148.702 61.0711 148.702 Q63.245 148.702 64.9989 146.824 Q66.7776 144.947 66.7776 140.352 Q66.7776 136.449 65.246 134.201 Q63.7391 131.953 60.75 131.953 L58.5267 131.953 Q57.7608 131.953 57.5385 131.879 Q57.3162 131.805 57.3162 131.385 Q57.3162 130.891 58.082 130.792 Q58.8478 130.792 60.0583 130.644 Q62.998 130.545 64.5543 128 Q65.9624 125.629 65.9624 122.245 Q65.9624 119.157 64.4802 117.872 Q63.0227 116.563 61.1205 116.563 Q59.3419 116.563 57.3903 117.304 Q55.4387 118.045 54.3765 119.7 Q57.5138 119.7 57.5138 122.245 Q57.5138 123.356 56.7974 124.097 Q56.1057 124.814 54.9447 124.814 Q53.833 124.814 53.0919 124.122 Q52.3508 123.406 52.3508 122.195 Q52.3508 119.305 54.92 117.304 Q57.5138 115.303 61.3181 115.303 Q65.073 115.303 67.8398 117.279 Q70.6313 119.255 70.6313 122.294 Q70.6313 125.283 68.655 127.729 Q66.6788 130.174 63.5414 131.187 Q67.3952 131.953 69.6926 134.572 Q71.99 137.165 71.99 140.352 Q71.99 144.305 68.8774 147.22 Q65.7647 150.11 61.2193 150.11 Q57.0197 150.11 54.0059 147.837 Q50.9921 145.565 50.9921 142.18 Z\" fill=\"#000000\" fill-rule=\"evenodd\" fill-opacity=\"1\" /><path clip-path=\"url(#clip800)\" d=\"M76.1401 132.818 Q76.1401 125.382 78.0176 121.331 Q80.6362 115.303 86.812 115.303 Q88.1213 115.303 89.48 115.674 Q90.8633 116.019 92.5926 117.378 Q94.3465 118.737 95.4088 120.96 Q97.4344 125.258 97.4344 132.818 Q97.4344 140.204 95.557 144.231 Q92.8149 150.11 86.7626 150.11 Q84.4899 150.11 82.1678 148.949 Q79.8704 147.788 78.4129 144.996 Q76.1401 140.822 76.1401 132.818 M80.3397 132.2 Q80.3397 139.833 80.8832 142.872 Q81.5008 146.157 83.1806 147.59 Q84.8851 148.998 86.7626 148.998 Q88.7883 148.998 90.4681 147.491 Q92.1726 145.96 92.6914 142.674 Q93.2596 139.438 93.2349 132.2 Q93.2349 125.16 92.7408 122.343 Q92.0738 119.058 90.2952 117.749 Q88.5412 116.415 86.7626 116.415 Q86.0956 116.415 85.3792 116.612 Q84.6875 116.81 83.6747 117.378 Q82.6618 117.946 81.8713 119.354 Q81.1055 120.762 80.735 122.887 Q80.3397 125.629 80.3397 132.2 Z\" fill=\"#000000\" fill-rule=\"evenodd\" fill-opacity=\"1\" /><path clip-path=\"url(#clip800)\" d=\"M51.5356 57.706 Q51.5356 56.1991 52.4002 55.4827 Q53.2648 54.7663 54.3765 54.7663 Q55.5375 54.7663 56.3528 55.5321 Q57.1927 56.2732 57.1927 57.5825 Q57.1927 58.9905 56.2045 59.781 Q55.2411 60.5716 53.8577 60.3739 Q55.0682 62.3996 57.2915 63.3136 Q59.5395 64.2277 61.6146 64.2277 Q63.7885 64.2277 65.5424 62.3502 Q67.321 60.4727 67.321 55.8779 Q67.321 51.9748 65.7894 49.7268 Q64.2825 47.4788 61.2934 47.4788 L59.0701 47.4788 Q58.3043 47.4788 58.082 47.4047 Q57.8597 47.3306 57.8597 46.9106 Q57.8597 46.4165 58.6255 46.3177 Q59.3913 46.3177 60.6017 46.1695 Q63.5414 46.0707 65.0977 43.5262 Q66.5058 41.1547 66.5058 37.7704 Q66.5058 34.6824 65.0236 33.3979 Q63.5661 32.0886 61.664 32.0886 Q59.8853 32.0886 57.9338 32.8297 Q55.9822 33.5708 54.92 35.2259 Q58.0573 35.2259 58.0573 37.7704 Q58.0573 38.882 57.3409 39.6231 Q56.6492 40.3395 55.4881 40.3395 Q54.3765 40.3395 53.6354 39.6478 Q52.8943 38.9314 52.8943 37.7209 Q52.8943 34.8307 55.4634 32.8297 Q58.0573 30.8287 61.8616 30.8287 Q65.6165 30.8287 68.3833 32.805 Q71.1748 34.7812 71.1748 37.8198 Q71.1748 40.8089 69.1985 43.2545 Q67.2222 45.7001 64.0849 46.713 Q67.9386 47.4788 70.236 50.0973 Q72.5335 52.6912 72.5335 55.8779 Q72.5335 59.8305 69.4208 62.7455 Q66.3082 65.6357 61.7628 65.6357 Q57.5632 65.6357 54.5494 63.363 Q51.5356 61.0903 51.5356 57.706 Z\" fill=\"#000000\" fill-rule=\"evenodd\" fill-opacity=\"1\" /><path clip-path=\"url(#clip800)\" d=\"M77.2271 56.372 Q77.2271 54.8651 78.0423 54.2969 Q78.8575 53.704 79.7221 53.704 Q80.8832 53.704 81.5502 54.4451 Q82.2419 55.1615 82.2419 56.1744 Q82.2419 57.1872 81.5502 57.9283 Q80.8832 58.6447 79.7221 58.6447 Q79.154 58.6447 78.8575 58.5459 Q79.5245 60.868 81.5502 62.5478 Q83.6006 64.2277 86.2932 64.2277 Q89.6776 64.2277 91.7033 60.9421 Q92.9137 58.8176 92.9137 54.0005 Q92.9137 49.7515 91.9997 47.627 Q90.5916 44.3909 87.7013 44.3909 Q83.6006 44.3909 81.1796 47.9234 Q80.8832 48.3681 80.5373 48.3928 Q80.0433 48.3928 79.9198 48.1211 Q79.8209 47.8246 79.8209 47.0588 L79.8209 32.0886 Q79.8209 30.8781 80.315 30.8781 Q80.5126 30.8781 80.9326 31.0263 Q84.1193 32.4344 87.6519 32.4591 Q91.2833 32.4591 94.5441 30.9769 Q94.7912 30.8287 94.9394 30.8287 Q95.4335 30.8287 95.4582 31.3969 Q95.4582 31.5945 95.0382 32.1874 Q94.643 32.7556 93.7783 33.5214 Q92.9137 34.2625 91.8021 34.9789 Q90.6904 35.6953 89.06 36.1893 Q87.4543 36.6587 85.6756 36.6587 Q83.5512 36.6587 81.3773 35.9917 L81.3773 45.8484 Q83.9958 43.2792 87.8001 43.2792 Q91.8515 43.2792 94.643 46.54 Q97.4344 49.8009 97.4344 54.3463 Q97.4344 59.1141 94.1242 62.3749 Q90.8386 65.6357 86.392 65.6357 Q82.3407 65.6357 79.7715 62.7455 Q77.2271 59.8552 77.2271 56.372 Z\" fill=\"#000000\" fill-rule=\"evenodd\" fill-opacity=\"1\" /><polyline clip-path=\"url(#clip802)\" style=\"stroke:#283b6e; stroke-linecap:butt; stroke-linejoin:round; stroke-width:5.6; stroke-opacity:1; fill:none\" points=\"\n",
       "  155.192,638.564 157.368,520.3 159.544,469.615 161.72,503.405 163.896,486.51 166.072,452.72 168.247,418.931 170.423,469.615 172.599,537.195 174.775,570.984 \n",
       "  176.951,604.774 179.126,486.51 181.302,520.3 183.478,570.984 185.654,503.405 187.83,537.195 190.005,418.931 192.181,317.562 194.357,368.246 196.533,182.403 \n",
       "  198.709,351.351 200.884,402.036 203.06,469.615 205.236,520.3 207.412,503.405 209.588,469.615 211.763,486.51 213.939,418.931 216.115,385.141 218.291,435.826 \n",
       "  220.467,418.931 222.642,486.51 224.818,469.615 226.994,537.195 229.17,469.615 231.346,520.3 233.521,486.51 235.697,452.72 237.873,300.667 240.049,435.826 \n",
       "  242.225,351.351 244.401,486.51 246.576,503.405 248.752,452.72 250.928,452.72 253.104,418.931 255.28,435.826 257.455,418.931 259.631,486.51 261.807,486.51 \n",
       "  263.983,402.036 266.159,368.246 268.334,300.667 270.51,334.457 272.686,385.141 274.862,469.615 277.038,520.3 279.213,402.036 281.389,368.246 283.565,317.562 \n",
       "  285.741,283.772 287.917,334.457 290.092,385.141 292.268,368.246 294.444,368.246 296.62,368.246 298.796,368.246 300.971,537.195 303.147,486.51 305.323,402.036 \n",
       "  307.499,402.036 309.675,402.036 311.85,317.562 314.026,300.667 316.202,300.667 318.378,503.405 320.554,537.195 322.73,621.669 324.905,486.51 327.081,486.51 \n",
       "  329.257,503.405 331.433,503.405 333.609,469.615 335.784,418.931 337.96,418.931 340.136,452.72 342.312,435.826 344.488,418.931 346.663,418.931 348.839,503.405 \n",
       "  351.015,418.931 353.191,368.246 355.367,452.72 357.542,537.195 359.718,486.51 361.894,385.141 364.07,249.982 366.246,233.087 368.421,283.772 370.597,300.667 \n",
       "  372.773,351.351 374.949,368.246 377.125,334.457 379.3,469.615 381.476,452.72 383.652,435.826 385.828,452.72 388.004,469.615 390.179,503.405 392.355,503.405 \n",
       "  394.531,452.72 396.707,402.036 398.883,317.562 401.059,368.246 403.234,368.246 405.41,385.141 407.586,469.615 409.762,486.51 411.938,435.826 414.113,520.3 \n",
       "  416.289,469.615 418.465,520.3 420.641,503.405 422.817,503.405 424.992,469.615 427.168,435.826 429.344,418.931 431.52,266.877 433.696,351.351 435.871,469.615 \n",
       "  438.047,469.615 440.223,385.141 442.399,402.036 444.575,503.405 446.75,418.931 448.926,486.51 451.102,469.615 453.278,554.09 455.454,520.3 457.629,570.984 \n",
       "  459.805,554.09 461.981,537.195 464.157,520.3 466.333,520.3 468.508,368.246 470.684,351.351 472.86,402.036 475.036,402.036 477.212,300.667 479.387,351.351 \n",
       "  481.563,435.826 483.739,351.351 485.915,452.72 488.091,402.036 490.267,317.562 492.442,317.562 494.618,266.877 496.794,317.562 498.97,351.351 501.146,351.351 \n",
       "  503.321,469.615 505.497,469.615 507.673,503.405 509.849,537.195 512.025,570.984 514.2,469.615 516.376,385.141 518.552,402.036 520.728,385.141 522.904,452.72 \n",
       "  525.079,486.51 527.255,469.615 529.431,452.72 531.607,418.931 533.783,469.615 535.958,469.615 538.134,503.405 540.31,537.195 542.486,486.51 544.662,486.51 \n",
       "  546.837,469.615 549.013,317.562 551.189,418.931 553.365,385.141 555.541,435.826 557.716,402.036 559.892,435.826 562.068,520.3 564.244,368.246 566.42,351.351 \n",
       "  568.596,300.667 570.771,300.667 572.947,368.246 575.123,385.141 577.299,351.351 579.475,486.51 581.65,537.195 583.826,469.615 586.002,334.457 588.178,368.246 \n",
       "  590.354,469.615 592.529,537.195 594.705,402.036 596.881,469.615 599.057,385.141 601.233,334.457 603.408,334.457 605.584,317.562 607.76,351.351 609.936,283.772 \n",
       "  612.112,266.877 614.287,283.772 616.463,351.351 618.639,368.246 620.815,334.457 622.991,266.877 625.166,233.087 627.342,300.667 629.518,385.141 631.694,503.405 \n",
       "  633.87,452.72 636.045,385.141 638.221,385.141 640.397,435.826 642.573,469.615 644.749,351.351 646.925,385.141 649.1,435.826 651.276,402.036 653.452,368.246 \n",
       "  655.628,486.51 657.804,368.246 659.979,385.141 662.155,334.457 664.331,317.562 666.507,351.351 668.683,402.036 670.858,435.826 673.034,486.51 675.21,537.195 \n",
       "  677.386,469.615 679.562,435.826 681.737,486.51 683.913,435.826 686.089,283.772 688.265,435.826 690.441,469.615 692.616,385.141 694.792,368.246 696.968,300.667 \n",
       "  699.144,334.457 701.32,317.562 703.495,317.562 705.671,402.036 707.847,402.036 710.023,503.405 712.199,418.931 714.374,385.141 716.55,503.405 718.726,570.984 \n",
       "  720.902,537.195 723.078,503.405 725.253,469.615 727.429,486.51 729.605,570.984 731.781,452.72 733.957,469.615 736.133,520.3 738.308,554.09 740.484,554.09 \n",
       "  742.66,554.09 744.836,570.984 747.012,503.405 749.187,402.036 751.363,334.457 753.539,402.036 755.715,537.195 757.891,486.51 760.066,469.615 762.242,452.72 \n",
       "  764.418,368.246 766.594,452.72 768.77,435.826 770.945,520.3 773.121,537.195 775.297,570.984 777.473,469.615 779.649,486.51 781.824,334.457 784,351.351 \n",
       "  786.176,368.246 788.352,249.982 790.528,351.351 792.703,418.931 794.879,368.246 797.055,317.562 799.231,368.246 801.407,385.141 803.582,503.405 805.758,452.72 \n",
       "  807.934,452.72 810.11,317.562 812.286,402.036 814.462,452.72 816.637,418.931 818.813,402.036 820.989,266.877 823.165,351.351 825.341,402.036 827.516,385.141 \n",
       "  829.692,351.351 831.868,368.246 834.044,435.826 836.22,435.826 838.395,402.036 840.571,486.51 842.747,469.615 844.923,486.51 847.099,486.51 849.274,418.931 \n",
       "  851.45,469.615 853.626,368.246 855.802,233.087 857.978,283.772 860.153,334.457 862.329,435.826 864.505,570.984 866.681,570.984 868.857,520.3 871.032,587.879 \n",
       "  873.208,554.09 875.384,469.615 877.56,368.246 879.736,351.351 881.911,402.036 884.087,317.562 886.263,317.562 888.439,385.141 890.615,469.615 892.791,402.036 \n",
       "  894.966,385.141 897.142,469.615 899.318,435.826 901.494,317.562 903.67,300.667 905.845,334.457 908.021,351.351 910.197,283.772 912.373,266.877 914.549,266.877 \n",
       "  916.724,317.562 918.9,283.772 921.076,385.141 923.252,351.351 925.428,368.246 927.603,300.667 929.779,385.141 931.955,486.51 934.131,570.984 936.307,604.774 \n",
       "  938.482,587.879 940.658,587.879 942.834,604.774 945.01,520.3 947.186,486.51 949.361,503.405 951.537,418.931 953.713,520.3 955.889,435.826 958.065,486.51 \n",
       "  960.24,334.457 962.416,385.141 964.592,368.246 966.768,452.72 968.944,368.246 971.12,233.087 973.295,283.772 975.471,233.087 977.647,216.193 979.823,283.772 \n",
       "  981.999,266.877 984.174,300.667 986.35,334.457 988.526,300.667 990.702,317.562 992.878,469.615 995.053,537.195 997.229,554.09 999.405,570.984 1001.58,537.195 \n",
       "  1003.76,503.405 1005.93,418.931 1008.11,418.931 1010.28,503.405 1012.46,587.879 1014.64,537.195 1016.81,418.931 1018.99,435.826 1021.16,486.51 1023.34,334.457 \n",
       "  1025.51,334.457 1027.69,402.036 1029.87,435.826 1032.04,537.195 1034.22,435.826 1036.39,334.457 1038.57,469.615 1040.75,503.405 1042.92,452.72 1045.1,402.036 \n",
       "  1047.27,334.457 1049.45,452.72 1051.62,520.3 1053.8,334.457 1055.98,300.667 1058.15,351.351 1060.33,317.562 1062.5,216.193 1064.68,351.351 1066.85,385.141 \n",
       "  1069.03,300.667 1071.21,300.667 1073.38,334.457 1075.56,418.931 1077.73,385.141 1079.91,385.141 1082.09,300.667 1084.26,334.457 1086.44,351.351 1088.61,283.772 \n",
       "  1090.79,300.667 1092.96,368.246 1095.14,418.931 1097.32,469.615 1099.49,435.826 1101.67,486.51 1103.84,452.72 1106.02,385.141 1108.2,317.562 1110.37,317.562 \n",
       "  1112.55,402.036 1114.72,402.036 1116.9,351.351 1119.07,486.51 1121.25,452.72 1123.43,520.3 1125.6,402.036 1127.78,452.72 1129.95,469.615 1132.13,435.826 \n",
       "  1134.3,385.141 1136.48,537.195 1138.66,537.195 1140.83,452.72 1143.01,520.3 1145.18,503.405 1147.36,520.3 1149.54,452.72 1151.71,452.72 1153.89,503.405 \n",
       "  1156.06,537.195 1158.24,486.51 1160.41,385.141 1162.59,402.036 1164.77,317.562 1166.94,368.246 1169.12,351.351 1171.29,402.036 1173.47,418.931 1175.65,368.246 \n",
       "  1177.82,469.615 1180,435.826 1182.17,402.036 1184.35,402.036 1186.52,554.09 1188.7,520.3 1190.88,469.615 1193.05,435.826 1195.23,368.246 1197.4,368.246 \n",
       "  1199.58,385.141 1201.75,385.141 1203.93,351.351 1206.11,351.351 1208.28,385.141 1210.46,351.351 1212.63,402.036 1214.81,368.246 1216.99,334.457 1219.16,266.877 \n",
       "  1221.34,216.193 1223.51,249.982 1225.69,452.72 1227.86,418.931 1230.04,283.772 1232.22,351.351 1234.39,418.931 1236.57,418.931 1238.74,452.72 1240.92,486.51 \n",
       "  1243.1,520.3 1245.27,435.826 1247.45,385.141 1249.62,435.826 1251.8,452.72 1253.97,385.141 1256.15,452.72 1258.33,520.3 1260.5,554.09 1262.68,570.984 \n",
       "  1264.85,402.036 1267.03,402.036 1269.2,385.141 1271.38,520.3 1273.56,537.195 1275.73,520.3 1277.91,486.51 1280.08,418.931 1282.26,486.51 1284.44,554.09 \n",
       "  1286.61,503.405 1288.79,402.036 1290.96,435.826 1293.14,418.931 1295.31,385.141 1297.49,334.457 1299.67,368.246 1301.84,300.667 1304.02,300.667 1306.19,385.141 \n",
       "  1308.37,351.351 1310.55,435.826 1312.72,402.036 1314.9,435.826 1317.07,418.931 1319.25,452.72 1321.42,317.562 1323.6,385.141 1325.78,351.351 1327.95,385.141 \n",
       "  1330.13,452.72 1332.3,402.036 1334.48,351.351 1336.65,334.457 1338.83,368.246 1341.01,402.036 1343.18,469.615 1345.36,351.351 1347.53,402.036 1349.71,300.667 \n",
       "  1351.89,249.982 1354.06,317.562 1356.24,385.141 1358.41,385.141 1360.59,418.931 1362.76,520.3 1364.94,520.3 1367.12,418.931 1369.29,385.141 1371.47,486.51 \n",
       "  1373.64,469.615 1375.82,520.3 1378,385.141 1380.17,385.141 1382.35,435.826 1384.52,368.246 1386.7,368.246 1388.87,334.457 1391.05,385.141 1393.23,452.72 \n",
       "  1395.4,334.457 1397.58,368.246 1399.75,452.72 1401.93,418.931 1404.1,368.246 1406.28,249.982 1408.46,402.036 1410.63,300.667 1412.81,249.982 1414.98,199.298 \n",
       "  1417.16,249.982 1419.34,334.457 1421.51,402.036 1423.69,368.246 1425.86,351.351 1428.04,418.931 1430.21,520.3 1432.39,418.931 1434.57,385.141 1436.74,334.457 \n",
       "  1438.92,402.036 1441.09,402.036 1443.27,283.772 1445.45,351.351 1447.62,385.141 1449.8,334.457 1451.97,283.772 1454.15,351.351 1456.32,418.931 1458.5,469.615 \n",
       "  1460.68,503.405 1462.85,435.826 1465.03,520.3 1467.2,435.826 1469.38,317.562 1471.55,249.982 1473.73,283.772 1475.91,317.562 1478.08,351.351 1480.26,385.141 \n",
       "  1482.43,435.826 1484.61,503.405 1486.79,503.405 1488.96,587.879 1491.14,537.195 1493.31,520.3 1495.49,435.826 1497.66,486.51 1499.84,520.3 1502.02,469.615 \n",
       "  1504.19,435.826 1506.37,385.141 1508.54,402.036 1510.72,469.615 1512.9,554.09 1515.07,469.615 1517.25,469.615 1519.42,469.615 1521.6,469.615 1523.77,503.405 \n",
       "  1525.95,486.51 1528.13,503.405 1530.3,537.195 1532.48,503.405 1534.65,486.51 1536.83,486.51 1539,452.72 1541.18,469.615 1543.36,537.195 1545.53,435.826 \n",
       "  1547.71,503.405 1549.88,486.51 1552.06,486.51 1554.24,452.72 1556.41,300.667 1558.59,351.351 1560.76,385.141 1562.94,452.72 1565.11,435.826 1567.29,503.405 \n",
       "  1569.47,486.51 1571.64,486.51 1573.82,486.51 1575.99,418.931 1578.17,385.141 1580.35,452.72 1582.52,351.351 1584.7,435.826 1586.87,452.72 1589.05,418.931 \n",
       "  1591.22,385.141 1593.4,418.931 1595.58,368.246 1597.75,402.036 1599.93,452.72 1602.1,520.3 1604.28,537.195 1606.45,554.09 1608.63,587.879 1610.81,604.774 \n",
       "  1612.98,486.51 1615.16,351.351 1617.33,435.826 1619.51,402.036 1621.69,402.036 1623.86,469.615 1626.04,570.984 1628.21,503.405 1630.39,537.195 1632.56,570.984 \n",
       "  1634.74,486.51 1636.92,452.72 1639.09,334.457 1641.27,283.772 1643.44,402.036 1645.62,368.246 1647.79,283.772 1649.97,334.457 1652.15,351.351 1654.32,385.141 \n",
       "  1656.5,199.298 1658.67,266.877 1660.85,283.772 1663.03,435.826 1665.2,503.405 1667.38,537.195 1669.55,503.405 1671.73,537.195 1673.9,570.984 1676.08,587.879 \n",
       "  1678.26,570.984 1680.43,469.615 1682.61,351.351 1684.78,334.457 1686.96,351.351 1689.14,418.931 1691.31,418.931 1693.49,385.141 1695.66,300.667 1697.84,385.141 \n",
       "  1700.01,418.931 1702.19,385.141 1704.37,351.351 1706.54,452.72 1708.72,554.09 1710.89,570.984 1713.07,469.615 1715.24,486.51 1717.42,435.826 1719.6,503.405 \n",
       "  1721.77,452.72 1723.95,469.615 1726.12,520.3 1728.3,486.51 1730.48,435.826 1732.65,351.351 1734.83,351.351 1737,469.615 1739.18,452.72 1741.35,368.246 \n",
       "  1743.53,469.615 1745.71,486.51 1747.88,486.51 1750.06,537.195 1752.23,418.931 1754.41,402.036 1756.59,486.51 1758.76,503.405 1760.94,537.195 1763.11,385.141 \n",
       "  1765.29,469.615 1767.46,486.51 1769.64,402.036 1771.82,300.667 1773.99,368.246 1776.17,334.457 1778.34,351.351 1780.52,368.246 1782.69,452.72 1784.87,452.72 \n",
       "  1787.05,385.141 1789.22,334.457 1791.4,266.877 1793.57,182.403 1795.75,249.982 1797.93,418.931 1800.1,334.457 1802.28,334.457 1804.45,452.72 1806.63,469.615 \n",
       "  1808.8,334.457 1810.98,469.615 1813.16,418.931 1815.33,266.877 1817.51,266.877 1819.68,368.246 1821.86,537.195 1824.04,554.09 1826.21,520.3 1828.39,486.51 \n",
       "  1830.56,351.351 1832.74,334.457 1834.91,469.615 1837.09,570.984 1839.27,520.3 1841.44,570.984 1843.62,503.405 1845.79,537.195 1847.97,587.879 1850.14,469.615 \n",
       "  1852.32,469.615 1854.5,317.562 1856.67,469.615 1858.85,554.09 1861.02,469.615 1863.2,317.562 1865.38,368.246 1867.55,351.351 1869.73,368.246 1871.9,435.826 \n",
       "  1874.08,385.141 1876.25,452.72 1878.43,351.351 1880.61,351.351 1882.78,452.72 1884.96,537.195 1887.13,537.195 1889.31,587.879 1891.49,503.405 1893.66,520.3 \n",
       "  1895.84,503.405 1898.01,520.3 1900.19,503.405 1902.36,537.195 1904.54,469.615 1906.72,452.72 1908.89,368.246 1911.07,233.087 1913.24,300.667 1915.42,283.772 \n",
       "  1917.59,317.562 1919.77,317.562 1921.95,300.667 1924.12,216.193 1926.3,283.772 1928.47,385.141 1930.65,418.931 1932.83,402.036 1935,452.72 1937.18,402.036 \n",
       "  1939.35,368.246 1941.53,385.141 1943.7,402.036 1945.88,537.195 1948.06,334.457 1950.23,368.246 1952.41,283.772 1954.58,300.667 1956.76,351.351 1958.94,385.141 \n",
       "  1961.11,469.615 1963.29,503.405 1965.46,452.72 1967.64,503.405 1969.81,317.562 1971.99,266.877 1974.17,266.877 1976.34,402.036 1978.52,418.931 1980.69,469.615 \n",
       "  1982.87,486.51 1985.04,587.879 1987.22,435.826 1989.4,486.51 1991.57,469.615 1993.75,469.615 1995.92,570.984 1998.1,503.405 2000.28,435.826 2002.45,334.457 \n",
       "  2004.63,402.036 2006.8,300.667 2008.98,418.931 2011.15,486.51 2013.33,368.246 2015.51,385.141 2017.68,368.246 2019.86,402.036 2022.03,300.667 2024.21,334.457 \n",
       "  2026.39,351.351 2028.56,317.562 2030.74,249.982 2032.91,249.982 2035.09,266.877 2037.26,435.826 2039.44,435.826 2041.62,385.141 2043.79,486.51 2045.97,452.72 \n",
       "  2048.14,486.51 2050.32,537.195 2052.49,435.826 2054.67,368.246 2056.85,165.508 2059.02,233.087 2061.2,165.508 2063.37,148.613 2065.55,300.667 2067.73,334.457 \n",
       "  2069.9,452.72 2072.08,334.457 2074.25,317.562 2076.43,402.036 2078.6,402.036 2080.78,503.405 2082.96,520.3 2085.13,520.3 2087.31,503.405 2089.48,452.72 \n",
       "  2091.66,402.036 2093.84,402.036 2096.01,402.036 2098.19,266.877 2100.36,266.877 2102.54,418.931 2104.71,469.615 2106.89,452.72 2109.07,317.562 2111.24,385.141 \n",
       "  2113.42,418.931 2115.59,368.246 2117.77,469.615 2119.94,435.826 2122.12,452.72 2124.3,452.72 2126.47,385.141 2128.65,385.141 2130.82,233.087 2133,283.772 \n",
       "  2135.18,182.403 2137.35,385.141 2139.53,452.72 2141.7,486.51 2143.88,385.141 2146.05,435.826 2148.23,368.246 2150.41,266.877 2152.58,182.403 2154.76,131.718 \n",
       "  2156.93,283.772 2159.11,435.826 2161.29,385.141 2163.46,368.246 2165.64,300.667 2167.81,435.826 2169.99,469.615 2172.16,469.615 2174.34,587.879 2176.52,486.51 \n",
       "  2178.69,537.195 2180.87,570.984 2183.04,503.405 2185.22,385.141 2187.39,300.667 2189.57,435.826 2191.75,418.931 2193.92,402.036 2196.1,503.405 2198.27,503.405 \n",
       "  2200.45,452.72 2202.63,317.562 2204.8,300.667 2206.98,418.931 2209.15,452.72 2211.33,486.51 2213.5,402.036 2215.68,452.72 2217.86,317.562 2220.03,317.562 \n",
       "  2222.21,452.72 2224.38,452.72 2226.56,469.615 2228.74,570.984 2230.91,570.984 2233.09,469.615 2235.26,351.351 2237.44,418.931 2239.61,469.615 2241.79,469.615 \n",
       "  2243.97,520.3 2246.14,486.51 2248.32,418.931 2250.49,520.3 2252.67,587.879 2254.84,503.405 2257.02,351.351 2259.2,486.51 2261.37,418.931 2263.55,486.51 \n",
       "  2265.72,368.246 2267.9,402.036 2270.08,520.3 2272.25,537.195 2274.43,503.405 2276.6,402.036 2278.78,418.931 2280.95,385.141 2283.13,385.141 2285.31,300.667 \n",
       "  2287.48,266.877 2289.66,385.141 2291.83,402.036 2294.01,418.931 2296.18,452.72 2298.36,402.036 2300.54,435.826 2302.71,402.036 2304.89,452.72 2307.06,469.615 \n",
       "  2309.24,418.931 2311.42,385.141 2313.59,520.3 2315.77,435.826 2317.94,418.931 2320.12,435.826 2322.29,486.51 2324.47,385.141 2326.65,385.141 2328.82,418.931 \n",
       "  2331,300.667 \n",
       "  \"/>\n",
       "<polyline clip-path=\"url(#clip802)\" style=\"stroke:#b7516c; stroke-linecap:butt; stroke-linejoin:round; stroke-width:5.6; stroke-opacity:1; fill:none\" stroke-dasharray=\"22, 14\" points=\"\n",
       "  1898.01,638.564 1898.01,-37.2301 \n",
       "  \"/>\n",
       "<path clip-path=\"url(#clip800)\" d=\"\n",
       "M207.412 170.635 L574.96 170.635 L574.96 66.9548 L207.412 66.9548  Z\n",
       "  \" fill=\"#ffffff\" fill-rule=\"evenodd\" fill-opacity=\"1\"/>\n",
       "<polyline clip-path=\"url(#clip800)\" style=\"stroke:#000000; stroke-linecap:butt; stroke-linejoin:round; stroke-width:4; stroke-opacity:1; fill:none\" points=\"\n",
       "  207.412,170.635 574.96,170.635 574.96,66.9548 207.412,66.9548 207.412,170.635 \n",
       "  \"/>\n",
       "<polyline clip-path=\"url(#clip800)\" style=\"stroke:#283b6e; stroke-linecap:butt; stroke-linejoin:round; stroke-width:4; stroke-opacity:1; fill:none\" points=\"\n",
       "  232.071,118.795 380.026,118.795 \n",
       "  \"/>\n",
       "<path clip-path=\"url(#clip800)\" d=\"M430.684 122.664 Q430.684 122.851 430.473 123.577 Q430.262 124.303 429.747 125.428 Q429.255 126.552 428.576 127.582 Q427.896 128.59 426.772 129.339 Q425.671 130.065 424.407 130.065 Q422.72 130.065 421.596 128.941 Q420.472 127.817 420.472 126.13 Q420.472 125.193 420.963 123.905 Q424.079 115.59 424.079 112.733 Q424.079 109.383 421.479 109.383 Q420.191 109.383 418.973 109.875 Q417.778 110.343 416.958 110.999 Q416.138 111.655 415.389 112.569 Q414.663 113.459 414.288 114.068 Q413.937 114.653 413.656 115.239 L413.047 117.628 Q412.906 118.284 412.227 120.837 L411.173 125.17 Q410.423 128.402 410.259 128.707 Q410.025 129.363 409.51 129.714 Q408.995 130.065 408.479 130.065 Q407.894 130.065 407.496 129.714 Q407.097 129.363 407.097 128.754 Q407.097 128.66 407.168 128.309 Q407.238 127.957 407.355 127.465 Q407.472 126.973 407.519 126.692 L410.306 115.614 Q410.822 113.599 410.939 112.967 Q411.079 112.311 411.079 111.585 Q411.079 109.383 409.58 109.383 Q408.362 109.383 407.566 110.835 Q406.769 112.288 406.09 115.098 Q405.879 115.871 405.739 116.035 Q405.622 116.199 405.27 116.199 Q404.685 116.176 404.685 115.707 Q404.685 115.59 404.872 114.817 Q405.06 114.044 405.411 112.943 Q405.786 111.819 406.137 111.07 Q406.442 110.507 406.605 110.25 Q406.793 109.969 407.238 109.43 Q407.706 108.868 408.315 108.61 Q408.948 108.329 409.721 108.329 Q411.454 108.329 412.719 109.453 Q413.984 110.554 414.148 112.498 Q417.263 108.329 421.619 108.329 Q424.196 108.329 425.671 109.688 Q427.147 111.046 427.147 113.459 Q427.147 114.021 427.03 114.747 Q426.936 115.45 426.702 116.34 Q426.491 117.23 426.304 117.909 Q426.116 118.588 425.742 119.689 Q425.367 120.766 425.203 121.235 Q425.039 121.703 424.641 122.804 Q424.266 123.882 424.219 123.999 Q423.353 126.177 423.353 127.418 Q423.353 128.238 423.61 128.613 Q423.891 128.988 424.5 128.988 Q426.14 128.988 427.358 127.372 Q428.599 125.732 429.396 123.062 Q429.583 122.476 429.677 122.336 Q429.794 122.195 430.122 122.195 Q430.684 122.195 430.684 122.664 Z\" fill=\"#000000\" fill-rule=\"evenodd\" fill-opacity=\"1\" /><path clip-path=\"url(#clip800)\" d=\"M469.183 121.128 Q469.183 121.603 468.97 121.701 Q468.773 121.8 468.117 121.8 Q467.347 121.8 466.871 121.865 Q466.396 121.915 466.101 121.997 Q465.806 122.062 465.625 122.292 Q465.461 122.521 465.396 122.718 Q465.33 122.898 465.215 123.341 L460.756 141.229 Q460.592 141.835 460.592 142.048 Q460.592 142.262 460.723 142.393 Q460.871 142.524 461.231 142.59 Q461.592 142.639 461.871 142.655 Q462.166 142.655 462.772 142.655 Q463.527 142.655 463.641 142.786 Q463.707 142.868 463.707 143.016 Q463.707 143.327 463.576 143.491 Q463.445 143.639 463.33 143.672 Q463.232 143.688 463.068 143.688 Q462.379 143.688 460.969 143.639 Q459.559 143.59 458.87 143.59 L454.706 143.688 Q454.214 143.688 454.214 143.278 Q454.214 142.967 454.345 142.835 Q454.476 142.688 454.624 142.671 Q454.771 142.655 455.148 142.655 Q456.493 142.655 457.067 142.508 Q457.657 142.36 457.821 142.098 Q458.001 141.819 458.198 141.065 L463.002 121.833 L462.969 121.833 L449.41 143.081 L449.312 143.229 Q449.213 143.36 449.18 143.409 Q449.148 143.442 449.049 143.54 Q448.967 143.622 448.869 143.655 Q448.787 143.688 448.672 143.688 Q448.475 143.688 448.361 143.557 Q448.262 143.426 448.229 143.327 Q448.213 143.213 448.164 142.917 L445.278 122.095 L445.245 122.095 L440.671 140.392 Q440.54 140.901 440.54 141.163 Q440.54 141.835 441.015 142.245 Q441.507 142.639 442.819 142.655 Q443.426 142.655 443.426 143.016 Q443.426 143.688 442.819 143.688 Q442.261 143.688 441.097 143.639 Q439.933 143.59 439.359 143.59 Q438.802 143.59 437.671 143.639 Q436.556 143.688 436.015 143.688 Q435.539 143.688 435.539 143.278 Q435.539 142.655 436.146 142.655 Q437.13 142.622 437.802 142.426 Q438.474 142.229 438.851 141.852 Q439.245 141.475 439.425 141.098 Q439.622 140.704 439.769 140.13 L444.032 123.029 Q444.163 122.488 444.163 122.406 Q444.163 122.128 443.999 122.029 Q443.852 121.915 443.426 121.865 Q442.606 121.8 441.983 121.8 Q441.573 121.8 441.409 121.783 Q441.261 121.767 441.13 121.685 Q441.015 121.587 441.015 121.39 Q441.015 121.078 441.147 120.947 Q441.294 120.8 441.458 120.783 Q441.622 120.75 442.016 120.75 L446.623 120.75 Q447.295 120.75 447.443 120.865 Q447.59 120.964 447.656 121.521 L450.279 140.524 L462.543 121.39 Q462.854 120.914 463.018 120.832 Q463.182 120.75 463.838 120.75 L468.281 120.75 Q468.642 120.75 468.79 120.767 Q468.937 120.783 469.052 120.865 Q469.183 120.947 469.183 121.128 Z\" fill=\"#000000\" fill-rule=\"evenodd\" fill-opacity=\"1\" /><path clip-path=\"url(#clip800)\" d=\"M473.975 117.534 Q473.975 109.43 476.996 102.895 Q478.285 100.155 480.088 97.8593 Q481.892 95.5639 483.086 94.5568 Q484.281 93.5496 484.609 93.5496 Q485.077 93.5496 485.101 94.018 Q485.101 94.2523 484.468 94.8378 Q476.739 102.708 476.762 117.534 Q476.762 132.407 484.281 139.973 Q485.101 140.793 485.101 141.05 Q485.101 141.519 484.609 141.519 Q484.281 141.519 483.133 140.558 Q481.985 139.598 480.205 137.396 Q478.425 135.195 477.137 132.501 Q473.975 125.966 473.975 117.534 Z\" fill=\"#000000\" fill-rule=\"evenodd\" fill-opacity=\"1\" /><path clip-path=\"url(#clip800)\" d=\"M503.475 109.383 Q503.475 110.039 503.171 110.203 Q502.866 110.343 502.023 110.343 L497.526 110.343 L493.966 124.491 Q493.685 125.732 493.685 126.786 Q493.685 127.957 494.036 128.472 Q494.411 128.988 495.184 128.988 Q496.706 128.988 498.346 127.606 Q500.009 126.224 501.414 122.851 Q501.601 122.406 501.695 122.312 Q501.812 122.195 502.117 122.195 Q502.702 122.195 502.702 122.664 Q502.702 122.828 502.374 123.577 Q502.07 124.327 501.39 125.428 Q500.735 126.528 499.868 127.559 Q499.025 128.59 497.737 129.339 Q496.448 130.065 495.066 130.065 Q493.122 130.065 491.881 128.824 Q490.663 127.582 490.663 125.638 Q490.663 125.006 491.155 122.992 Q491.647 120.954 494.317 110.343 L490.077 110.343 Q489.492 110.343 489.258 110.32 Q489.047 110.297 488.883 110.18 Q488.742 110.039 488.742 109.758 Q488.742 109.313 488.93 109.126 Q489.117 108.915 489.351 108.891 Q489.609 108.844 490.195 108.844 L494.692 108.844 L496.565 101.232 Q496.753 100.483 497.221 100.061 Q497.713 99.616 497.994 99.5692 Q498.275 99.4989 498.486 99.4989 Q499.119 99.4989 499.493 99.8502 Q499.868 100.178 499.868 100.787 Q499.868 101.115 497.901 108.844 L502.117 108.844 Q502.655 108.844 502.866 108.868 Q503.1 108.891 503.288 109.008 Q503.475 109.126 503.475 109.383 Z\" fill=\"#000000\" fill-rule=\"evenodd\" fill-opacity=\"1\" /><path clip-path=\"url(#clip800)\" d=\"M507.226 141.05 Q507.226 140.816 507.835 140.231 Q515.565 132.361 515.565 117.534 Q515.565 102.661 508.14 95.1423 Q507.226 94.2757 507.226 94.018 Q507.226 93.5496 507.695 93.5496 Q508.023 93.5496 509.17 94.5099 Q510.341 95.4702 512.098 97.6719 Q513.878 99.8737 515.19 102.567 Q518.352 109.102 518.352 117.534 Q518.352 125.638 515.33 132.173 Q514.042 134.914 512.239 137.209 Q510.435 139.504 509.241 140.512 Q508.046 141.519 507.695 141.519 Q507.226 141.519 507.226 141.05 Z\" fill=\"#000000\" fill-rule=\"evenodd\" fill-opacity=\"1\" /></svg>\n"
      ]
     },
     "execution_count": 73,
     "metadata": {},
     "output_type": "execute_result"
    }
   ],
   "source": [
    "time_pts = collect(0:1.0:1000.0)\n",
    "plot(time_pts,vcat(all_lin_data[2,:,:]...), label = L\"$n_M(t)$\", legend = :topleft, \n",
    "    bottom_margin = 3PlotMeasures.mm, lc = chosen_pal[3], xlim = (-10,1010), ylim = (0,35))\n",
    "plot!(grid = false, minorgrid = false, size = (600,200))\n",
    "plot!([801,801],[0,40], style = :dash, label = :none, lc = chosen_pal[7])\n",
    "xlabel!(L\"t\")"
   ]
  },
  {
   "cell_type": "markdown",
   "id": "e3dee449",
   "metadata": {},
   "source": [
    "The data to the right of the dotted red line above is the lineage data we use in this tutorial. For the rest of this tutorial we will explicitly do inference with the lineage data (although very easily one could use the population data). "
   ]
  },
  {
   "cell_type": "markdown",
   "id": "fb0f1573",
   "metadata": {},
   "source": [
    "## Numerical analytics using the FSP for fast evaluation "
   ]
  },
  {
   "cell_type": "markdown",
   "id": "b9157226",
   "metadata": {},
   "source": [
    "When using Julia it can be quite tricky to use exact solutions for probability distributions that have a complicated functional form. For example, the solution to the telegraph model comes in the form of a hypergeometric function (see SI protocol of [this](https://journals.plos.org/plosbiology/article?id=10.1371/journal.pbio.0040309#s5)). It can thus be easier to utilise compuational methods to solve a truncated state space version of our system. One can then either refer to the orignal FSP papers [here](https://aip.scitation.org/doi/full/10.1063/1.2145882) and [here](https://aip.scitation.org/doi/full/10.1063/1.5006484) or else look at the associated section in the following [PhD thesis](https://github.com/jamesholehouse/jamesholehouse.github.io/blob/gh-pages/assets/papers/PhD_Thesis-2.pdf). In this notebook we utilise the steady state FSP as shown in the PhD thesis.\n",
    "\n",
    "In short, the FSP provides a way to evaluate the chemical master equation under a finite state approximation of an infinite state space problem. In our system, $M$ is an unbounded species, meaning that there is a finite probability $P(n_M)$ of having any value of $n_M\\in [0,1,2,\\dots,\\infty)$. For our example above, we use a state space truncation of $N=100$, since $P(N)$ is then a very small probability for the parameters in `pars`.\n",
    "\n",
    "In this tutorial we have manually coded up an FSP for clarity, however, one can easily do this for any reaction scheme using methods from [`FiniteStateProjection.jl`](https://github.com/kaandocal/FiniteStateProjection.jl) (see [here](https://github.com/jamesholehouse/SSAandFSPexample/blob/main/Julia_SSA_FSP_example.ipynb) for an example applied to genetic autoregulation).\n",
    "\n",
    "First, let's import the FSP package from our filepath."
   ]
  },
  {
   "cell_type": "code",
   "execution_count": 74,
   "id": "32f421e4",
   "metadata": {},
   "outputs": [
    {
     "name": "stderr",
     "output_type": "stream",
     "text": [
      "WARNING: replacing module FSPTM.\n",
      "WARNING: using FSPTM.FSP in module Main conflicts with an existing identifier.\n"
     ]
    }
   ],
   "source": [
    "file_path2 = join([path_to_folder,\"/FSP-TM.jl\"]);\n",
    "include(file_path2);\n",
    "using .FSPTM"
   ]
  },
  {
   "cell_type": "markdown",
   "id": "1205cf74",
   "metadata": {},
   "source": [
    "One can then use the FSP to output a probability distribution of interest."
   ]
  },
  {
   "cell_type": "code",
   "execution_count": 75,
   "id": "0c525bbf",
   "metadata": {},
   "outputs": [
    {
     "data": {
      "image/svg+xml": [
       "<?xml version=\"1.0\" encoding=\"utf-8\"?>\n",
       "<svg xmlns=\"http://www.w3.org/2000/svg\" xmlns:xlink=\"http://www.w3.org/1999/xlink\" width=\"400\" height=\"200\" viewBox=\"0 0 1600 800\">\n",
       "<defs>\n",
       "  <clipPath id=\"clip840\">\n",
       "    <rect x=\"0\" y=\"0\" width=\"1600\" height=\"800\"/>\n",
       "  </clipPath>\n",
       "</defs>\n",
       "<path clip-path=\"url(#clip840)\" d=\"\n",
       "M0 800 L1600 800 L1600 0 L0 0  Z\n",
       "  \" fill=\"#ffffff\" fill-rule=\"evenodd\" fill-opacity=\"1\"/>\n",
       "<defs>\n",
       "  <clipPath id=\"clip841\">\n",
       "    <rect x=\"320\" y=\"0\" width=\"1121\" height=\"800\"/>\n",
       "  </clipPath>\n",
       "</defs>\n",
       "<defs>\n",
       "  <clipPath id=\"clip842\">\n",
       "    <rect x=\"88\" y=\"298\" width=\"1481\" height=\"395\"/>\n",
       "  </clipPath>\n",
       "</defs>\n",
       "<path clip-path=\"url(#clip840)\" d=\"\n",
       "M165.503 648.46 L1552.76 648.46 L1552.76 47.2441 L165.503 47.2441  Z\n",
       "  \" fill=\"#ffffff\" fill-rule=\"evenodd\" fill-opacity=\"1\"/>\n",
       "<defs>\n",
       "  <clipPath id=\"clip843\">\n",
       "    <rect x=\"165\" y=\"47\" width=\"1388\" height=\"602\"/>\n",
       "  </clipPath>\n",
       "</defs>\n",
       "<polyline clip-path=\"url(#clip840)\" style=\"stroke:#000000; stroke-linecap:butt; stroke-linejoin:round; stroke-width:4; stroke-opacity:1; fill:none\" points=\"\n",
       "  165.503,648.46 1552.76,648.46 \n",
       "  \"/>\n",
       "<polyline clip-path=\"url(#clip840)\" style=\"stroke:#000000; stroke-linecap:butt; stroke-linejoin:round; stroke-width:4; stroke-opacity:1; fill:none\" points=\"\n",
       "  165.503,47.2441 1552.76,47.2441 \n",
       "  \"/>\n",
       "<polyline clip-path=\"url(#clip840)\" style=\"stroke:#000000; stroke-linecap:butt; stroke-linejoin:round; stroke-width:4; stroke-opacity:1; fill:none\" points=\"\n",
       "  204.765,648.46 204.765,629.562 \n",
       "  \"/>\n",
       "<polyline clip-path=\"url(#clip840)\" style=\"stroke:#000000; stroke-linecap:butt; stroke-linejoin:round; stroke-width:4; stroke-opacity:1; fill:none\" points=\"\n",
       "  531.947,648.46 531.947,629.562 \n",
       "  \"/>\n",
       "<polyline clip-path=\"url(#clip840)\" style=\"stroke:#000000; stroke-linecap:butt; stroke-linejoin:round; stroke-width:4; stroke-opacity:1; fill:none\" points=\"\n",
       "  859.13,648.46 859.13,629.562 \n",
       "  \"/>\n",
       "<polyline clip-path=\"url(#clip840)\" style=\"stroke:#000000; stroke-linecap:butt; stroke-linejoin:round; stroke-width:4; stroke-opacity:1; fill:none\" points=\"\n",
       "  1186.31,648.46 1186.31,629.562 \n",
       "  \"/>\n",
       "<polyline clip-path=\"url(#clip840)\" style=\"stroke:#000000; stroke-linecap:butt; stroke-linejoin:round; stroke-width:4; stroke-opacity:1; fill:none\" points=\"\n",
       "  1513.49,648.46 1513.49,629.562 \n",
       "  \"/>\n",
       "<polyline clip-path=\"url(#clip840)\" style=\"stroke:#000000; stroke-linecap:butt; stroke-linejoin:round; stroke-width:4; stroke-opacity:1; fill:none\" points=\"\n",
       "  270.202,648.46 270.202,639.011 \n",
       "  \"/>\n",
       "<polyline clip-path=\"url(#clip840)\" style=\"stroke:#000000; stroke-linecap:butt; stroke-linejoin:round; stroke-width:4; stroke-opacity:1; fill:none\" points=\"\n",
       "  335.638,648.46 335.638,639.011 \n",
       "  \"/>\n",
       "<polyline clip-path=\"url(#clip840)\" style=\"stroke:#000000; stroke-linecap:butt; stroke-linejoin:round; stroke-width:4; stroke-opacity:1; fill:none\" points=\"\n",
       "  401.074,648.46 401.074,639.011 \n",
       "  \"/>\n",
       "<polyline clip-path=\"url(#clip840)\" style=\"stroke:#000000; stroke-linecap:butt; stroke-linejoin:round; stroke-width:4; stroke-opacity:1; fill:none\" points=\"\n",
       "  466.511,648.46 466.511,639.011 \n",
       "  \"/>\n",
       "<polyline clip-path=\"url(#clip840)\" style=\"stroke:#000000; stroke-linecap:butt; stroke-linejoin:round; stroke-width:4; stroke-opacity:1; fill:none\" points=\"\n",
       "  597.384,648.46 597.384,639.011 \n",
       "  \"/>\n",
       "<polyline clip-path=\"url(#clip840)\" style=\"stroke:#000000; stroke-linecap:butt; stroke-linejoin:round; stroke-width:4; stroke-opacity:1; fill:none\" points=\"\n",
       "  662.82,648.46 662.82,639.011 \n",
       "  \"/>\n",
       "<polyline clip-path=\"url(#clip840)\" style=\"stroke:#000000; stroke-linecap:butt; stroke-linejoin:round; stroke-width:4; stroke-opacity:1; fill:none\" points=\"\n",
       "  728.257,648.46 728.257,639.011 \n",
       "  \"/>\n",
       "<polyline clip-path=\"url(#clip840)\" style=\"stroke:#000000; stroke-linecap:butt; stroke-linejoin:round; stroke-width:4; stroke-opacity:1; fill:none\" points=\"\n",
       "  793.693,648.46 793.693,639.011 \n",
       "  \"/>\n",
       "<polyline clip-path=\"url(#clip840)\" style=\"stroke:#000000; stroke-linecap:butt; stroke-linejoin:round; stroke-width:4; stroke-opacity:1; fill:none\" points=\"\n",
       "  924.566,648.46 924.566,639.011 \n",
       "  \"/>\n",
       "<polyline clip-path=\"url(#clip840)\" style=\"stroke:#000000; stroke-linecap:butt; stroke-linejoin:round; stroke-width:4; stroke-opacity:1; fill:none\" points=\"\n",
       "  990.002,648.46 990.002,639.011 \n",
       "  \"/>\n",
       "<polyline clip-path=\"url(#clip840)\" style=\"stroke:#000000; stroke-linecap:butt; stroke-linejoin:round; stroke-width:4; stroke-opacity:1; fill:none\" points=\"\n",
       "  1055.44,648.46 1055.44,639.011 \n",
       "  \"/>\n",
       "<polyline clip-path=\"url(#clip840)\" style=\"stroke:#000000; stroke-linecap:butt; stroke-linejoin:round; stroke-width:4; stroke-opacity:1; fill:none\" points=\"\n",
       "  1120.88,648.46 1120.88,639.011 \n",
       "  \"/>\n",
       "<polyline clip-path=\"url(#clip840)\" style=\"stroke:#000000; stroke-linecap:butt; stroke-linejoin:round; stroke-width:4; stroke-opacity:1; fill:none\" points=\"\n",
       "  1251.75,648.46 1251.75,639.011 \n",
       "  \"/>\n",
       "<polyline clip-path=\"url(#clip840)\" style=\"stroke:#000000; stroke-linecap:butt; stroke-linejoin:round; stroke-width:4; stroke-opacity:1; fill:none\" points=\"\n",
       "  1317.18,648.46 1317.18,639.011 \n",
       "  \"/>\n",
       "<polyline clip-path=\"url(#clip840)\" style=\"stroke:#000000; stroke-linecap:butt; stroke-linejoin:round; stroke-width:4; stroke-opacity:1; fill:none\" points=\"\n",
       "  1382.62,648.46 1382.62,639.011 \n",
       "  \"/>\n",
       "<polyline clip-path=\"url(#clip840)\" style=\"stroke:#000000; stroke-linecap:butt; stroke-linejoin:round; stroke-width:4; stroke-opacity:1; fill:none\" points=\"\n",
       "  1448.06,648.46 1448.06,639.011 \n",
       "  \"/>\n",
       "<path clip-path=\"url(#clip840)\" d=\"M194.118 688.279 Q194.118 680.843 195.995 676.792 Q198.614 670.764 204.79 670.764 Q206.099 670.764 207.458 671.135 Q208.841 671.481 210.57 672.84 Q212.324 674.198 213.387 676.422 Q215.412 680.72 215.412 688.279 Q215.412 695.665 213.535 699.692 Q210.793 705.571 204.74 705.571 Q202.468 705.571 200.146 704.41 Q197.848 703.249 196.391 700.458 Q194.118 696.283 194.118 688.279 M198.318 687.662 Q198.318 695.295 198.861 698.333 Q199.479 701.619 201.158 703.052 Q202.863 704.46 204.74 704.46 Q206.766 704.46 208.446 702.953 Q210.15 701.421 210.669 698.136 Q211.237 694.9 211.213 687.662 Q211.213 680.621 210.719 677.805 Q210.052 674.519 208.273 673.21 Q206.519 671.876 204.74 671.876 Q204.073 671.876 203.357 672.074 Q202.665 672.271 201.653 672.84 Q200.64 673.408 199.849 674.816 Q199.083 676.224 198.713 678.348 Q198.318 681.09 198.318 687.662 Z\" fill=\"#000000\" fill-rule=\"evenodd\" fill-opacity=\"1\" /><path clip-path=\"url(#clip840)\" d=\"M509.196 704.46 Q509.196 703.546 509.27 703.274 Q509.369 703.002 509.764 702.582 L519.472 691.762 Q524.783 685.784 524.783 680.572 Q524.783 677.187 523.005 674.766 Q521.251 672.345 518.015 672.345 Q515.791 672.345 513.914 673.704 Q512.036 675.063 511.172 677.484 Q511.32 677.434 511.839 677.434 Q513.099 677.434 513.79 678.225 Q514.507 679.015 514.507 680.078 Q514.507 681.436 513.617 682.103 Q512.753 682.746 511.888 682.746 Q511.542 682.746 511.073 682.671 Q510.628 682.597 509.912 681.906 Q509.196 681.189 509.196 679.929 Q509.196 676.397 511.864 673.581 Q514.556 670.764 518.657 670.764 Q523.301 670.764 526.34 673.531 Q529.403 676.273 529.403 680.572 Q529.403 682.079 528.934 683.462 Q528.489 684.821 527.871 685.883 Q527.278 686.945 525.648 688.65 Q524.018 690.354 522.708 691.565 Q521.399 692.775 518.459 695.344 L513.099 700.557 L522.214 700.557 Q526.661 700.557 527.007 700.161 Q527.501 699.445 528.118 695.665 L529.403 695.665 L527.97 704.46 L509.196 704.46 Z\" fill=\"#000000\" fill-rule=\"evenodd\" fill-opacity=\"1\" /><path clip-path=\"url(#clip840)\" d=\"M534.492 696.308 Q534.492 694.801 535.307 694.233 Q536.122 693.64 536.987 693.64 Q538.148 693.64 538.815 694.381 Q539.507 695.097 539.507 696.11 Q539.507 697.123 538.815 697.864 Q538.148 698.58 536.987 698.58 Q536.419 698.58 536.122 698.482 Q536.789 700.804 538.815 702.484 Q540.865 704.163 543.558 704.163 Q546.942 704.163 548.968 700.878 Q550.178 698.753 550.178 693.936 Q550.178 689.687 549.264 687.563 Q547.856 684.327 544.966 684.327 Q540.865 684.327 538.444 687.859 Q538.148 688.304 537.802 688.329 Q537.308 688.329 537.184 688.057 Q537.086 687.76 537.086 686.995 L537.086 672.024 Q537.086 670.814 537.58 670.814 Q537.777 670.814 538.197 670.962 Q541.384 672.37 544.917 672.395 Q548.548 672.395 551.809 670.913 Q552.056 670.764 552.204 670.764 Q552.698 670.764 552.723 671.333 Q552.723 671.53 552.303 672.123 Q551.908 672.691 551.043 673.457 Q550.178 674.198 549.067 674.915 Q547.955 675.631 546.325 676.125 Q544.719 676.594 542.94 676.594 Q540.816 676.594 538.642 675.927 L538.642 685.784 Q541.261 683.215 545.065 683.215 Q549.116 683.215 551.908 686.476 Q554.699 689.737 554.699 694.282 Q554.699 699.05 551.389 702.311 Q548.103 705.571 543.657 705.571 Q539.605 705.571 537.036 702.681 Q534.492 699.791 534.492 696.308 Z\" fill=\"#000000\" fill-rule=\"evenodd\" fill-opacity=\"1\" /><path clip-path=\"url(#clip840)\" d=\"M836.106 696.308 Q836.106 694.801 836.921 694.233 Q837.736 693.64 838.601 693.64 Q839.762 693.64 840.429 694.381 Q841.121 695.097 841.121 696.11 Q841.121 697.123 840.429 697.864 Q839.762 698.58 838.601 698.58 Q838.033 698.58 837.736 698.482 Q838.403 700.804 840.429 702.484 Q842.48 704.163 845.172 704.163 Q848.557 704.163 850.582 700.878 Q851.793 698.753 851.793 693.936 Q851.793 689.687 850.879 687.563 Q849.471 684.327 846.58 684.327 Q842.48 684.327 840.059 687.859 Q839.762 688.304 839.416 688.329 Q838.922 688.329 838.799 688.057 Q838.7 687.76 838.7 686.995 L838.7 672.024 Q838.7 670.814 839.194 670.814 Q839.392 670.814 839.812 670.962 Q842.998 672.37 846.531 672.395 Q850.162 672.395 853.423 670.913 Q853.67 670.764 853.818 670.764 Q854.312 670.764 854.337 671.333 Q854.337 671.53 853.917 672.123 Q853.522 672.691 852.657 673.457 Q851.793 674.198 850.681 674.915 Q849.569 675.631 847.939 676.125 Q846.333 676.594 844.555 676.594 Q842.43 676.594 840.256 675.927 L840.256 685.784 Q842.875 683.215 846.679 683.215 Q850.73 683.215 853.522 686.476 Q856.313 689.737 856.313 694.282 Q856.313 699.05 853.003 702.311 Q849.718 705.571 845.271 705.571 Q841.22 705.571 838.651 702.681 Q836.106 699.791 836.106 696.308 Z\" fill=\"#000000\" fill-rule=\"evenodd\" fill-opacity=\"1\" /><path clip-path=\"url(#clip840)\" d=\"M860.859 688.279 Q860.859 680.843 862.736 676.792 Q865.355 670.764 871.531 670.764 Q872.84 670.764 874.199 671.135 Q875.582 671.481 877.311 672.84 Q879.065 674.198 880.127 676.422 Q882.153 680.72 882.153 688.279 Q882.153 695.665 880.276 699.692 Q877.534 705.571 871.481 705.571 Q869.209 705.571 866.886 704.41 Q864.589 703.249 863.132 700.458 Q860.859 696.283 860.859 688.279 M865.058 687.662 Q865.058 695.295 865.602 698.333 Q866.219 701.619 867.899 703.052 Q869.604 704.46 871.481 704.46 Q873.507 704.46 875.187 702.953 Q876.891 701.421 877.41 698.136 Q877.978 694.9 877.954 687.662 Q877.954 680.621 877.459 677.805 Q876.793 674.519 875.014 673.21 Q873.26 671.876 871.481 671.876 Q870.814 671.876 870.098 672.074 Q869.406 672.271 868.393 672.84 Q867.381 673.408 866.59 674.816 Q865.824 676.224 865.454 678.348 Q865.058 681.09 865.058 687.662 Z\" fill=\"#000000\" fill-rule=\"evenodd\" fill-opacity=\"1\" /><path clip-path=\"url(#clip840)\" d=\"M1163.72 680.671 L1165.38 670.27 L1166.64 670.27 Q1166.78 670.888 1167.03 671.16 Q1167.3 671.431 1168.74 671.654 Q1170.19 671.876 1173.13 671.876 L1185.41 671.876 Q1185.41 673.037 1184.97 673.655 L1178.12 683.264 Q1175.95 686.303 1174.99 691.911 Q1174.42 695.665 1174.44 700.211 L1174.44 702.78 Q1174.44 705.571 1172.1 705.571 Q1169.77 705.571 1169.77 702.78 Q1169.77 693.121 1176 683.758 Q1176.67 682.795 1179.11 679.361 Q1181.58 675.927 1181.68 675.779 L1171.21 675.779 Q1166.61 675.779 1166.24 676.076 Q1165.75 676.52 1164.98 680.671 L1163.72 680.671 Z\" fill=\"#000000\" fill-rule=\"evenodd\" fill-opacity=\"1\" /><path clip-path=\"url(#clip840)\" d=\"M1188.7 696.308 Q1188.7 694.801 1189.51 694.233 Q1190.33 693.64 1191.19 693.64 Q1192.35 693.64 1193.02 694.381 Q1193.71 695.097 1193.71 696.11 Q1193.71 697.123 1193.02 697.864 Q1192.35 698.58 1191.19 698.58 Q1190.62 698.58 1190.33 698.482 Q1190.99 700.804 1193.02 702.484 Q1195.07 704.163 1197.76 704.163 Q1201.15 704.163 1203.17 700.878 Q1204.38 698.753 1204.38 693.936 Q1204.38 689.687 1203.47 687.563 Q1202.06 684.327 1199.17 684.327 Q1195.07 684.327 1192.65 687.859 Q1192.35 688.304 1192.01 688.329 Q1191.51 688.329 1191.39 688.057 Q1191.29 687.76 1191.29 686.995 L1191.29 672.024 Q1191.29 670.814 1191.78 670.814 Q1191.98 670.814 1192.4 670.962 Q1195.59 672.37 1199.12 672.395 Q1202.75 672.395 1206.01 670.913 Q1206.26 670.764 1206.41 670.764 Q1206.9 670.764 1206.93 671.333 Q1206.93 671.53 1206.51 672.123 Q1206.11 672.691 1205.25 673.457 Q1204.38 674.198 1203.27 674.915 Q1202.16 675.631 1200.53 676.125 Q1198.92 676.594 1197.14 676.594 Q1195.02 676.594 1192.85 675.927 L1192.85 685.784 Q1195.46 683.215 1199.27 683.215 Q1203.32 683.215 1206.11 686.476 Q1208.9 689.737 1208.9 694.282 Q1208.9 699.05 1205.59 702.311 Q1202.31 705.571 1197.86 705.571 Q1193.81 705.571 1191.24 702.681 Q1188.7 699.791 1188.7 696.308 Z\" fill=\"#000000\" fill-rule=\"evenodd\" fill-opacity=\"1\" /><path clip-path=\"url(#clip840)\" d=\"M1478.81 675.582 L1478.81 674.001 Q1484.89 674.001 1488.02 670.764 Q1488.89 670.764 1489.04 670.962 Q1489.19 671.16 1489.19 672.074 L1489.19 700.458 Q1489.19 701.965 1489.93 702.434 Q1490.67 702.904 1493.9 702.904 L1495.51 702.904 L1495.51 704.46 Q1493.73 704.312 1487.31 704.312 Q1480.89 704.312 1479.13 704.46 L1479.13 702.904 L1480.74 702.904 Q1483.92 702.904 1484.69 702.459 Q1485.46 701.99 1485.46 700.458 L1485.46 674.248 Q1482.81 675.582 1478.81 675.582 Z\" fill=\"#000000\" fill-rule=\"evenodd\" fill-opacity=\"1\" /><path clip-path=\"url(#clip840)\" d=\"M1501.59 688.279 Q1501.59 680.843 1503.46 676.792 Q1506.08 670.764 1512.26 670.764 Q1513.57 670.764 1514.93 671.135 Q1516.31 671.481 1518.04 672.84 Q1519.79 674.198 1520.86 676.422 Q1522.88 680.72 1522.88 688.279 Q1522.88 695.665 1521 699.692 Q1518.26 705.571 1512.21 705.571 Q1509.94 705.571 1507.61 704.41 Q1505.32 703.249 1503.86 700.458 Q1501.59 696.283 1501.59 688.279 M1505.79 687.662 Q1505.79 695.295 1506.33 698.333 Q1506.95 701.619 1508.63 703.052 Q1510.33 704.46 1512.21 704.46 Q1514.24 704.46 1515.91 702.953 Q1517.62 701.421 1518.14 698.136 Q1518.71 694.9 1518.68 687.662 Q1518.68 680.621 1518.19 677.805 Q1517.52 674.519 1515.74 673.21 Q1513.99 671.876 1512.21 671.876 Q1511.54 671.876 1510.83 672.074 Q1510.13 672.271 1509.12 672.84 Q1508.11 673.408 1507.32 674.816 Q1506.55 676.224 1506.18 678.348 Q1505.79 681.09 1505.79 687.662 Z\" fill=\"#000000\" fill-rule=\"evenodd\" fill-opacity=\"1\" /><path clip-path=\"url(#clip840)\" d=\"M1526.88 688.279 Q1526.88 680.843 1528.76 676.792 Q1531.38 670.764 1537.56 670.764 Q1538.86 670.764 1540.22 671.135 Q1541.61 671.481 1543.34 672.84 Q1545.09 674.198 1546.15 676.422 Q1548.18 680.72 1548.18 688.279 Q1548.18 695.665 1546.3 699.692 Q1543.56 705.571 1537.51 705.571 Q1535.23 705.571 1532.91 704.41 Q1530.61 703.249 1529.16 700.458 Q1526.88 696.283 1526.88 688.279 M1531.08 687.662 Q1531.08 695.295 1531.63 698.333 Q1532.24 701.619 1533.92 703.052 Q1535.63 704.46 1537.51 704.46 Q1539.53 704.46 1541.21 702.953 Q1542.92 701.421 1543.43 698.136 Q1544 694.9 1543.98 687.662 Q1543.98 680.621 1543.48 677.805 Q1542.82 674.519 1541.04 673.21 Q1539.28 671.876 1537.51 671.876 Q1536.84 671.876 1536.12 672.074 Q1535.43 672.271 1534.42 672.84 Q1533.4 673.408 1532.61 674.816 Q1531.85 676.224 1531.48 678.348 Q1531.08 681.09 1531.08 687.662 Z\" fill=\"#000000\" fill-rule=\"evenodd\" fill-opacity=\"1\" /><path clip-path=\"url(#clip840)\" d=\"M846.152 750.231 Q846.152 750.512 845.836 751.601 Q845.52 752.691 844.747 754.377 Q844.009 756.063 842.99 757.609 Q841.971 759.12 840.285 760.244 Q838.634 761.333 836.736 761.333 Q834.207 761.333 832.52 759.647 Q830.834 757.961 830.834 755.431 Q830.834 754.026 831.572 752.093 Q836.244 739.621 836.244 735.335 Q836.244 730.31 832.345 730.31 Q830.412 730.31 828.585 731.048 Q826.793 731.751 825.564 732.735 Q824.334 733.718 823.21 735.089 Q822.121 736.424 821.559 737.337 Q821.032 738.216 820.61 739.094 L819.696 742.678 Q819.486 743.661 818.467 747.491 L816.886 753.991 Q815.762 758.839 815.516 759.296 Q815.164 760.279 814.391 760.806 Q813.618 761.333 812.845 761.333 Q811.967 761.333 811.37 760.806 Q810.773 760.279 810.773 759.366 Q810.773 759.225 810.878 758.698 Q810.983 758.171 811.159 757.434 Q811.335 756.696 811.405 756.274 L815.586 739.656 Q816.359 736.635 816.534 735.686 Q816.745 734.702 816.745 733.613 Q816.745 730.31 814.497 730.31 Q812.67 730.31 811.475 732.489 Q810.281 734.667 809.262 738.883 Q808.946 740.042 808.735 740.288 Q808.559 740.534 808.032 740.534 Q807.154 740.499 807.154 739.797 Q807.154 739.621 807.435 738.461 Q807.716 737.302 808.243 735.651 Q808.805 733.964 809.332 732.84 Q809.789 731.997 810.035 731.61 Q810.316 731.189 810.983 730.381 Q811.686 729.538 812.599 729.151 Q813.548 728.729 814.708 728.729 Q817.307 728.729 819.205 730.416 Q821.102 732.067 821.348 734.983 Q826.021 728.729 832.555 728.729 Q836.42 728.729 838.634 730.767 Q840.847 732.805 840.847 736.424 Q840.847 737.267 840.671 738.356 Q840.531 739.41 840.179 740.745 Q839.863 742.08 839.582 743.099 Q839.301 744.118 838.739 745.769 Q838.177 747.385 837.931 748.088 Q837.685 748.791 837.088 750.442 Q836.526 752.058 836.455 752.234 Q835.155 755.501 835.155 757.363 Q835.155 758.593 835.542 759.155 Q835.963 759.717 836.877 759.717 Q839.336 759.717 841.163 757.293 Q843.025 754.834 844.22 750.829 Q844.501 749.95 844.641 749.739 Q844.817 749.529 845.309 749.529 Q846.152 749.529 846.152 750.231 Z\" fill=\"#000000\" fill-rule=\"evenodd\" fill-opacity=\"1\" /><path clip-path=\"url(#clip840)\" d=\"M903.914 747.931 Q903.914 748.644 903.595 748.792 Q903.3 748.939 902.316 748.939 Q901.16 748.939 900.447 749.038 Q899.733 749.112 899.291 749.235 Q898.848 749.333 898.578 749.677 Q898.332 750.022 898.233 750.317 Q898.135 750.587 897.963 751.251 L891.273 778.083 Q891.027 778.993 891.027 779.313 Q891.027 779.632 891.224 779.829 Q891.445 780.026 891.986 780.124 Q892.528 780.198 892.946 780.222 Q893.388 780.222 894.298 780.222 Q895.43 780.222 895.602 780.419 Q895.7 780.542 895.7 780.764 Q895.7 781.231 895.503 781.477 Q895.307 781.698 895.134 781.747 Q894.987 781.772 894.741 781.772 Q893.708 781.772 891.593 781.698 Q889.478 781.624 888.445 781.624 L882.198 781.772 Q881.46 781.772 881.46 781.157 Q881.46 780.69 881.657 780.493 Q881.854 780.272 882.075 780.247 Q882.297 780.222 882.862 780.222 Q884.879 780.222 885.74 780.001 Q886.625 779.78 886.871 779.386 Q887.142 778.968 887.437 777.837 L894.643 748.989 L894.593 748.989 L874.255 780.862 L874.107 781.083 Q873.959 781.28 873.91 781.354 Q873.861 781.403 873.713 781.551 Q873.59 781.673 873.443 781.723 Q873.32 781.772 873.148 781.772 Q872.853 781.772 872.681 781.575 Q872.533 781.378 872.484 781.231 Q872.459 781.059 872.385 780.616 L868.057 749.382 L868.008 749.382 L861.146 776.829 Q860.949 777.591 860.949 777.984 Q860.949 778.993 861.663 779.608 Q862.4 780.198 864.368 780.222 Q865.278 780.222 865.278 780.764 Q865.278 781.772 864.368 781.772 Q863.532 781.772 861.786 781.698 Q860.039 781.624 859.179 781.624 Q858.342 781.624 856.646 781.698 Q854.973 781.772 854.162 781.772 Q853.448 781.772 853.448 781.157 Q853.448 780.222 854.358 780.222 Q855.834 780.173 856.842 779.878 Q857.851 779.583 858.416 779.017 Q859.006 778.452 859.277 777.886 Q859.572 777.296 859.793 776.435 L866.188 750.784 Q866.385 749.972 866.385 749.849 Q866.385 749.431 866.139 749.284 Q865.917 749.112 865.278 749.038 Q864.048 748.939 863.114 748.939 Q862.499 748.939 862.253 748.915 Q862.032 748.89 861.835 748.767 Q861.663 748.62 861.663 748.325 Q861.663 747.857 861.859 747.661 Q862.081 747.439 862.327 747.415 Q862.573 747.365 863.163 747.365 L870.074 747.365 Q871.082 747.365 871.303 747.538 Q871.525 747.685 871.623 748.521 L875.558 777.025 L893.954 748.325 Q894.421 747.611 894.667 747.488 Q894.913 747.365 895.897 747.365 L902.562 747.365 Q903.103 747.365 903.324 747.39 Q903.545 747.415 903.718 747.538 Q903.914 747.661 903.914 747.931 Z\" fill=\"#000000\" fill-rule=\"evenodd\" fill-opacity=\"1\" /><polyline clip-path=\"url(#clip840)\" style=\"stroke:#000000; stroke-linecap:butt; stroke-linejoin:round; stroke-width:4; stroke-opacity:1; fill:none\" points=\"\n",
       "  165.503,648.46 165.503,47.2441 \n",
       "  \"/>\n",
       "<polyline clip-path=\"url(#clip840)\" style=\"stroke:#000000; stroke-linecap:butt; stroke-linejoin:round; stroke-width:4; stroke-opacity:1; fill:none\" points=\"\n",
       "  1552.76,648.46 1552.76,47.2441 \n",
       "  \"/>\n",
       "<polyline clip-path=\"url(#clip840)\" style=\"stroke:#000000; stroke-linecap:butt; stroke-linejoin:round; stroke-width:4; stroke-opacity:1; fill:none\" points=\"\n",
       "  165.503,631.444 184.401,631.444 \n",
       "  \"/>\n",
       "<polyline clip-path=\"url(#clip840)\" style=\"stroke:#000000; stroke-linecap:butt; stroke-linejoin:round; stroke-width:4; stroke-opacity:1; fill:none\" points=\"\n",
       "  165.503,482.553 184.401,482.553 \n",
       "  \"/>\n",
       "<polyline clip-path=\"url(#clip840)\" style=\"stroke:#000000; stroke-linecap:butt; stroke-linejoin:round; stroke-width:4; stroke-opacity:1; fill:none\" points=\"\n",
       "  165.503,333.663 184.401,333.663 \n",
       "  \"/>\n",
       "<polyline clip-path=\"url(#clip840)\" style=\"stroke:#000000; stroke-linecap:butt; stroke-linejoin:round; stroke-width:4; stroke-opacity:1; fill:none\" points=\"\n",
       "  165.503,184.772 184.401,184.772 \n",
       "  \"/>\n",
       "<polyline clip-path=\"url(#clip840)\" style=\"stroke:#000000; stroke-linecap:butt; stroke-linejoin:round; stroke-width:4; stroke-opacity:1; fill:none\" points=\"\n",
       "  165.503,601.666 174.952,601.666 \n",
       "  \"/>\n",
       "<polyline clip-path=\"url(#clip840)\" style=\"stroke:#000000; stroke-linecap:butt; stroke-linejoin:round; stroke-width:4; stroke-opacity:1; fill:none\" points=\"\n",
       "  165.503,571.888 174.952,571.888 \n",
       "  \"/>\n",
       "<polyline clip-path=\"url(#clip840)\" style=\"stroke:#000000; stroke-linecap:butt; stroke-linejoin:round; stroke-width:4; stroke-opacity:1; fill:none\" points=\"\n",
       "  165.503,542.11 174.952,542.11 \n",
       "  \"/>\n",
       "<polyline clip-path=\"url(#clip840)\" style=\"stroke:#000000; stroke-linecap:butt; stroke-linejoin:round; stroke-width:4; stroke-opacity:1; fill:none\" points=\"\n",
       "  165.503,512.332 174.952,512.332 \n",
       "  \"/>\n",
       "<polyline clip-path=\"url(#clip840)\" style=\"stroke:#000000; stroke-linecap:butt; stroke-linejoin:round; stroke-width:4; stroke-opacity:1; fill:none\" points=\"\n",
       "  165.503,452.775 174.952,452.775 \n",
       "  \"/>\n",
       "<polyline clip-path=\"url(#clip840)\" style=\"stroke:#000000; stroke-linecap:butt; stroke-linejoin:round; stroke-width:4; stroke-opacity:1; fill:none\" points=\"\n",
       "  165.503,422.997 174.952,422.997 \n",
       "  \"/>\n",
       "<polyline clip-path=\"url(#clip840)\" style=\"stroke:#000000; stroke-linecap:butt; stroke-linejoin:round; stroke-width:4; stroke-opacity:1; fill:none\" points=\"\n",
       "  165.503,393.219 174.952,393.219 \n",
       "  \"/>\n",
       "<polyline clip-path=\"url(#clip840)\" style=\"stroke:#000000; stroke-linecap:butt; stroke-linejoin:round; stroke-width:4; stroke-opacity:1; fill:none\" points=\"\n",
       "  165.503,363.441 174.952,363.441 \n",
       "  \"/>\n",
       "<polyline clip-path=\"url(#clip840)\" style=\"stroke:#000000; stroke-linecap:butt; stroke-linejoin:round; stroke-width:4; stroke-opacity:1; fill:none\" points=\"\n",
       "  165.503,303.884 174.952,303.884 \n",
       "  \"/>\n",
       "<polyline clip-path=\"url(#clip840)\" style=\"stroke:#000000; stroke-linecap:butt; stroke-linejoin:round; stroke-width:4; stroke-opacity:1; fill:none\" points=\"\n",
       "  165.503,274.106 174.952,274.106 \n",
       "  \"/>\n",
       "<polyline clip-path=\"url(#clip840)\" style=\"stroke:#000000; stroke-linecap:butt; stroke-linejoin:round; stroke-width:4; stroke-opacity:1; fill:none\" points=\"\n",
       "  165.503,244.328 174.952,244.328 \n",
       "  \"/>\n",
       "<polyline clip-path=\"url(#clip840)\" style=\"stroke:#000000; stroke-linecap:butt; stroke-linejoin:round; stroke-width:4; stroke-opacity:1; fill:none\" points=\"\n",
       "  165.503,214.55 174.952,214.55 \n",
       "  \"/>\n",
       "<polyline clip-path=\"url(#clip840)\" style=\"stroke:#000000; stroke-linecap:butt; stroke-linejoin:round; stroke-width:4; stroke-opacity:1; fill:none\" points=\"\n",
       "  165.503,154.994 174.952,154.994 \n",
       "  \"/>\n",
       "<polyline clip-path=\"url(#clip840)\" style=\"stroke:#000000; stroke-linecap:butt; stroke-linejoin:round; stroke-width:4; stroke-opacity:1; fill:none\" points=\"\n",
       "  165.503,125.215 174.952,125.215 \n",
       "  \"/>\n",
       "<polyline clip-path=\"url(#clip840)\" style=\"stroke:#000000; stroke-linecap:butt; stroke-linejoin:round; stroke-width:4; stroke-opacity:1; fill:none\" points=\"\n",
       "  165.503,95.4372 174.952,95.4372 \n",
       "  \"/>\n",
       "<polyline clip-path=\"url(#clip840)\" style=\"stroke:#000000; stroke-linecap:butt; stroke-linejoin:round; stroke-width:4; stroke-opacity:1; fill:none\" points=\"\n",
       "  165.503,65.659 174.952,65.659 \n",
       "  \"/>\n",
       "<path clip-path=\"url(#clip840)\" d=\"M55.5603 632.544 Q55.5603 625.108 57.4378 621.057 Q60.0563 615.029 66.2322 615.029 Q67.5414 615.029 68.9001 615.399 Q70.2835 615.745 72.0127 617.104 Q73.7667 618.463 74.8289 620.686 Q76.8546 624.984 76.8546 632.544 Q76.8546 639.93 74.9771 643.957 Q72.2351 649.836 66.1827 649.836 Q63.91 649.836 61.5879 648.675 Q59.2905 647.514 57.833 644.722 Q55.5603 640.547 55.5603 632.544 M59.7599 631.926 Q59.7599 639.559 60.3033 642.598 Q60.9209 645.883 62.6008 647.316 Q64.3053 648.724 66.1827 648.724 Q68.2084 648.724 69.8883 647.217 Q71.5928 645.686 72.1116 642.4 Q72.6797 639.164 72.655 631.926 Q72.655 624.886 72.161 622.069 Q71.494 618.784 69.7153 617.475 Q67.9614 616.141 66.1827 616.141 Q65.5158 616.141 64.7994 616.338 Q64.1077 616.536 63.0948 617.104 Q62.082 617.672 61.2915 619.08 Q60.5257 620.488 60.1551 622.613 Q59.7599 625.355 59.7599 631.926 Z\" fill=\"#000000\" fill-rule=\"evenodd\" fill-opacity=\"1\" /><path clip-path=\"url(#clip840)\" d=\"M83.9445 647.909 Q83.1787 647.094 83.1787 646.032 Q83.1787 644.969 83.9445 644.204 Q84.7103 643.413 85.8713 643.413 Q86.983 643.413 87.7241 644.154 Q88.4899 644.871 88.4899 646.056 Q88.4899 647.217 87.6747 647.983 Q86.8842 648.724 85.8713 648.724 Q84.7103 648.724 83.9445 647.909 Z\" fill=\"#000000\" fill-rule=\"evenodd\" fill-opacity=\"1\" /><path clip-path=\"url(#clip840)\" d=\"M94.9128 632.544 Q94.9128 625.108 96.7902 621.057 Q99.4088 615.029 105.585 615.029 Q106.894 615.029 108.253 615.399 Q109.636 615.745 111.365 617.104 Q113.119 618.463 114.181 620.686 Q116.207 624.984 116.207 632.544 Q116.207 639.93 114.33 643.957 Q111.588 649.836 105.535 649.836 Q103.262 649.836 100.94 648.675 Q98.643 647.514 97.1855 644.722 Q94.9128 640.547 94.9128 632.544 M99.1123 631.926 Q99.1123 639.559 99.6558 642.598 Q100.273 645.883 101.953 647.316 Q103.658 648.724 105.535 648.724 Q107.561 648.724 109.241 647.217 Q110.945 645.686 111.464 642.4 Q112.032 639.164 112.007 631.926 Q112.007 624.886 111.513 622.069 Q110.846 618.784 109.068 617.475 Q107.314 616.141 105.535 616.141 Q104.868 616.141 104.152 616.338 Q103.46 616.536 102.447 617.104 Q101.434 617.672 100.644 619.08 Q99.8781 620.488 99.5076 622.613 Q99.1123 625.355 99.1123 631.926 Z\" fill=\"#000000\" fill-rule=\"evenodd\" fill-opacity=\"1\" /><path clip-path=\"url(#clip840)\" d=\"M120.209 632.544 Q120.209 625.108 122.086 621.057 Q124.705 615.029 130.881 615.029 Q132.19 615.029 133.549 615.399 Q134.932 615.745 136.661 617.104 Q138.415 618.463 139.478 620.686 Q141.503 624.984 141.503 632.544 Q141.503 639.93 139.626 643.957 Q136.884 649.836 130.831 649.836 Q128.559 649.836 126.237 648.675 Q123.939 647.514 122.482 644.722 Q120.209 640.547 120.209 632.544 M124.409 631.926 Q124.409 639.559 124.952 642.598 Q125.57 645.883 127.249 647.316 Q128.954 648.724 130.831 648.724 Q132.857 648.724 134.537 647.217 Q136.241 645.686 136.76 642.4 Q137.328 639.164 137.304 631.926 Q137.304 624.886 136.81 622.069 Q136.143 618.784 134.364 617.475 Q132.61 616.141 130.831 616.141 Q130.164 616.141 129.448 616.338 Q128.756 616.536 127.744 617.104 Q126.731 617.672 125.94 619.08 Q125.174 620.488 124.804 622.613 Q124.409 625.355 124.409 631.926 Z\" fill=\"#000000\" fill-rule=\"evenodd\" fill-opacity=\"1\" /><path clip-path=\"url(#clip840)\" d=\"M56.1038 483.653 Q56.1038 476.217 57.9812 472.166 Q60.5998 466.138 66.7756 466.138 Q68.0849 466.138 69.4436 466.509 Q70.827 466.854 72.5562 468.213 Q74.3102 469.572 75.3724 471.795 Q77.3981 476.094 77.3981 483.653 Q77.3981 491.039 75.5206 495.066 Q72.7785 500.945 66.7262 500.945 Q64.4535 500.945 62.1314 499.784 Q59.834 498.623 58.3765 495.831 Q56.1038 491.657 56.1038 483.653 M60.3033 483.035 Q60.3033 490.668 60.8468 493.707 Q61.4644 496.993 63.1442 498.425 Q64.8488 499.833 66.7262 499.833 Q68.7519 499.833 70.4317 498.327 Q72.1363 496.795 72.655 493.509 Q73.2232 490.273 73.1985 483.035 Q73.1985 475.995 72.7044 473.179 Q72.0374 469.893 70.2588 468.584 Q68.5049 467.25 66.7262 467.25 Q66.0592 467.25 65.3428 467.447 Q64.6511 467.645 63.6383 468.213 Q62.6255 468.781 61.835 470.189 Q61.0692 471.597 60.6986 473.722 Q60.3033 476.464 60.3033 483.035 Z\" fill=\"#000000\" fill-rule=\"evenodd\" fill-opacity=\"1\" /><path clip-path=\"url(#clip840)\" d=\"M84.4879 499.018 Q83.7221 498.203 83.7221 497.141 Q83.7221 496.079 84.4879 495.313 Q85.2537 494.522 86.4148 494.522 Q87.5265 494.522 88.2676 495.263 Q89.0334 495.98 89.0334 497.165 Q89.0334 498.327 88.2181 499.092 Q87.4276 499.833 86.4148 499.833 Q85.2537 499.833 84.4879 499.018 Z\" fill=\"#000000\" fill-rule=\"evenodd\" fill-opacity=\"1\" /><path clip-path=\"url(#clip840)\" d=\"M95.4562 483.653 Q95.4562 476.217 97.3337 472.166 Q99.9522 466.138 106.128 466.138 Q107.437 466.138 108.796 466.509 Q110.179 466.854 111.909 468.213 Q113.663 469.572 114.725 471.795 Q116.751 476.094 116.751 483.653 Q116.751 491.039 114.873 495.066 Q112.131 500.945 106.079 500.945 Q103.806 500.945 101.484 499.784 Q99.1864 498.623 97.7289 495.831 Q95.4562 491.657 95.4562 483.653 M99.6558 483.035 Q99.6558 490.668 100.199 493.707 Q100.817 496.993 102.497 498.425 Q104.201 499.833 106.079 499.833 Q108.104 499.833 109.784 498.327 Q111.489 496.795 112.007 493.509 Q112.576 490.273 112.551 483.035 Q112.551 475.995 112.057 473.179 Q111.39 469.893 109.611 468.584 Q107.857 467.25 106.079 467.25 Q105.412 467.25 104.695 467.447 Q104.004 467.645 102.991 468.213 Q101.978 468.781 101.187 470.189 Q100.422 471.597 100.051 473.722 Q99.6558 476.464 99.6558 483.035 Z\" fill=\"#000000\" fill-rule=\"evenodd\" fill-opacity=\"1\" /><path clip-path=\"url(#clip840)\" d=\"M121.296 499.833 Q121.296 498.919 121.37 498.648 Q121.469 498.376 121.864 497.956 L131.573 487.136 Q136.884 481.158 136.884 475.945 Q136.884 472.561 135.105 470.14 Q133.351 467.719 130.115 467.719 Q127.892 467.719 126.014 469.078 Q124.137 470.436 123.272 472.857 Q123.42 472.808 123.939 472.808 Q125.199 472.808 125.891 473.598 Q126.607 474.389 126.607 475.451 Q126.607 476.81 125.718 477.477 Q124.853 478.119 123.989 478.119 Q123.643 478.119 123.173 478.045 Q122.729 477.971 122.012 477.279 Q121.296 476.563 121.296 475.303 Q121.296 471.77 123.964 468.954 Q126.657 466.138 130.757 466.138 Q135.402 466.138 138.44 468.905 Q141.503 471.647 141.503 475.945 Q141.503 477.452 141.034 478.836 Q140.589 480.194 139.972 481.257 Q139.379 482.319 137.748 484.023 Q136.118 485.728 134.809 486.938 Q133.499 488.149 130.56 490.718 L125.199 495.93 L134.315 495.93 Q138.761 495.93 139.107 495.535 Q139.601 494.819 140.219 491.039 L141.503 491.039 L140.07 499.833 L121.296 499.833 Z\" fill=\"#000000\" fill-rule=\"evenodd\" fill-opacity=\"1\" /><path clip-path=\"url(#clip840)\" d=\"M54.9921 334.762 Q54.9921 327.326 56.8696 323.275 Q59.4881 317.247 65.664 317.247 Q66.9733 317.247 68.3319 317.618 Q69.7153 317.964 71.4446 319.322 Q73.1985 320.681 74.2607 322.904 Q76.2864 327.203 76.2864 334.762 Q76.2864 342.148 74.409 346.175 Q71.6669 352.054 65.6146 352.054 Q63.3419 352.054 61.0197 350.893 Q58.7223 349.732 57.2648 346.941 Q54.9921 342.766 54.9921 334.762 M59.1917 334.144 Q59.1917 341.778 59.7352 344.816 Q60.3528 348.102 62.0326 349.534 Q63.7371 350.943 65.6146 350.943 Q67.6402 350.943 69.3201 349.436 Q71.0246 347.904 71.5434 344.619 Q72.1116 341.382 72.0869 334.144 Q72.0869 327.104 71.5928 324.288 Q70.9258 321.002 69.1472 319.693 Q67.3932 318.359 65.6146 318.359 Q64.9476 318.359 64.2312 318.556 Q63.5395 318.754 62.5267 319.322 Q61.5138 319.89 60.7233 321.299 Q59.9575 322.707 59.587 324.831 Q59.1917 327.573 59.1917 334.144 Z\" fill=\"#000000\" fill-rule=\"evenodd\" fill-opacity=\"1\" /><path clip-path=\"url(#clip840)\" d=\"M83.3763 350.127 Q82.6105 349.312 82.6105 348.25 Q82.6105 347.188 83.3763 346.422 Q84.1421 345.631 85.3031 345.631 Q86.4148 345.631 87.1559 346.372 Q87.9217 347.089 87.9217 348.275 Q87.9217 349.436 87.1065 350.201 Q86.316 350.943 85.3031 350.943 Q84.1421 350.943 83.3763 350.127 Z\" fill=\"#000000\" fill-rule=\"evenodd\" fill-opacity=\"1\" /><path clip-path=\"url(#clip840)\" d=\"M94.3446 334.762 Q94.3446 327.326 96.222 323.275 Q98.8406 317.247 105.016 317.247 Q106.326 317.247 107.684 317.618 Q109.068 317.964 110.797 319.322 Q112.551 320.681 113.613 322.904 Q115.639 327.203 115.639 334.762 Q115.639 342.148 113.761 346.175 Q111.019 352.054 104.967 352.054 Q102.694 352.054 100.372 350.893 Q98.0748 349.732 96.6173 346.941 Q94.3446 342.766 94.3446 334.762 M98.5441 334.144 Q98.5441 341.778 99.0876 344.816 Q99.7052 348.102 101.385 349.534 Q103.09 350.943 104.967 350.943 Q106.993 350.943 108.673 349.436 Q110.377 347.904 110.896 344.619 Q111.464 341.382 111.439 334.144 Q111.439 327.104 110.945 324.288 Q110.278 321.002 108.5 319.693 Q106.746 318.359 104.967 318.359 Q104.3 318.359 103.584 318.556 Q102.892 318.754 101.879 319.322 Q100.866 319.89 100.076 321.299 Q99.31 322.707 98.9394 324.831 Q98.5441 327.573 98.5441 334.144 Z\" fill=\"#000000\" fill-rule=\"evenodd\" fill-opacity=\"1\" /><path clip-path=\"url(#clip840)\" d=\"M119.073 342.593 L119.073 341.037 L134.611 317.297 Q135.006 316.679 135.624 316.704 Q136.192 316.704 136.316 316.926 Q136.439 317.148 136.439 318.013 L136.439 341.037 L141.503 341.037 L141.503 342.593 L136.439 342.593 L136.439 346.99 Q136.439 348.448 137.032 348.917 Q137.65 349.386 140.268 349.386 L141.33 349.386 L141.33 350.943 Q139.255 350.794 134.463 350.794 Q129.695 350.794 127.62 350.943 L127.62 349.386 L128.682 349.386 Q131.301 349.386 131.918 348.942 Q132.536 348.472 132.536 346.99 L132.536 342.593 L119.073 342.593 M120.505 341.037 L132.832 341.037 L132.832 322.163 L120.505 341.037 Z\" fill=\"#000000\" fill-rule=\"evenodd\" fill-opacity=\"1\" /><path clip-path=\"url(#clip840)\" d=\"M55.7085 185.871 Q55.7085 178.435 57.586 174.384 Q60.2045 168.356 66.3804 168.356 Q67.6897 168.356 69.0483 168.727 Q70.4317 169.073 72.161 170.431 Q73.9149 171.79 74.9771 174.013 Q77.0028 178.312 77.0028 185.871 Q77.0028 193.257 75.1254 197.284 Q72.3833 203.163 66.331 203.163 Q64.0583 203.163 61.7361 202.002 Q59.4387 200.841 57.9812 198.05 Q55.7085 193.875 55.7085 185.871 M59.9081 185.253 Q59.9081 192.887 60.4516 195.925 Q61.0692 199.211 62.749 200.644 Q64.4535 202.052 66.331 202.052 Q68.3566 202.052 70.0365 200.545 Q71.741 199.013 72.2598 195.728 Q72.828 192.492 72.8032 185.253 Q72.8032 178.213 72.3092 175.397 Q71.6422 172.111 69.8635 170.802 Q68.1096 169.468 66.331 169.468 Q65.664 169.468 64.9476 169.666 Q64.2559 169.863 63.243 170.431 Q62.2302 171 61.4397 172.408 Q60.6739 173.816 60.3033 175.94 Q59.9081 178.682 59.9081 185.253 Z\" fill=\"#000000\" fill-rule=\"evenodd\" fill-opacity=\"1\" /><path clip-path=\"url(#clip840)\" d=\"M84.0927 201.236 Q83.3269 200.421 83.3269 199.359 Q83.3269 198.297 84.0927 197.531 Q84.8585 196.74 86.0195 196.74 Q87.1312 196.74 87.8723 197.482 Q88.6381 198.198 88.6381 199.384 Q88.6381 200.545 87.8229 201.311 Q87.0324 202.052 86.0195 202.052 Q84.8585 202.052 84.0927 201.236 Z\" fill=\"#000000\" fill-rule=\"evenodd\" fill-opacity=\"1\" /><path clip-path=\"url(#clip840)\" d=\"M95.061 185.871 Q95.061 178.435 96.9384 174.384 Q99.557 168.356 105.733 168.356 Q107.042 168.356 108.401 168.727 Q109.784 169.073 111.513 170.431 Q113.267 171.79 114.33 174.013 Q116.355 178.312 116.355 185.871 Q116.355 193.257 114.478 197.284 Q111.736 203.163 105.683 203.163 Q103.411 203.163 101.089 202.002 Q98.7912 200.841 97.3337 198.05 Q95.061 193.875 95.061 185.871 M99.2605 185.253 Q99.2605 192.887 99.804 195.925 Q100.422 199.211 102.101 200.644 Q103.806 202.052 105.683 202.052 Q107.709 202.052 109.389 200.545 Q111.093 199.013 111.612 195.728 Q112.18 192.492 112.156 185.253 Q112.156 178.213 111.662 175.397 Q110.995 172.111 109.216 170.802 Q107.462 169.468 105.683 169.468 Q105.016 169.468 104.3 169.666 Q103.608 169.863 102.595 170.431 Q101.583 171 100.792 172.408 Q100.026 173.816 99.6558 175.94 Q99.2605 178.682 99.2605 185.253 Z\" fill=\"#000000\" fill-rule=\"evenodd\" fill-opacity=\"1\" /><path clip-path=\"url(#clip840)\" d=\"M120.505 186.069 Q120.505 178.114 124.557 173.248 Q128.608 168.356 133.821 168.356 Q136.859 168.356 138.539 169.913 Q140.243 171.444 140.243 173.816 Q140.243 175.125 139.478 175.693 Q138.712 176.261 137.921 176.261 Q137.007 176.261 136.291 175.644 Q135.574 175.026 135.574 173.915 Q135.574 171.642 138.366 171.642 Q137.057 169.616 133.919 169.616 Q132.956 169.616 131.968 169.913 Q130.98 170.184 129.695 171.123 Q128.411 172.062 127.422 173.544 Q126.434 175.026 125.743 177.818 Q125.051 180.609 125.051 184.241 L125.051 185.451 Q127.126 180.436 131.375 180.461 Q135.624 180.461 138.564 183.697 Q141.503 186.933 141.503 191.726 Q141.503 196.642 138.44 199.903 Q135.377 203.163 131.078 203.163 Q129.152 203.163 127.398 202.348 Q125.668 201.558 124.038 199.73 Q122.432 197.902 121.469 194.394 Q120.505 190.886 120.505 186.069 M125.15 190.614 Q125.15 195.579 126.064 197.951 Q126.212 198.346 126.533 198.89 Q126.879 199.433 127.447 200.15 Q128.04 200.841 129.003 201.311 Q129.967 201.755 131.078 201.755 Q134.463 201.755 136.093 198.47 Q136.958 196.642 136.958 191.676 Q136.958 186.612 136.044 184.759 Q134.488 181.622 131.326 181.622 Q129.201 181.622 127.719 183.08 Q126.261 184.537 125.693 186.489 Q125.15 188.44 125.15 190.614 Z\" fill=\"#000000\" fill-rule=\"evenodd\" fill-opacity=\"1\" /><path clip-path=\"url(#clip843)\" d=\"\n",
       "M204.765 626.978 L217.852 614.694 L230.94 592.36 L244.027 558.858 L257.114 514.182 L270.202 459.425 L283.289 396.749 L296.376 329.303 L309.463 261.078 L322.551 196.644 \n",
       "  L335.638 140.767 L348.725 97.9079 L361.813 71.6656 L374.9 64.2596 L387.987 76.1693 L401.074 106.028 L414.162 150.817 L427.249 206.321 L440.336 267.761 L453.424 330.452 \n",
       "  L466.511 390.369 L479.598 444.513 L492.686 491.055 L505.773 529.277 L518.86 559.361 L531.947 582.111 L545.035 598.675 L558.122 610.307 L571.209 618.196 L584.297 623.372 \n",
       "  L597.384 626.659 L610.471 628.684 L623.558 629.893 L636.646 630.595 L649.733 630.991 L662.82 631.208 L675.908 631.324 L688.995 631.385 L702.082 631.415 L715.169 631.431 \n",
       "  L728.257 631.438 L741.344 631.441 L754.431 631.443 L767.519 631.444 L780.606 631.444 L793.693 631.444 L806.78 631.444 L819.868 631.444 L832.955 631.444 L846.042 631.444 \n",
       "  L859.13 631.444 L872.217 631.444 L885.304 631.444 L898.391 631.444 L911.479 631.444 L924.566 631.444 L937.653 631.444 L950.741 631.444 L963.828 631.444 L976.915 631.444 \n",
       "  L990.002 631.444 L1003.09 631.444 L1016.18 631.444 L1029.26 631.444 L1042.35 631.444 L1055.44 631.444 L1068.53 631.444 L1081.61 631.444 L1094.7 631.444 L1107.79 631.444 \n",
       "  L1120.88 631.444 L1133.96 631.444 L1147.05 631.444 L1160.14 631.444 L1173.22 631.444 L1186.31 631.444 L1199.4 631.444 L1212.49 631.444 L1225.57 631.444 L1238.66 631.444 \n",
       "  L1251.75 631.444 L1264.84 631.444 L1277.92 631.444 L1291.01 631.444 L1304.1 631.444 L1317.18 631.444 L1330.27 631.444 L1343.36 631.444 L1356.45 631.444 L1369.53 631.444 \n",
       "  L1382.62 631.444 L1395.71 631.444 L1408.8 631.444 L1421.88 631.444 L1434.97 631.444 L1448.06 631.444 L1461.14 631.444 L1474.23 631.444 L1487.32 631.444 L1500.41 631.444 \n",
       "  L1513.49 631.444 L1513.49 631.444 L1500.41 631.444 L1487.32 631.444 L1474.23 631.444 L1461.14 631.444 L1448.06 631.444 L1434.97 631.444 L1421.88 631.444 L1408.8 631.444 \n",
       "  L1395.71 631.444 L1382.62 631.444 L1369.53 631.444 L1356.45 631.444 L1343.36 631.444 L1330.27 631.444 L1317.18 631.444 L1304.1 631.444 L1291.01 631.444 L1277.92 631.444 \n",
       "  L1264.84 631.444 L1251.75 631.444 L1238.66 631.444 L1225.57 631.444 L1212.49 631.444 L1199.4 631.444 L1186.31 631.444 L1173.22 631.444 L1160.14 631.444 L1147.05 631.444 \n",
       "  L1133.96 631.444 L1120.88 631.444 L1107.79 631.444 L1094.7 631.444 L1081.61 631.444 L1068.53 631.444 L1055.44 631.444 L1042.35 631.444 L1029.26 631.444 L1016.18 631.444 \n",
       "  L1003.09 631.444 L990.002 631.444 L976.915 631.444 L963.828 631.444 L950.741 631.444 L937.653 631.444 L924.566 631.444 L911.479 631.444 L898.391 631.444 L885.304 631.444 \n",
       "  L872.217 631.444 L859.13 631.444 L846.042 631.444 L832.955 631.444 L819.868 631.444 L806.78 631.444 L793.693 631.444 L780.606 631.444 L767.519 631.444 L754.431 631.444 \n",
       "  L741.344 631.444 L728.257 631.444 L715.169 631.444 L702.082 631.444 L688.995 631.444 L675.908 631.444 L662.82 631.444 L649.733 631.444 L636.646 631.444 L623.558 631.444 \n",
       "  L610.471 631.444 L597.384 631.444 L584.297 631.444 L571.209 631.444 L558.122 631.444 L545.035 631.444 L531.947 631.444 L518.86 631.444 L505.773 631.444 L492.686 631.444 \n",
       "  L479.598 631.444 L466.511 631.444 L453.424 631.444 L440.336 631.444 L427.249 631.444 L414.162 631.444 L401.074 631.444 L387.987 631.444 L374.9 631.444 L361.813 631.444 \n",
       "  L348.725 631.444 L335.638 631.444 L322.551 631.444 L309.463 631.444 L296.376 631.444 L283.289 631.444 L270.202 631.444 L257.114 631.444 L244.027 631.444 L230.94 631.444 \n",
       "  L217.852 631.444 L204.765 631.444  Z\n",
       "  \" fill=\"#b7516c\" fill-rule=\"evenodd\" fill-opacity=\"0.5\"/>\n",
       "<polyline clip-path=\"url(#clip843)\" style=\"stroke:#b7516c; stroke-linecap:butt; stroke-linejoin:round; stroke-width:5.6; stroke-opacity:0.5; fill:none\" points=\"\n",
       "  204.765,626.978 217.852,614.694 230.94,592.36 244.027,558.858 257.114,514.182 270.202,459.425 283.289,396.749 296.376,329.303 309.463,261.078 322.551,196.644 \n",
       "  335.638,140.767 348.725,97.9079 361.813,71.6656 374.9,64.2596 387.987,76.1693 401.074,106.028 414.162,150.817 427.249,206.321 440.336,267.761 453.424,330.452 \n",
       "  466.511,390.369 479.598,444.513 492.686,491.055 505.773,529.277 518.86,559.361 531.947,582.111 545.035,598.675 558.122,610.307 571.209,618.196 584.297,623.372 \n",
       "  597.384,626.659 610.471,628.684 623.558,629.893 636.646,630.595 649.733,630.991 662.82,631.208 675.908,631.324 688.995,631.385 702.082,631.415 715.169,631.431 \n",
       "  728.257,631.438 741.344,631.441 754.431,631.443 767.519,631.444 780.606,631.444 793.693,631.444 806.78,631.444 819.868,631.444 832.955,631.444 846.042,631.444 \n",
       "  859.13,631.444 872.217,631.444 885.304,631.444 898.391,631.444 911.479,631.444 924.566,631.444 937.653,631.444 950.741,631.444 963.828,631.444 976.915,631.444 \n",
       "  990.002,631.444 1003.09,631.444 1016.18,631.444 1029.26,631.444 1042.35,631.444 1055.44,631.444 1068.53,631.444 1081.61,631.444 1094.7,631.444 1107.79,631.444 \n",
       "  1120.88,631.444 1133.96,631.444 1147.05,631.444 1160.14,631.444 1173.22,631.444 1186.31,631.444 1199.4,631.444 1212.49,631.444 1225.57,631.444 1238.66,631.444 \n",
       "  1251.75,631.444 1264.84,631.444 1277.92,631.444 1291.01,631.444 1304.1,631.444 1317.18,631.444 1330.27,631.444 1343.36,631.444 1356.45,631.444 1369.53,631.444 \n",
       "  1382.62,631.444 1395.71,631.444 1408.8,631.444 1421.88,631.444 1434.97,631.444 1448.06,631.444 1461.14,631.444 1474.23,631.444 1487.32,631.444 1500.41,631.444 \n",
       "  1513.49,631.444 \n",
       "  \"/>\n",
       "<path clip-path=\"url(#clip840)\" d=\"\n",
       "M1206.72 170.965 L1506.51 170.965 L1506.51 67.2846 L1206.72 67.2846  Z\n",
       "  \" fill=\"#ffffff\" fill-rule=\"evenodd\" fill-opacity=\"1\"/>\n",
       "<polyline clip-path=\"url(#clip840)\" style=\"stroke:#000000; stroke-linecap:butt; stroke-linejoin:round; stroke-width:4; stroke-opacity:1; fill:none\" points=\"\n",
       "  1206.72,170.965 1506.51,170.965 1506.51,67.2846 1206.72,67.2846 1206.72,170.965 \n",
       "  \"/>\n",
       "<path clip-path=\"url(#clip840)\" d=\"\n",
       "M1222.14 139.861 L1314.62 139.861 L1314.62 98.3886 L1222.14 98.3886 L1222.14 139.861  Z\n",
       "  \" fill=\"#b7516c\" fill-rule=\"evenodd\" fill-opacity=\"0.5\"/>\n",
       "<polyline clip-path=\"url(#clip840)\" style=\"stroke:#b7516c; stroke-linecap:butt; stroke-linejoin:round; stroke-width:5.6; stroke-opacity:0.5; fill:none\" points=\"\n",
       "  1222.14,98.3886 1314.62,98.3886 \n",
       "  \"/>\n",
       "<path clip-path=\"url(#clip840)\" d=\"M1364.28 104.33 Q1364.28 106.953 1362.33 109.366 Q1360.41 111.778 1357.28 113.254 Q1354.16 114.706 1350.81 114.706 L1342.66 114.706 L1339.68 126.698 Q1339.66 126.769 1339.59 127.073 Q1339.52 127.354 1339.52 127.518 Q1339.52 128.104 1340.25 128.244 Q1341 128.385 1342.66 128.385 Q1343.74 128.385 1343.9 128.572 Q1343.99 128.689 1343.99 128.9 Q1343.99 129.228 1343.9 129.462 Q1343.81 129.673 1343.62 129.743 Q1343.46 129.814 1343.34 129.837 Q1343.22 129.86 1343.03 129.86 Q1342.54 129.86 1341.49 129.814 Q1340.46 129.767 1339.92 129.767 L1336.85 129.72 L1330.76 129.86 Q1330.03 129.86 1330.03 129.275 Q1330.03 128.83 1330.22 128.642 Q1330.41 128.432 1330.62 128.408 Q1330.83 128.385 1331.37 128.385 Q1332.54 128.385 1333.24 128.315 Q1333.95 128.244 1334.39 128.151 Q1334.86 128.034 1335.09 127.706 Q1335.35 127.378 1335.47 127.097 Q1335.59 126.792 1335.75 126.113 L1342.17 100.348 Q1342.36 99.5752 1342.36 99.4581 Q1342.36 99.0599 1342.12 98.9194 Q1341.91 98.7554 1341.3 98.6852 Q1340.13 98.5915 1339.24 98.5915 Q1338.65 98.5915 1338.42 98.5681 Q1338.21 98.5446 1338.02 98.4275 Q1337.86 98.287 1337.86 98.0059 Q1337.86 97.5609 1338.05 97.3735 Q1338.26 97.1627 1338.49 97.1393 Q1338.72 97.0925 1339.29 97.0925 L1354.84 97.0925 Q1359.31 97.0925 1361.8 99.2239 Q1364.28 101.355 1364.28 104.33 M1359.83 103.182 Q1359.83 98.5915 1353.29 98.5915 L1348.7 98.5915 Q1347.18 98.5915 1346.81 98.8726 Q1346.43 99.1302 1346.1 100.418 L1342.85 113.465 L1349.62 113.465 Q1354.16 113.465 1356.99 110.912 Q1358.28 109.741 1359.06 107.305 Q1359.83 104.869 1359.83 103.182 Z\" fill=\"#000000\" fill-rule=\"evenodd\" fill-opacity=\"1\" /><path clip-path=\"url(#clip840)\" d=\"M1369.54 117.868 Q1369.54 109.764 1372.56 103.229 Q1373.85 100.489 1375.65 98.1933 Q1377.46 95.8979 1378.65 94.8907 Q1379.85 93.8836 1380.18 93.8836 Q1380.64 93.8836 1380.67 94.352 Q1380.67 94.5863 1380.03 95.1718 Q1372.31 103.042 1372.33 117.868 Q1372.33 132.741 1379.85 140.307 Q1380.67 141.127 1380.67 141.384 Q1380.67 141.853 1380.18 141.853 Q1379.85 141.853 1378.7 140.892 Q1377.55 139.932 1375.77 137.73 Q1373.99 135.529 1372.7 132.835 Q1369.54 126.3 1369.54 117.868 Z\" fill=\"#000000\" fill-rule=\"evenodd\" fill-opacity=\"1\" /><path clip-path=\"url(#clip840)\" d=\"M1413.96 122.998 Q1413.96 123.185 1413.75 123.911 Q1413.54 124.637 1413.02 125.762 Q1412.53 126.886 1411.85 127.916 Q1411.17 128.924 1410.05 129.673 Q1408.95 130.399 1407.68 130.399 Q1406 130.399 1404.87 129.275 Q1403.75 128.151 1403.75 126.464 Q1403.75 125.527 1404.24 124.239 Q1407.35 115.924 1407.35 113.067 Q1407.35 109.717 1404.76 109.717 Q1403.47 109.717 1402.25 110.209 Q1401.05 110.677 1400.23 111.333 Q1399.41 111.989 1398.67 112.903 Q1397.94 113.793 1397.56 114.402 Q1397.21 114.987 1396.93 115.573 L1396.32 117.962 Q1396.18 118.618 1395.5 121.171 L1394.45 125.504 Q1393.7 128.736 1393.54 129.041 Q1393.3 129.696 1392.79 130.048 Q1392.27 130.399 1391.76 130.399 Q1391.17 130.399 1390.77 130.048 Q1390.37 129.696 1390.37 129.088 Q1390.37 128.994 1390.44 128.642 Q1390.51 128.291 1390.63 127.799 Q1390.75 127.307 1390.8 127.026 L1393.58 115.948 Q1394.1 113.933 1394.21 113.301 Q1394.36 112.645 1394.36 111.919 Q1394.36 109.717 1392.86 109.717 Q1391.64 109.717 1390.84 111.169 Q1390.05 112.622 1389.37 115.432 Q1389.16 116.205 1389.02 116.369 Q1388.9 116.533 1388.55 116.533 Q1387.96 116.51 1387.96 116.041 Q1387.96 115.924 1388.15 115.151 Q1388.34 114.378 1388.69 113.277 Q1389.06 112.153 1389.41 111.404 Q1389.72 110.841 1389.88 110.584 Q1390.07 110.303 1390.51 109.764 Q1390.98 109.202 1391.59 108.944 Q1392.22 108.663 1393 108.663 Q1394.73 108.663 1396 109.787 Q1397.26 110.888 1397.42 112.832 Q1400.54 108.663 1404.9 108.663 Q1407.47 108.663 1408.95 110.022 Q1410.42 111.38 1410.42 113.793 Q1410.42 114.355 1410.31 115.081 Q1410.21 115.784 1409.98 116.674 Q1409.77 117.564 1409.58 118.243 Q1409.39 118.922 1409.02 120.023 Q1408.64 121.1 1408.48 121.569 Q1408.32 122.037 1407.92 123.138 Q1407.54 124.216 1407.5 124.333 Q1406.63 126.511 1406.63 127.752 Q1406.63 128.572 1406.89 128.947 Q1407.17 129.322 1407.78 129.322 Q1409.42 129.322 1410.63 127.706 Q1411.88 126.066 1412.67 123.396 Q1412.86 122.81 1412.95 122.67 Q1413.07 122.529 1413.4 122.529 Q1413.96 122.529 1413.96 122.998 Z\" fill=\"#000000\" fill-rule=\"evenodd\" fill-opacity=\"1\" /><path clip-path=\"url(#clip840)\" d=\"M1452.48 121.464 Q1452.48 121.939 1452.26 122.038 Q1452.07 122.136 1451.41 122.136 Q1450.64 122.136 1450.16 122.202 Q1449.69 122.251 1449.39 122.333 Q1449.1 122.398 1448.92 122.628 Q1448.75 122.857 1448.69 123.054 Q1448.62 123.234 1448.51 123.677 L1444.05 141.565 Q1443.88 142.171 1443.88 142.385 Q1443.88 142.598 1444.01 142.729 Q1444.16 142.86 1444.52 142.926 Q1444.88 142.975 1445.16 142.991 Q1445.46 142.991 1446.06 142.991 Q1446.82 142.991 1446.93 143.122 Q1447 143.204 1447 143.352 Q1447 143.663 1446.87 143.827 Q1446.74 143.975 1446.62 144.008 Q1446.52 144.024 1446.36 144.024 Q1445.67 144.024 1444.26 143.975 Q1442.85 143.926 1442.16 143.926 L1438 144.024 Q1437.51 144.024 1437.51 143.614 Q1437.51 143.303 1437.64 143.172 Q1437.77 143.024 1437.92 143.008 Q1438.06 142.991 1438.44 142.991 Q1439.78 142.991 1440.36 142.844 Q1440.95 142.696 1441.11 142.434 Q1441.29 142.155 1441.49 141.401 L1446.29 122.169 L1446.26 122.169 L1432.7 143.418 L1432.6 143.565 Q1432.51 143.696 1432.47 143.745 Q1432.44 143.778 1432.34 143.877 Q1432.26 143.959 1432.16 143.991 Q1432.08 144.024 1431.96 144.024 Q1431.77 144.024 1431.65 143.893 Q1431.55 143.762 1431.52 143.663 Q1431.51 143.549 1431.46 143.254 L1428.57 122.431 L1428.54 122.431 L1423.96 140.729 Q1423.83 141.237 1423.83 141.499 Q1423.83 142.171 1424.31 142.581 Q1424.8 142.975 1426.11 142.991 Q1426.72 142.991 1426.72 143.352 Q1426.72 144.024 1426.11 144.024 Q1425.55 144.024 1424.39 143.975 Q1423.23 143.926 1422.65 143.926 Q1422.09 143.926 1420.96 143.975 Q1419.85 144.024 1419.31 144.024 Q1418.83 144.024 1418.83 143.614 Q1418.83 142.991 1419.44 142.991 Q1420.42 142.958 1421.09 142.762 Q1421.77 142.565 1422.14 142.188 Q1422.54 141.811 1422.72 141.434 Q1422.91 141.04 1423.06 140.466 L1427.32 123.366 Q1427.46 122.825 1427.46 122.743 Q1427.46 122.464 1427.29 122.365 Q1427.14 122.251 1426.72 122.202 Q1425.9 122.136 1425.27 122.136 Q1424.86 122.136 1424.7 122.12 Q1424.55 122.103 1424.42 122.021 Q1424.31 121.923 1424.31 121.726 Q1424.31 121.415 1424.44 121.283 Q1424.59 121.136 1424.75 121.119 Q1424.91 121.087 1425.31 121.087 L1429.91 121.087 Q1430.59 121.087 1430.73 121.201 Q1430.88 121.3 1430.95 121.857 L1433.57 140.86 L1445.83 121.726 Q1446.15 121.251 1446.31 121.169 Q1446.47 121.087 1447.13 121.087 L1451.57 121.087 Q1451.93 121.087 1452.08 121.103 Q1452.23 121.119 1452.34 121.201 Q1452.48 121.283 1452.48 121.464 Z\" fill=\"#000000\" fill-rule=\"evenodd\" fill-opacity=\"1\" /><path clip-path=\"url(#clip840)\" d=\"M1457.27 141.384 Q1457.27 141.15 1457.88 140.565 Q1465.61 132.695 1465.61 117.868 Q1465.61 102.995 1458.18 95.4763 Q1457.27 94.6097 1457.27 94.352 Q1457.27 93.8836 1457.74 93.8836 Q1458.06 93.8836 1459.21 94.8439 Q1460.38 95.8042 1462.14 98.0059 Q1463.92 100.208 1465.23 102.901 Q1468.39 109.436 1468.39 117.868 Q1468.39 125.972 1465.37 132.507 Q1464.08 135.248 1462.28 137.543 Q1460.48 139.838 1459.28 140.846 Q1458.09 141.853 1457.74 141.853 Q1457.27 141.853 1457.27 141.384 Z\" fill=\"#000000\" fill-rule=\"evenodd\" fill-opacity=\"1\" /></svg>\n"
      ]
     },
     "execution_count": 75,
     "metadata": {},
     "output_type": "execute_result"
    }
   ],
   "source": [
    "# set state space truncation.\n",
    "N = 100;\n",
    "Pn_true = FSP(pars, N);\n",
    "plot(0:N,Pn_true, label = L\"P(n_M)\", legend = :topright, lc = chosen_pal[7], \n",
    "    fill = true, c = chosen_pal[7], alpha=0.5)\n",
    "plot!(grid = false, minorgrid = false, size = (400,200))\n",
    "xlabel!(L\"n_M\")"
   ]
  },
  {
   "cell_type": "markdown",
   "id": "e88b9785",
   "metadata": {},
   "source": [
    "We can also make a quick sanity check that the probability sums to 1."
   ]
  },
  {
   "cell_type": "code",
   "execution_count": 76,
   "id": "bba41bb1",
   "metadata": {},
   "outputs": [
    {
     "data": {
      "text/plain": [
       "1.0"
      ]
     },
     "execution_count": 76,
     "metadata": {},
     "output_type": "execute_result"
    }
   ],
   "source": [
    "sum(Pn_true)"
   ]
  },
  {
   "cell_type": "markdown",
   "id": "2d8f2d7d",
   "metadata": {},
   "source": [
    "Which it does! Finally, given some lineage data one can calculate the log-likelhood of observing a given steady state trajectory given the underlying probability distribution. Using the lineage data above and our FSP this gives..."
   ]
  },
  {
   "cell_type": "code",
   "execution_count": 77,
   "id": "96d97a69",
   "metadata": {},
   "outputs": [
    {
     "data": {
      "text/plain": [
       "268.8610743807196888715945486939829878458942358679300792738710049242906024968261"
      ]
     },
     "execution_count": 77,
     "metadata": {},
     "output_type": "execute_result"
    }
   ],
   "source": [
    "true_min_llh = -sum([log10(Pn_true[floor(Int,x)]) for x in l_data])"
   ]
  },
  {
   "cell_type": "markdown",
   "id": "2f9a62ed",
   "metadata": {},
   "source": [
    "We will comment on why we do this below, just keep this number in mind."
   ]
  },
  {
   "cell_type": "markdown",
   "id": "4db45032",
   "metadata": {},
   "source": [
    "## Maximum likelihood estimation (using Optim.jl and BlackBoxOptim.jl)"
   ]
  },
  {
   "cell_type": "markdown",
   "id": "90faf425",
   "metadata": {},
   "source": [
    "### What is maximum likelihood estimation (MLE)?"
   ]
  },
  {
   "cell_type": "markdown",
   "id": "1a6c31ef",
   "metadata": {},
   "source": [
    "Maximum likehood estimation is the process of identifying a set of parameters in a model that maximises the likelihood of the observed data. For our example, for each observation in `l_data` we can calculate the likelihood as the product of the probabilities of each observation, i.e., $\\mathcal{L} = \\prod_{i\\in l_{\\mathrm{data}}} P(i)$ (events assumed independent therefore the probability of seeing all events together is simply the product). Say we don't know the optimal parameters $\\theta_{\\mathrm{max}} = (k_{on},k_{off},k_m,k_d)$, but that for any set $\\theta$ we can calucate $P(n_M|\\theta)$. The likelihood of observing the data for some parameter set $\\theta$ is then $\\mathcal{L}(\\theta) = \\prod_{i\\in l_{\\mathrm{data}}} P(i|\\theta)$. By maximising this likelihood one can then determine the parameters of the model that best describe the data.\n",
    "\n",
    "In practise $\\mathcal{L}(\\theta)$ is very small, therefore it is more computationally viable to minimise the negative logarithm of $\\mathcal{L}(\\theta)$."
   ]
  },
  {
   "cell_type": "markdown",
   "id": "98848cf7",
   "metadata": {},
   "source": [
    "### Specifying a cost function"
   ]
  },
  {
   "cell_type": "markdown",
   "id": "ba1cdbda",
   "metadata": {},
   "source": [
    "We now need a function that will calculate the negative logarithm of the likelihood of the data given a set of parameters. Note that the optimisation itself will be done in log-space, hence the `log10`'s and `10 .^`'s below.\n",
    "\n",
    "Note that due to the indistinguishability at steady state, we will set $k_d=1$ and infer the other three remaining parameters. One can then compare the results of the inference to `rs_pars`."
   ]
  },
  {
   "cell_type": "code",
   "execution_count": 78,
   "id": "83fe4116",
   "metadata": {},
   "outputs": [
    {
     "data": {
      "text/plain": [
       "negllh (generic function with 1 method)"
      ]
     },
     "execution_count": 78,
     "metadata": {},
     "output_type": "execute_result"
    }
   ],
   "source": [
    "# θ is a three-element vector\n",
    "function negllh(θ)\n",
    "    # kd fixed at 1\n",
    "    FSPprob = FSP(vcat(10 .^θ, 1.0), N)\n",
    "    return -sum([log10(FSPprob[floor(Int,x)]) for x in l_data])\n",
    "end"
   ]
  },
  {
   "cell_type": "markdown",
   "id": "b8cffff3",
   "metadata": {},
   "source": [
    "As a test let's use some random parameter set."
   ]
  },
  {
   "cell_type": "code",
   "execution_count": 79,
   "id": "51ecc842",
   "metadata": {},
   "outputs": [
    {
     "data": {
      "text/plain": [
       "1798.409819255928664533920447626638700628368756140323779185760035447748148463892"
      ]
     },
     "execution_count": 79,
     "metadata": {},
     "output_type": "execute_result"
    }
   ],
   "source": [
    "negllh(log10.([0.001,2.0,4.0]))"
   ]
  },
  {
   "cell_type": "markdown",
   "id": "b8cee891",
   "metadata": {},
   "source": [
    "As expected this gives a much larger NLL than the true parameters."
   ]
  },
  {
   "cell_type": "markdown",
   "id": "cd415812",
   "metadata": {},
   "source": [
    "### Optimising the cost function"
   ]
  },
  {
   "cell_type": "markdown",
   "id": "0d9ce89f",
   "metadata": {},
   "source": [
    "We can now use optimisation algorithms to provide a *point estimate* of the set of parameters that best describe the data. There are two possible options here: local optimisation and global optimisation. Local optimisation, although not guaranteed to find a global minimum in a \"finite\" time, will generally find a very good local minimum in a short amount of time. On the other hand, global optimisation is guaranteed to find the global minimum in a \"finite\" time, but this can take a very long time and often it takes a great deal of time to find a minmum as good as local optimisation. In this notebook we will show how to use both and compare the results!"
   ]
  },
  {
   "cell_type": "markdown",
   "id": "cf255650",
   "metadata": {},
   "source": [
    "Starting with the local optimisation, we use the package `Optim.jl` and specifically the Nelder-Mead algorithm."
   ]
  },
  {
   "cell_type": "code",
   "execution_count": 35,
   "id": "c59c1717",
   "metadata": {},
   "outputs": [],
   "source": [
    "using Optim"
   ]
  },
  {
   "cell_type": "markdown",
   "id": "3472fa09",
   "metadata": {},
   "source": [
    "The choice of starting point is very important in local optimisation. Start in at the wrong point in parameter space and a bad local optima may be chosen. With no information start with something uniform, say $\\theta_{\\mathrm{init}} = (1,1,1).$"
   ]
  },
  {
   "cell_type": "code",
   "execution_count": null,
   "id": "44440ff6",
   "metadata": {},
   "outputs": [],
   "source": [
    "nmopt = Optim.optimize(negllh, log10.([1.0,1,1]))"
   ]
  },
  {
   "cell_type": "code",
   "execution_count": null,
   "id": "ec980237",
   "metadata": {},
   "outputs": [],
   "source": [
    "nm_par = 10 .^Optim.minimizer(nmopt)"
   ]
  },
  {
   "cell_type": "markdown",
   "id": "f1fa04e9",
   "metadata": {},
   "source": [
    "Plot the inferred parameter distribution against the true distribution."
   ]
  },
  {
   "cell_type": "code",
   "execution_count": null,
   "id": "2b657628",
   "metadata": {},
   "outputs": [],
   "source": [
    "plot(0:N,Pn_true, label = L\"P(n_M)\", legend = :topright, lc = chosen_pal[7], \n",
    "    fill = true, c = chosen_pal[7], alpha=0.5)\n",
    "plot!(0:N,FSP(vcat(nm_par,1),N), lc = chosen_pal[2], label = L\"\\mathrm{NM\\; inf.}\")\n",
    "plot!(grid = false, minorgrid = false, size = (400,200))\n",
    "xlabel!(L\"n_M\")"
   ]
  },
  {
   "cell_type": "markdown",
   "id": "4716b49c",
   "metadata": {},
   "source": [
    "Okay, so good but not great, given the differences in the distributions there is lot's of room for improvement. "
   ]
  },
  {
   "cell_type": "markdown",
   "id": "50280f24",
   "metadata": {},
   "source": [
    "Now let's try some global optimisation. We additionally need to specify some bounds on the search range (`SRange`) here, and given little information it's generally best to choose these over several orders of magnitude so that any necessary timescale separation can occur. Specifically, we use the adaptive differential evolution algorithm below. To increase the inference accuracy, increase the number of steps in `MaxSteps` below."
   ]
  },
  {
   "cell_type": "code",
   "execution_count": 50,
   "id": "97192e71",
   "metadata": {},
   "outputs": [],
   "source": [
    "using BlackBoxOptim"
   ]
  },
  {
   "cell_type": "code",
   "execution_count": 58,
   "id": "3051b6da",
   "metadata": {
    "scrolled": true
   },
   "outputs": [
    {
     "name": "stdout",
     "output_type": "stream",
     "text": [
      "Starting optimization with optimizer DiffEvoOpt{FitPopulation{Float64}, RadiusLimitedSelector, BlackBoxOptim.AdaptiveDiffEvoRandBin{3}, RandomBound{ContinuousRectSearchSpace}}\n",
      "0.00 secs, 0 evals, 0 steps\n",
      "0.94 secs, 2 evals, 1 steps, fitness=1689.515780195\n",
      "1.66 secs, 4 evals, 2 steps, improv/step: 0.500 (last = 1.0000), fitness=203.349661018\n",
      "2.30 secs, 6 evals, 3 steps, improv/step: 0.333 (last = 0.0000), fitness=203.349661018\n",
      "3.09 secs, 8 evals, 4 steps, improv/step: 0.250 (last = 0.0000), fitness=203.349661018\n",
      "3.78 secs, 10 evals, 5 steps, improv/step: 0.400 (last = 1.0000), fitness=203.349661018\n",
      "4.54 secs, 12 evals, 6 steps, improv/step: 0.500 (last = 1.0000), fitness=203.349661018\n",
      "5.21 secs, 14 evals, 7 steps, improv/step: 0.429 (last = 0.0000), fitness=203.349661018\n",
      "5.98 secs, 16 evals, 8 steps, improv/step: 0.375 (last = 0.0000), fitness=203.349661018\n",
      "6.64 secs, 18 evals, 9 steps, improv/step: 0.333 (last = 0.0000), fitness=203.349661018\n",
      "7.37 secs, 20 evals, 10 steps, improv/step: 0.300 (last = 0.0000), fitness=203.349661018\n",
      "8.04 secs, 22 evals, 11 steps, improv/step: 0.273 (last = 0.0000), fitness=203.349661018\n",
      "8.74 secs, 24 evals, 12 steps, improv/step: 0.250 (last = 0.0000), fitness=203.349661018\n",
      "9.46 secs, 26 evals, 13 steps, improv/step: 0.231 (last = 0.0000), fitness=203.349661018\n",
      "10.19 secs, 28 evals, 14 steps, improv/step: 0.286 (last = 1.0000), fitness=203.349661018\n",
      "10.85 secs, 30 evals, 15 steps, improv/step: 0.333 (last = 1.0000), fitness=203.349661018\n",
      "11.62 secs, 32 evals, 16 steps, improv/step: 0.375 (last = 1.0000), fitness=203.349661018\n",
      "12.34 secs, 34 evals, 17 steps, improv/step: 0.353 (last = 0.0000), fitness=203.349661018\n",
      "13.04 secs, 36 evals, 18 steps, improv/step: 0.389 (last = 1.0000), fitness=203.349661018\n",
      "13.71 secs, 38 evals, 19 steps, improv/step: 0.421 (last = 1.0000), fitness=203.349661018\n",
      "14.48 secs, 40 evals, 20 steps, improv/step: 0.400 (last = 0.0000), fitness=203.349661018\n",
      "15.14 secs, 42 evals, 21 steps, improv/step: 0.429 (last = 1.0000), fitness=203.349661018\n",
      "15.83 secs, 44 evals, 22 steps, improv/step: 0.455 (last = 1.0000), fitness=203.349661018\n",
      "16.51 secs, 46 evals, 23 steps, improv/step: 0.478 (last = 1.0000), fitness=203.349661018\n",
      "17.30 secs, 48 evals, 24 steps, improv/step: 0.458 (last = 0.0000), fitness=135.856700007\n",
      "18.00 secs, 50 evals, 25 steps, improv/step: 0.480 (last = 1.0000), fitness=125.345930872\n",
      "18.73 secs, 52 evals, 26 steps, improv/step: 0.500 (last = 1.0000), fitness=125.345930872\n",
      "19.43 secs, 54 evals, 27 steps, improv/step: 0.519 (last = 1.0000), fitness=125.345930872\n",
      "20.13 secs, 56 evals, 28 steps, improv/step: 0.500 (last = 0.0000), fitness=125.345930872\n",
      "20.91 secs, 58 evals, 29 steps, improv/step: 0.517 (last = 1.0000), fitness=125.345930872\n",
      "21.63 secs, 60 evals, 30 steps, improv/step: 0.533 (last = 1.0000), fitness=125.345930872\n",
      "22.31 secs, 62 evals, 31 steps, improv/step: 0.548 (last = 1.0000), fitness=125.345930872\n",
      "23.09 secs, 64 evals, 32 steps, improv/step: 0.531 (last = 0.0000), fitness=125.345930872\n",
      "23.79 secs, 66 evals, 33 steps, improv/step: 0.545 (last = 1.0000), fitness=125.345930872\n",
      "24.50 secs, 68 evals, 34 steps, improv/step: 0.529 (last = 0.0000), fitness=125.345930872\n",
      "25.26 secs, 70 evals, 35 steps, improv/step: 0.543 (last = 1.0000), fitness=125.345930872\n",
      "25.98 secs, 72 evals, 36 steps, improv/step: 0.556 (last = 1.0000), fitness=125.345930872\n",
      "26.68 secs, 74 evals, 37 steps, improv/step: 0.541 (last = 0.0000), fitness=125.345930872\n",
      "27.41 secs, 76 evals, 38 steps, improv/step: 0.553 (last = 1.0000), fitness=125.345930872\n",
      "28.11 secs, 78 evals, 39 steps, improv/step: 0.564 (last = 1.0000), fitness=125.345930872\n",
      "28.82 secs, 80 evals, 40 steps, improv/step: 0.550 (last = 0.0000), fitness=125.345930872\n",
      "29.51 secs, 82 evals, 41 steps, improv/step: 0.537 (last = 0.0000), fitness=125.345930872\n",
      "30.23 secs, 84 evals, 42 steps, improv/step: 0.524 (last = 0.0000), fitness=125.345930872\n",
      "30.99 secs, 86 evals, 43 steps, improv/step: 0.512 (last = 0.0000), fitness=125.345930872\n",
      "31.77 secs, 88 evals, 44 steps, improv/step: 0.523 (last = 1.0000), fitness=125.345930872\n",
      "32.47 secs, 90 evals, 45 steps, improv/step: 0.533 (last = 1.0000), fitness=125.345930872\n",
      "33.21 secs, 92 evals, 46 steps, improv/step: 0.543 (last = 1.0000), fitness=125.345930872\n",
      "33.91 secs, 94 evals, 47 steps, improv/step: 0.553 (last = 1.0000), fitness=125.345930872\n",
      "34.63 secs, 96 evals, 48 steps, improv/step: 0.562 (last = 1.0000), fitness=125.345930872\n",
      "35.32 secs, 98 evals, 49 steps, improv/step: 0.571 (last = 1.0000), fitness=125.345930872\n",
      "36.06 secs, 100 evals, 50 steps, improv/step: 0.580 (last = 1.0000), fitness=125.345930872\n",
      "\n",
      "Optimization stopped after 51 steps and 36.77 seconds\n",
      "Termination reason: Max number of steps (50) reached\n",
      "Steps per second = 1.39\n",
      "Function evals per second = 2.77\n",
      "Improvements/step = 0.60000\n",
      "Total function evaluations = 102\n",
      "\n",
      "\n",
      "Best candidate found: [2.70648, 2.26576, 1.23772]\n",
      "\n",
      "Fitness: 125.345930872\n",
      "\n"
     ]
    },
    {
     "data": {
      "text/plain": [
       "3-element Vector{Float64}:\n",
       " 508.72179394539\n",
       " 184.39897989475293\n",
       "  17.28714918596339"
      ]
     },
     "execution_count": 58,
     "metadata": {},
     "output_type": "execute_result"
    }
   ],
   "source": [
    "SRange=[(-3.0,3.0), (-3.0,3.0), (-3.0,3.0)]\n",
    "f64_negllh(θ) = convert(Float64, negllh(θ))\n",
    "res = bboptimize(f64_negllh; Method = :adaptive_de_rand_1_bin_radiuslimited, \n",
    "                    SearchRange = SRange, NumDimensions = 3, PopulationSize = 1000000, \n",
    "                    MaxSteps = 50) # , TraceMode=:silent, MaxSteps = 100000\n",
    "opt_pars = best_candidate(res)\n",
    "fit_pars = 10 .^(opt_pars)"
   ]
  },
  {
   "cell_type": "code",
   "execution_count": 62,
   "id": "8fba62c2",
   "metadata": {},
   "outputs": [
    {
     "data": {
      "image/svg+xml": [
       "<?xml version=\"1.0\" encoding=\"utf-8\"?>\n",
       "<svg xmlns=\"http://www.w3.org/2000/svg\" xmlns:xlink=\"http://www.w3.org/1999/xlink\" width=\"400\" height=\"200\" viewBox=\"0 0 1600 800\">\n",
       "<defs>\n",
       "  <clipPath id=\"clip680\">\n",
       "    <rect x=\"0\" y=\"0\" width=\"1600\" height=\"800\"/>\n",
       "  </clipPath>\n",
       "</defs>\n",
       "<path clip-path=\"url(#clip680)\" d=\"\n",
       "M0 800 L1600 800 L1600 0 L0 0  Z\n",
       "  \" fill=\"#ffffff\" fill-rule=\"evenodd\" fill-opacity=\"1\"/>\n",
       "<defs>\n",
       "  <clipPath id=\"clip681\">\n",
       "    <rect x=\"320\" y=\"0\" width=\"1121\" height=\"800\"/>\n",
       "  </clipPath>\n",
       "</defs>\n",
       "<defs>\n",
       "  <clipPath id=\"clip682\">\n",
       "    <rect x=\"190\" y=\"47\" width=\"1364\" height=\"602\"/>\n",
       "  </clipPath>\n",
       "</defs>\n",
       "<path clip-path=\"url(#clip680)\" d=\"\n",
       "M190.231 648.46 L1552.76 648.46 L1552.76 47.2441 L190.231 47.2441  Z\n",
       "  \" fill=\"#ffffff\" fill-rule=\"evenodd\" fill-opacity=\"1\"/>\n",
       "<polyline clip-path=\"url(#clip680)\" style=\"stroke:#000000; stroke-linecap:butt; stroke-linejoin:round; stroke-width:4; stroke-opacity:1; fill:none\" points=\"\n",
       "  190.231,648.46 1552.76,648.46 \n",
       "  \"/>\n",
       "<polyline clip-path=\"url(#clip680)\" style=\"stroke:#000000; stroke-linecap:butt; stroke-linejoin:round; stroke-width:4; stroke-opacity:1; fill:none\" points=\"\n",
       "  190.231,47.2441 1552.76,47.2441 \n",
       "  \"/>\n",
       "<polyline clip-path=\"url(#clip680)\" style=\"stroke:#000000; stroke-linecap:butt; stroke-linejoin:round; stroke-width:4; stroke-opacity:1; fill:none\" points=\"\n",
       "  228.793,648.46 228.793,629.562 \n",
       "  \"/>\n",
       "<polyline clip-path=\"url(#clip680)\" style=\"stroke:#000000; stroke-linecap:butt; stroke-linejoin:round; stroke-width:4; stroke-opacity:1; fill:none\" points=\"\n",
       "  550.143,648.46 550.143,629.562 \n",
       "  \"/>\n",
       "<polyline clip-path=\"url(#clip680)\" style=\"stroke:#000000; stroke-linecap:butt; stroke-linejoin:round; stroke-width:4; stroke-opacity:1; fill:none\" points=\"\n",
       "  871.494,648.46 871.494,629.562 \n",
       "  \"/>\n",
       "<polyline clip-path=\"url(#clip680)\" style=\"stroke:#000000; stroke-linecap:butt; stroke-linejoin:round; stroke-width:4; stroke-opacity:1; fill:none\" points=\"\n",
       "  1192.84,648.46 1192.84,629.562 \n",
       "  \"/>\n",
       "<polyline clip-path=\"url(#clip680)\" style=\"stroke:#000000; stroke-linecap:butt; stroke-linejoin:round; stroke-width:4; stroke-opacity:1; fill:none\" points=\"\n",
       "  1514.19,648.46 1514.19,629.562 \n",
       "  \"/>\n",
       "<polyline clip-path=\"url(#clip680)\" style=\"stroke:#000000; stroke-linecap:butt; stroke-linejoin:round; stroke-width:4; stroke-opacity:1; fill:none\" points=\"\n",
       "  293.063,648.46 293.063,639.011 \n",
       "  \"/>\n",
       "<polyline clip-path=\"url(#clip680)\" style=\"stroke:#000000; stroke-linecap:butt; stroke-linejoin:round; stroke-width:4; stroke-opacity:1; fill:none\" points=\"\n",
       "  357.333,648.46 357.333,639.011 \n",
       "  \"/>\n",
       "<polyline clip-path=\"url(#clip680)\" style=\"stroke:#000000; stroke-linecap:butt; stroke-linejoin:round; stroke-width:4; stroke-opacity:1; fill:none\" points=\"\n",
       "  421.603,648.46 421.603,639.011 \n",
       "  \"/>\n",
       "<polyline clip-path=\"url(#clip680)\" style=\"stroke:#000000; stroke-linecap:butt; stroke-linejoin:round; stroke-width:4; stroke-opacity:1; fill:none\" points=\"\n",
       "  485.873,648.46 485.873,639.011 \n",
       "  \"/>\n",
       "<polyline clip-path=\"url(#clip680)\" style=\"stroke:#000000; stroke-linecap:butt; stroke-linejoin:round; stroke-width:4; stroke-opacity:1; fill:none\" points=\"\n",
       "  614.414,648.46 614.414,639.011 \n",
       "  \"/>\n",
       "<polyline clip-path=\"url(#clip680)\" style=\"stroke:#000000; stroke-linecap:butt; stroke-linejoin:round; stroke-width:4; stroke-opacity:1; fill:none\" points=\"\n",
       "  678.684,648.46 678.684,639.011 \n",
       "  \"/>\n",
       "<polyline clip-path=\"url(#clip680)\" style=\"stroke:#000000; stroke-linecap:butt; stroke-linejoin:round; stroke-width:4; stroke-opacity:1; fill:none\" points=\"\n",
       "  742.954,648.46 742.954,639.011 \n",
       "  \"/>\n",
       "<polyline clip-path=\"url(#clip680)\" style=\"stroke:#000000; stroke-linecap:butt; stroke-linejoin:round; stroke-width:4; stroke-opacity:1; fill:none\" points=\"\n",
       "  807.224,648.46 807.224,639.011 \n",
       "  \"/>\n",
       "<polyline clip-path=\"url(#clip680)\" style=\"stroke:#000000; stroke-linecap:butt; stroke-linejoin:round; stroke-width:4; stroke-opacity:1; fill:none\" points=\"\n",
       "  935.764,648.46 935.764,639.011 \n",
       "  \"/>\n",
       "<polyline clip-path=\"url(#clip680)\" style=\"stroke:#000000; stroke-linecap:butt; stroke-linejoin:round; stroke-width:4; stroke-opacity:1; fill:none\" points=\"\n",
       "  1000.03,648.46 1000.03,639.011 \n",
       "  \"/>\n",
       "<polyline clip-path=\"url(#clip680)\" style=\"stroke:#000000; stroke-linecap:butt; stroke-linejoin:round; stroke-width:4; stroke-opacity:1; fill:none\" points=\"\n",
       "  1064.3,648.46 1064.3,639.011 \n",
       "  \"/>\n",
       "<polyline clip-path=\"url(#clip680)\" style=\"stroke:#000000; stroke-linecap:butt; stroke-linejoin:round; stroke-width:4; stroke-opacity:1; fill:none\" points=\"\n",
       "  1128.57,648.46 1128.57,639.011 \n",
       "  \"/>\n",
       "<polyline clip-path=\"url(#clip680)\" style=\"stroke:#000000; stroke-linecap:butt; stroke-linejoin:round; stroke-width:4; stroke-opacity:1; fill:none\" points=\"\n",
       "  1257.11,648.46 1257.11,639.011 \n",
       "  \"/>\n",
       "<polyline clip-path=\"url(#clip680)\" style=\"stroke:#000000; stroke-linecap:butt; stroke-linejoin:round; stroke-width:4; stroke-opacity:1; fill:none\" points=\"\n",
       "  1321.38,648.46 1321.38,639.011 \n",
       "  \"/>\n",
       "<polyline clip-path=\"url(#clip680)\" style=\"stroke:#000000; stroke-linecap:butt; stroke-linejoin:round; stroke-width:4; stroke-opacity:1; fill:none\" points=\"\n",
       "  1385.65,648.46 1385.65,639.011 \n",
       "  \"/>\n",
       "<polyline clip-path=\"url(#clip680)\" style=\"stroke:#000000; stroke-linecap:butt; stroke-linejoin:round; stroke-width:4; stroke-opacity:1; fill:none\" points=\"\n",
       "  1449.92,648.46 1449.92,639.011 \n",
       "  \"/>\n",
       "<path clip-path=\"url(#clip680)\" d=\"M218.146 688.279 Q218.146 680.843 220.024 676.792 Q222.642 670.764 228.818 670.764 Q230.127 670.764 231.486 671.135 Q232.869 671.481 234.599 672.84 Q236.353 674.198 237.415 676.422 Q239.441 680.72 239.441 688.279 Q239.441 695.665 237.563 699.692 Q234.821 705.571 228.769 705.571 Q226.496 705.571 224.174 704.41 Q221.876 703.249 220.419 700.458 Q218.146 696.283 218.146 688.279 M222.346 687.662 Q222.346 695.295 222.889 698.333 Q223.507 701.619 225.187 703.052 Q226.891 704.46 228.769 704.46 Q230.794 704.46 232.474 702.953 Q234.179 701.421 234.697 698.136 Q235.266 694.9 235.241 687.662 Q235.241 680.621 234.747 677.805 Q234.08 674.519 232.301 673.21 Q230.547 671.876 228.769 671.876 Q228.102 671.876 227.385 672.074 Q226.694 672.271 225.681 672.84 Q224.668 673.408 223.877 674.816 Q223.112 676.224 222.741 678.348 Q222.346 681.09 222.346 687.662 Z\" fill=\"#000000\" fill-rule=\"evenodd\" fill-opacity=\"1\" /><path clip-path=\"url(#clip680)\" d=\"M527.392 704.46 Q527.392 703.546 527.466 703.274 Q527.565 703.002 527.96 702.582 L537.668 691.762 Q542.98 685.784 542.98 680.572 Q542.98 677.187 541.201 674.766 Q539.447 672.345 536.211 672.345 Q533.988 672.345 532.11 673.704 Q530.233 675.063 529.368 677.484 Q529.516 677.434 530.035 677.434 Q531.295 677.434 531.987 678.225 Q532.703 679.015 532.703 680.078 Q532.703 681.436 531.814 682.103 Q530.949 682.746 530.084 682.746 Q529.739 682.746 529.269 682.671 Q528.825 682.597 528.108 681.906 Q527.392 681.189 527.392 679.929 Q527.392 676.397 530.06 673.581 Q532.752 670.764 536.853 670.764 Q541.497 670.764 544.536 673.531 Q547.599 676.273 547.599 680.572 Q547.599 682.079 547.13 683.462 Q546.685 684.821 546.067 685.883 Q545.475 686.945 543.844 688.65 Q542.214 690.354 540.904 691.565 Q539.595 692.775 536.655 695.344 L531.295 700.557 L540.41 700.557 Q544.857 700.557 545.203 700.161 Q545.697 699.445 546.314 695.665 L547.599 695.665 L546.166 704.46 L527.392 704.46 Z\" fill=\"#000000\" fill-rule=\"evenodd\" fill-opacity=\"1\" /><path clip-path=\"url(#clip680)\" d=\"M552.688 696.308 Q552.688 694.801 553.503 694.233 Q554.318 693.64 555.183 693.64 Q556.344 693.64 557.011 694.381 Q557.703 695.097 557.703 696.11 Q557.703 697.123 557.011 697.864 Q556.344 698.58 555.183 698.58 Q554.615 698.58 554.318 698.482 Q554.985 700.804 557.011 702.484 Q559.061 704.163 561.754 704.163 Q565.138 704.163 567.164 700.878 Q568.375 698.753 568.375 693.936 Q568.375 689.687 567.461 687.563 Q566.052 684.327 563.162 684.327 Q559.061 684.327 556.64 687.859 Q556.344 688.304 555.998 688.329 Q555.504 688.329 555.381 688.057 Q555.282 687.76 555.282 686.995 L555.282 672.024 Q555.282 670.814 555.776 670.814 Q555.973 670.814 556.393 670.962 Q559.58 672.37 563.113 672.395 Q566.744 672.395 570.005 670.913 Q570.252 670.764 570.4 670.764 Q570.894 670.764 570.919 671.333 Q570.919 671.53 570.499 672.123 Q570.104 672.691 569.239 673.457 Q568.375 674.198 567.263 674.915 Q566.151 675.631 564.521 676.125 Q562.915 676.594 561.136 676.594 Q559.012 676.594 556.838 675.927 L556.838 685.784 Q559.457 683.215 563.261 683.215 Q567.312 683.215 570.104 686.476 Q572.895 689.737 572.895 694.282 Q572.895 699.05 569.585 702.311 Q566.299 705.571 561.853 705.571 Q557.802 705.571 555.232 702.681 Q552.688 699.791 552.688 696.308 Z\" fill=\"#000000\" fill-rule=\"evenodd\" fill-opacity=\"1\" /><path clip-path=\"url(#clip680)\" d=\"M848.47 696.308 Q848.47 694.801 849.285 694.233 Q850.101 693.64 850.965 693.64 Q852.126 693.64 852.793 694.381 Q853.485 695.097 853.485 696.11 Q853.485 697.123 852.793 697.864 Q852.126 698.58 850.965 698.58 Q850.397 698.58 850.101 698.482 Q850.768 700.804 852.793 702.484 Q854.844 704.163 857.536 704.163 Q860.921 704.163 862.946 700.878 Q864.157 698.753 864.157 693.936 Q864.157 689.687 863.243 687.563 Q861.835 684.327 858.944 684.327 Q854.844 684.327 852.423 687.859 Q852.126 688.304 851.78 688.329 Q851.286 688.329 851.163 688.057 Q851.064 687.76 851.064 686.995 L851.064 672.024 Q851.064 670.814 851.558 670.814 Q851.756 670.814 852.176 670.962 Q855.362 672.37 858.895 672.395 Q862.526 672.395 865.787 670.913 Q866.034 670.764 866.182 670.764 Q866.676 670.764 866.701 671.333 Q866.701 671.53 866.281 672.123 Q865.886 672.691 865.021 673.457 Q864.157 674.198 863.045 674.915 Q861.933 675.631 860.303 676.125 Q858.697 676.594 856.919 676.594 Q854.794 676.594 852.62 675.927 L852.62 685.784 Q855.239 683.215 859.043 683.215 Q863.094 683.215 865.886 686.476 Q868.677 689.737 868.677 694.282 Q868.677 699.05 865.367 702.311 Q862.082 705.571 857.635 705.571 Q853.584 705.571 851.015 702.681 Q848.47 699.791 848.47 696.308 Z\" fill=\"#000000\" fill-rule=\"evenodd\" fill-opacity=\"1\" /><path clip-path=\"url(#clip680)\" d=\"M873.223 688.279 Q873.223 680.843 875.1 676.792 Q877.719 670.764 883.895 670.764 Q885.204 670.764 886.563 671.135 Q887.946 671.481 889.675 672.84 Q891.429 674.198 892.491 676.422 Q894.517 680.72 894.517 688.279 Q894.517 695.665 892.64 699.692 Q889.898 705.571 883.845 705.571 Q881.573 705.571 879.25 704.41 Q876.953 703.249 875.496 700.458 Q873.223 696.283 873.223 688.279 M877.422 687.662 Q877.422 695.295 877.966 698.333 Q878.583 701.619 880.263 703.052 Q881.968 704.46 883.845 704.46 Q885.871 704.46 887.551 702.953 Q889.255 701.421 889.774 698.136 Q890.342 694.9 890.318 687.662 Q890.318 680.621 889.824 677.805 Q889.157 674.519 887.378 673.21 Q885.624 671.876 883.845 671.876 Q883.178 671.876 882.462 672.074 Q881.77 672.271 880.757 672.84 Q879.745 673.408 878.954 674.816 Q878.188 676.224 877.818 678.348 Q877.422 681.09 877.422 687.662 Z\" fill=\"#000000\" fill-rule=\"evenodd\" fill-opacity=\"1\" /><path clip-path=\"url(#clip680)\" d=\"M1170.25 680.671 L1171.91 670.27 L1173.17 670.27 Q1173.32 670.888 1173.56 671.16 Q1173.83 671.431 1175.27 671.654 Q1176.72 671.876 1179.66 671.876 L1191.94 671.876 Q1191.94 673.037 1191.5 673.655 L1184.65 683.264 Q1182.48 686.303 1181.52 691.911 Q1180.95 695.665 1180.97 700.211 L1180.97 702.78 Q1180.97 705.571 1178.63 705.571 Q1176.3 705.571 1176.3 702.78 Q1176.3 693.121 1182.53 683.758 Q1183.2 682.795 1185.64 679.361 Q1188.11 675.927 1188.21 675.779 L1177.74 675.779 Q1173.14 675.779 1172.77 676.076 Q1172.28 676.52 1171.51 680.671 L1170.25 680.671 Z\" fill=\"#000000\" fill-rule=\"evenodd\" fill-opacity=\"1\" /><path clip-path=\"url(#clip680)\" d=\"M1195.23 696.308 Q1195.23 694.801 1196.04 694.233 Q1196.86 693.64 1197.72 693.64 Q1198.88 693.64 1199.55 694.381 Q1200.24 695.097 1200.24 696.11 Q1200.24 697.123 1199.55 697.864 Q1198.88 698.58 1197.72 698.58 Q1197.15 698.58 1196.86 698.482 Q1197.53 700.804 1199.55 702.484 Q1201.6 704.163 1204.29 704.163 Q1207.68 704.163 1209.7 700.878 Q1210.91 698.753 1210.91 693.936 Q1210.91 689.687 1210 687.563 Q1208.59 684.327 1205.7 684.327 Q1201.6 684.327 1199.18 687.859 Q1198.88 688.304 1198.54 688.329 Q1198.04 688.329 1197.92 688.057 Q1197.82 687.76 1197.82 686.995 L1197.82 672.024 Q1197.82 670.814 1198.32 670.814 Q1198.51 670.814 1198.93 670.962 Q1202.12 672.37 1205.65 672.395 Q1209.28 672.395 1212.54 670.913 Q1212.79 670.764 1212.94 670.764 Q1213.43 670.764 1213.46 671.333 Q1213.46 671.53 1213.04 672.123 Q1212.64 672.691 1211.78 673.457 Q1210.91 674.198 1209.8 674.915 Q1208.69 675.631 1207.06 676.125 Q1205.45 676.594 1203.68 676.594 Q1201.55 676.594 1199.38 675.927 L1199.38 685.784 Q1202 683.215 1205.8 683.215 Q1209.85 683.215 1212.64 686.476 Q1215.43 689.737 1215.43 694.282 Q1215.43 699.05 1212.12 702.311 Q1208.84 705.571 1204.39 705.571 Q1200.34 705.571 1197.77 702.681 Q1195.23 699.791 1195.23 696.308 Z\" fill=\"#000000\" fill-rule=\"evenodd\" fill-opacity=\"1\" /><path clip-path=\"url(#clip680)\" d=\"M1479.51 675.582 L1479.51 674.001 Q1485.59 674.001 1488.72 670.764 Q1489.59 670.764 1489.74 670.962 Q1489.89 671.16 1489.89 672.074 L1489.89 700.458 Q1489.89 701.965 1490.63 702.434 Q1491.37 702.904 1494.6 702.904 L1496.21 702.904 L1496.21 704.46 Q1494.43 704.312 1488.01 704.312 Q1481.59 704.312 1479.83 704.46 L1479.83 702.904 L1481.44 702.904 Q1484.62 702.904 1485.39 702.459 Q1486.16 701.99 1486.16 700.458 L1486.16 674.248 Q1483.51 675.582 1479.51 675.582 Z\" fill=\"#000000\" fill-rule=\"evenodd\" fill-opacity=\"1\" /><path clip-path=\"url(#clip680)\" d=\"M1502.29 688.279 Q1502.29 680.843 1504.16 676.792 Q1506.78 670.764 1512.96 670.764 Q1514.27 670.764 1515.63 671.135 Q1517.01 671.481 1518.74 672.84 Q1520.49 674.198 1521.56 676.422 Q1523.58 680.72 1523.58 688.279 Q1523.58 695.665 1521.7 699.692 Q1518.96 705.571 1512.91 705.571 Q1510.64 705.571 1508.31 704.41 Q1506.02 703.249 1504.56 700.458 Q1502.29 696.283 1502.29 688.279 M1506.49 687.662 Q1506.49 695.295 1507.03 698.333 Q1507.65 701.619 1509.33 703.052 Q1511.03 704.46 1512.91 704.46 Q1514.93 704.46 1516.61 702.953 Q1518.32 701.421 1518.84 698.136 Q1519.41 694.9 1519.38 687.662 Q1519.38 680.621 1518.89 677.805 Q1518.22 674.519 1516.44 673.21 Q1514.69 671.876 1512.91 671.876 Q1512.24 671.876 1511.53 672.074 Q1510.83 672.271 1509.82 672.84 Q1508.81 673.408 1508.02 674.816 Q1507.25 676.224 1506.88 678.348 Q1506.49 681.09 1506.49 687.662 Z\" fill=\"#000000\" fill-rule=\"evenodd\" fill-opacity=\"1\" /><path clip-path=\"url(#clip680)\" d=\"M1527.58 688.279 Q1527.58 680.843 1529.46 676.792 Q1532.08 670.764 1538.25 670.764 Q1539.56 670.764 1540.92 671.135 Q1542.31 671.481 1544.04 672.84 Q1545.79 674.198 1546.85 676.422 Q1548.88 680.72 1548.88 688.279 Q1548.88 695.665 1547 699.692 Q1544.26 705.571 1538.21 705.571 Q1535.93 705.571 1533.61 704.41 Q1531.31 703.249 1529.86 700.458 Q1527.58 696.283 1527.58 688.279 M1531.78 687.662 Q1531.78 695.295 1532.33 698.333 Q1532.94 701.619 1534.62 703.052 Q1536.33 704.46 1538.21 704.46 Q1540.23 704.46 1541.91 702.953 Q1543.62 701.421 1544.13 698.136 Q1544.7 694.9 1544.68 687.662 Q1544.68 680.621 1544.18 677.805 Q1543.52 674.519 1541.74 673.21 Q1539.98 671.876 1538.21 671.876 Q1537.54 671.876 1536.82 672.074 Q1536.13 672.271 1535.12 672.84 Q1534.1 673.408 1533.31 674.816 Q1532.55 676.224 1532.18 678.348 Q1531.78 681.09 1531.78 687.662 Z\" fill=\"#000000\" fill-rule=\"evenodd\" fill-opacity=\"1\" /><path clip-path=\"url(#clip680)\" d=\"M858.516 750.231 Q858.516 750.512 858.2 751.601 Q857.884 752.691 857.111 754.377 Q856.373 756.063 855.354 757.609 Q854.335 759.12 852.649 760.244 Q850.998 761.333 849.1 761.333 Q846.571 761.333 844.884 759.647 Q843.198 757.961 843.198 755.431 Q843.198 754.026 843.936 752.093 Q848.608 739.621 848.608 735.335 Q848.608 730.31 844.709 730.31 Q842.776 730.31 840.949 731.048 Q839.158 731.751 837.928 732.735 Q836.698 733.718 835.574 735.089 Q834.485 736.424 833.923 737.337 Q833.396 738.216 832.974 739.094 L832.061 742.678 Q831.85 743.661 830.831 747.491 L829.25 753.991 Q828.126 758.839 827.88 759.296 Q827.528 760.279 826.755 760.806 Q825.982 761.333 825.209 761.333 Q824.331 761.333 823.734 760.806 Q823.137 760.279 823.137 759.366 Q823.137 759.225 823.242 758.698 Q823.347 758.171 823.523 757.434 Q823.699 756.696 823.769 756.274 L827.95 739.656 Q828.723 736.635 828.898 735.686 Q829.109 734.702 829.109 733.613 Q829.109 730.31 826.861 730.31 Q825.034 730.31 823.839 732.489 Q822.645 734.667 821.626 738.883 Q821.31 740.042 821.099 740.288 Q820.923 740.534 820.396 740.534 Q819.518 740.499 819.518 739.797 Q819.518 739.621 819.799 738.461 Q820.08 737.302 820.607 735.651 Q821.169 733.964 821.696 732.84 Q822.153 731.997 822.399 731.61 Q822.68 731.189 823.347 730.381 Q824.05 729.538 824.964 729.151 Q825.912 728.729 827.072 728.729 Q829.671 728.729 831.569 730.416 Q833.466 732.067 833.712 734.983 Q838.385 728.729 844.919 728.729 Q848.784 728.729 850.998 730.767 Q853.211 732.805 853.211 736.424 Q853.211 737.267 853.035 738.356 Q852.895 739.41 852.543 740.745 Q852.227 742.08 851.946 743.099 Q851.665 744.118 851.103 745.769 Q850.541 747.385 850.295 748.088 Q850.049 748.791 849.452 750.442 Q848.89 752.058 848.819 752.234 Q847.519 755.501 847.519 757.363 Q847.519 758.593 847.906 759.155 Q848.327 759.717 849.241 759.717 Q851.7 759.717 853.527 757.293 Q855.389 754.834 856.584 750.829 Q856.865 749.95 857.005 749.739 Q857.181 749.529 857.673 749.529 Q858.516 749.529 858.516 750.231 Z\" fill=\"#000000\" fill-rule=\"evenodd\" fill-opacity=\"1\" /><path clip-path=\"url(#clip680)\" d=\"M916.278 747.931 Q916.278 748.644 915.959 748.792 Q915.664 748.939 914.68 748.939 Q913.524 748.939 912.811 749.038 Q912.097 749.112 911.655 749.235 Q911.212 749.333 910.942 749.677 Q910.696 750.022 910.597 750.317 Q910.499 750.587 910.327 751.251 L903.637 778.083 Q903.391 778.993 903.391 779.313 Q903.391 779.632 903.588 779.829 Q903.809 780.026 904.35 780.124 Q904.892 780.198 905.31 780.222 Q905.752 780.222 906.662 780.222 Q907.794 780.222 907.966 780.419 Q908.064 780.542 908.064 780.764 Q908.064 781.231 907.867 781.477 Q907.671 781.698 907.498 781.747 Q907.351 781.772 907.105 781.772 Q906.072 781.772 903.957 781.698 Q901.842 781.624 900.809 781.624 L894.562 781.772 Q893.824 781.772 893.824 781.157 Q893.824 780.69 894.021 780.493 Q894.218 780.272 894.439 780.247 Q894.661 780.222 895.226 780.222 Q897.243 780.222 898.104 780.001 Q898.989 779.78 899.235 779.386 Q899.506 778.968 899.801 777.837 L907.007 748.989 L906.957 748.989 L886.619 780.862 L886.471 781.083 Q886.323 781.28 886.274 781.354 Q886.225 781.403 886.077 781.551 Q885.955 781.673 885.807 781.723 Q885.684 781.772 885.512 781.772 Q885.217 781.772 885.045 781.575 Q884.897 781.378 884.848 781.231 Q884.823 781.059 884.749 780.616 L880.421 749.382 L880.372 749.382 L873.51 776.829 Q873.313 777.591 873.313 777.984 Q873.313 778.993 874.027 779.608 Q874.764 780.198 876.732 780.222 Q877.642 780.222 877.642 780.764 Q877.642 781.772 876.732 781.772 Q875.896 781.772 874.15 781.698 Q872.403 781.624 871.543 781.624 Q870.706 781.624 869.01 781.698 Q867.337 781.772 866.526 781.772 Q865.812 781.772 865.812 781.157 Q865.812 780.222 866.722 780.222 Q868.198 780.173 869.206 779.878 Q870.215 779.583 870.78 779.017 Q871.371 778.452 871.641 777.886 Q871.936 777.296 872.158 776.435 L878.552 750.784 Q878.749 749.972 878.749 749.849 Q878.749 749.431 878.503 749.284 Q878.281 749.112 877.642 749.038 Q876.412 748.939 875.478 748.939 Q874.863 748.939 874.617 748.915 Q874.396 748.89 874.199 748.767 Q874.027 748.62 874.027 748.325 Q874.027 747.857 874.223 747.661 Q874.445 747.439 874.691 747.415 Q874.937 747.365 875.527 747.365 L882.438 747.365 Q883.446 747.365 883.667 747.538 Q883.889 747.685 883.987 748.521 L887.922 777.025 L906.318 748.325 Q906.785 747.611 907.031 747.488 Q907.277 747.365 908.261 747.365 L914.926 747.365 Q915.467 747.365 915.688 747.39 Q915.909 747.415 916.082 747.538 Q916.278 747.661 916.278 747.931 Z\" fill=\"#000000\" fill-rule=\"evenodd\" fill-opacity=\"1\" /><polyline clip-path=\"url(#clip680)\" style=\"stroke:#000000; stroke-linecap:butt; stroke-linejoin:round; stroke-width:4; stroke-opacity:1; fill:none\" points=\"\n",
       "  190.231,648.46 190.231,47.2441 \n",
       "  \"/>\n",
       "<polyline clip-path=\"url(#clip680)\" style=\"stroke:#000000; stroke-linecap:butt; stroke-linejoin:round; stroke-width:4; stroke-opacity:1; fill:none\" points=\"\n",
       "  1552.76,648.46 1552.76,47.2441 \n",
       "  \"/>\n",
       "<polyline clip-path=\"url(#clip680)\" style=\"stroke:#000000; stroke-linecap:butt; stroke-linejoin:round; stroke-width:4; stroke-opacity:1; fill:none\" points=\"\n",
       "  190.231,631.444 209.129,631.444 \n",
       "  \"/>\n",
       "<polyline clip-path=\"url(#clip680)\" style=\"stroke:#000000; stroke-linecap:butt; stroke-linejoin:round; stroke-width:4; stroke-opacity:1; fill:none\" points=\"\n",
       "  190.231,504.702 209.129,504.702 \n",
       "  \"/>\n",
       "<polyline clip-path=\"url(#clip680)\" style=\"stroke:#000000; stroke-linecap:butt; stroke-linejoin:round; stroke-width:4; stroke-opacity:1; fill:none\" points=\"\n",
       "  190.231,377.96 209.129,377.96 \n",
       "  \"/>\n",
       "<polyline clip-path=\"url(#clip680)\" style=\"stroke:#000000; stroke-linecap:butt; stroke-linejoin:round; stroke-width:4; stroke-opacity:1; fill:none\" points=\"\n",
       "  190.231,251.218 209.129,251.218 \n",
       "  \"/>\n",
       "<polyline clip-path=\"url(#clip680)\" style=\"stroke:#000000; stroke-linecap:butt; stroke-linejoin:round; stroke-width:4; stroke-opacity:1; fill:none\" points=\"\n",
       "  190.231,124.475 209.129,124.475 \n",
       "  \"/>\n",
       "<polyline clip-path=\"url(#clip680)\" style=\"stroke:#000000; stroke-linecap:butt; stroke-linejoin:round; stroke-width:4; stroke-opacity:1; fill:none\" points=\"\n",
       "  190.231,606.096 199.68,606.096 \n",
       "  \"/>\n",
       "<polyline clip-path=\"url(#clip680)\" style=\"stroke:#000000; stroke-linecap:butt; stroke-linejoin:round; stroke-width:4; stroke-opacity:1; fill:none\" points=\"\n",
       "  190.231,580.747 199.68,580.747 \n",
       "  \"/>\n",
       "<polyline clip-path=\"url(#clip680)\" style=\"stroke:#000000; stroke-linecap:butt; stroke-linejoin:round; stroke-width:4; stroke-opacity:1; fill:none\" points=\"\n",
       "  190.231,555.399 199.68,555.399 \n",
       "  \"/>\n",
       "<polyline clip-path=\"url(#clip680)\" style=\"stroke:#000000; stroke-linecap:butt; stroke-linejoin:round; stroke-width:4; stroke-opacity:1; fill:none\" points=\"\n",
       "  190.231,530.051 199.68,530.051 \n",
       "  \"/>\n",
       "<polyline clip-path=\"url(#clip680)\" style=\"stroke:#000000; stroke-linecap:butt; stroke-linejoin:round; stroke-width:4; stroke-opacity:1; fill:none\" points=\"\n",
       "  190.231,479.354 199.68,479.354 \n",
       "  \"/>\n",
       "<polyline clip-path=\"url(#clip680)\" style=\"stroke:#000000; stroke-linecap:butt; stroke-linejoin:round; stroke-width:4; stroke-opacity:1; fill:none\" points=\"\n",
       "  190.231,454.005 199.68,454.005 \n",
       "  \"/>\n",
       "<polyline clip-path=\"url(#clip680)\" style=\"stroke:#000000; stroke-linecap:butt; stroke-linejoin:round; stroke-width:4; stroke-opacity:1; fill:none\" points=\"\n",
       "  190.231,428.657 199.68,428.657 \n",
       "  \"/>\n",
       "<polyline clip-path=\"url(#clip680)\" style=\"stroke:#000000; stroke-linecap:butt; stroke-linejoin:round; stroke-width:4; stroke-opacity:1; fill:none\" points=\"\n",
       "  190.231,403.308 199.68,403.308 \n",
       "  \"/>\n",
       "<polyline clip-path=\"url(#clip680)\" style=\"stroke:#000000; stroke-linecap:butt; stroke-linejoin:round; stroke-width:4; stroke-opacity:1; fill:none\" points=\"\n",
       "  190.231,352.611 199.68,352.611 \n",
       "  \"/>\n",
       "<polyline clip-path=\"url(#clip680)\" style=\"stroke:#000000; stroke-linecap:butt; stroke-linejoin:round; stroke-width:4; stroke-opacity:1; fill:none\" points=\"\n",
       "  190.231,327.263 199.68,327.263 \n",
       "  \"/>\n",
       "<polyline clip-path=\"url(#clip680)\" style=\"stroke:#000000; stroke-linecap:butt; stroke-linejoin:round; stroke-width:4; stroke-opacity:1; fill:none\" points=\"\n",
       "  190.231,301.914 199.68,301.914 \n",
       "  \"/>\n",
       "<polyline clip-path=\"url(#clip680)\" style=\"stroke:#000000; stroke-linecap:butt; stroke-linejoin:round; stroke-width:4; stroke-opacity:1; fill:none\" points=\"\n",
       "  190.231,276.566 199.68,276.566 \n",
       "  \"/>\n",
       "<polyline clip-path=\"url(#clip680)\" style=\"stroke:#000000; stroke-linecap:butt; stroke-linejoin:round; stroke-width:4; stroke-opacity:1; fill:none\" points=\"\n",
       "  190.231,225.869 199.68,225.869 \n",
       "  \"/>\n",
       "<polyline clip-path=\"url(#clip680)\" style=\"stroke:#000000; stroke-linecap:butt; stroke-linejoin:round; stroke-width:4; stroke-opacity:1; fill:none\" points=\"\n",
       "  190.231,200.521 199.68,200.521 \n",
       "  \"/>\n",
       "<polyline clip-path=\"url(#clip680)\" style=\"stroke:#000000; stroke-linecap:butt; stroke-linejoin:round; stroke-width:4; stroke-opacity:1; fill:none\" points=\"\n",
       "  190.231,175.172 199.68,175.172 \n",
       "  \"/>\n",
       "<polyline clip-path=\"url(#clip680)\" style=\"stroke:#000000; stroke-linecap:butt; stroke-linejoin:round; stroke-width:4; stroke-opacity:1; fill:none\" points=\"\n",
       "  190.231,149.824 199.68,149.824 \n",
       "  \"/>\n",
       "<polyline clip-path=\"url(#clip680)\" style=\"stroke:#000000; stroke-linecap:butt; stroke-linejoin:round; stroke-width:4; stroke-opacity:1; fill:none\" points=\"\n",
       "  190.231,99.1269 199.68,99.1269 \n",
       "  \"/>\n",
       "<polyline clip-path=\"url(#clip680)\" style=\"stroke:#000000; stroke-linecap:butt; stroke-linejoin:round; stroke-width:4; stroke-opacity:1; fill:none\" points=\"\n",
       "  190.231,73.7784 199.68,73.7784 \n",
       "  \"/>\n",
       "<polyline clip-path=\"url(#clip680)\" style=\"stroke:#000000; stroke-linecap:butt; stroke-linejoin:round; stroke-width:4; stroke-opacity:1; fill:none\" points=\"\n",
       "  190.231,48.43 199.68,48.43 \n",
       "  \"/>\n",
       "<path clip-path=\"url(#clip680)\" d=\"M54.9921 632.544 Q54.9921 625.108 56.8696 621.057 Q59.4881 615.029 65.664 615.029 Q66.9733 615.029 68.3319 615.399 Q69.7153 615.745 71.4446 617.104 Q73.1985 618.463 74.2607 620.686 Q76.2864 624.984 76.2864 632.544 Q76.2864 639.93 74.409 643.957 Q71.6669 649.836 65.6146 649.836 Q63.3419 649.836 61.0197 648.675 Q58.7223 647.514 57.2648 644.722 Q54.9921 640.547 54.9921 632.544 M59.1917 631.926 Q59.1917 639.559 59.7352 642.598 Q60.3528 645.883 62.0326 647.316 Q63.7371 648.724 65.6146 648.724 Q67.6402 648.724 69.3201 647.217 Q71.0246 645.686 71.5434 642.4 Q72.1116 639.164 72.0869 631.926 Q72.0869 624.886 71.5928 622.069 Q70.9258 618.784 69.1472 617.475 Q67.3932 616.141 65.6146 616.141 Q64.9476 616.141 64.2312 616.338 Q63.5395 616.536 62.5267 617.104 Q61.5138 617.672 60.7233 619.08 Q59.9575 620.488 59.587 622.613 Q59.1917 625.355 59.1917 631.926 Z\" fill=\"#000000\" fill-rule=\"evenodd\" fill-opacity=\"1\" /><path clip-path=\"url(#clip680)\" d=\"M83.3763 647.909 Q82.6105 647.094 82.6105 646.032 Q82.6105 644.969 83.3763 644.204 Q84.1421 643.413 85.3031 643.413 Q86.4148 643.413 87.1559 644.154 Q87.9217 644.871 87.9217 646.056 Q87.9217 647.217 87.1065 647.983 Q86.316 648.724 85.3031 648.724 Q84.1421 648.724 83.3763 647.909 Z\" fill=\"#000000\" fill-rule=\"evenodd\" fill-opacity=\"1\" /><path clip-path=\"url(#clip680)\" d=\"M94.3446 632.544 Q94.3446 625.108 96.222 621.057 Q98.8406 615.029 105.016 615.029 Q106.326 615.029 107.684 615.399 Q109.068 615.745 110.797 617.104 Q112.551 618.463 113.613 620.686 Q115.639 624.984 115.639 632.544 Q115.639 639.93 113.761 643.957 Q111.019 649.836 104.967 649.836 Q102.694 649.836 100.372 648.675 Q98.0748 647.514 96.6173 644.722 Q94.3446 640.547 94.3446 632.544 M98.5441 631.926 Q98.5441 639.559 99.0876 642.598 Q99.7052 645.883 101.385 647.316 Q103.09 648.724 104.967 648.724 Q106.993 648.724 108.673 647.217 Q110.377 645.686 110.896 642.4 Q111.464 639.164 111.439 631.926 Q111.439 624.886 110.945 622.069 Q110.278 618.784 108.5 617.475 Q106.746 616.141 104.967 616.141 Q104.3 616.141 103.584 616.338 Q102.892 616.536 101.879 617.104 Q100.866 617.672 100.076 619.08 Q99.31 620.488 98.9394 622.613 Q98.5441 625.355 98.5441 631.926 Z\" fill=\"#000000\" fill-rule=\"evenodd\" fill-opacity=\"1\" /><path clip-path=\"url(#clip680)\" d=\"M119.641 632.544 Q119.641 625.108 121.518 621.057 Q124.137 615.029 130.313 615.029 Q131.622 615.029 132.981 615.399 Q134.364 615.745 136.093 617.104 Q137.847 618.463 138.909 620.686 Q140.935 624.984 140.935 632.544 Q140.935 639.93 139.058 643.957 Q136.316 649.836 130.263 649.836 Q127.991 649.836 125.668 648.675 Q123.371 647.514 121.914 644.722 Q119.641 640.547 119.641 632.544 M123.84 631.926 Q123.84 639.559 124.384 642.598 Q125.001 645.883 126.681 647.316 Q128.386 648.724 130.263 648.724 Q132.289 648.724 133.969 647.217 Q135.673 645.686 136.192 642.4 Q136.76 639.164 136.736 631.926 Q136.736 624.886 136.241 622.069 Q135.574 618.784 133.796 617.475 Q132.042 616.141 130.263 616.141 Q129.596 616.141 128.88 616.338 Q128.188 616.536 127.175 617.104 Q126.163 617.672 125.372 619.08 Q124.606 620.488 124.236 622.613 Q123.84 625.355 123.84 631.926 Z\" fill=\"#000000\" fill-rule=\"evenodd\" fill-opacity=\"1\" /><path clip-path=\"url(#clip680)\" d=\"M144.937 632.544 Q144.937 625.108 146.815 621.057 Q149.433 615.029 155.609 615.029 Q156.918 615.029 158.277 615.399 Q159.66 615.745 161.389 617.104 Q163.143 618.463 164.206 620.686 Q166.231 624.984 166.231 632.544 Q166.231 639.93 164.354 643.957 Q161.612 649.836 155.56 649.836 Q153.287 649.836 150.965 648.675 Q148.667 647.514 147.21 644.722 Q144.937 640.547 144.937 632.544 M149.137 631.926 Q149.137 639.559 149.68 642.598 Q150.298 645.883 151.978 647.316 Q153.682 648.724 155.56 648.724 Q157.585 648.724 159.265 647.217 Q160.97 645.686 161.488 642.4 Q162.056 639.164 162.032 631.926 Q162.032 624.886 161.538 622.069 Q160.871 618.784 159.092 617.475 Q157.338 616.141 155.56 616.141 Q154.893 616.141 154.176 616.338 Q153.484 616.536 152.472 617.104 Q151.459 617.672 150.668 619.08 Q149.902 620.488 149.532 622.613 Q149.137 625.355 149.137 631.926 Z\" fill=\"#000000\" fill-rule=\"evenodd\" fill-opacity=\"1\" /><path clip-path=\"url(#clip680)\" d=\"M55.5356 505.801 Q55.5356 498.366 57.4131 494.314 Q60.0316 488.287 66.2075 488.287 Q67.5167 488.287 68.8754 488.657 Q70.2588 489.003 71.988 490.362 Q73.742 491.72 74.8042 493.944 Q76.8299 498.242 76.8299 505.801 Q76.8299 513.188 74.9524 517.214 Q72.2104 523.094 66.158 523.094 Q63.8853 523.094 61.5632 521.933 Q59.2658 520.772 57.8083 517.98 Q55.5356 513.805 55.5356 505.801 M59.7352 505.184 Q59.7352 512.817 60.2786 515.856 Q60.8962 519.141 62.5761 520.574 Q64.2806 521.982 66.158 521.982 Q68.1837 521.982 69.8635 520.475 Q71.5681 518.944 72.0869 515.658 Q72.655 512.422 72.6303 505.184 Q72.6303 498.143 72.1363 495.327 Q71.4693 492.042 69.6906 490.732 Q67.9367 489.398 66.158 489.398 Q65.4911 489.398 64.7747 489.596 Q64.083 489.794 63.0701 490.362 Q62.0573 490.93 61.2668 492.338 Q60.501 493.746 60.1304 495.871 Q59.7352 498.613 59.7352 505.184 Z\" fill=\"#000000\" fill-rule=\"evenodd\" fill-opacity=\"1\" /><path clip-path=\"url(#clip680)\" d=\"M83.9198 521.167 Q83.154 520.352 83.154 519.289 Q83.154 518.227 83.9198 517.461 Q84.6856 516.671 85.8466 516.671 Q86.9583 516.671 87.6994 517.412 Q88.4652 518.128 88.4652 519.314 Q88.4652 520.475 87.65 521.241 Q86.8595 521.982 85.8466 521.982 Q84.6856 521.982 83.9198 521.167 Z\" fill=\"#000000\" fill-rule=\"evenodd\" fill-opacity=\"1\" /><path clip-path=\"url(#clip680)\" d=\"M94.8881 505.801 Q94.8881 498.366 96.7655 494.314 Q99.3841 488.287 105.56 488.287 Q106.869 488.287 108.228 488.657 Q109.611 489.003 111.34 490.362 Q113.094 491.72 114.157 493.944 Q116.182 498.242 116.182 505.801 Q116.182 513.188 114.305 517.214 Q111.563 523.094 105.51 523.094 Q103.238 523.094 100.916 521.933 Q98.6183 520.772 97.1608 517.98 Q94.8881 513.805 94.8881 505.801 M99.0876 505.184 Q99.0876 512.817 99.6311 515.856 Q100.249 519.141 101.929 520.574 Q103.633 521.982 105.51 521.982 Q107.536 521.982 109.216 520.475 Q110.921 518.944 111.439 515.658 Q112.007 512.422 111.983 505.184 Q111.983 498.143 111.489 495.327 Q110.822 492.042 109.043 490.732 Q107.289 489.398 105.51 489.398 Q104.844 489.398 104.127 489.596 Q103.435 489.794 102.423 490.362 Q101.41 490.93 100.619 492.338 Q99.8534 493.746 99.4829 495.871 Q99.0876 498.613 99.0876 505.184 Z\" fill=\"#000000\" fill-rule=\"evenodd\" fill-opacity=\"1\" /><path clip-path=\"url(#clip680)\" d=\"M120.728 521.982 Q120.728 521.068 120.802 520.796 Q120.901 520.525 121.296 520.105 L131.004 509.285 Q136.316 503.306 136.316 498.094 Q136.316 494.71 134.537 492.289 Q132.783 489.868 129.547 489.868 Q127.324 489.868 125.446 491.226 Q123.569 492.585 122.704 495.006 Q122.852 494.957 123.371 494.957 Q124.631 494.957 125.323 495.747 Q126.039 496.538 126.039 497.6 Q126.039 498.959 125.15 499.626 Q124.285 500.268 123.42 500.268 Q123.075 500.268 122.605 500.194 Q122.161 500.12 121.444 499.428 Q120.728 498.711 120.728 497.452 Q120.728 493.919 123.396 491.103 Q126.088 488.287 130.189 488.287 Q134.833 488.287 137.872 491.053 Q140.935 493.796 140.935 498.094 Q140.935 499.601 140.466 500.984 Q140.021 502.343 139.404 503.405 Q138.811 504.467 137.18 506.172 Q135.55 507.876 134.241 509.087 Q132.931 510.297 129.992 512.867 L124.631 518.079 L133.746 518.079 Q138.193 518.079 138.539 517.684 Q139.033 516.967 139.651 513.188 L140.935 513.188 L139.502 521.982 L120.728 521.982 Z\" fill=\"#000000\" fill-rule=\"evenodd\" fill-opacity=\"1\" /><path clip-path=\"url(#clip680)\" d=\"M146.024 513.83 Q146.024 512.323 146.839 511.755 Q147.654 511.162 148.519 511.162 Q149.68 511.162 150.347 511.903 Q151.039 512.619 151.039 513.632 Q151.039 514.645 150.347 515.386 Q149.68 516.103 148.519 516.103 Q147.951 516.103 147.654 516.004 Q148.321 518.326 150.347 520.006 Q152.397 521.686 155.09 521.686 Q158.474 521.686 160.5 518.4 Q161.711 516.276 161.711 511.458 Q161.711 507.209 160.797 505.085 Q159.389 501.849 156.498 501.849 Q152.397 501.849 149.977 505.381 Q149.68 505.826 149.334 505.851 Q148.84 505.851 148.717 505.579 Q148.618 505.283 148.618 504.517 L148.618 489.547 Q148.618 488.336 149.112 488.336 Q149.31 488.336 149.73 488.484 Q152.916 489.892 156.449 489.917 Q160.08 489.917 163.341 488.435 Q163.588 488.287 163.736 488.287 Q164.23 488.287 164.255 488.855 Q164.255 489.052 163.835 489.645 Q163.44 490.214 162.575 490.979 Q161.711 491.72 160.599 492.437 Q159.487 493.153 157.857 493.647 Q156.251 494.117 154.473 494.117 Q152.348 494.117 150.174 493.45 L150.174 503.306 Q152.793 500.737 156.597 500.737 Q160.648 500.737 163.44 503.998 Q166.231 507.259 166.231 511.804 Q166.231 516.572 162.921 519.833 Q159.636 523.094 155.189 523.094 Q151.138 523.094 148.568 520.203 Q146.024 517.313 146.024 513.83 Z\" fill=\"#000000\" fill-rule=\"evenodd\" fill-opacity=\"1\" /><path clip-path=\"url(#clip680)\" d=\"M54.9921 379.059 Q54.9921 371.623 56.8696 367.572 Q59.4881 361.544 65.664 361.544 Q66.9733 361.544 68.3319 361.915 Q69.7153 362.261 71.4446 363.62 Q73.1985 364.978 74.2607 367.201 Q76.2864 371.5 76.2864 379.059 Q76.2864 386.445 74.409 390.472 Q71.6669 396.351 65.6146 396.351 Q63.3419 396.351 61.0197 395.19 Q58.7223 394.029 57.2648 391.238 Q54.9921 387.063 54.9921 379.059 M59.1917 378.442 Q59.1917 386.075 59.7352 389.113 Q60.3528 392.399 62.0326 393.832 Q63.7371 395.24 65.6146 395.24 Q67.6402 395.24 69.3201 393.733 Q71.0246 392.201 71.5434 388.916 Q72.1116 385.68 72.0869 378.442 Q72.0869 371.401 71.5928 368.585 Q70.9258 365.299 69.1472 363.99 Q67.3932 362.656 65.6146 362.656 Q64.9476 362.656 64.2312 362.854 Q63.5395 363.051 62.5267 363.62 Q61.5138 364.188 60.7233 365.596 Q59.9575 367.004 59.587 369.128 Q59.1917 371.87 59.1917 378.442 Z\" fill=\"#000000\" fill-rule=\"evenodd\" fill-opacity=\"1\" /><path clip-path=\"url(#clip680)\" d=\"M83.3763 394.425 Q82.6105 393.609 82.6105 392.547 Q82.6105 391.485 83.3763 390.719 Q84.1421 389.929 85.3031 389.929 Q86.4148 389.929 87.1559 390.67 Q87.9217 391.386 87.9217 392.572 Q87.9217 393.733 87.1065 394.499 Q86.316 395.24 85.3031 395.24 Q84.1421 395.24 83.3763 394.425 Z\" fill=\"#000000\" fill-rule=\"evenodd\" fill-opacity=\"1\" /><path clip-path=\"url(#clip680)\" d=\"M94.3446 379.059 Q94.3446 371.623 96.222 367.572 Q98.8406 361.544 105.016 361.544 Q106.326 361.544 107.684 361.915 Q109.068 362.261 110.797 363.62 Q112.551 364.978 113.613 367.201 Q115.639 371.5 115.639 379.059 Q115.639 386.445 113.761 390.472 Q111.019 396.351 104.967 396.351 Q102.694 396.351 100.372 395.19 Q98.0748 394.029 96.6173 391.238 Q94.3446 387.063 94.3446 379.059 M98.5441 378.442 Q98.5441 386.075 99.0876 389.113 Q99.7052 392.399 101.385 393.832 Q103.09 395.24 104.967 395.24 Q106.993 395.24 108.673 393.733 Q110.377 392.201 110.896 388.916 Q111.464 385.68 111.439 378.442 Q111.439 371.401 110.945 368.585 Q110.278 365.299 108.5 363.99 Q106.746 362.656 104.967 362.656 Q104.3 362.656 103.584 362.854 Q102.892 363.051 101.879 363.62 Q100.866 364.188 100.076 365.596 Q99.31 367.004 98.9394 369.128 Q98.5441 371.87 98.5441 378.442 Z\" fill=\"#000000\" fill-rule=\"evenodd\" fill-opacity=\"1\" /><path clip-path=\"url(#clip680)\" d=\"M120.184 387.088 Q120.184 385.581 121 385.013 Q121.815 384.42 122.679 384.42 Q123.84 384.42 124.507 385.161 Q125.199 385.877 125.199 386.89 Q125.199 387.903 124.507 388.644 Q123.84 389.36 122.679 389.36 Q122.111 389.36 121.815 389.262 Q122.482 391.584 124.507 393.264 Q126.558 394.943 129.25 394.943 Q132.635 394.943 134.66 391.658 Q135.871 389.533 135.871 384.716 Q135.871 380.467 134.957 378.343 Q133.549 375.107 130.659 375.107 Q126.558 375.107 124.137 378.639 Q123.84 379.084 123.495 379.109 Q123 379.109 122.877 378.837 Q122.778 378.54 122.778 377.775 L122.778 362.804 Q122.778 361.594 123.272 361.594 Q123.47 361.594 123.89 361.742 Q127.077 363.15 130.609 363.175 Q134.241 363.175 137.501 361.693 Q137.748 361.544 137.897 361.544 Q138.391 361.544 138.415 362.113 Q138.415 362.31 137.995 362.903 Q137.6 363.471 136.736 364.237 Q135.871 364.978 134.759 365.695 Q133.648 366.411 132.017 366.905 Q130.411 367.374 128.633 367.374 Q126.508 367.374 124.334 366.707 L124.334 376.564 Q126.953 373.995 130.757 373.995 Q134.809 373.995 137.6 377.256 Q140.392 380.517 140.392 385.062 Q140.392 389.83 137.081 393.091 Q133.796 396.351 129.349 396.351 Q125.298 396.351 122.729 393.461 Q120.184 390.571 120.184 387.088 Z\" fill=\"#000000\" fill-rule=\"evenodd\" fill-opacity=\"1\" /><path clip-path=\"url(#clip680)\" d=\"M144.937 379.059 Q144.937 371.623 146.815 367.572 Q149.433 361.544 155.609 361.544 Q156.918 361.544 158.277 361.915 Q159.66 362.261 161.389 363.62 Q163.143 364.978 164.206 367.201 Q166.231 371.5 166.231 379.059 Q166.231 386.445 164.354 390.472 Q161.612 396.351 155.56 396.351 Q153.287 396.351 150.965 395.19 Q148.667 394.029 147.21 391.238 Q144.937 387.063 144.937 379.059 M149.137 378.442 Q149.137 386.075 149.68 389.113 Q150.298 392.399 151.978 393.832 Q153.682 395.24 155.56 395.24 Q157.585 395.24 159.265 393.733 Q160.97 392.201 161.488 388.916 Q162.056 385.68 162.032 378.442 Q162.032 371.401 161.538 368.585 Q160.871 365.299 159.092 363.99 Q157.338 362.656 155.56 362.656 Q154.893 362.656 154.176 362.854 Q153.484 363.051 152.472 363.62 Q151.459 364.188 150.668 365.596 Q149.902 367.004 149.532 369.128 Q149.137 371.87 149.137 378.442 Z\" fill=\"#000000\" fill-rule=\"evenodd\" fill-opacity=\"1\" /><path clip-path=\"url(#clip680)\" d=\"M55.5356 252.317 Q55.5356 244.881 57.4131 240.83 Q60.0316 234.802 66.2075 234.802 Q67.5167 234.802 68.8754 235.173 Q70.2588 235.519 71.988 236.877 Q73.742 238.236 74.8042 240.459 Q76.8299 244.758 76.8299 252.317 Q76.8299 259.703 74.9524 263.73 Q72.2104 269.609 66.158 269.609 Q63.8853 269.609 61.5632 268.448 Q59.2658 267.287 57.8083 264.496 Q55.5356 260.321 55.5356 252.317 M59.7352 251.699 Q59.7352 259.333 60.2786 262.371 Q60.8962 265.657 62.5761 267.089 Q64.2806 268.498 66.158 268.498 Q68.1837 268.498 69.8635 266.991 Q71.5681 265.459 72.0869 262.174 Q72.655 258.937 72.6303 251.699 Q72.6303 244.659 72.1363 241.843 Q71.4693 238.557 69.6906 237.248 Q67.9367 235.914 66.158 235.914 Q65.4911 235.914 64.7747 236.111 Q64.083 236.309 63.0701 236.877 Q62.0573 237.445 61.2668 238.854 Q60.501 240.262 60.1304 242.386 Q59.7352 245.128 59.7352 251.699 Z\" fill=\"#000000\" fill-rule=\"evenodd\" fill-opacity=\"1\" /><path clip-path=\"url(#clip680)\" d=\"M83.9198 267.682 Q83.154 266.867 83.154 265.805 Q83.154 264.743 83.9198 263.977 Q84.6856 263.186 85.8466 263.186 Q86.9583 263.186 87.6994 263.927 Q88.4652 264.644 88.4652 265.83 Q88.4652 266.991 87.65 267.756 Q86.8595 268.498 85.8466 268.498 Q84.6856 268.498 83.9198 267.682 Z\" fill=\"#000000\" fill-rule=\"evenodd\" fill-opacity=\"1\" /><path clip-path=\"url(#clip680)\" d=\"M94.8881 252.317 Q94.8881 244.881 96.7655 240.83 Q99.3841 234.802 105.56 234.802 Q106.869 234.802 108.228 235.173 Q109.611 235.519 111.34 236.877 Q113.094 238.236 114.157 240.459 Q116.182 244.758 116.182 252.317 Q116.182 259.703 114.305 263.73 Q111.563 269.609 105.51 269.609 Q103.238 269.609 100.916 268.448 Q98.6183 267.287 97.1608 264.496 Q94.8881 260.321 94.8881 252.317 M99.0876 251.699 Q99.0876 259.333 99.6311 262.371 Q100.249 265.657 101.929 267.089 Q103.633 268.498 105.51 268.498 Q107.536 268.498 109.216 266.991 Q110.921 265.459 111.439 262.174 Q112.007 258.937 111.983 251.699 Q111.983 244.659 111.489 241.843 Q110.822 238.557 109.043 237.248 Q107.289 235.914 105.51 235.914 Q104.844 235.914 104.127 236.111 Q103.435 236.309 102.423 236.877 Q101.41 237.445 100.619 238.854 Q99.8534 240.262 99.4829 242.386 Q99.0876 245.128 99.0876 251.699 Z\" fill=\"#000000\" fill-rule=\"evenodd\" fill-opacity=\"1\" /><path clip-path=\"url(#clip680)\" d=\"M121.049 244.708 L122.704 234.308 L123.964 234.308 Q124.112 234.926 124.359 235.197 Q124.631 235.469 126.064 235.692 Q127.521 235.914 130.461 235.914 L142.738 235.914 Q142.738 237.075 142.294 237.692 L135.451 247.302 Q133.277 250.341 132.314 255.948 Q131.745 259.703 131.77 264.249 L131.77 266.818 Q131.77 269.609 129.423 269.609 Q127.101 269.609 127.101 266.818 Q127.101 257.159 133.326 247.796 Q133.993 246.833 136.439 243.399 Q138.909 239.965 139.008 239.817 L128.534 239.817 Q123.939 239.817 123.569 240.113 Q123.075 240.558 122.309 244.708 L121.049 244.708 Z\" fill=\"#000000\" fill-rule=\"evenodd\" fill-opacity=\"1\" /><path clip-path=\"url(#clip680)\" d=\"M146.024 260.345 Q146.024 258.839 146.839 258.27 Q147.654 257.677 148.519 257.677 Q149.68 257.677 150.347 258.419 Q151.039 259.135 151.039 260.148 Q151.039 261.161 150.347 261.902 Q149.68 262.618 148.519 262.618 Q147.951 262.618 147.654 262.519 Q148.321 264.841 150.347 266.521 Q152.397 268.201 155.09 268.201 Q158.474 268.201 160.5 264.916 Q161.711 262.791 161.711 257.974 Q161.711 253.725 160.797 251.6 Q159.389 248.364 156.498 248.364 Q152.397 248.364 149.977 251.897 Q149.68 252.342 149.334 252.366 Q148.84 252.366 148.717 252.095 Q148.618 251.798 148.618 251.032 L148.618 236.062 Q148.618 234.852 149.112 234.852 Q149.31 234.852 149.73 235 Q152.916 236.408 156.449 236.433 Q160.08 236.433 163.341 234.95 Q163.588 234.802 163.736 234.802 Q164.23 234.802 164.255 235.37 Q164.255 235.568 163.835 236.161 Q163.44 236.729 162.575 237.495 Q161.711 238.236 160.599 238.952 Q159.487 239.669 157.857 240.163 Q156.251 240.632 154.473 240.632 Q152.348 240.632 150.174 239.965 L150.174 249.822 Q152.793 247.253 156.597 247.253 Q160.648 247.253 163.44 250.514 Q166.231 253.774 166.231 258.32 Q166.231 263.088 162.921 266.348 Q159.636 269.609 155.189 269.609 Q151.138 269.609 148.568 266.719 Q146.024 263.829 146.024 260.345 Z\" fill=\"#000000\" fill-rule=\"evenodd\" fill-opacity=\"1\" /><path clip-path=\"url(#clip680)\" d=\"M54.9921 125.575 Q54.9921 118.139 56.8696 114.088 Q59.4881 108.06 65.664 108.06 Q66.9733 108.06 68.3319 108.43 Q69.7153 108.776 71.4446 110.135 Q73.1985 111.494 74.2607 113.717 Q76.2864 118.015 76.2864 125.575 Q76.2864 132.961 74.409 136.988 Q71.6669 142.867 65.6146 142.867 Q63.3419 142.867 61.0197 141.706 Q58.7223 140.545 57.2648 137.753 Q54.9921 133.579 54.9921 125.575 M59.1917 124.957 Q59.1917 132.59 59.7352 135.629 Q60.3528 138.914 62.0326 140.347 Q63.7371 141.755 65.6146 141.755 Q67.6402 141.755 69.3201 140.248 Q71.0246 138.717 71.5434 135.431 Q72.1116 132.195 72.0869 124.957 Q72.0869 117.917 71.5928 115.1 Q70.9258 111.815 69.1472 110.506 Q67.3932 109.172 65.6146 109.172 Q64.9476 109.172 64.2312 109.369 Q63.5395 109.567 62.5267 110.135 Q61.5138 110.703 60.7233 112.111 Q59.9575 113.519 59.587 115.644 Q59.1917 118.386 59.1917 124.957 Z\" fill=\"#000000\" fill-rule=\"evenodd\" fill-opacity=\"1\" /><path clip-path=\"url(#clip680)\" d=\"M83.3763 140.94 Q82.6105 140.125 82.6105 139.063 Q82.6105 138 83.3763 137.235 Q84.1421 136.444 85.3031 136.444 Q86.4148 136.444 87.1559 137.185 Q87.9217 137.902 87.9217 139.087 Q87.9217 140.248 87.1065 141.014 Q86.316 141.755 85.3031 141.755 Q84.1421 141.755 83.3763 140.94 Z\" fill=\"#000000\" fill-rule=\"evenodd\" fill-opacity=\"1\" /><path clip-path=\"url(#clip680)\" d=\"M96.8643 112.877 L96.8643 111.296 Q102.941 111.296 106.079 108.06 Q106.943 108.06 107.092 108.258 Q107.24 108.455 107.24 109.369 L107.24 137.753 Q107.24 139.26 107.981 139.73 Q108.722 140.199 111.958 140.199 L113.564 140.199 L113.564 141.755 Q111.785 141.607 105.362 141.607 Q98.9394 141.607 97.1855 141.755 L97.1855 140.199 L98.7912 140.199 Q101.978 140.199 102.744 139.754 Q103.51 139.285 103.51 137.753 L103.51 111.543 Q100.866 112.877 96.8643 112.877 Z\" fill=\"#000000\" fill-rule=\"evenodd\" fill-opacity=\"1\" /><path clip-path=\"url(#clip680)\" d=\"M119.641 125.575 Q119.641 118.139 121.518 114.088 Q124.137 108.06 130.313 108.06 Q131.622 108.06 132.981 108.43 Q134.364 108.776 136.093 110.135 Q137.847 111.494 138.909 113.717 Q140.935 118.015 140.935 125.575 Q140.935 132.961 139.058 136.988 Q136.316 142.867 130.263 142.867 Q127.991 142.867 125.668 141.706 Q123.371 140.545 121.914 137.753 Q119.641 133.579 119.641 125.575 M123.84 124.957 Q123.84 132.59 124.384 135.629 Q125.001 138.914 126.681 140.347 Q128.386 141.755 130.263 141.755 Q132.289 141.755 133.969 140.248 Q135.673 138.717 136.192 135.431 Q136.76 132.195 136.736 124.957 Q136.736 117.917 136.241 115.1 Q135.574 111.815 133.796 110.506 Q132.042 109.172 130.263 109.172 Q129.596 109.172 128.88 109.369 Q128.188 109.567 127.175 110.135 Q126.163 110.703 125.372 112.111 Q124.606 113.519 124.236 115.644 Q123.84 118.386 123.84 124.957 Z\" fill=\"#000000\" fill-rule=\"evenodd\" fill-opacity=\"1\" /><path clip-path=\"url(#clip680)\" d=\"M144.937 125.575 Q144.937 118.139 146.815 114.088 Q149.433 108.06 155.609 108.06 Q156.918 108.06 158.277 108.43 Q159.66 108.776 161.389 110.135 Q163.143 111.494 164.206 113.717 Q166.231 118.015 166.231 125.575 Q166.231 132.961 164.354 136.988 Q161.612 142.867 155.56 142.867 Q153.287 142.867 150.965 141.706 Q148.667 140.545 147.21 137.753 Q144.937 133.579 144.937 125.575 M149.137 124.957 Q149.137 132.59 149.68 135.629 Q150.298 138.914 151.978 140.347 Q153.682 141.755 155.56 141.755 Q157.585 141.755 159.265 140.248 Q160.97 138.717 161.488 135.431 Q162.056 132.195 162.032 124.957 Q162.032 117.917 161.538 115.1 Q160.871 111.815 159.092 110.506 Q157.338 109.172 155.56 109.172 Q154.893 109.172 154.176 109.369 Q153.484 109.567 152.472 110.135 Q151.459 110.703 150.668 112.111 Q149.902 113.519 149.532 115.644 Q149.137 118.386 149.137 124.957 Z\" fill=\"#000000\" fill-rule=\"evenodd\" fill-opacity=\"1\" /><path clip-path=\"url(#clip682)\" d=\"\n",
       "M228.793 628.402 L241.647 620.037 L254.501 604.828 L267.355 582.014 L280.209 551.589 L293.063 514.3 L305.917 471.618 L318.771 425.688 L331.625 379.227 L344.479 335.348 \n",
       "  L357.333 297.296 L370.187 268.109 L383.041 250.238 L395.895 245.195 L408.749 253.305 L421.603 273.639 L434.457 304.14 L447.311 341.938 L460.165 383.778 L473.019 426.47 \n",
       "  L485.873 467.274 L498.727 504.145 L511.581 535.84 L524.435 561.869 L537.289 582.356 L550.143 597.849 L562.998 609.129 L575.852 617.05 L588.706 622.422 L601.56 625.947 \n",
       "  L614.414 628.186 L627.268 629.564 L640.122 630.388 L652.976 630.866 L665.83 631.136 L678.684 631.284 L691.538 631.363 L704.392 631.404 L717.246 631.425 L730.1 631.435 \n",
       "  L742.954 631.44 L755.808 631.442 L768.662 631.443 L781.516 631.444 L794.37 631.444 L807.224 631.444 L820.078 631.444 L832.932 631.444 L845.786 631.444 L858.64 631.444 \n",
       "  L871.494 631.444 L884.348 631.444 L897.202 631.444 L910.056 631.444 L922.91 631.444 L935.764 631.444 L948.618 631.444 L961.472 631.444 L974.326 631.444 L987.18 631.444 \n",
       "  L1000.03 631.444 L1012.89 631.444 L1025.74 631.444 L1038.6 631.444 L1051.45 631.444 L1064.3 631.444 L1077.16 631.444 L1090.01 631.444 L1102.87 631.444 L1115.72 631.444 \n",
       "  L1128.57 631.444 L1141.43 631.444 L1154.28 631.444 L1167.14 631.444 L1179.99 631.444 L1192.84 631.444 L1205.7 631.444 L1218.55 631.444 L1231.41 631.444 L1244.26 631.444 \n",
       "  L1257.11 631.444 L1269.97 631.444 L1282.82 631.444 L1295.68 631.444 L1308.53 631.444 L1321.38 631.444 L1334.24 631.444 L1347.09 631.444 L1359.95 631.444 L1372.8 631.444 \n",
       "  L1385.65 631.444 L1398.51 631.444 L1411.36 631.444 L1424.22 631.444 L1437.07 631.444 L1449.92 631.444 L1462.78 631.444 L1475.63 631.444 L1488.49 631.444 L1501.34 631.444 \n",
       "  L1514.19 631.444 L1514.19 631.444 L1501.34 631.444 L1488.49 631.444 L1475.63 631.444 L1462.78 631.444 L1449.92 631.444 L1437.07 631.444 L1424.22 631.444 L1411.36 631.444 \n",
       "  L1398.51 631.444 L1385.65 631.444 L1372.8 631.444 L1359.95 631.444 L1347.09 631.444 L1334.24 631.444 L1321.38 631.444 L1308.53 631.444 L1295.68 631.444 L1282.82 631.444 \n",
       "  L1269.97 631.444 L1257.11 631.444 L1244.26 631.444 L1231.41 631.444 L1218.55 631.444 L1205.7 631.444 L1192.84 631.444 L1179.99 631.444 L1167.14 631.444 L1154.28 631.444 \n",
       "  L1141.43 631.444 L1128.57 631.444 L1115.72 631.444 L1102.87 631.444 L1090.01 631.444 L1077.16 631.444 L1064.3 631.444 L1051.45 631.444 L1038.6 631.444 L1025.74 631.444 \n",
       "  L1012.89 631.444 L1000.03 631.444 L987.18 631.444 L974.326 631.444 L961.472 631.444 L948.618 631.444 L935.764 631.444 L922.91 631.444 L910.056 631.444 L897.202 631.444 \n",
       "  L884.348 631.444 L871.494 631.444 L858.64 631.444 L845.786 631.444 L832.932 631.444 L820.078 631.444 L807.224 631.444 L794.37 631.444 L781.516 631.444 L768.662 631.444 \n",
       "  L755.808 631.444 L742.954 631.444 L730.1 631.444 L717.246 631.444 L704.392 631.444 L691.538 631.444 L678.684 631.444 L665.83 631.444 L652.976 631.444 L640.122 631.444 \n",
       "  L627.268 631.444 L614.414 631.444 L601.56 631.444 L588.706 631.444 L575.852 631.444 L562.998 631.444 L550.143 631.444 L537.289 631.444 L524.435 631.444 L511.581 631.444 \n",
       "  L498.727 631.444 L485.873 631.444 L473.019 631.444 L460.165 631.444 L447.311 631.444 L434.457 631.444 L421.603 631.444 L408.749 631.444 L395.895 631.444 L383.041 631.444 \n",
       "  L370.187 631.444 L357.333 631.444 L344.479 631.444 L331.625 631.444 L318.771 631.444 L305.917 631.444 L293.063 631.444 L280.209 631.444 L267.355 631.444 L254.501 631.444 \n",
       "  L241.647 631.444 L228.793 631.444  Z\n",
       "  \" fill=\"#b7516c\" fill-rule=\"evenodd\" fill-opacity=\"0.5\"/>\n",
       "<polyline clip-path=\"url(#clip682)\" style=\"stroke:#b7516c; stroke-linecap:butt; stroke-linejoin:round; stroke-width:5.6; stroke-opacity:0.5; fill:none\" points=\"\n",
       "  228.793,628.402 241.647,620.037 254.501,604.828 267.355,582.014 280.209,551.589 293.063,514.3 305.917,471.618 318.771,425.688 331.625,379.227 344.479,335.348 \n",
       "  357.333,297.296 370.187,268.109 383.041,250.238 395.895,245.195 408.749,253.305 421.603,273.639 434.457,304.14 447.311,341.938 460.165,383.778 473.019,426.47 \n",
       "  485.873,467.274 498.727,504.145 511.581,535.84 524.435,561.869 537.289,582.356 550.143,597.849 562.998,609.129 575.852,617.05 588.706,622.422 601.56,625.947 \n",
       "  614.414,628.186 627.268,629.564 640.122,630.388 652.976,630.866 665.83,631.136 678.684,631.284 691.538,631.363 704.392,631.404 717.246,631.425 730.1,631.435 \n",
       "  742.954,631.44 755.808,631.442 768.662,631.443 781.516,631.444 794.37,631.444 807.224,631.444 820.078,631.444 832.932,631.444 845.786,631.444 858.64,631.444 \n",
       "  871.494,631.444 884.348,631.444 897.202,631.444 910.056,631.444 922.91,631.444 935.764,631.444 948.618,631.444 961.472,631.444 974.326,631.444 987.18,631.444 \n",
       "  1000.03,631.444 1012.89,631.444 1025.74,631.444 1038.6,631.444 1051.45,631.444 1064.3,631.444 1077.16,631.444 1090.01,631.444 1102.87,631.444 1115.72,631.444 \n",
       "  1128.57,631.444 1141.43,631.444 1154.28,631.444 1167.14,631.444 1179.99,631.444 1192.84,631.444 1205.7,631.444 1218.55,631.444 1231.41,631.444 1244.26,631.444 \n",
       "  1257.11,631.444 1269.97,631.444 1282.82,631.444 1295.68,631.444 1308.53,631.444 1321.38,631.444 1334.24,631.444 1347.09,631.444 1359.95,631.444 1372.8,631.444 \n",
       "  1385.65,631.444 1398.51,631.444 1411.36,631.444 1424.22,631.444 1437.07,631.444 1449.92,631.444 1462.78,631.444 1475.63,631.444 1488.49,631.444 1501.34,631.444 \n",
       "  1514.19,631.444 \n",
       "  \"/>\n",
       "<polyline clip-path=\"url(#clip682)\" style=\"stroke:#1b8147; stroke-linecap:butt; stroke-linejoin:round; stroke-width:5.6; stroke-opacity:1; fill:none\" points=\"\n",
       "  228.793,631.428 241.647,631.238 254.501,630.147 267.355,625.987 280.209,614.221 293.063,587.937 305.917,539.811 318.771,465.933 331.625,369.723 344.479,263.375 \n",
       "  357.333,165.331 370.187,94.5501 383.041,64.2596 395.895,78.0628 408.749,129.835 421.603,206.855 434.457,294.338 447.311,379.41 460.165,453.39 473.019,512.214 \n",
       "  485.873,555.558 498.727,585.422 511.581,604.788 524.435,616.669 537.289,623.592 550.143,627.436 562.998,629.476 575.852,630.513 588.706,631.019 601.56,631.257 \n",
       "  614.414,631.364 627.268,631.411 640.122,631.431 652.976,631.439 665.83,631.442 678.684,631.444 691.538,631.444 704.392,631.444 717.246,631.444 730.1,631.444 \n",
       "  742.954,631.444 755.808,631.444 768.662,631.444 781.516,631.444 794.37,631.444 807.224,631.444 820.078,631.444 832.932,631.444 845.786,631.444 858.64,631.444 \n",
       "  871.494,631.444 884.348,631.444 897.202,631.444 910.056,631.444 922.91,631.444 935.764,631.444 948.618,631.444 961.472,631.444 974.326,631.444 987.18,631.444 \n",
       "  1000.03,631.444 1012.89,631.444 1025.74,631.444 1038.6,631.444 1051.45,631.444 1064.3,631.444 1077.16,631.444 1090.01,631.444 1102.87,631.444 1115.72,631.444 \n",
       "  1128.57,631.444 1141.43,631.444 1154.28,631.444 1167.14,631.444 1179.99,631.444 1192.84,631.444 1205.7,631.444 1218.55,631.444 1231.41,631.444 1244.26,631.444 \n",
       "  1257.11,631.444 1269.97,631.444 1282.82,631.444 1295.68,631.444 1308.53,631.444 1321.38,631.444 1334.24,631.444 1347.09,631.444 1359.95,631.444 1372.8,631.444 \n",
       "  1385.65,631.444 1398.51,631.444 1411.36,631.444 1424.22,631.444 1437.07,631.444 1449.92,631.444 1462.78,631.444 1475.63,631.444 1488.49,631.444 1501.34,631.444 \n",
       "  1514.19,631.444 \n",
       "  \"/>\n",
       "<path clip-path=\"url(#clip680)\" d=\"\n",
       "M1164.52 222.805 L1507.34 222.805 L1507.34 67.2846 L1164.52 67.2846  Z\n",
       "  \" fill=\"#ffffff\" fill-rule=\"evenodd\" fill-opacity=\"1\"/>\n",
       "<polyline clip-path=\"url(#clip680)\" style=\"stroke:#000000; stroke-linecap:butt; stroke-linejoin:round; stroke-width:4; stroke-opacity:1; fill:none\" points=\"\n",
       "  1164.52,222.805 1507.34,222.805 1507.34,67.2846 1164.52,67.2846 1164.52,222.805 \n",
       "  \"/>\n",
       "<path clip-path=\"url(#clip680)\" d=\"\n",
       "M1179.66 139.861 L1270.49 139.861 L1270.49 98.3886 L1179.66 98.3886 L1179.66 139.861  Z\n",
       "  \" fill=\"#b7516c\" fill-rule=\"evenodd\" fill-opacity=\"0.5\"/>\n",
       "<polyline clip-path=\"url(#clip680)\" style=\"stroke:#b7516c; stroke-linecap:butt; stroke-linejoin:round; stroke-width:5.6; stroke-opacity:0.5; fill:none\" points=\"\n",
       "  1179.66,98.3886 1270.49,98.3886 \n",
       "  \"/>\n",
       "<path clip-path=\"url(#clip680)\" d=\"M1319.87 104.33 Q1319.87 106.953 1317.93 109.366 Q1316.01 111.778 1312.87 113.254 Q1309.76 114.706 1306.41 114.706 L1298.25 114.706 L1295.28 126.698 Q1295.26 126.769 1295.19 127.073 Q1295.12 127.354 1295.12 127.518 Q1295.12 128.104 1295.84 128.244 Q1296.59 128.385 1298.25 128.385 Q1299.33 128.385 1299.5 128.572 Q1299.59 128.689 1299.59 128.9 Q1299.59 129.228 1299.5 129.462 Q1299.4 129.673 1299.22 129.743 Q1299.05 129.814 1298.93 129.837 Q1298.82 129.86 1298.63 129.86 Q1298.14 129.86 1297.08 129.814 Q1296.05 129.767 1295.51 129.767 L1292.45 129.72 L1286.36 129.86 Q1285.63 129.86 1285.63 129.275 Q1285.63 128.83 1285.82 128.642 Q1286 128.432 1286.22 128.408 Q1286.43 128.385 1286.97 128.385 Q1288.14 128.385 1288.84 128.315 Q1289.54 128.244 1289.99 128.151 Q1290.46 128.034 1290.69 127.706 Q1290.95 127.378 1291.06 127.097 Q1291.18 126.792 1291.35 126.113 L1297.76 100.348 Q1297.95 99.5752 1297.95 99.4581 Q1297.95 99.0599 1297.72 98.9194 Q1297.51 98.7554 1296.9 98.6852 Q1295.73 98.5915 1294.84 98.5915 Q1294.25 98.5915 1294.02 98.5681 Q1293.8 98.5446 1293.62 98.4275 Q1293.45 98.287 1293.45 98.0059 Q1293.45 97.5609 1293.64 97.3735 Q1293.85 97.1627 1294.09 97.1393 Q1294.32 97.0925 1294.88 97.0925 L1310.43 97.0925 Q1314.91 97.0925 1317.39 99.2239 Q1319.87 101.355 1319.87 104.33 M1315.42 103.182 Q1315.42 98.5915 1308.89 98.5915 L1304.3 98.5915 Q1302.78 98.5915 1302.4 98.8726 Q1302.03 99.1302 1301.7 100.418 L1298.44 113.465 L1305.21 113.465 Q1309.76 113.465 1312.59 110.912 Q1313.88 109.741 1314.65 107.305 Q1315.42 104.869 1315.42 103.182 Z\" fill=\"#000000\" fill-rule=\"evenodd\" fill-opacity=\"1\" /><path clip-path=\"url(#clip680)\" d=\"M1325.14 117.868 Q1325.14 109.764 1328.16 103.229 Q1329.45 100.489 1331.25 98.1933 Q1333.05 95.8979 1334.25 94.8907 Q1335.44 93.8836 1335.77 93.8836 Q1336.24 93.8836 1336.26 94.352 Q1336.26 94.5863 1335.63 95.1718 Q1327.9 103.042 1327.92 117.868 Q1327.92 132.741 1335.44 140.307 Q1336.26 141.127 1336.26 141.384 Q1336.26 141.853 1335.77 141.853 Q1335.44 141.853 1334.3 140.892 Q1333.15 139.932 1331.37 137.73 Q1329.59 135.529 1328.3 132.835 Q1325.14 126.3 1325.14 117.868 Z\" fill=\"#000000\" fill-rule=\"evenodd\" fill-opacity=\"1\" /><path clip-path=\"url(#clip680)\" d=\"M1369.56 122.998 Q1369.56 123.185 1369.34 123.911 Q1369.13 124.637 1368.62 125.762 Q1368.13 126.886 1367.45 127.916 Q1366.77 128.924 1365.64 129.673 Q1364.54 130.399 1363.28 130.399 Q1361.59 130.399 1360.47 129.275 Q1359.34 128.151 1359.34 126.464 Q1359.34 125.527 1359.84 124.239 Q1362.95 115.924 1362.95 113.067 Q1362.95 109.717 1360.35 109.717 Q1359.06 109.717 1357.84 110.209 Q1356.65 110.677 1355.83 111.333 Q1355.01 111.989 1354.26 112.903 Q1353.53 113.793 1353.16 114.402 Q1352.81 114.987 1352.53 115.573 L1351.92 117.962 Q1351.78 118.618 1351.1 121.171 L1350.04 125.504 Q1349.3 128.736 1349.13 129.041 Q1348.9 129.696 1348.38 130.048 Q1347.87 130.399 1347.35 130.399 Q1346.77 130.399 1346.37 130.048 Q1345.97 129.696 1345.97 129.088 Q1345.97 128.994 1346.04 128.642 Q1346.11 128.291 1346.23 127.799 Q1346.34 127.307 1346.39 127.026 L1349.18 115.948 Q1349.69 113.933 1349.81 113.301 Q1349.95 112.645 1349.95 111.919 Q1349.95 109.717 1348.45 109.717 Q1347.23 109.717 1346.44 111.169 Q1345.64 112.622 1344.96 115.432 Q1344.75 116.205 1344.61 116.369 Q1344.49 116.533 1344.14 116.533 Q1343.56 116.51 1343.56 116.041 Q1343.56 115.924 1343.74 115.151 Q1343.93 114.378 1344.28 113.277 Q1344.66 112.153 1345.01 111.404 Q1345.31 110.841 1345.48 110.584 Q1345.66 110.303 1346.11 109.764 Q1346.58 109.202 1347.19 108.944 Q1347.82 108.663 1348.59 108.663 Q1350.33 108.663 1351.59 109.787 Q1352.86 110.888 1353.02 112.832 Q1356.13 108.663 1360.49 108.663 Q1363.07 108.663 1364.54 110.022 Q1366.02 111.38 1366.02 113.793 Q1366.02 114.355 1365.9 115.081 Q1365.81 115.784 1365.57 116.674 Q1365.36 117.564 1365.18 118.243 Q1364.99 118.922 1364.61 120.023 Q1364.24 121.1 1364.07 121.569 Q1363.91 122.037 1363.51 123.138 Q1363.14 124.216 1363.09 124.333 Q1362.22 126.511 1362.22 127.752 Q1362.22 128.572 1362.48 128.947 Q1362.76 129.322 1363.37 129.322 Q1365.01 129.322 1366.23 127.706 Q1367.47 126.066 1368.27 123.396 Q1368.45 122.81 1368.55 122.67 Q1368.67 122.529 1368.99 122.529 Q1369.56 122.529 1369.56 122.998 Z\" fill=\"#000000\" fill-rule=\"evenodd\" fill-opacity=\"1\" /><path clip-path=\"url(#clip680)\" d=\"M1408.07 121.464 Q1408.07 121.939 1407.86 122.038 Q1407.66 122.136 1407 122.136 Q1406.23 122.136 1405.76 122.202 Q1405.28 122.251 1404.99 122.333 Q1404.69 122.398 1404.51 122.628 Q1404.35 122.857 1404.28 123.054 Q1404.22 123.234 1404.1 123.677 L1399.64 141.565 Q1399.48 142.171 1399.48 142.385 Q1399.48 142.598 1399.61 142.729 Q1399.76 142.86 1400.12 142.926 Q1400.48 142.975 1400.76 142.991 Q1401.05 142.991 1401.66 142.991 Q1402.41 142.991 1402.53 143.122 Q1402.59 143.204 1402.59 143.352 Q1402.59 143.663 1402.46 143.827 Q1402.33 143.975 1402.22 144.008 Q1402.12 144.024 1401.95 144.024 Q1401.27 144.024 1399.86 143.975 Q1398.45 143.926 1397.76 143.926 L1393.59 144.024 Q1393.1 144.024 1393.1 143.614 Q1393.1 143.303 1393.23 143.172 Q1393.36 143.024 1393.51 143.008 Q1393.66 142.991 1394.04 142.991 Q1395.38 142.991 1395.95 142.844 Q1396.54 142.696 1396.71 142.434 Q1396.89 142.155 1397.09 141.401 L1401.89 122.169 L1401.86 122.169 L1388.3 143.418 L1388.2 143.565 Q1388.1 143.696 1388.07 143.745 Q1388.03 143.778 1387.94 143.877 Q1387.85 143.959 1387.76 143.991 Q1387.67 144.024 1387.56 144.024 Q1387.36 144.024 1387.25 143.893 Q1387.15 143.762 1387.12 143.663 Q1387.1 143.549 1387.05 143.254 L1384.17 122.431 L1384.13 122.431 L1379.56 140.729 Q1379.43 141.237 1379.43 141.499 Q1379.43 142.171 1379.9 142.581 Q1380.39 142.975 1381.71 142.991 Q1382.31 142.991 1382.31 143.352 Q1382.31 144.024 1381.71 144.024 Q1381.15 144.024 1379.98 143.975 Q1378.82 143.926 1378.25 143.926 Q1377.69 143.926 1376.56 143.975 Q1375.44 144.024 1374.9 144.024 Q1374.43 144.024 1374.43 143.614 Q1374.43 142.991 1375.03 142.991 Q1376.02 142.958 1376.69 142.762 Q1377.36 142.565 1377.74 142.188 Q1378.13 141.811 1378.31 141.434 Q1378.51 141.04 1378.66 140.466 L1382.92 123.366 Q1383.05 122.825 1383.05 122.743 Q1383.05 122.464 1382.89 122.365 Q1382.74 122.251 1382.31 122.202 Q1381.49 122.136 1380.87 122.136 Q1380.46 122.136 1380.3 122.12 Q1380.15 122.103 1380.02 122.021 Q1379.9 121.923 1379.9 121.726 Q1379.9 121.415 1380.03 121.283 Q1380.18 121.136 1380.35 121.119 Q1380.51 121.087 1380.9 121.087 L1385.51 121.087 Q1386.18 121.087 1386.33 121.201 Q1386.48 121.3 1386.54 121.857 L1389.17 140.86 L1401.43 121.726 Q1401.74 121.251 1401.91 121.169 Q1402.07 121.087 1402.73 121.087 L1407.17 121.087 Q1407.53 121.087 1407.68 121.103 Q1407.82 121.119 1407.94 121.201 Q1408.07 121.283 1408.07 121.464 Z\" fill=\"#000000\" fill-rule=\"evenodd\" fill-opacity=\"1\" /><path clip-path=\"url(#clip680)\" d=\"M1412.86 141.384 Q1412.86 141.15 1413.47 140.565 Q1421.2 132.695 1421.2 117.868 Q1421.2 102.995 1413.78 95.4763 Q1412.86 94.6097 1412.86 94.352 Q1412.86 93.8836 1413.33 93.8836 Q1413.66 93.8836 1414.81 94.8439 Q1415.98 95.8042 1417.73 98.0059 Q1419.51 100.208 1420.83 102.901 Q1423.99 109.436 1423.99 117.868 Q1423.99 125.972 1420.97 132.507 Q1419.68 135.248 1417.87 137.543 Q1416.07 139.838 1414.88 140.846 Q1413.68 141.853 1413.33 141.853 Q1412.86 141.853 1412.86 141.384 Z\" fill=\"#000000\" fill-rule=\"evenodd\" fill-opacity=\"1\" /><polyline clip-path=\"url(#clip680)\" style=\"stroke:#1b8147; stroke-linecap:butt; stroke-linejoin:round; stroke-width:4; stroke-opacity:1; fill:none\" points=\"\n",
       "  1179.66,170.965 1270.49,170.965 \n",
       "  \"/>\n",
       "<path clip-path=\"url(#clip680)\" d=\"M1285.63 187.97 L1285.63 186.494 Q1289.89 186.401 1290.99 183.262 L1300.93 154.593 Q1301.11 154.007 1301.32 153.82 Q1301.53 153.633 1302.07 153.633 Q1302.35 153.633 1302.52 153.679 Q1302.71 153.726 1302.82 153.89 Q1302.94 154.054 1302.99 154.148 Q1303.03 154.242 1303.17 154.593 L1313.53 184.574 Q1313.9 185.768 1314.67 186.143 Q1315.45 186.494 1317.63 186.494 L1318.47 186.494 L1318.47 187.97 Q1315.45 187.829 1312.19 187.829 Q1307.01 187.829 1305.28 187.97 L1305.28 186.494 Q1309.26 186.494 1309.26 185.042 Q1309.26 184.948 1309.12 184.363 L1306.59 177.032 L1294.74 177.032 L1292.52 183.309 Q1292.42 183.496 1292.42 184.035 Q1292.42 185.042 1293.36 185.768 Q1294.3 186.494 1296.03 186.494 L1296.03 187.97 Q1291.42 187.829 1290.5 187.829 Q1288.93 187.829 1285.63 187.97 M1295.26 175.556 L1306.05 175.556 L1300.64 159.957 L1295.26 175.556 Z\" fill=\"#000000\" fill-rule=\"evenodd\" fill-opacity=\"1\" /><path clip-path=\"url(#clip680)\" d=\"M1321.46 187.97 L1321.46 186.494 L1322.6 186.494 Q1325.2 186.494 1325.79 186.073 Q1326.4 185.628 1326.4 184.222 L1326.4 158.949 Q1326.4 157.567 1325.79 157.146 Q1325.18 156.701 1322.6 156.701 L1321.46 156.701 L1321.46 155.202 L1339 155.202 Q1345.14 155.202 1349.4 160.097 Q1353.68 164.992 1353.68 171.855 Q1353.68 178.577 1349.37 183.285 Q1345.09 187.97 1339 187.97 L1321.46 187.97 M1330.52 184.574 Q1330.52 185.815 1330.87 186.166 Q1331.22 186.494 1332.86 186.494 L1337.71 186.494 Q1340.87 186.494 1343 185.206 Q1345.14 183.894 1346.24 182.395 Q1348.88 178.788 1348.88 171.855 Q1348.88 164.571 1346.4 161.151 Q1343.19 156.701 1337.66 156.701 L1332.86 156.701 Q1331.22 156.701 1330.87 157.029 Q1330.52 157.357 1330.52 158.622 L1330.52 184.574 Z\" fill=\"#000000\" fill-rule=\"evenodd\" fill-opacity=\"1\" /><path clip-path=\"url(#clip680)\" d=\"M1357.88 187.97 L1357.88 186.494 L1359.03 186.494 Q1361.63 186.494 1362.22 186.073 Q1362.83 185.628 1362.83 184.222 L1362.83 159.09 Q1362.83 157.708 1362.22 157.286 Q1361.61 156.841 1359.03 156.841 L1357.88 156.841 L1357.88 155.342 L1384.89 155.342 L1386.22 166.14 L1385.03 166.14 Q1384.7 163.4 1384.26 161.83 Q1383.84 160.238 1382.78 159.02 Q1381.75 157.802 1380.04 157.333 Q1378.35 156.841 1375.61 156.841 L1369.43 156.841 Q1367.79 156.841 1367.44 157.193 Q1367.09 157.521 1367.09 158.762 L1367.09 170.262 L1371.4 170.262 Q1374.7 170.262 1375.64 169.115 Q1376.57 167.967 1376.57 164.664 L1377.79 164.664 L1377.79 177.359 L1376.57 177.359 Q1376.57 174.104 1375.64 172.933 Q1374.7 171.761 1371.4 171.761 L1367.09 171.761 L1367.09 184.574 Q1367.09 185.815 1367.44 186.166 Q1367.81 186.494 1369.43 186.494 L1375.82 186.494 Q1377.89 186.494 1379.38 186.237 Q1380.91 185.955 1381.96 185.3 Q1383.02 184.62 1383.72 183.847 Q1384.44 183.075 1384.94 181.693 Q1385.45 180.287 1385.73 178.999 Q1386.04 177.711 1386.36 175.603 L1387.56 175.603 L1385.54 187.97 L1357.88 187.97 Z\" fill=\"#000000\" fill-rule=\"evenodd\" fill-opacity=\"1\" /><path clip-path=\"url(#clip680)\" d=\"M1400.74 187.97 L1400.74 186.494 Q1403.29 186.494 1403.88 186.19 Q1404.46 185.862 1404.46 184.316 L1404.46 171.41 Q1404.46 169.63 1403.85 169.208 Q1403.27 168.787 1400.92 168.787 L1400.92 167.288 L1407.62 166.773 L1407.62 184.363 Q1407.62 185.792 1408.14 186.143 Q1408.65 186.494 1411 186.494 L1411 187.97 Q1406.1 187.829 1406.01 187.829 Q1405.35 187.829 1400.74 187.97 M1402.75 158.411 Q1402.75 157.45 1403.48 156.677 Q1404.23 155.881 1405.28 155.881 Q1406.33 155.881 1407.08 156.607 Q1407.83 157.31 1407.83 158.434 Q1407.83 159.535 1407.08 160.261 Q1406.33 160.964 1405.28 160.964 Q1404.18 160.964 1403.45 160.191 Q1402.75 159.418 1402.75 158.411 Z\" fill=\"#000000\" fill-rule=\"evenodd\" fill-opacity=\"1\" /><path clip-path=\"url(#clip680)\" d=\"M1414.27 187.97 L1414.27 186.494 Q1416.83 186.494 1417.41 186.19 Q1418 185.862 1418 184.316 L1418 171.457 Q1418 169.677 1417.37 169.232 Q1416.76 168.787 1414.27 168.787 L1414.27 167.288 L1421.02 166.773 L1421.02 171.808 Q1423.27 166.773 1428.12 166.773 Q1431.72 166.773 1433.15 168.553 Q1434.21 169.747 1434.42 171.082 Q1434.65 172.417 1434.65 175.884 L1434.65 185.042 Q1434.7 186.049 1435.47 186.283 Q1436.24 186.494 1438.4 186.494 L1438.4 187.97 Q1433.5 187.829 1433.01 187.829 Q1432.64 187.829 1427.6 187.97 L1427.6 186.494 Q1430.15 186.494 1430.74 186.19 Q1431.35 185.862 1431.35 184.316 L1431.35 173.143 Q1431.35 170.707 1430.6 169.279 Q1429.85 167.827 1427.79 167.827 Q1425.31 167.827 1423.32 169.911 Q1421.32 171.996 1421.32 175.509 L1421.32 184.316 Q1421.32 185.862 1421.91 186.19 Q1422.52 186.494 1425.05 186.494 L1425.05 187.97 Q1420.15 187.829 1419.69 187.829 Q1419.31 187.829 1414.27 187.97 Z\" fill=\"#000000\" fill-rule=\"evenodd\" fill-opacity=\"1\" /><path clip-path=\"url(#clip680)\" d=\"M1441.78 168.787 L1441.78 167.288 L1445.55 167.288 L1445.55 161.784 Q1445.55 158.223 1447.85 156.186 Q1450.17 154.148 1453 154.148 Q1454.87 154.148 1456.09 155.155 Q1457.31 156.162 1457.31 157.521 Q1457.31 158.434 1456.75 159.043 Q1456.21 159.629 1455.2 159.629 Q1454.24 159.629 1453.68 159.02 Q1453.14 158.411 1453.14 157.567 Q1453.14 156.022 1454.57 155.553 Q1453.84 155.225 1453 155.202 Q1451.27 155.202 1449.91 156.982 Q1448.57 158.762 1448.57 161.737 L1448.57 167.288 L1454.19 167.288 L1454.19 168.787 L1448.74 168.787 L1448.74 184.222 Q1448.74 185.604 1449.3 186.049 Q1449.88 186.494 1452.37 186.494 L1453.37 186.494 L1453.37 187.97 Q1451.45 187.829 1447.28 187.829 Q1446.7 187.829 1445.79 187.853 Q1444.9 187.876 1443.68 187.923 Q1442.48 187.97 1441.83 187.97 L1441.83 186.494 Q1444.38 186.494 1444.97 186.19 Q1445.55 185.862 1445.55 184.316 L1445.55 168.787 L1441.78 168.787 Z\" fill=\"#000000\" fill-rule=\"evenodd\" fill-opacity=\"1\" /><path clip-path=\"url(#clip680)\" d=\"M1456.98 187.197 Q1456.26 186.424 1456.26 185.417 Q1456.26 184.41 1456.98 183.684 Q1457.71 182.934 1458.81 182.934 Q1459.86 182.934 1460.57 183.637 Q1461.29 184.316 1461.29 185.44 Q1461.29 186.541 1460.52 187.267 Q1459.77 187.97 1458.81 187.97 Q1457.71 187.97 1456.98 187.197 Z\" fill=\"#000000\" fill-rule=\"evenodd\" fill-opacity=\"1\" /></svg>\n"
      ]
     },
     "execution_count": 62,
     "metadata": {},
     "output_type": "execute_result"
    }
   ],
   "source": [
    "plot(0:N,Pn_true, label = L\"P(n_M)\", legend = :topright, lc = chosen_pal[7], \n",
    "    fill = true, c = chosen_pal[7], alpha=0.5)\n",
    "plot!(0:N,FSP(vcat(fit_pars,1),N), lc = chosen_pal[2], label = L\"\\mathrm{ADE\\; inf.}\")\n",
    "plot!(grid = false, minorgrid = false, size = (400,200))\n",
    "xlabel!(L\"n_M\")"
   ]
  },
  {
   "cell_type": "markdown",
   "id": "778ac605",
   "metadata": {},
   "source": [
    "## Bayesian inference (using Turing.jl)"
   ]
  },
  {
   "cell_type": "code",
   "execution_count": null,
   "id": "adb25766",
   "metadata": {},
   "outputs": [],
   "source": []
  }
 ],
 "metadata": {
  "kernelspec": {
   "display_name": "Julia 1.6.2",
   "language": "julia",
   "name": "julia-1.6"
  },
  "language_info": {
   "file_extension": ".jl",
   "mimetype": "application/julia",
   "name": "julia",
   "version": "1.6.2"
  }
 },
 "nbformat": 4,
 "nbformat_minor": 5
}
