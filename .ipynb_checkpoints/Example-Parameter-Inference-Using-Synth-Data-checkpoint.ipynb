{
 "cells": [
  {
   "cell_type": "markdown",
   "id": "3b1b32a8",
   "metadata": {},
   "source": [
    "# Example parameter inference using synthetic data (in Julia)"
   ]
  },
  {
   "cell_type": "markdown",
   "id": "894c3ba3",
   "metadata": {},
   "source": [
    "##### By James Holehouse: jamesholehouse1@gmail.com"
   ]
  },
  {
   "cell_type": "markdown",
   "id": "d9f50305",
   "metadata": {},
   "source": [
    "This notebook provides a brief tour of stochastic simulations and parameter inference in stochastic gene expression. It covers usage of a stochastic simulation algorithm (SSA), finite state projection, maximum likelihood parameter inference and Bayesian parameter inference.\n",
    "\n",
    "The aim of parameter inference is to fit models to data and in the process recover parameters for our models that best explain the data. Parameter inference can also be used in combination with *information criteria* to determine which model is most appropriate for a given set of experimental data. This notebook will not cover information criteria, but they are relativly easy to use. If you want to know more you can email me (I can provide examples) or else speak to Kaan or Ramon (of the [Grima group](https://grimagroup.bio.ed.ac.uk/group-members))."
   ]
  },
  {
   "cell_type": "markdown",
   "id": "50be64ad",
   "metadata": {},
   "source": [
    "## Packages"
   ]
  },
  {
   "cell_type": "markdown",
   "id": "714c1be4",
   "metadata": {},
   "source": [
    "Before running this notebook make sure you install the following packages using the command below (after uncommenting). If you haven't yet installed the latest version of Julia please do so [here](https://julialang.org/downloads/)."
   ]
  },
  {
   "cell_type": "code",
   "execution_count": 2,
   "id": "e3c4874c",
   "metadata": {},
   "outputs": [],
   "source": [
    "# ] add Plots LaTeXStrings Distributions DoubleFloats Plots.PlotMeasures, \n",
    "#         Catalyst DiffEqJump FiniteStateProjection OrdinaryDiffEq DifferentialEquations\n",
    "#             SparseArrays LinearAlgebra Turing BlackBoxOptim, Catalyst"
   ]
  },
  {
   "cell_type": "code",
   "execution_count": 3,
   "id": "25eb8cbb",
   "metadata": {},
   "outputs": [
    {
     "name": "stderr",
     "output_type": "stream",
     "text": [
      "┌ Info: Precompiling Plots [91a5bcdd-55d7-5caf-9e0b-520d859cae80]\n",
      "└ @ Base loading.jl:1342\n",
      "┌ Info: Precompiling Turing [fce5fe82-541a-59a6-adf8-730c64b5f9a0]\n",
      "└ @ Base loading.jl:1342\n"
     ]
    }
   ],
   "source": [
    "using Plots, LaTeXStrings, Distributions, DoubleFloats, Plots.PlotMeasures, \n",
    "        Catalyst, DiffEqJump, FiniteStateProjection, OrdinaryDiffEq, DifferentialEquations, \n",
    "            SparseArrays, LinearAlgebra, BlackBoxOptim, Turing\n",
    "Plots.theme(:dao)"
   ]
  },
  {
   "cell_type": "markdown",
   "id": "c1d58afd",
   "metadata": {},
   "source": [
    "## Creating sythetic data using the SSA "
   ]
  },
  {
   "cell_type": "markdown",
   "id": "0ba6618f",
   "metadata": {},
   "source": [
    "In this section of the notebook we show how to run the SSA to produce sythetic data. We use a manually coded SSA for clarity that utilises the direct SSA method shown in [Gillespie's review](https://www.annualreviews.org/doi/abs/10.1146/annurev.physchem.58.032806.104637). There do exist packages in Julia that allow one to use the SSA without manually coding it up, and you can explore usage of that with respect to *genetic autoregulation* [here](https://github.com/jamesholehouse/SSAandFSPexample/blob/main/Julia_SSA_FSP_example.ipynb)."
   ]
  },
  {
   "cell_type": "markdown",
   "id": "ea3b69ea",
   "metadata": {},
   "source": [
    "The example reaction scheme that we will use in this notebook is the telegraph model of gene expression (for context see introduction to [this paper](https://royalsocietypublishing.org/doi/pdf/10.1098/rsif.2021.0510)). The reaction scheme is explicitly given as,\n",
    "$$ G\\xrightarrow{k_{off}}G^\\star, G^\\star\\xrightarrow{k_{on}}G, G\\xrightarrow{k_{m}} G+M, M\\xrightarrow{k_{d}}\\varnothing.$$"
   ]
  },
  {
   "cell_type": "markdown",
   "id": "66ca8ef6",
   "metadata": {},
   "source": [
    "## Numerical analytics using the FSP for fast evaluation "
   ]
  },
  {
   "cell_type": "code",
   "execution_count": null,
   "id": "e5b33355",
   "metadata": {},
   "outputs": [],
   "source": []
  },
  {
   "cell_type": "markdown",
   "id": "97e086a3",
   "metadata": {},
   "source": [
    "## Maximum likelihood estimation (using BlackBoxOptim.jl)"
   ]
  },
  {
   "cell_type": "markdown",
   "id": "7e884dc8",
   "metadata": {},
   "source": [
    "### Specifying a cost function"
   ]
  },
  {
   "cell_type": "code",
   "execution_count": null,
   "id": "ca42a855",
   "metadata": {},
   "outputs": [],
   "source": []
  },
  {
   "cell_type": "markdown",
   "id": "a052ffb4",
   "metadata": {},
   "source": [
    "### Optimising the cost function"
   ]
  },
  {
   "cell_type": "code",
   "execution_count": null,
   "id": "86402e4d",
   "metadata": {},
   "outputs": [],
   "source": []
  },
  {
   "cell_type": "markdown",
   "id": "4549f11b",
   "metadata": {},
   "source": [
    "## Bayesian inference (using Turing.jl)"
   ]
  },
  {
   "cell_type": "code",
   "execution_count": null,
   "id": "14c9232c",
   "metadata": {},
   "outputs": [],
   "source": []
  }
 ],
 "metadata": {
  "kernelspec": {
   "display_name": "Julia 1.6.2",
   "language": "julia",
   "name": "julia-1.6"
  },
  "language_info": {
   "file_extension": ".jl",
   "mimetype": "application/julia",
   "name": "julia",
   "version": "1.6.2"
  }
 },
 "nbformat": 4,
 "nbformat_minor": 5
}
